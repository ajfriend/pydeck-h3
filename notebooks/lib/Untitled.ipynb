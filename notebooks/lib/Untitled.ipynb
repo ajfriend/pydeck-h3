{
 "cells": [
  {
   "cell_type": "code",
   "execution_count": null,
   "metadata": {},
   "outputs": [],
   "source": [
    "# make a `converter` function that converts the input and params"
   ]
  },
  {
   "cell_type": "code",
   "execution_count": 1,
   "metadata": {},
   "outputs": [],
   "source": [
    "import pydeck_h3 as pdh\n",
    "import matplotlib.pyplot as plt\n",
    "import pandas as pd\n",
    "\n",
    "import pydeck as pdk\n",
    "\n",
    "import data"
   ]
  },
  {
   "cell_type": "code",
   "execution_count": 2,
   "metadata": {},
   "outputs": [],
   "source": [
    "rows = data.rows[:3]\n",
    "df = pd.DataFrame(rows)\n",
    "hexset = set(df['h3cell'])\n",
    "series = df.set_index('h3cell')['cats']\n",
    "\n",
    "#hexdict = dict(df.set_index('h3cell')['cats']) # this one doesn't work because it gives numpy.int64s\n",
    "hexdict = series.to_dict()"
   ]
  },
  {
   "cell_type": "code",
   "execution_count": 3,
   "metadata": {},
   "outputs": [
    {
     "data": {
      "text/plain": [
       "{'89283082807ffff': 6, '89283082833ffff': 0, '8928308283bffff': 18}"
      ]
     },
     "execution_count": 3,
     "metadata": {},
     "output_type": "execute_result"
    }
   ],
   "source": [
    "series.to_dict()"
   ]
  },
  {
   "cell_type": "code",
   "execution_count": 4,
   "metadata": {},
   "outputs": [
    {
     "data": {
      "text/plain": [
       "([{'h3cell': '89283082833ffff'},\n",
       "  {'h3cell': '89283082807ffff'},\n",
       "  {'h3cell': '8928308283bffff'}],\n",
       " {'col_hex': 'h3cell'})"
      ]
     },
     "execution_count": 4,
     "metadata": {},
     "output_type": "execute_result"
    }
   ],
   "source": [
    "pdh.format(hexset)"
   ]
  },
  {
   "cell_type": "code",
   "execution_count": 5,
   "metadata": {},
   "outputs": [
    {
     "data": {
      "text/plain": [
       "h3cell\n",
       "89283082807ffff     6\n",
       "89283082833ffff     0\n",
       "8928308283bffff    18\n",
       "Name: cats, dtype: int64"
      ]
     },
     "execution_count": 5,
     "metadata": {},
     "output_type": "execute_result"
    }
   ],
   "source": [
    "df.set_index('h3cell')['cats']"
   ]
  },
  {
   "cell_type": "code",
   "execution_count": 6,
   "metadata": {},
   "outputs": [
    {
     "data": {
      "text/plain": [
       "([{'h3cell': '89283082807ffff', 'cats': 6, 'dogs': 15},\n",
       "  {'h3cell': '89283082833ffff', 'cats': 0, 'dogs': 5},\n",
       "  {'h3cell': '8928308283bffff', 'cats': 18, 'dogs': 1}],\n",
       " {})"
      ]
     },
     "execution_count": 6,
     "metadata": {},
     "output_type": "execute_result"
    }
   ],
   "source": [
    "pdh.format(rows)"
   ]
  },
  {
   "cell_type": "code",
   "execution_count": 7,
   "metadata": {},
   "outputs": [
    {
     "data": {
      "text/plain": [
       "[{'h3cell': '89283082807ffff', 'cats': 6, 'dogs': 15},\n",
       " {'h3cell': '89283082833ffff', 'cats': 0, 'dogs': 5},\n",
       " {'h3cell': '8928308283bffff', 'cats': 18, 'dogs': 1}]"
      ]
     },
     "execution_count": 7,
     "metadata": {},
     "output_type": "execute_result"
    }
   ],
   "source": [
    "rows"
   ]
  },
  {
   "cell_type": "code",
   "execution_count": 18,
   "metadata": {},
   "outputs": [
    {
     "data": {
      "text/html": [
       "<iframe src=\"about:blank\" frameborder=\"0\" srcdoc=\"&lt;html&gt;\n",
       "  &lt;head&gt;\n",
       "    &lt;meta http-equiv=&quot;content-type&quot; content=&quot;text/html; charset=UTF-8&quot; /&gt;\n",
       "    &lt;title&gt;pydeck&lt;/title&gt;\n",
       "    &lt;link rel=&quot;stylesheet&quot; href=&quot;https://maxcdn.bootstrapcdn.com/bootstrap/3.2.0/css/bootstrap-theme.min.css&quot; /&gt;\n",
       "    &lt;link rel=&quot;stylesheet&quot; href=&quot;https://maxcdn.bootstrapcdn.com/font-awesome/4.6.3/css/font-awesome.min.css&quot; /&gt;\n",
       "    &lt;script src=&#x27;https://cdn.jsdelivr.net/npm/@deck.gl/jupyter-widget@~8.3.*/dist/index.js&#x27;&gt;&lt;/script&gt;\n",
       "    &lt;style&gt;\n",
       "    body {\n",
       "      margin: 0;\n",
       "      padding: 0;\n",
       "      overflow: hidden;\n",
       "    }\n",
       "\n",
       "    #deck-map-container {\n",
       "      width: 100%;\n",
       "      height: 100%;\n",
       "      background-color: black;\n",
       "    }\n",
       "\n",
       "    #map {\n",
       "      pointer-events: none;\n",
       "      height: 100%;\n",
       "      width: 100%;\n",
       "      position: absolute;\n",
       "      z-index: 1;\n",
       "    }\n",
       "\n",
       "    #deckgl-overlay {\n",
       "      z-index: 2;\n",
       "      background: none;\n",
       "    }\n",
       "\n",
       "    #deck-map-wrapper {\n",
       "      width: 100%;\n",
       "      height: 100%;\n",
       "    }\n",
       "\n",
       "    #deck-container {\n",
       "      width: 100vw;\n",
       "      height: 100vh;\n",
       "    }\n",
       "    &lt;/style&gt;\n",
       "  &lt;/head&gt;\n",
       "  &lt;body&gt;\n",
       "    &lt;div id=&quot;deck-container&quot;&gt;\n",
       "    &lt;/div&gt;\n",
       "  &lt;/body&gt;\n",
       "  &lt;script&gt;\n",
       "    const jsonInput = {&quot;initialViewState&quot;: {&quot;latitude&quot;: 37.776346003249365, &quot;longitude&quot;: -122.42312111464462, &quot;pitch&quot;: 45, &quot;zoom&quot;: 16}, &quot;layers&quot;: [{&quot;@@type&quot;: &quot;H3HexagonLayer&quot;, &quot;data&quot;: [{&quot;_pdk_elevation&quot;: 6, &quot;_pdk_fill_color&quot;: [254, 191, 90, 255], &quot;_pdk_h3cell&quot;: &quot;89283082807ffff&quot;, &quot;h3cell&quot;: &quot;89283082807ffff&quot;, &quot;value&quot;: 6}, {&quot;_pdk_elevation&quot;: 0, &quot;_pdk_fill_color&quot;: [255, 255, 204, 255], &quot;_pdk_h3cell&quot;: &quot;89283082833ffff&quot;, &quot;h3cell&quot;: &quot;89283082833ffff&quot;, &quot;value&quot;: 0}, {&quot;_pdk_elevation&quot;: 18, &quot;_pdk_fill_color&quot;: [128, 0, 38, 255], &quot;_pdk_h3cell&quot;: &quot;8928308283bffff&quot;, &quot;h3cell&quot;: &quot;8928308283bffff&quot;, &quot;value&quot;: 18}], &quot;elevationScale&quot;: 20, &quot;extruded&quot;: true, &quot;getElevation&quot;: &quot;@@=_pdk_elevation&quot;, &quot;getFillColor&quot;: &quot;@@=_pdk_fill_color&quot;, &quot;getHexagon&quot;: &quot;@@=_pdk_h3cell&quot;, &quot;id&quot;: &quot;4435d8dc-1379-438f-b2cb-effe8b961a8a&quot;, &quot;opacity&quot;: 0.7, &quot;pickable&quot;: true, &quot;wireframe&quot;: false}], &quot;mapProvider&quot;: &quot;mapbox&quot;, &quot;mapStyle&quot;: &quot;mapbox://styles/mapbox/light-v10&quot;, &quot;views&quot;: [{&quot;@@type&quot;: &quot;MapView&quot;, &quot;controller&quot;: true}]};\n",
       "    const MAPBOX_API_KEY = &#x27;pk.eyJ1IjoiYWpmcmllbmQiLCJhIjoiY2pmbmRjczJmMTVkMzJxcW92Y2E4cHZjdCJ9.Jf-gFXU7FOIQxALzPajbdg&#x27;;\n",
       "    const GOOGLE_MAPS_API_KEY = &#x27;None&#x27;;\n",
       "    const tooltip = {&#x27;html&#x27;: &#x27;&lt;b&gt;h3cell&lt;/b&gt;: {h3cell}&lt;br/&gt;&lt;b&gt;value&lt;/b&gt;: {value}&#x27;};\n",
       "    const customLibraries = null;\n",
       "\n",
       "    const deck = createDeck({\n",
       "      mapboxApiKey: MAPBOX_API_KEY,\n",
       "      googleMapsKey: GOOGLE_MAPS_API_KEY,\n",
       "      container: document.getElementById(&#x27;deck-container&#x27;),\n",
       "      jsonInput,\n",
       "      tooltip,\n",
       "      customLibraries\n",
       "    });\n",
       "\n",
       "  &lt;/script&gt;\n",
       "&lt;/html&gt;\" width=\"100%\" height=500></iframe>"
      ],
      "text/plain": [
       "<IPython.core.display.HTML object>"
      ]
     },
     "execution_count": 18,
     "metadata": {},
     "output_type": "execute_result"
    }
   ],
   "source": [
    "pdh.plot(hexdict, height='value').to_html()"
   ]
  },
  {
   "cell_type": "code",
   "execution_count": 10,
   "metadata": {},
   "outputs": [
    {
     "data": {
      "text/html": [
       "<iframe src=\"about:blank\" frameborder=\"0\" srcdoc=\"&lt;html&gt;\n",
       "  &lt;head&gt;\n",
       "    &lt;meta http-equiv=&quot;content-type&quot; content=&quot;text/html; charset=UTF-8&quot; /&gt;\n",
       "    &lt;title&gt;pydeck&lt;/title&gt;\n",
       "    &lt;link rel=&quot;stylesheet&quot; href=&quot;https://maxcdn.bootstrapcdn.com/bootstrap/3.2.0/css/bootstrap-theme.min.css&quot; /&gt;\n",
       "    &lt;link rel=&quot;stylesheet&quot; href=&quot;https://maxcdn.bootstrapcdn.com/font-awesome/4.6.3/css/font-awesome.min.css&quot; /&gt;\n",
       "    &lt;script src=&#x27;https://cdn.jsdelivr.net/npm/@deck.gl/jupyter-widget@~8.3.*/dist/index.js&#x27;&gt;&lt;/script&gt;\n",
       "    &lt;style&gt;\n",
       "    body {\n",
       "      margin: 0;\n",
       "      padding: 0;\n",
       "      overflow: hidden;\n",
       "    }\n",
       "\n",
       "    #deck-map-container {\n",
       "      width: 100%;\n",
       "      height: 100%;\n",
       "      background-color: black;\n",
       "    }\n",
       "\n",
       "    #map {\n",
       "      pointer-events: none;\n",
       "      height: 100%;\n",
       "      width: 100%;\n",
       "      position: absolute;\n",
       "      z-index: 1;\n",
       "    }\n",
       "\n",
       "    #deckgl-overlay {\n",
       "      z-index: 2;\n",
       "      background: none;\n",
       "    }\n",
       "\n",
       "    #deck-map-wrapper {\n",
       "      width: 100%;\n",
       "      height: 100%;\n",
       "    }\n",
       "\n",
       "    #deck-container {\n",
       "      width: 100vw;\n",
       "      height: 100vh;\n",
       "    }\n",
       "    &lt;/style&gt;\n",
       "  &lt;/head&gt;\n",
       "  &lt;body&gt;\n",
       "    &lt;div id=&quot;deck-container&quot;&gt;\n",
       "    &lt;/div&gt;\n",
       "  &lt;/body&gt;\n",
       "  &lt;script&gt;\n",
       "    const jsonInput = {&quot;initialViewState&quot;: {&quot;latitude&quot;: 37.77634600324936, &quot;longitude&quot;: -122.42312111464462, &quot;zoom&quot;: 16}, &quot;layers&quot;: [{&quot;@@type&quot;: &quot;H3HexagonLayer&quot;, &quot;data&quot;: [{&quot;_pdk_fill_color&quot;: [254, 191, 90, 255], &quot;_pdk_h3cell&quot;: &quot;89283082807ffff&quot;, &quot;_pdk_line_width&quot;: 20, &quot;h3cell&quot;: &quot;89283082807ffff&quot;, &quot;value&quot;: 6}, {&quot;_pdk_fill_color&quot;: [255, 255, 204, 255], &quot;_pdk_h3cell&quot;: &quot;89283082833ffff&quot;, &quot;_pdk_line_width&quot;: 20, &quot;h3cell&quot;: &quot;89283082833ffff&quot;, &quot;value&quot;: 0}, {&quot;_pdk_fill_color&quot;: [128, 0, 38, 255], &quot;_pdk_h3cell&quot;: &quot;8928308283bffff&quot;, &quot;_pdk_line_width&quot;: 20, &quot;h3cell&quot;: &quot;8928308283bffff&quot;, &quot;value&quot;: 18}], &quot;extruded&quot;: false, &quot;getFillColor&quot;: &quot;@@=_pdk_fill_color&quot;, &quot;getHexagon&quot;: &quot;@@=_pdk_h3cell&quot;, &quot;getLineWidth&quot;: &quot;@@=_pdk_line_width&quot;, &quot;id&quot;: &quot;24dee28f-9db6-4d4f-b733-5124da0be776&quot;, &quot;opacity&quot;: 0.7, &quot;pickable&quot;: true}], &quot;mapProvider&quot;: &quot;mapbox&quot;, &quot;mapStyle&quot;: &quot;mapbox://styles/mapbox/light-v10&quot;, &quot;views&quot;: [{&quot;@@type&quot;: &quot;MapView&quot;, &quot;controller&quot;: true}]};\n",
       "    const MAPBOX_API_KEY = &#x27;pk.eyJ1IjoiYWpmcmllbmQiLCJhIjoiY2pmbmRjczJmMTVkMzJxcW92Y2E4cHZjdCJ9.Jf-gFXU7FOIQxALzPajbdg&#x27;;\n",
       "    const GOOGLE_MAPS_API_KEY = &#x27;None&#x27;;\n",
       "    const tooltip = {&#x27;html&#x27;: &#x27;&lt;b&gt;h3cell&lt;/b&gt;: {h3cell}&lt;br/&gt;&lt;b&gt;value&lt;/b&gt;: {value}&#x27;};\n",
       "    const customLibraries = null;\n",
       "\n",
       "    const deck = createDeck({\n",
       "      mapboxApiKey: MAPBOX_API_KEY,\n",
       "      googleMapsKey: GOOGLE_MAPS_API_KEY,\n",
       "      container: document.getElementById(&#x27;deck-container&#x27;),\n",
       "      jsonInput,\n",
       "      tooltip,\n",
       "      customLibraries\n",
       "    });\n",
       "\n",
       "  &lt;/script&gt;\n",
       "&lt;/html&gt;\" width=\"100%\" height=500></iframe>"
      ],
      "text/plain": [
       "<IPython.core.display.HTML object>"
      ]
     },
     "execution_count": 10,
     "metadata": {},
     "output_type": "execute_result"
    }
   ],
   "source": [
    "pdk_rows = pdh.pdk_rows.utilNd.make_pdk_rows(\n",
    "    #rows,\n",
    "    from_dict(hexdict),\n",
    "    'h3cell',\n",
    "    color = 'value',\n",
    "    line_width = 20,\n",
    ")\n",
    "\n",
    "layer_params = pdh.params.get_layer_params(pdk_rows)\n",
    "deck_params = pdh.params.get_deck_params(pdk_rows)\n",
    "\n",
    "layer = pdk.Layer('H3HexagonLayer', pdk_rows, **layer_params)\n",
    "deck = pdk.Deck([layer], **deck_params)\n",
    "deck.to_html()"
   ]
  },
  {
   "cell_type": "code",
   "execution_count": 11,
   "metadata": {},
   "outputs": [
    {
     "data": {
      "text/html": [
       "<iframe src=\"about:blank\" frameborder=\"0\" srcdoc=\"&lt;html&gt;\n",
       "  &lt;head&gt;\n",
       "    &lt;meta http-equiv=&quot;content-type&quot; content=&quot;text/html; charset=UTF-8&quot; /&gt;\n",
       "    &lt;title&gt;pydeck&lt;/title&gt;\n",
       "    &lt;link rel=&quot;stylesheet&quot; href=&quot;https://maxcdn.bootstrapcdn.com/bootstrap/3.2.0/css/bootstrap-theme.min.css&quot; /&gt;\n",
       "    &lt;link rel=&quot;stylesheet&quot; href=&quot;https://maxcdn.bootstrapcdn.com/font-awesome/4.6.3/css/font-awesome.min.css&quot; /&gt;\n",
       "    &lt;script src=&#x27;https://cdn.jsdelivr.net/npm/@deck.gl/jupyter-widget@~8.3.*/dist/index.js&#x27;&gt;&lt;/script&gt;\n",
       "    &lt;style&gt;\n",
       "    body {\n",
       "      margin: 0;\n",
       "      padding: 0;\n",
       "      overflow: hidden;\n",
       "    }\n",
       "\n",
       "    #deck-map-container {\n",
       "      width: 100%;\n",
       "      height: 100%;\n",
       "      background-color: black;\n",
       "    }\n",
       "\n",
       "    #map {\n",
       "      pointer-events: none;\n",
       "      height: 100%;\n",
       "      width: 100%;\n",
       "      position: absolute;\n",
       "      z-index: 1;\n",
       "    }\n",
       "\n",
       "    #deckgl-overlay {\n",
       "      z-index: 2;\n",
       "      background: none;\n",
       "    }\n",
       "\n",
       "    #deck-map-wrapper {\n",
       "      width: 100%;\n",
       "      height: 100%;\n",
       "    }\n",
       "\n",
       "    #deck-container {\n",
       "      width: 100vw;\n",
       "      height: 100vh;\n",
       "    }\n",
       "    &lt;/style&gt;\n",
       "  &lt;/head&gt;\n",
       "  &lt;body&gt;\n",
       "    &lt;div id=&quot;deck-container&quot;&gt;\n",
       "    &lt;/div&gt;\n",
       "  &lt;/body&gt;\n",
       "  &lt;script&gt;\n",
       "    const jsonInput = {&quot;initialViewState&quot;: {&quot;latitude&quot;: 37.77634600324936, &quot;longitude&quot;: -122.42312111464462, &quot;zoom&quot;: 16}, &quot;layers&quot;: [{&quot;@@type&quot;: &quot;H3HexagonLayer&quot;, &quot;data&quot;: [{&quot;_pdk_fill_color&quot;: [254, 191, 90, 255], &quot;_pdk_h3cell&quot;: &quot;89283082807ffff&quot;, &quot;_pdk_line_width&quot;: 1, &quot;h3cell&quot;: &quot;89283082807ffff&quot;, &quot;value&quot;: 6}, {&quot;_pdk_fill_color&quot;: [255, 255, 204, 255], &quot;_pdk_h3cell&quot;: &quot;89283082833ffff&quot;, &quot;_pdk_line_width&quot;: 1, &quot;h3cell&quot;: &quot;89283082833ffff&quot;, &quot;value&quot;: 0}, {&quot;_pdk_fill_color&quot;: [128, 0, 38, 255], &quot;_pdk_h3cell&quot;: &quot;8928308283bffff&quot;, &quot;_pdk_line_width&quot;: 1, &quot;h3cell&quot;: &quot;8928308283bffff&quot;, &quot;value&quot;: 18}], &quot;extruded&quot;: false, &quot;getFillColor&quot;: &quot;@@=_pdk_fill_color&quot;, &quot;getHexagon&quot;: &quot;@@=_pdk_h3cell&quot;, &quot;getLineWidth&quot;: &quot;@@=_pdk_line_width&quot;, &quot;id&quot;: &quot;af7e5f18-c086-4dfc-b0db-493c97a2199a&quot;, &quot;opacity&quot;: 0.7, &quot;pickable&quot;: true}], &quot;mapProvider&quot;: &quot;mapbox&quot;, &quot;mapStyle&quot;: &quot;mapbox://styles/mapbox/light-v10&quot;, &quot;views&quot;: [{&quot;@@type&quot;: &quot;MapView&quot;, &quot;controller&quot;: true}]};\n",
       "    const MAPBOX_API_KEY = &#x27;pk.eyJ1IjoiYWpmcmllbmQiLCJhIjoiY2pmbmRjczJmMTVkMzJxcW92Y2E4cHZjdCJ9.Jf-gFXU7FOIQxALzPajbdg&#x27;;\n",
       "    const GOOGLE_MAPS_API_KEY = &#x27;None&#x27;;\n",
       "    const tooltip = {&#x27;html&#x27;: &#x27;&lt;b&gt;h3cell&lt;/b&gt;: {h3cell}&lt;br/&gt;&lt;b&gt;value&lt;/b&gt;: {value}&#x27;};\n",
       "    const customLibraries = null;\n",
       "\n",
       "    const deck = createDeck({\n",
       "      mapboxApiKey: MAPBOX_API_KEY,\n",
       "      googleMapsKey: GOOGLE_MAPS_API_KEY,\n",
       "      container: document.getElementById(&#x27;deck-container&#x27;),\n",
       "      jsonInput,\n",
       "      tooltip,\n",
       "      customLibraries\n",
       "    });\n",
       "\n",
       "  &lt;/script&gt;\n",
       "&lt;/html&gt;\" width=\"100%\" height=500></iframe>"
      ],
      "text/plain": [
       "<IPython.core.display.HTML object>"
      ]
     },
     "execution_count": 11,
     "metadata": {},
     "output_type": "execute_result"
    }
   ],
   "source": [
    "pdh.base.plot_rows(from_dict(hexdict), 'h3cell', color='value').to_html()"
   ]
  },
  {
   "cell_type": "code",
   "execution_count": 3,
   "metadata": {},
   "outputs": [],
   "source": [
    "#pdk_rows = pdh.pdk_rows.utilNd.make_pdk_rows(rows, 'h3cell', color='cats', line_width='dogs')"
   ]
  },
  {
   "cell_type": "code",
   "execution_count": 13,
   "metadata": {},
   "outputs": [
    {
     "data": {
      "text/html": [
       "<iframe src=\"about:blank\" frameborder=\"0\" srcdoc=\"&lt;html&gt;\n",
       "  &lt;head&gt;\n",
       "    &lt;meta http-equiv=&quot;content-type&quot; content=&quot;text/html; charset=UTF-8&quot; /&gt;\n",
       "    &lt;title&gt;pydeck&lt;/title&gt;\n",
       "    &lt;link rel=&quot;stylesheet&quot; href=&quot;https://maxcdn.bootstrapcdn.com/bootstrap/3.2.0/css/bootstrap-theme.min.css&quot; /&gt;\n",
       "    &lt;link rel=&quot;stylesheet&quot; href=&quot;https://maxcdn.bootstrapcdn.com/font-awesome/4.6.3/css/font-awesome.min.css&quot; /&gt;\n",
       "    &lt;script src=&#x27;https://cdn.jsdelivr.net/npm/@deck.gl/jupyter-widget@~8.3.*/dist/index.js&#x27;&gt;&lt;/script&gt;\n",
       "    &lt;style&gt;\n",
       "    body {\n",
       "      margin: 0;\n",
       "      padding: 0;\n",
       "      overflow: hidden;\n",
       "    }\n",
       "\n",
       "    #deck-map-container {\n",
       "      width: 100%;\n",
       "      height: 100%;\n",
       "      background-color: black;\n",
       "    }\n",
       "\n",
       "    #map {\n",
       "      pointer-events: none;\n",
       "      height: 100%;\n",
       "      width: 100%;\n",
       "      position: absolute;\n",
       "      z-index: 1;\n",
       "    }\n",
       "\n",
       "    #deckgl-overlay {\n",
       "      z-index: 2;\n",
       "      background: none;\n",
       "    }\n",
       "\n",
       "    #deck-map-wrapper {\n",
       "      width: 100%;\n",
       "      height: 100%;\n",
       "    }\n",
       "\n",
       "    #deck-container {\n",
       "      width: 100vw;\n",
       "      height: 100vh;\n",
       "    }\n",
       "    &lt;/style&gt;\n",
       "  &lt;/head&gt;\n",
       "  &lt;body&gt;\n",
       "    &lt;div id=&quot;deck-container&quot;&gt;\n",
       "    &lt;/div&gt;\n",
       "  &lt;/body&gt;\n",
       "  &lt;script&gt;\n",
       "    const jsonInput = {&quot;initialViewState&quot;: {&quot;latitude&quot;: 37.77634600324936, &quot;longitude&quot;: -122.42312111464462, &quot;pitch&quot;: 45, &quot;zoom&quot;: 16}, &quot;layers&quot;: [{&quot;@@type&quot;: &quot;H3HexagonLayer&quot;, &quot;data&quot;: [{&quot;_pdk_elevation&quot;: 6, &quot;_pdk_fill_color&quot;: [254, 191, 90, 255], &quot;_pdk_h3cell&quot;: &quot;89283082807ffff&quot;, &quot;h3cell&quot;: &quot;89283082807ffff&quot;, &quot;value&quot;: 6}, {&quot;_pdk_elevation&quot;: 0, &quot;_pdk_fill_color&quot;: [255, 255, 204, 255], &quot;_pdk_h3cell&quot;: &quot;89283082833ffff&quot;, &quot;h3cell&quot;: &quot;89283082833ffff&quot;, &quot;value&quot;: 0}, {&quot;_pdk_elevation&quot;: 18, &quot;_pdk_fill_color&quot;: [128, 0, 38, 255], &quot;_pdk_h3cell&quot;: &quot;8928308283bffff&quot;, &quot;h3cell&quot;: &quot;8928308283bffff&quot;, &quot;value&quot;: 18}], &quot;elevationScale&quot;: 20, &quot;extruded&quot;: true, &quot;getElevation&quot;: &quot;@@=_pdk_elevation&quot;, &quot;getFillColor&quot;: &quot;@@=_pdk_fill_color&quot;, &quot;getHexagon&quot;: &quot;@@=_pdk_h3cell&quot;, &quot;id&quot;: &quot;593babe9-f845-48ee-8d46-0ef034464696&quot;, &quot;opacity&quot;: 0.7, &quot;pickable&quot;: true, &quot;wireframe&quot;: true}], &quot;mapProvider&quot;: &quot;mapbox&quot;, &quot;mapStyle&quot;: &quot;mapbox://styles/mapbox/light-v10&quot;, &quot;views&quot;: [{&quot;@@type&quot;: &quot;MapView&quot;, &quot;controller&quot;: true}]};\n",
       "    const MAPBOX_API_KEY = &#x27;pk.eyJ1IjoiYWpmcmllbmQiLCJhIjoiY2pmbmRjczJmMTVkMzJxcW92Y2E4cHZjdCJ9.Jf-gFXU7FOIQxALzPajbdg&#x27;;\n",
       "    const GOOGLE_MAPS_API_KEY = &#x27;None&#x27;;\n",
       "    const tooltip = {&#x27;html&#x27;: &#x27;&lt;b&gt;h3cell&lt;/b&gt;: {h3cell}&lt;br/&gt;&lt;b&gt;value&lt;/b&gt;: {value}&lt;br/&gt;&lt;b&gt;_pdk_h3cell&lt;/b&gt;: {_pdk_h3cell}&lt;br/&gt;&lt;b&gt;_pdk_fill_color&lt;/b&gt;: {_pdk_fill_color}&lt;br/&gt;&lt;b&gt;_pdk_elevation&lt;/b&gt;: {_pdk_elevation}&#x27;};\n",
       "    const customLibraries = null;\n",
       "\n",
       "    const deck = createDeck({\n",
       "      mapboxApiKey: MAPBOX_API_KEY,\n",
       "      googleMapsKey: GOOGLE_MAPS_API_KEY,\n",
       "      container: document.getElementById(&#x27;deck-container&#x27;),\n",
       "      jsonInput,\n",
       "      tooltip,\n",
       "      customLibraries\n",
       "    });\n",
       "\n",
       "  &lt;/script&gt;\n",
       "&lt;/html&gt;\" width=\"100%\" height=500></iframe>"
      ],
      "text/plain": [
       "<IPython.core.display.HTML object>"
      ]
     },
     "execution_count": 13,
     "metadata": {},
     "output_type": "execute_result"
    }
   ],
   "source": [
    "pdh.base.plot_rows(from_dict(hexdict), 'h3cell', color='value', height='value', wireframe=True, line_width=20, hide_underscored=False).to_html()"
   ]
  },
  {
   "cell_type": "markdown",
   "metadata": {},
   "source": [
    "# 3D"
   ]
  },
  {
   "cell_type": "code",
   "execution_count": 19,
   "metadata": {},
   "outputs": [
    {
     "data": {
      "text/plain": [
       "[{'h3cell': '89283082807ffff',\n",
       "  'cats': 6,\n",
       "  'dogs': 15,\n",
       "  '_pdk_fill_color': (254, 191, 90, 255),\n",
       "  '_pdk_elevation': 15,\n",
       "  '_pdk_h3cell': '89283082807ffff'},\n",
       " {'h3cell': '89283082833ffff',\n",
       "  'cats': 0,\n",
       "  'dogs': 5,\n",
       "  '_pdk_fill_color': (255, 255, 204, 255),\n",
       "  '_pdk_elevation': 5,\n",
       "  '_pdk_h3cell': '89283082833ffff'},\n",
       " {'h3cell': '8928308283bffff',\n",
       "  'cats': 18,\n",
       "  'dogs': 1,\n",
       "  '_pdk_fill_color': (128, 0, 38, 255),\n",
       "  '_pdk_elevation': 1,\n",
       "  '_pdk_h3cell': '8928308283bffff'}]"
      ]
     },
     "execution_count": 19,
     "metadata": {},
     "output_type": "execute_result"
    }
   ],
   "source": [
    "pdk_rows = pdh.pdk_rows.util3d.make_pdk_rows(rows, 'h3cell', color='cats', height='dogs')\n",
    "pdk_rows"
   ]
  },
  {
   "cell_type": "code",
   "execution_count": 21,
   "metadata": {},
   "outputs": [],
   "source": [
    "a,b = pdh.params.get_plot_params(pdk_rows, opacity=.3, wireframe=False, hide_underscored=False)"
   ]
  },
  {
   "cell_type": "code",
   "execution_count": 22,
   "metadata": {},
   "outputs": [
    {
     "data": {
      "text/plain": [
       "{'pickable': True,\n",
       " 'extruded': True,\n",
       " 'opacity': 0.3,\n",
       " 'wireframe': False,\n",
       " 'elevation_scale': 20,\n",
       " 'get_hexagon': '_pdk_h3cell',\n",
       " 'get_fill_color': '_pdk_fill_color',\n",
       " 'get_elevation': '_pdk_elevation'}"
      ]
     },
     "execution_count": 22,
     "metadata": {},
     "output_type": "execute_result"
    }
   ],
   "source": [
    "a"
   ]
  },
  {
   "cell_type": "code",
   "execution_count": 23,
   "metadata": {},
   "outputs": [
    {
     "data": {
      "text/plain": [
       "{'initial_view_state': {\"latitude\": 37.776346003249365, \"longitude\": -122.42312111464462, \"pitch\": 45, \"zoom\": 16},\n",
       " 'tooltip': {'html': '<b>h3cell</b>: {h3cell}<br/><b>cats</b>: {cats}<br/><b>dogs</b>: {dogs}<br/><b>_pdk_fill_color</b>: {_pdk_fill_color}<br/><b>_pdk_elevation</b>: {_pdk_elevation}<br/><b>_pdk_h3cell</b>: {_pdk_h3cell}'},\n",
       " 'mapbox_key': 'pk.eyJ1IjoiYWpmcmllbmQiLCJhIjoiY2pmbmRjczJmMTVkMzJxcW92Y2E4cHZjdCJ9.Jf-gFXU7FOIQxALzPajbdg',\n",
       " 'map_style': 'mapbox://styles/mapbox/light-v10'}"
      ]
     },
     "execution_count": 23,
     "metadata": {},
     "output_type": "execute_result"
    }
   ],
   "source": [
    "b"
   ]
  },
  {
   "cell_type": "code",
   "execution_count": 24,
   "metadata": {},
   "outputs": [],
   "source": [
    "a = pdh.base.plot(pdk_rows, *out)"
   ]
  },
  {
   "cell_type": "code",
   "execution_count": 29,
   "metadata": {},
   "outputs": [],
   "source": [
    "b = a.layers[0]"
   ]
  },
  {
   "cell_type": "code",
   "execution_count": 31,
   "metadata": {},
   "outputs": [
    {
     "data": {
      "text/plain": [
       "['@@type',\n",
       " '__class__',\n",
       " '__delattr__',\n",
       " '__dict__',\n",
       " '__dir__',\n",
       " '__doc__',\n",
       " '__eq__',\n",
       " '__format__',\n",
       " '__ge__',\n",
       " '__getattribute__',\n",
       " '__gt__',\n",
       " '__hash__',\n",
       " '__init__',\n",
       " '__init_subclass__',\n",
       " '__le__',\n",
       " '__lt__',\n",
       " '__module__',\n",
       " '__ne__',\n",
       " '__new__',\n",
       " '__reduce__',\n",
       " '__reduce_ex__',\n",
       " '__repr__',\n",
       " '__setattr__',\n",
       " '__sizeof__',\n",
       " '__str__',\n",
       " '__subclasshook__',\n",
       " '__weakref__',\n",
       " '_binary_data',\n",
       " '_data',\n",
       " '_kwargs',\n",
       " '_prepare_binary_data',\n",
       " 'data',\n",
       " 'elevation_scale',\n",
       " 'extruded',\n",
       " 'get_binary_data',\n",
       " 'get_elevation',\n",
       " 'get_fill_color',\n",
       " 'get_hexagon',\n",
       " 'id',\n",
       " 'opacity',\n",
       " 'pickable',\n",
       " 'to_json',\n",
       " 'type',\n",
       " 'use_binary_transport',\n",
       " 'wireframe']"
      ]
     },
     "execution_count": 31,
     "metadata": {},
     "output_type": "execute_result"
    }
   ],
   "source": [
    "dir(b)"
   ]
  },
  {
   "cell_type": "code",
   "execution_count": 34,
   "metadata": {},
   "outputs": [
    {
     "data": {
      "text/plain": [
       "[{'h3cell': '89283082807ffff',\n",
       "  'cats': 6,\n",
       "  'dogs': 15,\n",
       "  '_pdk_fill_color': (254, 191, 90, 255),\n",
       "  '_pdk_elevation': 15,\n",
       "  '_pdk_h3cell': '89283082807ffff'},\n",
       " {'h3cell': '89283082833ffff',\n",
       "  'cats': 0,\n",
       "  'dogs': 5,\n",
       "  '_pdk_fill_color': (255, 255, 204, 255),\n",
       "  '_pdk_elevation': 5,\n",
       "  '_pdk_h3cell': '89283082833ffff'},\n",
       " {'h3cell': '8928308283bffff',\n",
       "  'cats': 18,\n",
       "  'dogs': 1,\n",
       "  '_pdk_fill_color': (128, 0, 38, 255),\n",
       "  '_pdk_elevation': 1,\n",
       "  '_pdk_h3cell': '8928308283bffff'}]"
      ]
     },
     "execution_count": 34,
     "metadata": {},
     "output_type": "execute_result"
    }
   ],
   "source": [
    "b.data"
   ]
  },
  {
   "cell_type": "code",
   "execution_count": null,
   "metadata": {},
   "outputs": [],
   "source": []
  }
 ],
 "metadata": {
  "kernelspec": {
   "display_name": "Python 3",
   "language": "python",
   "name": "python3"
  },
  "language_info": {
   "codemirror_mode": {
    "name": "ipython",
    "version": 3
   },
   "file_extension": ".py",
   "mimetype": "text/x-python",
   "name": "python",
   "nbconvert_exporter": "python",
   "pygments_lexer": "ipython3",
   "version": "3.8.5"
  }
 },
 "nbformat": 4,
 "nbformat_minor": 4
}
