{
 "cells": [
  {
   "cell_type": "code",
   "execution_count": 1,
   "metadata": {},
   "outputs": [],
   "source": [
    "import pydeck_h3 as pdh\n",
    "\n",
    "import data"
   ]
  },
  {
   "cell_type": "code",
   "execution_count": 10,
   "metadata": {},
   "outputs": [
    {
     "data": {
      "text/plain": [
       "[{'h3cell': '89283082807ffff', 'cats': 6, 'dogs': 15},\n",
       " {'h3cell': '89283082833ffff', 'cats': 0, 'dogs': 5},\n",
       " {'h3cell': '8928308283bffff', 'cats': 18, 'dogs': 1}]"
      ]
     },
     "execution_count": 10,
     "metadata": {},
     "output_type": "execute_result"
    }
   ],
   "source": [
    "rows = data.rows[:3]\n",
    "rows"
   ]
  },
  {
   "cell_type": "code",
   "execution_count": 21,
   "metadata": {},
   "outputs": [
    {
     "data": {
      "text/plain": [
       "\u001b[0;31mSignature:\u001b[0m\n",
       "\u001b[0mpdh\u001b[0m\u001b[0;34m.\u001b[0m\u001b[0mpdk_rows\u001b[0m\u001b[0;34m.\u001b[0m\u001b[0mutil2d\u001b[0m\u001b[0;34m.\u001b[0m\u001b[0mmake_pdk_rows\u001b[0m\u001b[0;34m(\u001b[0m\u001b[0;34m\u001b[0m\n",
       "\u001b[0;34m\u001b[0m    \u001b[0mrows\u001b[0m\u001b[0;34m,\u001b[0m\u001b[0;34m\u001b[0m\n",
       "\u001b[0;34m\u001b[0m    \u001b[0mcol_hex\u001b[0m\u001b[0;34m,\u001b[0m\u001b[0;34m\u001b[0m\n",
       "\u001b[0;34m\u001b[0m    \u001b[0mcolor\u001b[0m\u001b[0;34m=\u001b[0m\u001b[0;34m(\u001b[0m\u001b[0;36m245\u001b[0m\u001b[0;34m,\u001b[0m \u001b[0;36m206\u001b[0m\u001b[0;34m,\u001b[0m \u001b[0;36m66\u001b[0m\u001b[0;34m)\u001b[0m\u001b[0;34m,\u001b[0m\u001b[0;34m\u001b[0m\n",
       "\u001b[0;34m\u001b[0m    \u001b[0mcmap\u001b[0m\u001b[0;34m=\u001b[0m\u001b[0;34m'YlOrRd'\u001b[0m\u001b[0;34m,\u001b[0m\u001b[0;34m\u001b[0m\n",
       "\u001b[0;34m\u001b[0m    \u001b[0mline_width\u001b[0m\u001b[0;34m=\u001b[0m\u001b[0;36m1\u001b[0m\u001b[0;34m,\u001b[0m\u001b[0;34m\u001b[0m\n",
       "\u001b[0;34m\u001b[0m\u001b[0;34m)\u001b[0m\u001b[0;34m\u001b[0m\u001b[0;34m\u001b[0m\u001b[0m\n",
       "\u001b[0;31mDocstring:\u001b[0m <no docstring>\n",
       "\u001b[0;31mFile:\u001b[0m      ~/work/pydeck-h3/src/pydeck_h3/pdk_rows/util2d.py\n",
       "\u001b[0;31mType:\u001b[0m      function\n"
      ]
     },
     "metadata": {},
     "output_type": "display_data"
    }
   ],
   "source": [
    "pdh.pdk_rows.util2d.make_pdk_rows?"
   ]
  },
  {
   "cell_type": "code",
   "execution_count": 12,
   "metadata": {},
   "outputs": [
    {
     "data": {
      "text/plain": [
       "[{'h3cell': '89283082807ffff',\n",
       "  'cats': 6,\n",
       "  'dogs': 15,\n",
       "  '_pdk_h3cell': '89283082807ffff',\n",
       "  '_pdk_fill_color': (254, 191, 90, 255),\n",
       "  '_pdk_line_width': 15},\n",
       " {'h3cell': '89283082833ffff',\n",
       "  'cats': 0,\n",
       "  'dogs': 5,\n",
       "  '_pdk_h3cell': '89283082833ffff',\n",
       "  '_pdk_fill_color': (255, 255, 204, 255),\n",
       "  '_pdk_line_width': 5},\n",
       " {'h3cell': '8928308283bffff',\n",
       "  'cats': 18,\n",
       "  'dogs': 1,\n",
       "  '_pdk_h3cell': '8928308283bffff',\n",
       "  '_pdk_fill_color': (128, 0, 38, 255),\n",
       "  '_pdk_line_width': 1}]"
      ]
     },
     "execution_count": 12,
     "metadata": {},
     "output_type": "execute_result"
    }
   ],
   "source": [
    "pdk_rows = pdh.pdk_rows.util2d.make_pdk_rows(rows, 'h3cell', color='cats', line_width='dogs')\n",
    "pdk_rows"
   ]
  },
  {
   "cell_type": "code",
   "execution_count": 13,
   "metadata": {},
   "outputs": [
    {
     "data": {
      "text/plain": [
       "({'pickable': True,\n",
       "  'extruded': False,\n",
       "  'opacity': 0.3,\n",
       "  'get_hexagon': '_pdk_h3cell',\n",
       "  'get_fill_color': '_pdk_fill_color',\n",
       "  'get_line_width': '_pdk_line_width'},\n",
       " {'initial_view_state': {\"latitude\": 37.776346003249365, \"longitude\": -122.42312111464462, \"zoom\": 16},\n",
       "  'tooltip': {'html': '<b>h3cell</b>: {h3cell}<br/><b>cats</b>: {cats}<br/><b>dogs</b>: {dogs}'},\n",
       "  'mapbox_key': 'pk.eyJ1IjoiYWpmcmllbmQiLCJhIjoiY2pmbmRjczJmMTVkMzJxcW92Y2E4cHZjdCJ9.Jf-gFXU7FOIQxALzPajbdg',\n",
       "  'map_style': 'mapbox://styles/mapbox/light-v10'})"
      ]
     },
     "execution_count": 13,
     "metadata": {},
     "output_type": "execute_result"
    }
   ],
   "source": [
    "out = pdh.params.get_plot_params(pdk_rows, opacity=.3)\n",
    "out"
   ]
  },
  {
   "cell_type": "code",
   "execution_count": 14,
   "metadata": {},
   "outputs": [
    {
     "data": {
      "text/html": [
       "<iframe src=\"about:blank\" frameborder=\"0\" srcdoc=\"&lt;html&gt;\n",
       "  &lt;head&gt;\n",
       "    &lt;meta http-equiv=&quot;content-type&quot; content=&quot;text/html; charset=UTF-8&quot; /&gt;\n",
       "    &lt;title&gt;pydeck&lt;/title&gt;\n",
       "    &lt;link rel=&quot;stylesheet&quot; href=&quot;https://maxcdn.bootstrapcdn.com/bootstrap/3.2.0/css/bootstrap-theme.min.css&quot; /&gt;\n",
       "    &lt;link rel=&quot;stylesheet&quot; href=&quot;https://maxcdn.bootstrapcdn.com/font-awesome/4.6.3/css/font-awesome.min.css&quot; /&gt;\n",
       "    &lt;script src=&#x27;https://cdn.jsdelivr.net/npm/@deck.gl/jupyter-widget@~8.3.*/dist/index.js&#x27;&gt;&lt;/script&gt;\n",
       "    &lt;style&gt;\n",
       "    body {\n",
       "      margin: 0;\n",
       "      padding: 0;\n",
       "      overflow: hidden;\n",
       "    }\n",
       "\n",
       "    #deck-map-container {\n",
       "      width: 100%;\n",
       "      height: 100%;\n",
       "      background-color: black;\n",
       "    }\n",
       "\n",
       "    #map {\n",
       "      pointer-events: none;\n",
       "      height: 100%;\n",
       "      width: 100%;\n",
       "      position: absolute;\n",
       "      z-index: 1;\n",
       "    }\n",
       "\n",
       "    #deckgl-overlay {\n",
       "      z-index: 2;\n",
       "      background: none;\n",
       "    }\n",
       "\n",
       "    #deck-map-wrapper {\n",
       "      width: 100%;\n",
       "      height: 100%;\n",
       "    }\n",
       "\n",
       "    #deck-container {\n",
       "      width: 100vw;\n",
       "      height: 100vh;\n",
       "    }\n",
       "    &lt;/style&gt;\n",
       "  &lt;/head&gt;\n",
       "  &lt;body&gt;\n",
       "    &lt;div id=&quot;deck-container&quot;&gt;\n",
       "    &lt;/div&gt;\n",
       "  &lt;/body&gt;\n",
       "  &lt;script&gt;\n",
       "    const jsonInput = {&quot;initialViewState&quot;: {&quot;latitude&quot;: 37.776346003249365, &quot;longitude&quot;: -122.42312111464462, &quot;zoom&quot;: 16}, &quot;layers&quot;: [{&quot;@@type&quot;: &quot;H3HexagonLayer&quot;, &quot;data&quot;: [{&quot;_pdk_fill_color&quot;: [254, 191, 90, 255], &quot;_pdk_h3cell&quot;: &quot;89283082807ffff&quot;, &quot;_pdk_line_width&quot;: 15, &quot;cats&quot;: 6, &quot;dogs&quot;: 15, &quot;h3cell&quot;: &quot;89283082807ffff&quot;}, {&quot;_pdk_fill_color&quot;: [255, 255, 204, 255], &quot;_pdk_h3cell&quot;: &quot;89283082833ffff&quot;, &quot;_pdk_line_width&quot;: 5, &quot;cats&quot;: 0, &quot;dogs&quot;: 5, &quot;h3cell&quot;: &quot;89283082833ffff&quot;}, {&quot;_pdk_fill_color&quot;: [128, 0, 38, 255], &quot;_pdk_h3cell&quot;: &quot;8928308283bffff&quot;, &quot;_pdk_line_width&quot;: 1, &quot;cats&quot;: 18, &quot;dogs&quot;: 1, &quot;h3cell&quot;: &quot;8928308283bffff&quot;}], &quot;extruded&quot;: false, &quot;getFillColor&quot;: &quot;@@=_pdk_fill_color&quot;, &quot;getHexagon&quot;: &quot;@@=_pdk_h3cell&quot;, &quot;getLineWidth&quot;: &quot;@@=_pdk_line_width&quot;, &quot;id&quot;: &quot;ca726070-485f-4e1e-99a0-4694db231154&quot;, &quot;opacity&quot;: 0.3, &quot;pickable&quot;: true}], &quot;mapProvider&quot;: &quot;mapbox&quot;, &quot;mapStyle&quot;: &quot;mapbox://styles/mapbox/light-v10&quot;, &quot;views&quot;: [{&quot;@@type&quot;: &quot;MapView&quot;, &quot;controller&quot;: true}]};\n",
       "    const MAPBOX_API_KEY = &#x27;pk.eyJ1IjoiYWpmcmllbmQiLCJhIjoiY2pmbmRjczJmMTVkMzJxcW92Y2E4cHZjdCJ9.Jf-gFXU7FOIQxALzPajbdg&#x27;;\n",
       "    const GOOGLE_MAPS_API_KEY = &#x27;None&#x27;;\n",
       "    const tooltip = {&#x27;html&#x27;: &#x27;&lt;b&gt;h3cell&lt;/b&gt;: {h3cell}&lt;br/&gt;&lt;b&gt;cats&lt;/b&gt;: {cats}&lt;br/&gt;&lt;b&gt;dogs&lt;/b&gt;: {dogs}&#x27;};\n",
       "    const customLibraries = null;\n",
       "\n",
       "    const deck = createDeck({\n",
       "      mapboxApiKey: MAPBOX_API_KEY,\n",
       "      googleMapsKey: GOOGLE_MAPS_API_KEY,\n",
       "      container: document.getElementById(&#x27;deck-container&#x27;),\n",
       "      jsonInput,\n",
       "      tooltip,\n",
       "      customLibraries\n",
       "    });\n",
       "\n",
       "  &lt;/script&gt;\n",
       "&lt;/html&gt;\" width=\"100%\" height=500></iframe>"
      ],
      "text/plain": [
       "<IPython.core.display.HTML object>"
      ]
     },
     "execution_count": 14,
     "metadata": {},
     "output_type": "execute_result"
    }
   ],
   "source": [
    "pdh.base.plot(pdk_rows, *out).to_html()"
   ]
  },
  {
   "cell_type": "markdown",
   "metadata": {},
   "source": [
    "# 3D"
   ]
  },
  {
   "cell_type": "code",
   "execution_count": 22,
   "metadata": {},
   "outputs": [
    {
     "data": {
      "text/plain": [
       "[{'h3cell': '89283082807ffff',\n",
       "  'cats': 6,\n",
       "  'dogs': 15,\n",
       "  '_pdk_fill_color': (254, 191, 90, 255),\n",
       "  '_pdk_elevation': 15,\n",
       "  '_pdk_h3cell': '89283082807ffff'},\n",
       " {'h3cell': '89283082833ffff',\n",
       "  'cats': 0,\n",
       "  'dogs': 5,\n",
       "  '_pdk_fill_color': (255, 255, 204, 255),\n",
       "  '_pdk_elevation': 5,\n",
       "  '_pdk_h3cell': '89283082833ffff'},\n",
       " {'h3cell': '8928308283bffff',\n",
       "  'cats': 18,\n",
       "  'dogs': 1,\n",
       "  '_pdk_fill_color': (128, 0, 38, 255),\n",
       "  '_pdk_elevation': 1,\n",
       "  '_pdk_h3cell': '8928308283bffff'}]"
      ]
     },
     "execution_count": 22,
     "metadata": {},
     "output_type": "execute_result"
    }
   ],
   "source": [
    "pdk_rows = pdh.pdk_rows.util3d.make_pdk_rows(rows, 'h3cell', color='cats', height='dogs')\n",
    "pdk_rows"
   ]
  },
  {
   "cell_type": "code",
   "execution_count": 19,
   "metadata": {},
   "outputs": [
    {
     "data": {
      "text/plain": [
       "({'pickable': True,\n",
       "  'extruded': True,\n",
       "  'opacity': 0.3,\n",
       "  'wireframe': False,\n",
       "  'elevation_scale': 20,\n",
       "  'get_hexagon': '_pdk_h3cell',\n",
       "  'get_fill_color': '_pdk_fill_color',\n",
       "  'get_elevation': '_pdk_elevation'},\n",
       " {'initial_view_state': {\"latitude\": 37.776346003249365, \"longitude\": -122.42312111464462, \"pitch\": 45, \"zoom\": 16},\n",
       "  'tooltip': {'html': '<b>h3cell</b>: {h3cell}<br/><b>cats</b>: {cats}<br/><b>dogs</b>: {dogs}<br/><b>_pdk_fill_color</b>: {_pdk_fill_color}<br/><b>_pdk_elevation</b>: {_pdk_elevation}<br/><b>_pdk_h3cell</b>: {_pdk_h3cell}'},\n",
       "  'mapbox_key': 'pk.eyJ1IjoiYWpmcmllbmQiLCJhIjoiY2pmbmRjczJmMTVkMzJxcW92Y2E4cHZjdCJ9.Jf-gFXU7FOIQxALzPajbdg',\n",
       "  'map_style': 'mapbox://styles/mapbox/light-v10'})"
      ]
     },
     "execution_count": 19,
     "metadata": {},
     "output_type": "execute_result"
    }
   ],
   "source": [
    "out = pdh.params.get_plot_params(pdk_rows, opacity=.3, wireframe=False, hide_underscored=False)\n",
    "out"
   ]
  },
  {
   "cell_type": "code",
   "execution_count": 20,
   "metadata": {},
   "outputs": [
    {
     "data": {
      "text/html": [
       "<iframe src=\"about:blank\" frameborder=\"0\" srcdoc=\"&lt;html&gt;\n",
       "  &lt;head&gt;\n",
       "    &lt;meta http-equiv=&quot;content-type&quot; content=&quot;text/html; charset=UTF-8&quot; /&gt;\n",
       "    &lt;title&gt;pydeck&lt;/title&gt;\n",
       "    &lt;link rel=&quot;stylesheet&quot; href=&quot;https://maxcdn.bootstrapcdn.com/bootstrap/3.2.0/css/bootstrap-theme.min.css&quot; /&gt;\n",
       "    &lt;link rel=&quot;stylesheet&quot; href=&quot;https://maxcdn.bootstrapcdn.com/font-awesome/4.6.3/css/font-awesome.min.css&quot; /&gt;\n",
       "    &lt;script src=&#x27;https://cdn.jsdelivr.net/npm/@deck.gl/jupyter-widget@~8.3.*/dist/index.js&#x27;&gt;&lt;/script&gt;\n",
       "    &lt;style&gt;\n",
       "    body {\n",
       "      margin: 0;\n",
       "      padding: 0;\n",
       "      overflow: hidden;\n",
       "    }\n",
       "\n",
       "    #deck-map-container {\n",
       "      width: 100%;\n",
       "      height: 100%;\n",
       "      background-color: black;\n",
       "    }\n",
       "\n",
       "    #map {\n",
       "      pointer-events: none;\n",
       "      height: 100%;\n",
       "      width: 100%;\n",
       "      position: absolute;\n",
       "      z-index: 1;\n",
       "    }\n",
       "\n",
       "    #deckgl-overlay {\n",
       "      z-index: 2;\n",
       "      background: none;\n",
       "    }\n",
       "\n",
       "    #deck-map-wrapper {\n",
       "      width: 100%;\n",
       "      height: 100%;\n",
       "    }\n",
       "\n",
       "    #deck-container {\n",
       "      width: 100vw;\n",
       "      height: 100vh;\n",
       "    }\n",
       "    &lt;/style&gt;\n",
       "  &lt;/head&gt;\n",
       "  &lt;body&gt;\n",
       "    &lt;div id=&quot;deck-container&quot;&gt;\n",
       "    &lt;/div&gt;\n",
       "  &lt;/body&gt;\n",
       "  &lt;script&gt;\n",
       "    const jsonInput = {&quot;initialViewState&quot;: {&quot;latitude&quot;: 37.776346003249365, &quot;longitude&quot;: -122.42312111464462, &quot;pitch&quot;: 45, &quot;zoom&quot;: 16}, &quot;layers&quot;: [{&quot;@@type&quot;: &quot;H3HexagonLayer&quot;, &quot;data&quot;: [{&quot;_pdk_elevation&quot;: 15, &quot;_pdk_fill_color&quot;: [254, 191, 90, 255], &quot;_pdk_h3cell&quot;: &quot;89283082807ffff&quot;, &quot;cats&quot;: 6, &quot;dogs&quot;: 15, &quot;h3cell&quot;: &quot;89283082807ffff&quot;}, {&quot;_pdk_elevation&quot;: 5, &quot;_pdk_fill_color&quot;: [255, 255, 204, 255], &quot;_pdk_h3cell&quot;: &quot;89283082833ffff&quot;, &quot;cats&quot;: 0, &quot;dogs&quot;: 5, &quot;h3cell&quot;: &quot;89283082833ffff&quot;}, {&quot;_pdk_elevation&quot;: 1, &quot;_pdk_fill_color&quot;: [128, 0, 38, 255], &quot;_pdk_h3cell&quot;: &quot;8928308283bffff&quot;, &quot;cats&quot;: 18, &quot;dogs&quot;: 1, &quot;h3cell&quot;: &quot;8928308283bffff&quot;}], &quot;elevationScale&quot;: 20, &quot;extruded&quot;: true, &quot;getElevation&quot;: &quot;@@=_pdk_elevation&quot;, &quot;getFillColor&quot;: &quot;@@=_pdk_fill_color&quot;, &quot;getHexagon&quot;: &quot;@@=_pdk_h3cell&quot;, &quot;id&quot;: &quot;edbb9e25-af9c-4729-9a54-66772b8cd8cf&quot;, &quot;opacity&quot;: 0.3, &quot;pickable&quot;: true, &quot;wireframe&quot;: false}], &quot;mapProvider&quot;: &quot;mapbox&quot;, &quot;mapStyle&quot;: &quot;mapbox://styles/mapbox/light-v10&quot;, &quot;views&quot;: [{&quot;@@type&quot;: &quot;MapView&quot;, &quot;controller&quot;: true}]};\n",
       "    const MAPBOX_API_KEY = &#x27;pk.eyJ1IjoiYWpmcmllbmQiLCJhIjoiY2pmbmRjczJmMTVkMzJxcW92Y2E4cHZjdCJ9.Jf-gFXU7FOIQxALzPajbdg&#x27;;\n",
       "    const GOOGLE_MAPS_API_KEY = &#x27;None&#x27;;\n",
       "    const tooltip = {&#x27;html&#x27;: &#x27;&lt;b&gt;h3cell&lt;/b&gt;: {h3cell}&lt;br/&gt;&lt;b&gt;cats&lt;/b&gt;: {cats}&lt;br/&gt;&lt;b&gt;dogs&lt;/b&gt;: {dogs}&lt;br/&gt;&lt;b&gt;_pdk_fill_color&lt;/b&gt;: {_pdk_fill_color}&lt;br/&gt;&lt;b&gt;_pdk_elevation&lt;/b&gt;: {_pdk_elevation}&lt;br/&gt;&lt;b&gt;_pdk_h3cell&lt;/b&gt;: {_pdk_h3cell}&#x27;};\n",
       "    const customLibraries = null;\n",
       "\n",
       "    const deck = createDeck({\n",
       "      mapboxApiKey: MAPBOX_API_KEY,\n",
       "      googleMapsKey: GOOGLE_MAPS_API_KEY,\n",
       "      container: document.getElementById(&#x27;deck-container&#x27;),\n",
       "      jsonInput,\n",
       "      tooltip,\n",
       "      customLibraries\n",
       "    });\n",
       "\n",
       "  &lt;/script&gt;\n",
       "&lt;/html&gt;\" width=\"100%\" height=500></iframe>"
      ],
      "text/plain": [
       "<IPython.core.display.HTML object>"
      ]
     },
     "execution_count": 20,
     "metadata": {},
     "output_type": "execute_result"
    }
   ],
   "source": [
    "pdh.base.plot(pdk_rows, *out).to_html()"
   ]
  },
  {
   "cell_type": "code",
   "execution_count": null,
   "metadata": {},
   "outputs": [],
   "source": []
  }
 ],
 "metadata": {
  "kernelspec": {
   "display_name": "Python 3",
   "language": "python",
   "name": "python3"
  },
  "language_info": {
   "codemirror_mode": {
    "name": "ipython",
    "version": 3
   },
   "file_extension": ".py",
   "mimetype": "text/x-python",
   "name": "python",
   "nbconvert_exporter": "python",
   "pygments_lexer": "ipython3",
   "version": "3.8.5"
  }
 },
 "nbformat": 4,
 "nbformat_minor": 4
}
