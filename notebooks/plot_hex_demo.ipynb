{
 "cells": [
  {
   "cell_type": "code",
   "execution_count": 2,
   "metadata": {},
   "outputs": [
    {
     "data": {
      "text/plain": [
       "'0.4.0-b.2'"
      ]
     },
     "execution_count": 2,
     "metadata": {},
     "output_type": "execute_result"
    }
   ],
   "source": [
    "pydeck.__version__"
   ]
  },
  {
   "cell_type": "code",
   "execution_count": 3,
   "metadata": {},
   "outputs": [
    {
     "data": {
      "text/plain": [
       "{'89283082807ffff': 6,\n",
       " '89283082833ffff': 0,\n",
       " '8928308283bffff': 18,\n",
       " '892830828bbffff': 19,\n",
       " '8928308280fffff': 12,\n",
       " '8928308281bffff': 1,\n",
       " '89283082813ffff': 4,\n",
       " '89283082803ffff': 2,\n",
       " '89283082817ffff': 7,\n",
       " '892830828cfffff': 17,\n",
       " '8928308280bffff': 15,\n",
       " '89283082873ffff': 6,\n",
       " '8928308288fffff': 6,\n",
       " '89283082877ffff': 10,\n",
       " '892830828c7ffff': 19,\n",
       " '89283082857ffff': 10,\n",
       " '89283082847ffff': 4,\n",
       " '892830828abffff': 4,\n",
       " '8928308288bffff': 1}"
      ]
     },
     "execution_count": 3,
     "metadata": {},
     "output_type": "execute_result"
    }
   ],
   "source": [
    "import util as ph\n",
    "\n",
    "data = [\n",
    "    {'hex': '89283082807ffff', 'val1': 6, 'val2': 7},\n",
    "    {'hex': '89283082833ffff', 'val1': 0, 'val2': 19},\n",
    "    {'hex': '8928308283bffff', 'val1': 18, 'val2': 14},\n",
    "    {'hex': '892830828bbffff', 'val1': 19, 'val2': 7},\n",
    "    {'hex': '8928308280fffff', 'val1': 12, 'val2': 9},\n",
    "    {'hex': '8928308281bffff', 'val1': 1, 'val2': 17},\n",
    "    {'hex': '89283082813ffff', 'val1': 4, 'val2': 15},\n",
    "    {'hex': '89283082803ffff', 'val1': 2, 'val2': 0},\n",
    "    {'hex': '89283082817ffff', 'val1': 7, 'val2': 7},\n",
    "    {'hex': '892830828cfffff', 'val1': 17, 'val2': 10},\n",
    "    {'hex': '8928308280bffff', 'val1': 15, 'val2': 12},\n",
    "    {'hex': '89283082873ffff', 'val1': 6, 'val2': 19},\n",
    "    {'hex': '8928308288fffff', 'val1': 6, 'val2': 2},\n",
    "    {'hex': '89283082877ffff', 'val1': 10, 'val2': 19},\n",
    "    {'hex': '892830828c7ffff', 'val1': 19, 'val2': 8},\n",
    "    {'hex': '89283082857ffff', 'val1': 10, 'val2': 17},\n",
    "    {'hex': '89283082847ffff', 'val1': 4, 'val2': 1},\n",
    "    {'hex': '892830828abffff', 'val1': 4, 'val2': 10},\n",
    "    {'hex': '8928308288bffff', 'val1': 1, 'val2': 11},\n",
    "]\n",
    "\n",
    "hexvals = ph.rows2dict(data, col_val='val1')\n",
    "hexvals"
   ]
  },
  {
   "cell_type": "code",
   "execution_count": 4,
   "metadata": {},
   "outputs": [],
   "source": [
    "d = ph.plot_hexset(hexvals)"
   ]
  },
  {
   "cell_type": "code",
   "execution_count": 5,
   "metadata": {},
   "outputs": [
    {
     "data": {
      "application/vnd.jupyter.widget-view+json": {
       "model_id": "703fe5a410154d8f9e2d35e1ccf0dcf5",
       "version_major": 2,
       "version_minor": 0
      },
      "text/plain": [
       "DeckGLWidget(google_maps_key=None, json_input='{\"initialViewState\": {\"latitude\": 37.77351496212393, \"longitude…"
      ]
     },
     "metadata": {},
     "output_type": "display_data"
    }
   ],
   "source": [
    "d"
   ]
  },
  {
   "cell_type": "code",
   "execution_count": 6,
   "metadata": {},
   "outputs": [],
   "source": [
    "d = ph.plot_hexvals(hexvals, cmap='YlOrRd')"
   ]
  },
  {
   "cell_type": "code",
   "execution_count": null,
   "metadata": {},
   "outputs": [],
   "source": []
  },
  {
   "cell_type": "code",
   "execution_count": 7,
   "metadata": {},
   "outputs": [
    {
     "data": {
      "text/html": [
       "\n",
       "        <iframe\n",
       "            width=\"700\"\n",
       "            height=\"500\"\n",
       "            src=\"./pydeck1r39scow.html\"\n",
       "            frameborder=\"0\"\n",
       "            allowfullscreen\n",
       "        ></iframe>\n",
       "        "
      ],
      "text/plain": [
       "<IPython.lib.display.IFrame at 0x112f05390>"
      ]
     },
     "metadata": {},
     "output_type": "display_data"
    },
    {
     "data": {
      "text/plain": [
       "'/Users/ajfriend/work/pydeck-h3/notebooks/pydeck1r39scow.html'"
      ]
     },
     "execution_count": 7,
     "metadata": {},
     "output_type": "execute_result"
    }
   ],
   "source": [
    "d.to_html()"
   ]
  },
  {
   "cell_type": "code",
   "execution_count": 8,
   "metadata": {},
   "outputs": [
    {
     "data": {
      "text/html": [
       "<html>\n",
       "  <head>\n",
       "    <meta http-equiv=\"content-type\" content=\"text/html; charset=UTF-8\" />\n",
       "    <title>pydeck</title>\n",
       "    <link rel=\"stylesheet\" href=\"https://maxcdn.bootstrapcdn.com/bootstrap/3.2.0/css/bootstrap-theme.min.css\" />\n",
       "    <link rel=\"stylesheet\" href=\"https://maxcdn.bootstrapcdn.com/font-awesome/4.6.3/css/font-awesome.min.css\" />\n",
       "    <script src='https://cdn.jsdelivr.net/npm/@deck.gl/jupyter-widget@8.2.0-alpha.3/dist/index.js'></script>\n",
       "    <style>\n",
       "    body {\n",
       "      margin: 0;\n",
       "      padding: 0;\n",
       "      overflow: hidden;\n",
       "    }\n",
       "\n",
       "    #deck-map-container {\n",
       "      width: 100%;\n",
       "      height: 100%;\n",
       "      background-color: black;\n",
       "    }\n",
       "\n",
       "    #map {\n",
       "      pointer-events: none;\n",
       "      height: 100%;\n",
       "      width: 100%;\n",
       "      position: absolute;\n",
       "      z-index: 1;\n",
       "    }\n",
       "\n",
       "    #deckgl-overlay {\n",
       "      z-index: 2;\n",
       "      background: none;\n",
       "    }\n",
       "\n",
       "    #deck-map-wrapper {\n",
       "      width: 100%;\n",
       "      height: 100%;\n",
       "    }\n",
       "\n",
       "    #deck-container {\n",
       "      width: 100vw;\n",
       "      height: 100vh;\n",
       "    }\n",
       "    </style>\n",
       "  </head>\n",
       "  <body>\n",
       "    <div id=\"deck-container\">\n",
       "    </div>\n",
       "  </body>\n",
       "  <script>\n",
       "    const jsonInput = {\"initialViewState\": {\"latitude\": 37.77351496212393, \"longitude\": -122.41827096231162, \"zoom\": 14}, \"layers\": [{\"@@type\": \"H3HexagonLayer\", \"data\": [{\"_color\": [254, 197, 96], \"hex\": \"89283082807ffff\", \"value\": 6}, {\"_color\": [255, 255, 204], \"hex\": \"89283082833ffff\", \"value\": 0}, {\"_color\": [152, 0, 38], \"hex\": \"8928308283bffff\", \"value\": 18}, {\"_color\": [128, 0, 38], \"hex\": \"892830828bbffff\", \"value\": 19}, {\"_color\": [250, 75, 41], \"hex\": \"8928308280fffff\", \"value\": 12}, {\"_color\": [255, 247, 186], \"hex\": \"8928308281bffff\", \"value\": 1}, {\"_color\": [254, 223, 132], \"hex\": \"89283082813ffff\", \"value\": 4}, {\"_color\": [255, 240, 168], \"hex\": \"89283082803ffff\", \"value\": 2}, {\"_color\": [254, 179, 78], \"hex\": \"89283082817ffff\", \"value\": 7}, {\"_color\": [177, 0, 38], \"hex\": \"892830828cfffff\", \"value\": 17}, {\"_color\": [214, 17, 31], \"hex\": \"8928308280bffff\", \"value\": 15}, {\"_color\": [254, 197, 96], \"hex\": \"89283082873ffff\", \"value\": 6}, {\"_color\": [254, 197, 96], \"hex\": \"8928308288fffff\", \"value\": 6}, {\"_color\": [252, 128, 56], \"hex\": \"89283082877ffff\", \"value\": 10}, {\"_color\": [128, 0, 38], \"hex\": \"892830828c7ffff\", \"value\": 19}, {\"_color\": [252, 128, 56], \"hex\": \"89283082857ffff\", \"value\": 10}, {\"_color\": [254, 223, 132], \"hex\": \"89283082847ffff\", \"value\": 4}, {\"_color\": [254, 223, 132], \"hex\": \"892830828abffff\", \"value\": 4}, {\"_color\": [255, 247, 186], \"hex\": \"8928308288bffff\", \"value\": 1}], \"extruded\": false, \"getFillColor\": \"@@=_color\", \"getHexagon\": \"@@=hex\", \"getLineWidth\": 1, \"id\": \"3c31f3a6-664b-47ce-a8ff-897557e3f1fc\", \"opacity\": 0.7, \"pickable\": true}], \"mapProvider\": \"mapbox\", \"mapStyle\": \"mapbox://styles/mapbox/light-v10\", \"views\": [{\"@@type\": \"MapView\", \"controller\": true}]};\n",
       "    const MAPBOX_API_KEY = 'pk.eyJ1IjoiYWpmcmllbmQiLCJhIjoiY2pmbmRjczJmMTVkMzJxcW92Y2E4cHZjdCJ9.Jf-gFXU7FOIQxALzPajbdg';\n",
       "    const GOOGLE_MAPS_API_KEY = 'None';\n",
       "    const tooltip = {'html': '<b>hex</b>: {hex}<br/><b>value</b>: {value}'};\n",
       "    const customLibraries = null;\n",
       "\n",
       "    const deck = createDeck({\n",
       "      mapboxApiKey: MAPBOX_API_KEY,\n",
       "      googleMapsKey: GOOGLE_MAPS_API_KEY,\n",
       "      container: document.getElementById('deck-container'),\n",
       "      jsonInput,\n",
       "      tooltip,\n",
       "      customLibraries\n",
       "    });\n",
       "\n",
       "  </script>\n",
       "</html>"
      ],
      "text/plain": [
       "<IPython.core.display.HTML object>"
      ]
     },
     "execution_count": 8,
     "metadata": {},
     "output_type": "execute_result"
    }
   ],
   "source": [
    "from IPython.core.display import display, HTML\n",
    "HTML(d.to_html(as_string=True))"
   ]
  },
  {
   "cell_type": "code",
   "execution_count": 8,
   "metadata": {},
   "outputs": [
    {
     "name": "stdout",
     "output_type": "stream",
     "text": [
      "<html>\n",
      "  <head>\n",
      "    <meta http-equiv=\"content-type\" content=\"text/html; charset=UTF-8\" />\n",
      "    <title>pydeck</title>\n",
      "    <link rel=\"stylesheet\" href=\"https://maxcdn.bootstrapcdn.com/bootstrap/3.2.0/css/bootstrap-theme.min.css\" />\n",
      "    <link rel=\"stylesheet\" href=\"https://maxcdn.bootstrapcdn.com/font-awesome/4.6.3/css/font-awesome.min.css\" />\n",
      "    <script src='https://cdn.jsdelivr.net/npm/@deck.gl/jupyter-widget@8.2.0-alpha.3/dist/index.js'></script>\n",
      "    <style>\n",
      "    body {\n",
      "      margin: 0;\n",
      "      padding: 0;\n",
      "      overflow: hidden;\n",
      "    }\n",
      "\n",
      "    #deck-map-container {\n",
      "      width: 100%;\n",
      "      height: 100%;\n",
      "      background-color: black;\n",
      "    }\n",
      "\n",
      "    #map {\n",
      "      pointer-events: none;\n",
      "      height: 100%;\n",
      "      width: 100%;\n",
      "      position: absolute;\n",
      "      z-index: 1;\n",
      "    }\n",
      "\n",
      "    #deckgl-overlay {\n",
      "      z-index: 2;\n",
      "      background: none;\n",
      "    }\n",
      "\n",
      "    #deck-map-wrapper {\n",
      "      width: 100%;\n",
      "      height: 100%;\n",
      "    }\n",
      "\n",
      "    #deck-container {\n",
      "      width: 100vw;\n",
      "      height: 100vh;\n",
      "    }\n",
      "    </style>\n",
      "  </head>\n",
      "  <body>\n",
      "    <div id=\"deck-container\">\n",
      "    </div>\n",
      "  </body>\n",
      "  <script>\n",
      "    const jsonInput = {\"initialViewState\": {\"latitude\": 37.77351496212393, \"longitude\": -122.41827096231162, \"zoom\": 14}, \"layers\": [{\"@@type\": \"H3HexagonLayer\", \"data\": [{\"_color\": [254, 197, 96], \"hex\": \"89283082807ffff\", \"value\": 6}, {\"_color\": [255, 255, 204], \"hex\": \"89283082833ffff\", \"value\": 0}, {\"_color\": [152, 0, 38], \"hex\": \"8928308283bffff\", \"value\": 18}, {\"_color\": [128, 0, 38], \"hex\": \"892830828bbffff\", \"value\": 19}, {\"_color\": [250, 75, 41], \"hex\": \"8928308280fffff\", \"value\": 12}, {\"_color\": [255, 247, 186], \"hex\": \"8928308281bffff\", \"value\": 1}, {\"_color\": [254, 223, 132], \"hex\": \"89283082813ffff\", \"value\": 4}, {\"_color\": [255, 240, 168], \"hex\": \"89283082803ffff\", \"value\": 2}, {\"_color\": [254, 179, 78], \"hex\": \"89283082817ffff\", \"value\": 7}, {\"_color\": [177, 0, 38], \"hex\": \"892830828cfffff\", \"value\": 17}, {\"_color\": [214, 17, 31], \"hex\": \"8928308280bffff\", \"value\": 15}, {\"_color\": [254, 197, 96], \"hex\": \"89283082873ffff\", \"value\": 6}, {\"_color\": [254, 197, 96], \"hex\": \"8928308288fffff\", \"value\": 6}, {\"_color\": [252, 128, 56], \"hex\": \"89283082877ffff\", \"value\": 10}, {\"_color\": [128, 0, 38], \"hex\": \"892830828c7ffff\", \"value\": 19}, {\"_color\": [252, 128, 56], \"hex\": \"89283082857ffff\", \"value\": 10}, {\"_color\": [254, 223, 132], \"hex\": \"89283082847ffff\", \"value\": 4}, {\"_color\": [254, 223, 132], \"hex\": \"892830828abffff\", \"value\": 4}, {\"_color\": [255, 247, 186], \"hex\": \"8928308288bffff\", \"value\": 1}], \"extruded\": false, \"getFillColor\": \"@@=_color\", \"getHexagon\": \"@@=hex\", \"getLineWidth\": 1, \"id\": \"83f573ed-3578-4683-aaac-a64cd0306f34\", \"opacity\": 0.7, \"pickable\": true}], \"mapProvider\": \"mapbox\", \"mapStyle\": \"mapbox://styles/mapbox/light-v10\", \"views\": [{\"@@type\": \"MapView\", \"controller\": true}]};\n",
      "    const MAPBOX_API_KEY = 'pk.eyJ1IjoiYWpmcmllbmQiLCJhIjoiY2pmbmRjczJmMTVkMzJxcW92Y2E4cHZjdCJ9.Jf-gFXU7FOIQxALzPajbdg';\n",
      "    const GOOGLE_MAPS_API_KEY = 'None';\n",
      "    const tooltip = {'html': '<b>hex</b>: {hex}<br/><b>value</b>: {value}'};\n",
      "    const customLibraries = null;\n",
      "\n",
      "    const deck = createDeck({\n",
      "      mapboxApiKey: MAPBOX_API_KEY,\n",
      "      googleMapsKey: GOOGLE_MAPS_API_KEY,\n",
      "      container: document.getElementById('deck-container'),\n",
      "      jsonInput,\n",
      "      tooltip,\n",
      "      customLibraries\n",
      "    });\n",
      "\n",
      "  </script>\n",
      "</html>\n"
     ]
    }
   ],
   "source": [
    "print(d.to_html(as_string=True))"
   ]
  },
  {
   "cell_type": "code",
   "execution_count": 21,
   "metadata": {},
   "outputs": [
    {
     "data": {
      "text/html": [
       "\n",
       "        <iframe\n",
       "            width=\"700\"\n",
       "            height=\"500\"\n",
       "            src=\"./pydeck12q5luq_.html\"\n",
       "            frameborder=\"0\"\n",
       "            allowfullscreen\n",
       "        ></iframe>\n",
       "        "
      ],
      "text/plain": [
       "<IPython.lib.display.IFrame at 0x11492ba50>"
      ]
     },
     "metadata": {},
     "output_type": "display_data"
    },
    {
     "data": {
      "text/plain": [
       "'/Users/ajfriend/work/pydeck-h3/notebooks/pydeck12q5luq_.html'"
      ]
     },
     "execution_count": 21,
     "metadata": {},
     "output_type": "execute_result"
    }
   ],
   "source": [
    "d.to_html()"
   ]
  },
  {
   "cell_type": "code",
   "execution_count": 12,
   "metadata": {},
   "outputs": [
    {
     "data": {
      "text/plain": [
       "str"
      ]
     },
     "execution_count": 12,
     "metadata": {},
     "output_type": "execute_result"
    }
   ],
   "source": [
    "type(out)"
   ]
  },
  {
   "cell_type": "code",
   "execution_count": 4,
   "metadata": {},
   "outputs": [
    {
     "data": {
      "application/vnd.jupyter.widget-view+json": {
       "model_id": "f916e00536ac438e86e5a8299bb5037c",
       "version_major": 2,
       "version_minor": 0
      },
      "text/plain": [
       "DeckGLWidget(json_input='{\"initialViewState\": {\"latitude\": 37.77351496212393, \"longitude\": -122.41827096231162…"
      ]
     },
     "metadata": {},
     "output_type": "display_data"
    }
   ],
   "source": [
    "ph.plot_hexvals3D(hexvals, opacity=.5, cmap='PRGn', wireframe=True, elevation_scale=20)"
   ]
  },
  {
   "cell_type": "code",
   "execution_count": 5,
   "metadata": {},
   "outputs": [
    {
     "data": {
      "text/plain": [
       "[{'hex': '89283082807ffff', 'val1': 6, 'val2': 7},\n",
       " {'hex': '89283082833ffff', 'val1': 0, 'val2': 19},\n",
       " {'hex': '8928308283bffff', 'val1': 18, 'val2': 14},\n",
       " {'hex': '892830828bbffff', 'val1': 19, 'val2': 7},\n",
       " {'hex': '8928308280fffff', 'val1': 12, 'val2': 9},\n",
       " {'hex': '8928308281bffff', 'val1': 1, 'val2': 17},\n",
       " {'hex': '89283082813ffff', 'val1': 4, 'val2': 15},\n",
       " {'hex': '89283082803ffff', 'val1': 2, 'val2': 0},\n",
       " {'hex': '89283082817ffff', 'val1': 7, 'val2': 7},\n",
       " {'hex': '892830828cfffff', 'val1': 17, 'val2': 10},\n",
       " {'hex': '8928308280bffff', 'val1': 15, 'val2': 12},\n",
       " {'hex': '89283082873ffff', 'val1': 6, 'val2': 19},\n",
       " {'hex': '8928308288fffff', 'val1': 6, 'val2': 2},\n",
       " {'hex': '89283082877ffff', 'val1': 10, 'val2': 19},\n",
       " {'hex': '892830828c7ffff', 'val1': 19, 'val2': 8},\n",
       " {'hex': '89283082857ffff', 'val1': 10, 'val2': 17},\n",
       " {'hex': '89283082847ffff', 'val1': 4, 'val2': 1},\n",
       " {'hex': '892830828abffff', 'val1': 4, 'val2': 10},\n",
       " {'hex': '8928308288bffff', 'val1': 1, 'val2': 11}]"
      ]
     },
     "execution_count": 5,
     "metadata": {},
     "output_type": "execute_result"
    }
   ],
   "source": [
    "data"
   ]
  },
  {
   "cell_type": "code",
   "execution_count": 6,
   "metadata": {},
   "outputs": [
    {
     "data": {
      "application/vnd.jupyter.widget-view+json": {
       "model_id": "498175a9d1a646ed995528a6b1cd3a5b",
       "version_major": 2,
       "version_minor": 0
      },
      "text/plain": [
       "DeckGLWidget(json_input='{\"initialViewState\": {\"latitude\": 37.773514962123926, \"longitude\": -122.4182709623116…"
      ]
     },
     "metadata": {},
     "output_type": "display_data"
    }
   ],
   "source": [
    "ph.plot_hexvals4D(data, col_color='val1', col_height='val2')"
   ]
  },
  {
   "cell_type": "code",
   "execution_count": 7,
   "metadata": {},
   "outputs": [
    {
     "data": {
      "text/html": [
       "<div>\n",
       "<style scoped>\n",
       "    .dataframe tbody tr th:only-of-type {\n",
       "        vertical-align: middle;\n",
       "    }\n",
       "\n",
       "    .dataframe tbody tr th {\n",
       "        vertical-align: top;\n",
       "    }\n",
       "\n",
       "    .dataframe thead th {\n",
       "        text-align: right;\n",
       "    }\n",
       "</style>\n",
       "<table border=\"1\" class=\"dataframe\">\n",
       "  <thead>\n",
       "    <tr style=\"text-align: right;\">\n",
       "      <th></th>\n",
       "      <th>hex</th>\n",
       "      <th>val1</th>\n",
       "      <th>val2</th>\n",
       "    </tr>\n",
       "  </thead>\n",
       "  <tbody>\n",
       "    <tr>\n",
       "      <th>0</th>\n",
       "      <td>89283082807ffff</td>\n",
       "      <td>6</td>\n",
       "      <td>7</td>\n",
       "    </tr>\n",
       "    <tr>\n",
       "      <th>1</th>\n",
       "      <td>89283082833ffff</td>\n",
       "      <td>0</td>\n",
       "      <td>19</td>\n",
       "    </tr>\n",
       "    <tr>\n",
       "      <th>2</th>\n",
       "      <td>8928308283bffff</td>\n",
       "      <td>18</td>\n",
       "      <td>14</td>\n",
       "    </tr>\n",
       "    <tr>\n",
       "      <th>3</th>\n",
       "      <td>892830828bbffff</td>\n",
       "      <td>19</td>\n",
       "      <td>7</td>\n",
       "    </tr>\n",
       "    <tr>\n",
       "      <th>4</th>\n",
       "      <td>8928308280fffff</td>\n",
       "      <td>12</td>\n",
       "      <td>9</td>\n",
       "    </tr>\n",
       "  </tbody>\n",
       "</table>\n",
       "</div>"
      ],
      "text/plain": [
       "               hex  val1  val2\n",
       "0  89283082807ffff     6     7\n",
       "1  89283082833ffff     0    19\n",
       "2  8928308283bffff    18    14\n",
       "3  892830828bbffff    19     7\n",
       "4  8928308280fffff    12     9"
      ]
     },
     "execution_count": 7,
     "metadata": {},
     "output_type": "execute_result"
    }
   ],
   "source": [
    "import pandas as pd\n",
    "df = pd.DataFrame(data)\n",
    "df.head()"
   ]
  },
  {
   "cell_type": "code",
   "execution_count": 8,
   "metadata": {},
   "outputs": [
    {
     "data": {
      "application/vnd.jupyter.widget-view+json": {
       "model_id": "d9c09be1c18d482eb6c338591dc511f8",
       "version_major": 2,
       "version_minor": 0
      },
      "text/plain": [
       "DeckGLWidget(json_input='{\"initialViewState\": {\"latitude\": 37.773514962123926, \"longitude\": -122.4182709623116…"
      ]
     },
     "metadata": {},
     "output_type": "display_data"
    }
   ],
   "source": [
    "ph.plot_hexvals4D(df, col_color='val2', col_height='val1', cmap='BuGn')"
   ]
  },
  {
   "cell_type": "code",
   "execution_count": null,
   "metadata": {},
   "outputs": [],
   "source": []
  }
 ],
 "metadata": {
  "kernelspec": {
   "display_name": "Python 3",
   "language": "python",
   "name": "python3"
  },
  "language_info": {
   "codemirror_mode": {
    "name": "ipython",
    "version": 3
   },
   "file_extension": ".py",
   "mimetype": "text/x-python",
   "name": "python",
   "nbconvert_exporter": "python",
   "pygments_lexer": "ipython3",
   "version": "3.7.7"
  }
 },
 "nbformat": 4,
 "nbformat_minor": 4
}
