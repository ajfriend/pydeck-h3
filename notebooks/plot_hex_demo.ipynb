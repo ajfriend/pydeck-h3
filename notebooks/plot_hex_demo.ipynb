{
 "cells": [
  {
   "cell_type": "code",
   "execution_count": 1,
   "metadata": {},
   "outputs": [
    {
     "data": {
      "text/plain": [
       "{'89283082807ffff': 6,\n",
       " '89283082833ffff': 0,\n",
       " '8928308283bffff': 18,\n",
       " '892830828bbffff': 19,\n",
       " '8928308280fffff': 12,\n",
       " '8928308281bffff': 1,\n",
       " '89283082813ffff': 4,\n",
       " '89283082803ffff': 2,\n",
       " '89283082817ffff': 7,\n",
       " '892830828cfffff': 17,\n",
       " '8928308280bffff': 15,\n",
       " '89283082873ffff': 6,\n",
       " '8928308288fffff': 6,\n",
       " '89283082877ffff': 10,\n",
       " '892830828c7ffff': 19,\n",
       " '89283082857ffff': 10,\n",
       " '89283082847ffff': 4,\n",
       " '892830828abffff': 4,\n",
       " '8928308288bffff': 1}"
      ]
     },
     "execution_count": 1,
     "metadata": {},
     "output_type": "execute_result"
    }
   ],
   "source": [
    "import util as ph\n",
    "\n",
    "data = [\n",
    "    {'hex': '89283082807ffff', 'val1': 6, 'val2': 7},\n",
    "    {'hex': '89283082833ffff', 'val1': 0, 'val2': 19},\n",
    "    {'hex': '8928308283bffff', 'val1': 18, 'val2': 14},\n",
    "    {'hex': '892830828bbffff', 'val1': 19, 'val2': 7},\n",
    "    {'hex': '8928308280fffff', 'val1': 12, 'val2': 9},\n",
    "    {'hex': '8928308281bffff', 'val1': 1, 'val2': 17},\n",
    "    {'hex': '89283082813ffff', 'val1': 4, 'val2': 15},\n",
    "    {'hex': '89283082803ffff', 'val1': 2, 'val2': 0},\n",
    "    {'hex': '89283082817ffff', 'val1': 7, 'val2': 7},\n",
    "    {'hex': '892830828cfffff', 'val1': 17, 'val2': 10},\n",
    "    {'hex': '8928308280bffff', 'val1': 15, 'val2': 12},\n",
    "    {'hex': '89283082873ffff', 'val1': 6, 'val2': 19},\n",
    "    {'hex': '8928308288fffff', 'val1': 6, 'val2': 2},\n",
    "    {'hex': '89283082877ffff', 'val1': 10, 'val2': 19},\n",
    "    {'hex': '892830828c7ffff', 'val1': 19, 'val2': 8},\n",
    "    {'hex': '89283082857ffff', 'val1': 10, 'val2': 17},\n",
    "    {'hex': '89283082847ffff', 'val1': 4, 'val2': 1},\n",
    "    {'hex': '892830828abffff', 'val1': 4, 'val2': 10},\n",
    "    {'hex': '8928308288bffff', 'val1': 1, 'val2': 11},\n",
    "]\n",
    "\n",
    "hexvals = ph.rows2dict(data, col_val='val1')\n",
    "hexvals"
   ]
  },
  {
   "cell_type": "code",
   "execution_count": 2,
   "metadata": {},
   "outputs": [],
   "source": [
    "d = ph.plot_hexset(hexvals)"
   ]
  },
  {
   "cell_type": "code",
   "execution_count": 5,
   "metadata": {},
   "outputs": [
    {
     "data": {
      "application/vnd.jupyter.widget-view+json": {
       "model_id": "2ea3ce099cc74654a81be71feddacda1",
       "version_major": 2,
       "version_minor": 0
      },
      "text/plain": [
       "DeckGLWidget(json_input='{\"initialViewState\": {\"latitude\": 37.77351496212393, \"longitude\": -122.41827096231162…"
      ]
     },
     "metadata": {},
     "output_type": "display_data"
    }
   ],
   "source": []
  },
  {
   "cell_type": "code",
   "execution_count": 3,
   "metadata": {},
   "outputs": [],
   "source": [
    "d = ph.plot_hexvals(hexvals, cmap='YlOrRd')"
   ]
  },
  {
   "cell_type": "code",
   "execution_count": 7,
   "metadata": {},
   "outputs": [
    {
     "data": {
      "text/html": [
       "\n",
       "        <iframe\n",
       "            width=\"700\"\n",
       "            height=\"500\"\n",
       "            src=\"./pydeckd19pnwh4.html\"\n",
       "            frameborder=\"0\"\n",
       "            allowfullscreen\n",
       "        ></iframe>\n",
       "        "
      ],
      "text/plain": [
       "<IPython.lib.display.IFrame at 0x1146ae910>"
      ]
     },
     "metadata": {},
     "output_type": "display_data"
    },
    {
     "data": {
      "text/plain": [
       "'/Users/ajfriend/work/pydeck-h3/notebooks/pydeckd19pnwh4.html'"
      ]
     },
     "execution_count": 7,
     "metadata": {},
     "output_type": "execute_result"
    }
   ],
   "source": [
    "d.to_html()"
   ]
  },
  {
   "cell_type": "code",
   "execution_count": 4,
   "metadata": {},
   "outputs": [
    {
     "data": {
      "application/vnd.jupyter.widget-view+json": {
       "model_id": "f916e00536ac438e86e5a8299bb5037c",
       "version_major": 2,
       "version_minor": 0
      },
      "text/plain": [
       "DeckGLWidget(json_input='{\"initialViewState\": {\"latitude\": 37.77351496212393, \"longitude\": -122.41827096231162…"
      ]
     },
     "metadata": {},
     "output_type": "display_data"
    }
   ],
   "source": [
    "ph.plot_hexvals3D(hexvals, opacity=.5, cmap='PRGn', wireframe=True, elevation_scale=20)"
   ]
  },
  {
   "cell_type": "code",
   "execution_count": 5,
   "metadata": {},
   "outputs": [
    {
     "data": {
      "text/plain": [
       "[{'hex': '89283082807ffff', 'val1': 6, 'val2': 7},\n",
       " {'hex': '89283082833ffff', 'val1': 0, 'val2': 19},\n",
       " {'hex': '8928308283bffff', 'val1': 18, 'val2': 14},\n",
       " {'hex': '892830828bbffff', 'val1': 19, 'val2': 7},\n",
       " {'hex': '8928308280fffff', 'val1': 12, 'val2': 9},\n",
       " {'hex': '8928308281bffff', 'val1': 1, 'val2': 17},\n",
       " {'hex': '89283082813ffff', 'val1': 4, 'val2': 15},\n",
       " {'hex': '89283082803ffff', 'val1': 2, 'val2': 0},\n",
       " {'hex': '89283082817ffff', 'val1': 7, 'val2': 7},\n",
       " {'hex': '892830828cfffff', 'val1': 17, 'val2': 10},\n",
       " {'hex': '8928308280bffff', 'val1': 15, 'val2': 12},\n",
       " {'hex': '89283082873ffff', 'val1': 6, 'val2': 19},\n",
       " {'hex': '8928308288fffff', 'val1': 6, 'val2': 2},\n",
       " {'hex': '89283082877ffff', 'val1': 10, 'val2': 19},\n",
       " {'hex': '892830828c7ffff', 'val1': 19, 'val2': 8},\n",
       " {'hex': '89283082857ffff', 'val1': 10, 'val2': 17},\n",
       " {'hex': '89283082847ffff', 'val1': 4, 'val2': 1},\n",
       " {'hex': '892830828abffff', 'val1': 4, 'val2': 10},\n",
       " {'hex': '8928308288bffff', 'val1': 1, 'val2': 11}]"
      ]
     },
     "execution_count": 5,
     "metadata": {},
     "output_type": "execute_result"
    }
   ],
   "source": [
    "data"
   ]
  },
  {
   "cell_type": "code",
   "execution_count": 6,
   "metadata": {},
   "outputs": [
    {
     "data": {
      "application/vnd.jupyter.widget-view+json": {
       "model_id": "498175a9d1a646ed995528a6b1cd3a5b",
       "version_major": 2,
       "version_minor": 0
      },
      "text/plain": [
       "DeckGLWidget(json_input='{\"initialViewState\": {\"latitude\": 37.773514962123926, \"longitude\": -122.4182709623116…"
      ]
     },
     "metadata": {},
     "output_type": "display_data"
    }
   ],
   "source": [
    "ph.plot_hexvals4D(data, col_color='val1', col_height='val2')"
   ]
  },
  {
   "cell_type": "code",
   "execution_count": 7,
   "metadata": {},
   "outputs": [
    {
     "data": {
      "text/html": [
       "<div>\n",
       "<style scoped>\n",
       "    .dataframe tbody tr th:only-of-type {\n",
       "        vertical-align: middle;\n",
       "    }\n",
       "\n",
       "    .dataframe tbody tr th {\n",
       "        vertical-align: top;\n",
       "    }\n",
       "\n",
       "    .dataframe thead th {\n",
       "        text-align: right;\n",
       "    }\n",
       "</style>\n",
       "<table border=\"1\" class=\"dataframe\">\n",
       "  <thead>\n",
       "    <tr style=\"text-align: right;\">\n",
       "      <th></th>\n",
       "      <th>hex</th>\n",
       "      <th>val1</th>\n",
       "      <th>val2</th>\n",
       "    </tr>\n",
       "  </thead>\n",
       "  <tbody>\n",
       "    <tr>\n",
       "      <th>0</th>\n",
       "      <td>89283082807ffff</td>\n",
       "      <td>6</td>\n",
       "      <td>7</td>\n",
       "    </tr>\n",
       "    <tr>\n",
       "      <th>1</th>\n",
       "      <td>89283082833ffff</td>\n",
       "      <td>0</td>\n",
       "      <td>19</td>\n",
       "    </tr>\n",
       "    <tr>\n",
       "      <th>2</th>\n",
       "      <td>8928308283bffff</td>\n",
       "      <td>18</td>\n",
       "      <td>14</td>\n",
       "    </tr>\n",
       "    <tr>\n",
       "      <th>3</th>\n",
       "      <td>892830828bbffff</td>\n",
       "      <td>19</td>\n",
       "      <td>7</td>\n",
       "    </tr>\n",
       "    <tr>\n",
       "      <th>4</th>\n",
       "      <td>8928308280fffff</td>\n",
       "      <td>12</td>\n",
       "      <td>9</td>\n",
       "    </tr>\n",
       "  </tbody>\n",
       "</table>\n",
       "</div>"
      ],
      "text/plain": [
       "               hex  val1  val2\n",
       "0  89283082807ffff     6     7\n",
       "1  89283082833ffff     0    19\n",
       "2  8928308283bffff    18    14\n",
       "3  892830828bbffff    19     7\n",
       "4  8928308280fffff    12     9"
      ]
     },
     "execution_count": 7,
     "metadata": {},
     "output_type": "execute_result"
    }
   ],
   "source": [
    "import pandas as pd\n",
    "df = pd.DataFrame(data)\n",
    "df.head()"
   ]
  },
  {
   "cell_type": "code",
   "execution_count": 8,
   "metadata": {},
   "outputs": [
    {
     "data": {
      "application/vnd.jupyter.widget-view+json": {
       "model_id": "d9c09be1c18d482eb6c338591dc511f8",
       "version_major": 2,
       "version_minor": 0
      },
      "text/plain": [
       "DeckGLWidget(json_input='{\"initialViewState\": {\"latitude\": 37.773514962123926, \"longitude\": -122.4182709623116…"
      ]
     },
     "metadata": {},
     "output_type": "display_data"
    }
   ],
   "source": [
    "ph.plot_hexvals4D(df, col_color='val2', col_height='val1', cmap='BuGn')"
   ]
  },
  {
   "cell_type": "code",
   "execution_count": null,
   "metadata": {},
   "outputs": [],
   "source": []
  }
 ],
 "metadata": {
  "kernelspec": {
   "display_name": "Python 3",
   "language": "python",
   "name": "python3"
  },
  "language_info": {
   "codemirror_mode": {
    "name": "ipython",
    "version": 3
   },
   "file_extension": ".py",
   "mimetype": "text/x-python",
   "name": "python",
   "nbconvert_exporter": "python",
   "pygments_lexer": "ipython3",
   "version": "3.7.7"
  }
 },
 "nbformat": 4,
 "nbformat_minor": 4
}
