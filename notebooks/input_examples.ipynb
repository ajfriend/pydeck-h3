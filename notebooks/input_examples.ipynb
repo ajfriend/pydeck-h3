{
 "cells": [
  {
   "cell_type": "code",
   "execution_count": 1,
   "metadata": {},
   "outputs": [],
   "source": [
    "import pydeck_h3 as pdh\n",
    "\n",
    "from data import data"
   ]
  },
  {
   "cell_type": "code",
   "execution_count": 2,
   "metadata": {},
   "outputs": [
    {
     "data": {
      "text/plain": [
       "dict_keys(['rows', 'df', 'hexset', 'series', 'hexdict'])"
      ]
     },
     "execution_count": 2,
     "metadata": {},
     "output_type": "execute_result"
    }
   ],
   "source": [
    "data.keys()"
   ]
  },
  {
   "cell_type": "code",
   "execution_count": 3,
   "metadata": {},
   "outputs": [
    {
     "data": {
      "text/plain": [
       "[{'h3cell': '89283082807ffff', 'cats': 6, 'dogs': 15},\n",
       " {'h3cell': '89283082833ffff', 'cats': 0, 'dogs': 5},\n",
       " {'h3cell': '8928308283bffff', 'cats': 18, 'dogs': 1},\n",
       " {'h3cell': '892830828bbffff', 'cats': 19, 'dogs': 26}]"
      ]
     },
     "execution_count": 3,
     "metadata": {},
     "output_type": "execute_result"
    }
   ],
   "source": [
    "data['rows'][:4]"
   ]
  },
  {
   "cell_type": "code",
   "execution_count": 4,
   "metadata": {},
   "outputs": [
    {
     "data": {
      "text/html": [
       "<iframe src=\"about:blank\" frameborder=\"0\" srcdoc=\"&lt;html&gt;\n",
       "  &lt;head&gt;\n",
       "    &lt;meta http-equiv=&quot;content-type&quot; content=&quot;text/html; charset=UTF-8&quot; /&gt;\n",
       "    &lt;title&gt;pydeck&lt;/title&gt;\n",
       "    &lt;link rel=&quot;stylesheet&quot; href=&quot;https://maxcdn.bootstrapcdn.com/bootstrap/3.2.0/css/bootstrap-theme.min.css&quot; /&gt;\n",
       "    &lt;link rel=&quot;stylesheet&quot; href=&quot;https://maxcdn.bootstrapcdn.com/font-awesome/4.6.3/css/font-awesome.min.css&quot; /&gt;\n",
       "    &lt;script src=&#x27;https://cdn.jsdelivr.net/npm/@deck.gl/jupyter-widget@~8.3.*/dist/index.js&#x27;&gt;&lt;/script&gt;\n",
       "    &lt;style&gt;\n",
       "    body {\n",
       "      margin: 0;\n",
       "      padding: 0;\n",
       "      overflow: hidden;\n",
       "    }\n",
       "\n",
       "    #deck-map-container {\n",
       "      width: 100%;\n",
       "      height: 100%;\n",
       "      background-color: black;\n",
       "    }\n",
       "\n",
       "    #map {\n",
       "      pointer-events: none;\n",
       "      height: 100%;\n",
       "      width: 100%;\n",
       "      position: absolute;\n",
       "      z-index: 1;\n",
       "    }\n",
       "\n",
       "    #deckgl-overlay {\n",
       "      z-index: 2;\n",
       "      background: none;\n",
       "    }\n",
       "\n",
       "    #deck-map-wrapper {\n",
       "      width: 100%;\n",
       "      height: 100%;\n",
       "    }\n",
       "\n",
       "    #deck-container {\n",
       "      width: 100vw;\n",
       "      height: 100vh;\n",
       "    }\n",
       "    &lt;/style&gt;\n",
       "  &lt;/head&gt;\n",
       "  &lt;body&gt;\n",
       "    &lt;div id=&quot;deck-container&quot;&gt;\n",
       "    &lt;/div&gt;\n",
       "  &lt;/body&gt;\n",
       "  &lt;script&gt;\n",
       "    const jsonInput = {&quot;initialViewState&quot;: {&quot;latitude&quot;: 37.77351496212393, &quot;longitude&quot;: -122.41827096231162, &quot;zoom&quot;: 14}, &quot;layers&quot;: [{&quot;@@type&quot;: &quot;H3HexagonLayer&quot;, &quot;data&quot;: [{&quot;_pdk_fill_color&quot;: [245, 206, 66], &quot;_pdk_h3cell&quot;: &quot;89283082807ffff&quot;, &quot;_pdk_line_width&quot;: 1, &quot;cats&quot;: 6, &quot;dogs&quot;: 15, &quot;h3cell&quot;: &quot;89283082807ffff&quot;}, {&quot;_pdk_fill_color&quot;: [245, 206, 66], &quot;_pdk_h3cell&quot;: &quot;89283082833ffff&quot;, &quot;_pdk_line_width&quot;: 1, &quot;cats&quot;: 0, &quot;dogs&quot;: 5, &quot;h3cell&quot;: &quot;89283082833ffff&quot;}, {&quot;_pdk_fill_color&quot;: [245, 206, 66], &quot;_pdk_h3cell&quot;: &quot;8928308283bffff&quot;, &quot;_pdk_line_width&quot;: 1, &quot;cats&quot;: 18, &quot;dogs&quot;: 1, &quot;h3cell&quot;: &quot;8928308283bffff&quot;}, {&quot;_pdk_fill_color&quot;: [245, 206, 66], &quot;_pdk_h3cell&quot;: &quot;892830828bbffff&quot;, &quot;_pdk_line_width&quot;: 1, &quot;cats&quot;: 19, &quot;dogs&quot;: 26, &quot;h3cell&quot;: &quot;892830828bbffff&quot;}, {&quot;_pdk_fill_color&quot;: [245, 206, 66], &quot;_pdk_h3cell&quot;: &quot;8928308280fffff&quot;, &quot;_pdk_line_width&quot;: 1, &quot;cats&quot;: 12, &quot;dogs&quot;: 2, &quot;h3cell&quot;: &quot;8928308280fffff&quot;}, {&quot;_pdk_fill_color&quot;: [245, 206, 66], &quot;_pdk_h3cell&quot;: &quot;8928308281bffff&quot;, &quot;_pdk_line_width&quot;: 1, &quot;cats&quot;: 1, &quot;dogs&quot;: 24, &quot;h3cell&quot;: &quot;8928308281bffff&quot;}, {&quot;_pdk_fill_color&quot;: [245, 206, 66], &quot;_pdk_h3cell&quot;: &quot;89283082813ffff&quot;, &quot;_pdk_line_width&quot;: 1, &quot;cats&quot;: 4, &quot;dogs&quot;: 14, &quot;h3cell&quot;: &quot;89283082813ffff&quot;}, {&quot;_pdk_fill_color&quot;: [245, 206, 66], &quot;_pdk_h3cell&quot;: &quot;89283082803ffff&quot;, &quot;_pdk_line_width&quot;: 1, &quot;cats&quot;: 2, &quot;dogs&quot;: 3, &quot;h3cell&quot;: &quot;89283082803ffff&quot;}, {&quot;_pdk_fill_color&quot;: [245, 206, 66], &quot;_pdk_h3cell&quot;: &quot;89283082817ffff&quot;, &quot;_pdk_line_width&quot;: 1, &quot;cats&quot;: 7, &quot;dogs&quot;: 6, &quot;h3cell&quot;: &quot;89283082817ffff&quot;}, {&quot;_pdk_fill_color&quot;: [245, 206, 66], &quot;_pdk_h3cell&quot;: &quot;892830828cfffff&quot;, &quot;_pdk_line_width&quot;: 1, &quot;cats&quot;: 17, &quot;dogs&quot;: 6, &quot;h3cell&quot;: &quot;892830828cfffff&quot;}, {&quot;_pdk_fill_color&quot;: [245, 206, 66], &quot;_pdk_h3cell&quot;: &quot;8928308280bffff&quot;, &quot;_pdk_line_width&quot;: 1, &quot;cats&quot;: 15, &quot;dogs&quot;: 18, &quot;h3cell&quot;: &quot;8928308280bffff&quot;}, {&quot;_pdk_fill_color&quot;: [245, 206, 66], &quot;_pdk_h3cell&quot;: &quot;89283082873ffff&quot;, &quot;_pdk_line_width&quot;: 1, &quot;cats&quot;: 6, &quot;dogs&quot;: 19, &quot;h3cell&quot;: &quot;89283082873ffff&quot;}, {&quot;_pdk_fill_color&quot;: [245, 206, 66], &quot;_pdk_h3cell&quot;: &quot;8928308288fffff&quot;, &quot;_pdk_line_width&quot;: 1, &quot;cats&quot;: 6, &quot;dogs&quot;: 14, &quot;h3cell&quot;: &quot;8928308288fffff&quot;}, {&quot;_pdk_fill_color&quot;: [245, 206, 66], &quot;_pdk_h3cell&quot;: &quot;89283082877ffff&quot;, &quot;_pdk_line_width&quot;: 1, &quot;cats&quot;: 10, &quot;dogs&quot;: 15, &quot;h3cell&quot;: &quot;89283082877ffff&quot;}, {&quot;_pdk_fill_color&quot;: [245, 206, 66], &quot;_pdk_h3cell&quot;: &quot;892830828c7ffff&quot;, &quot;_pdk_line_width&quot;: 1, &quot;cats&quot;: 19, &quot;dogs&quot;: 18, &quot;h3cell&quot;: &quot;892830828c7ffff&quot;}, {&quot;_pdk_fill_color&quot;: [245, 206, 66], &quot;_pdk_h3cell&quot;: &quot;89283082857ffff&quot;, &quot;_pdk_line_width&quot;: 1, &quot;cats&quot;: 10, &quot;dogs&quot;: 8, &quot;h3cell&quot;: &quot;89283082857ffff&quot;}, {&quot;_pdk_fill_color&quot;: [245, 206, 66], &quot;_pdk_h3cell&quot;: &quot;89283082847ffff&quot;, &quot;_pdk_line_width&quot;: 1, &quot;cats&quot;: 4, &quot;dogs&quot;: 13, &quot;h3cell&quot;: &quot;89283082847ffff&quot;}, {&quot;_pdk_fill_color&quot;: [245, 206, 66], &quot;_pdk_h3cell&quot;: &quot;892830828abffff&quot;, &quot;_pdk_line_width&quot;: 1, &quot;cats&quot;: 4, &quot;dogs&quot;: 11, &quot;h3cell&quot;: &quot;892830828abffff&quot;}, {&quot;_pdk_fill_color&quot;: [245, 206, 66], &quot;_pdk_h3cell&quot;: &quot;8928308288bffff&quot;, &quot;_pdk_line_width&quot;: 1, &quot;cats&quot;: 1, &quot;dogs&quot;: 8, &quot;h3cell&quot;: &quot;8928308288bffff&quot;}], &quot;extruded&quot;: false, &quot;getFillColor&quot;: &quot;@@=_pdk_fill_color&quot;, &quot;getHexagon&quot;: &quot;@@=_pdk_h3cell&quot;, &quot;getLineWidth&quot;: &quot;@@=_pdk_line_width&quot;, &quot;id&quot;: &quot;d4cf09ed-0af4-4ad6-b929-ee4b6c5356fb&quot;, &quot;opacity&quot;: 0.7, &quot;pickable&quot;: true}], &quot;mapProvider&quot;: &quot;mapbox&quot;, &quot;mapStyle&quot;: &quot;mapbox://styles/mapbox/light-v10&quot;, &quot;views&quot;: [{&quot;@@type&quot;: &quot;MapView&quot;, &quot;controller&quot;: true}]};\n",
       "    const MAPBOX_API_KEY = &#x27;pk.eyJ1IjoiYWpmcmllbmQiLCJhIjoiY2pmbmRjczJmMTVkMzJxcW92Y2E4cHZjdCJ9.Jf-gFXU7FOIQxALzPajbdg&#x27;;\n",
       "    const GOOGLE_MAPS_API_KEY = &#x27;None&#x27;;\n",
       "    const tooltip = {&#x27;html&#x27;: &#x27;&lt;b&gt;h3cell&lt;/b&gt;: {h3cell}&lt;br/&gt;&lt;b&gt;cats&lt;/b&gt;: {cats}&lt;br/&gt;&lt;b&gt;dogs&lt;/b&gt;: {dogs}&#x27;};\n",
       "    const customLibraries = null;\n",
       "\n",
       "    const deck = createDeck({\n",
       "      mapboxApiKey: MAPBOX_API_KEY,\n",
       "      googleMapsKey: GOOGLE_MAPS_API_KEY,\n",
       "      container: document.getElementById(&#x27;deck-container&#x27;),\n",
       "      jsonInput,\n",
       "      tooltip,\n",
       "      customLibraries\n",
       "    });\n",
       "\n",
       "  &lt;/script&gt;\n",
       "&lt;/html&gt;\" width=\"100%\" height=500></iframe>"
      ],
      "text/plain": [
       "<IPython.core.display.HTML object>"
      ]
     },
     "execution_count": 4,
     "metadata": {},
     "output_type": "execute_result"
    }
   ],
   "source": [
    "pdh.plot(data['rows'], col_hex='h3cell').to_html()"
   ]
  },
  {
   "cell_type": "code",
   "execution_count": 9,
   "metadata": {},
   "outputs": [
    {
     "data": {
      "text/html": [
       "<iframe src=\"about:blank\" frameborder=\"0\" srcdoc=\"&lt;html&gt;\n",
       "  &lt;head&gt;\n",
       "    &lt;meta http-equiv=&quot;content-type&quot; content=&quot;text/html; charset=UTF-8&quot; /&gt;\n",
       "    &lt;title&gt;pydeck&lt;/title&gt;\n",
       "    &lt;link rel=&quot;stylesheet&quot; href=&quot;https://maxcdn.bootstrapcdn.com/bootstrap/3.2.0/css/bootstrap-theme.min.css&quot; /&gt;\n",
       "    &lt;link rel=&quot;stylesheet&quot; href=&quot;https://maxcdn.bootstrapcdn.com/font-awesome/4.6.3/css/font-awesome.min.css&quot; /&gt;\n",
       "    &lt;script src=&#x27;https://cdn.jsdelivr.net/npm/@deck.gl/jupyter-widget@~8.3.*/dist/index.js&#x27;&gt;&lt;/script&gt;\n",
       "    &lt;style&gt;\n",
       "    body {\n",
       "      margin: 0;\n",
       "      padding: 0;\n",
       "      overflow: hidden;\n",
       "    }\n",
       "\n",
       "    #deck-map-container {\n",
       "      width: 100%;\n",
       "      height: 100%;\n",
       "      background-color: black;\n",
       "    }\n",
       "\n",
       "    #map {\n",
       "      pointer-events: none;\n",
       "      height: 100%;\n",
       "      width: 100%;\n",
       "      position: absolute;\n",
       "      z-index: 1;\n",
       "    }\n",
       "\n",
       "    #deckgl-overlay {\n",
       "      z-index: 2;\n",
       "      background: none;\n",
       "    }\n",
       "\n",
       "    #deck-map-wrapper {\n",
       "      width: 100%;\n",
       "      height: 100%;\n",
       "    }\n",
       "\n",
       "    #deck-container {\n",
       "      width: 100vw;\n",
       "      height: 100vh;\n",
       "    }\n",
       "    &lt;/style&gt;\n",
       "  &lt;/head&gt;\n",
       "  &lt;body&gt;\n",
       "    &lt;div id=&quot;deck-container&quot;&gt;\n",
       "    &lt;/div&gt;\n",
       "  &lt;/body&gt;\n",
       "  &lt;script&gt;\n",
       "    const jsonInput = {&quot;initialViewState&quot;: {&quot;latitude&quot;: 37.77351496212394, &quot;longitude&quot;: -122.41827096231162, &quot;zoom&quot;: 14}, &quot;layers&quot;: [{&quot;@@type&quot;: &quot;H3HexagonLayer&quot;, &quot;data&quot;: [{&quot;_pdk_fill_color&quot;: [254, 197, 96, 255], &quot;_pdk_h3cell&quot;: &quot;89283082807ffff&quot;, &quot;_pdk_line_width&quot;: 1, &quot;cats&quot;: 6, &quot;dogs&quot;: 15, &quot;h3cell&quot;: &quot;89283082807ffff&quot;}, {&quot;_pdk_fill_color&quot;: [255, 255, 204, 255], &quot;_pdk_h3cell&quot;: &quot;89283082833ffff&quot;, &quot;_pdk_line_width&quot;: 1, &quot;cats&quot;: 0, &quot;dogs&quot;: 5, &quot;h3cell&quot;: &quot;89283082833ffff&quot;}, {&quot;_pdk_fill_color&quot;: [152, 0, 38, 255], &quot;_pdk_h3cell&quot;: &quot;8928308283bffff&quot;, &quot;_pdk_line_width&quot;: 1, &quot;cats&quot;: 18, &quot;dogs&quot;: 1, &quot;h3cell&quot;: &quot;8928308283bffff&quot;}, {&quot;_pdk_fill_color&quot;: [128, 0, 38, 255], &quot;_pdk_h3cell&quot;: &quot;892830828bbffff&quot;, &quot;_pdk_line_width&quot;: 1, &quot;cats&quot;: 19, &quot;dogs&quot;: 26, &quot;h3cell&quot;: &quot;892830828bbffff&quot;}, {&quot;_pdk_fill_color&quot;: [250, 75, 41, 255], &quot;_pdk_h3cell&quot;: &quot;8928308280fffff&quot;, &quot;_pdk_line_width&quot;: 1, &quot;cats&quot;: 12, &quot;dogs&quot;: 2, &quot;h3cell&quot;: &quot;8928308280fffff&quot;}, {&quot;_pdk_fill_color&quot;: [255, 247, 186, 255], &quot;_pdk_h3cell&quot;: &quot;8928308281bffff&quot;, &quot;_pdk_line_width&quot;: 1, &quot;cats&quot;: 1, &quot;dogs&quot;: 24, &quot;h3cell&quot;: &quot;8928308281bffff&quot;}, {&quot;_pdk_fill_color&quot;: [254, 223, 132, 255], &quot;_pdk_h3cell&quot;: &quot;89283082813ffff&quot;, &quot;_pdk_line_width&quot;: 1, &quot;cats&quot;: 4, &quot;dogs&quot;: 14, &quot;h3cell&quot;: &quot;89283082813ffff&quot;}, {&quot;_pdk_fill_color&quot;: [255, 240, 168, 255], &quot;_pdk_h3cell&quot;: &quot;89283082803ffff&quot;, &quot;_pdk_line_width&quot;: 1, &quot;cats&quot;: 2, &quot;dogs&quot;: 3, &quot;h3cell&quot;: &quot;89283082803ffff&quot;}, {&quot;_pdk_fill_color&quot;: [254, 179, 78, 255], &quot;_pdk_h3cell&quot;: &quot;89283082817ffff&quot;, &quot;_pdk_line_width&quot;: 1, &quot;cats&quot;: 7, &quot;dogs&quot;: 6, &quot;h3cell&quot;: &quot;89283082817ffff&quot;}, {&quot;_pdk_fill_color&quot;: [177, 0, 38, 255], &quot;_pdk_h3cell&quot;: &quot;892830828cfffff&quot;, &quot;_pdk_line_width&quot;: 1, &quot;cats&quot;: 17, &quot;dogs&quot;: 6, &quot;h3cell&quot;: &quot;892830828cfffff&quot;}, {&quot;_pdk_fill_color&quot;: [214, 17, 31, 255], &quot;_pdk_h3cell&quot;: &quot;8928308280bffff&quot;, &quot;_pdk_line_width&quot;: 1, &quot;cats&quot;: 15, &quot;dogs&quot;: 18, &quot;h3cell&quot;: &quot;8928308280bffff&quot;}, {&quot;_pdk_fill_color&quot;: [254, 197, 96, 255], &quot;_pdk_h3cell&quot;: &quot;89283082873ffff&quot;, &quot;_pdk_line_width&quot;: 1, &quot;cats&quot;: 6, &quot;dogs&quot;: 19, &quot;h3cell&quot;: &quot;89283082873ffff&quot;}, {&quot;_pdk_fill_color&quot;: [254, 197, 96, 255], &quot;_pdk_h3cell&quot;: &quot;8928308288fffff&quot;, &quot;_pdk_line_width&quot;: 1, &quot;cats&quot;: 6, &quot;dogs&quot;: 14, &quot;h3cell&quot;: &quot;8928308288fffff&quot;}, {&quot;_pdk_fill_color&quot;: [252, 128, 56, 255], &quot;_pdk_h3cell&quot;: &quot;89283082877ffff&quot;, &quot;_pdk_line_width&quot;: 1, &quot;cats&quot;: 10, &quot;dogs&quot;: 15, &quot;h3cell&quot;: &quot;89283082877ffff&quot;}, {&quot;_pdk_fill_color&quot;: [128, 0, 38, 255], &quot;_pdk_h3cell&quot;: &quot;892830828c7ffff&quot;, &quot;_pdk_line_width&quot;: 1, &quot;cats&quot;: 19, &quot;dogs&quot;: 18, &quot;h3cell&quot;: &quot;892830828c7ffff&quot;}, {&quot;_pdk_fill_color&quot;: [252, 128, 56, 255], &quot;_pdk_h3cell&quot;: &quot;89283082857ffff&quot;, &quot;_pdk_line_width&quot;: 1, &quot;cats&quot;: 10, &quot;dogs&quot;: 8, &quot;h3cell&quot;: &quot;89283082857ffff&quot;}, {&quot;_pdk_fill_color&quot;: [254, 223, 132, 255], &quot;_pdk_h3cell&quot;: &quot;89283082847ffff&quot;, &quot;_pdk_line_width&quot;: 1, &quot;cats&quot;: 4, &quot;dogs&quot;: 13, &quot;h3cell&quot;: &quot;89283082847ffff&quot;}, {&quot;_pdk_fill_color&quot;: [254, 223, 132, 255], &quot;_pdk_h3cell&quot;: &quot;892830828abffff&quot;, &quot;_pdk_line_width&quot;: 1, &quot;cats&quot;: 4, &quot;dogs&quot;: 11, &quot;h3cell&quot;: &quot;892830828abffff&quot;}, {&quot;_pdk_fill_color&quot;: [255, 247, 186, 255], &quot;_pdk_h3cell&quot;: &quot;8928308288bffff&quot;, &quot;_pdk_line_width&quot;: 1, &quot;cats&quot;: 1, &quot;dogs&quot;: 8, &quot;h3cell&quot;: &quot;8928308288bffff&quot;}], &quot;extruded&quot;: false, &quot;getFillColor&quot;: &quot;@@=_pdk_fill_color&quot;, &quot;getHexagon&quot;: &quot;@@=_pdk_h3cell&quot;, &quot;getLineWidth&quot;: &quot;@@=_pdk_line_width&quot;, &quot;id&quot;: &quot;8429b91f-26b0-4976-88b2-a0defd821c22&quot;, &quot;opacity&quot;: 0.7, &quot;pickable&quot;: true}], &quot;mapProvider&quot;: &quot;mapbox&quot;, &quot;mapStyle&quot;: &quot;mapbox://styles/mapbox/light-v10&quot;, &quot;views&quot;: [{&quot;@@type&quot;: &quot;MapView&quot;, &quot;controller&quot;: true}]};\n",
       "    const MAPBOX_API_KEY = &#x27;pk.eyJ1IjoiYWpmcmllbmQiLCJhIjoiY2pmbmRjczJmMTVkMzJxcW92Y2E4cHZjdCJ9.Jf-gFXU7FOIQxALzPajbdg&#x27;;\n",
       "    const GOOGLE_MAPS_API_KEY = &#x27;None&#x27;;\n",
       "    const tooltip = {&#x27;html&#x27;: &#x27;&lt;b&gt;h3cell&lt;/b&gt;: {h3cell}&lt;br/&gt;&lt;b&gt;cats&lt;/b&gt;: {cats}&lt;br/&gt;&lt;b&gt;dogs&lt;/b&gt;: {dogs}&#x27;};\n",
       "    const customLibraries = null;\n",
       "\n",
       "    const deck = createDeck({\n",
       "      mapboxApiKey: MAPBOX_API_KEY,\n",
       "      googleMapsKey: GOOGLE_MAPS_API_KEY,\n",
       "      container: document.getElementById(&#x27;deck-container&#x27;),\n",
       "      jsonInput,\n",
       "      tooltip,\n",
       "      customLibraries\n",
       "    });\n",
       "\n",
       "  &lt;/script&gt;\n",
       "&lt;/html&gt;\" width=\"100%\" height=500></iframe>"
      ],
      "text/plain": [
       "<IPython.core.display.HTML object>"
      ]
     },
     "execution_count": 9,
     "metadata": {},
     "output_type": "execute_result"
    }
   ],
   "source": [
    "pdh.plot(data['rows'], col_hex='h3cell', color='cats').to_html()"
   ]
  },
  {
   "cell_type": "code",
   "execution_count": 10,
   "metadata": {},
   "outputs": [
    {
     "data": {
      "text/html": [
       "<iframe src=\"about:blank\" frameborder=\"0\" srcdoc=\"&lt;html&gt;\n",
       "  &lt;head&gt;\n",
       "    &lt;meta http-equiv=&quot;content-type&quot; content=&quot;text/html; charset=UTF-8&quot; /&gt;\n",
       "    &lt;title&gt;pydeck&lt;/title&gt;\n",
       "    &lt;link rel=&quot;stylesheet&quot; href=&quot;https://maxcdn.bootstrapcdn.com/bootstrap/3.2.0/css/bootstrap-theme.min.css&quot; /&gt;\n",
       "    &lt;link rel=&quot;stylesheet&quot; href=&quot;https://maxcdn.bootstrapcdn.com/font-awesome/4.6.3/css/font-awesome.min.css&quot; /&gt;\n",
       "    &lt;script src=&#x27;https://cdn.jsdelivr.net/npm/@deck.gl/jupyter-widget@~8.3.*/dist/index.js&#x27;&gt;&lt;/script&gt;\n",
       "    &lt;style&gt;\n",
       "    body {\n",
       "      margin: 0;\n",
       "      padding: 0;\n",
       "      overflow: hidden;\n",
       "    }\n",
       "\n",
       "    #deck-map-container {\n",
       "      width: 100%;\n",
       "      height: 100%;\n",
       "      background-color: black;\n",
       "    }\n",
       "\n",
       "    #map {\n",
       "      pointer-events: none;\n",
       "      height: 100%;\n",
       "      width: 100%;\n",
       "      position: absolute;\n",
       "      z-index: 1;\n",
       "    }\n",
       "\n",
       "    #deckgl-overlay {\n",
       "      z-index: 2;\n",
       "      background: none;\n",
       "    }\n",
       "\n",
       "    #deck-map-wrapper {\n",
       "      width: 100%;\n",
       "      height: 100%;\n",
       "    }\n",
       "\n",
       "    #deck-container {\n",
       "      width: 100vw;\n",
       "      height: 100vh;\n",
       "    }\n",
       "    &lt;/style&gt;\n",
       "  &lt;/head&gt;\n",
       "  &lt;body&gt;\n",
       "    &lt;div id=&quot;deck-container&quot;&gt;\n",
       "    &lt;/div&gt;\n",
       "  &lt;/body&gt;\n",
       "  &lt;script&gt;\n",
       "    const jsonInput = {&quot;initialViewState&quot;: {&quot;latitude&quot;: 37.77351496212394, &quot;longitude&quot;: -122.41827096231162, &quot;pitch&quot;: 45, &quot;zoom&quot;: 14}, &quot;layers&quot;: [{&quot;@@type&quot;: &quot;H3HexagonLayer&quot;, &quot;data&quot;: [{&quot;_pdk_elevation&quot;: 15, &quot;_pdk_fill_color&quot;: [254, 197, 96, 255], &quot;_pdk_h3cell&quot;: &quot;89283082807ffff&quot;, &quot;cats&quot;: 6, &quot;dogs&quot;: 15, &quot;h3cell&quot;: &quot;89283082807ffff&quot;}, {&quot;_pdk_elevation&quot;: 5, &quot;_pdk_fill_color&quot;: [255, 255, 204, 255], &quot;_pdk_h3cell&quot;: &quot;89283082833ffff&quot;, &quot;cats&quot;: 0, &quot;dogs&quot;: 5, &quot;h3cell&quot;: &quot;89283082833ffff&quot;}, {&quot;_pdk_elevation&quot;: 1, &quot;_pdk_fill_color&quot;: [152, 0, 38, 255], &quot;_pdk_h3cell&quot;: &quot;8928308283bffff&quot;, &quot;cats&quot;: 18, &quot;dogs&quot;: 1, &quot;h3cell&quot;: &quot;8928308283bffff&quot;}, {&quot;_pdk_elevation&quot;: 26, &quot;_pdk_fill_color&quot;: [128, 0, 38, 255], &quot;_pdk_h3cell&quot;: &quot;892830828bbffff&quot;, &quot;cats&quot;: 19, &quot;dogs&quot;: 26, &quot;h3cell&quot;: &quot;892830828bbffff&quot;}, {&quot;_pdk_elevation&quot;: 2, &quot;_pdk_fill_color&quot;: [250, 75, 41, 255], &quot;_pdk_h3cell&quot;: &quot;8928308280fffff&quot;, &quot;cats&quot;: 12, &quot;dogs&quot;: 2, &quot;h3cell&quot;: &quot;8928308280fffff&quot;}, {&quot;_pdk_elevation&quot;: 24, &quot;_pdk_fill_color&quot;: [255, 247, 186, 255], &quot;_pdk_h3cell&quot;: &quot;8928308281bffff&quot;, &quot;cats&quot;: 1, &quot;dogs&quot;: 24, &quot;h3cell&quot;: &quot;8928308281bffff&quot;}, {&quot;_pdk_elevation&quot;: 14, &quot;_pdk_fill_color&quot;: [254, 223, 132, 255], &quot;_pdk_h3cell&quot;: &quot;89283082813ffff&quot;, &quot;cats&quot;: 4, &quot;dogs&quot;: 14, &quot;h3cell&quot;: &quot;89283082813ffff&quot;}, {&quot;_pdk_elevation&quot;: 3, &quot;_pdk_fill_color&quot;: [255, 240, 168, 255], &quot;_pdk_h3cell&quot;: &quot;89283082803ffff&quot;, &quot;cats&quot;: 2, &quot;dogs&quot;: 3, &quot;h3cell&quot;: &quot;89283082803ffff&quot;}, {&quot;_pdk_elevation&quot;: 6, &quot;_pdk_fill_color&quot;: [254, 179, 78, 255], &quot;_pdk_h3cell&quot;: &quot;89283082817ffff&quot;, &quot;cats&quot;: 7, &quot;dogs&quot;: 6, &quot;h3cell&quot;: &quot;89283082817ffff&quot;}, {&quot;_pdk_elevation&quot;: 6, &quot;_pdk_fill_color&quot;: [177, 0, 38, 255], &quot;_pdk_h3cell&quot;: &quot;892830828cfffff&quot;, &quot;cats&quot;: 17, &quot;dogs&quot;: 6, &quot;h3cell&quot;: &quot;892830828cfffff&quot;}, {&quot;_pdk_elevation&quot;: 18, &quot;_pdk_fill_color&quot;: [214, 17, 31, 255], &quot;_pdk_h3cell&quot;: &quot;8928308280bffff&quot;, &quot;cats&quot;: 15, &quot;dogs&quot;: 18, &quot;h3cell&quot;: &quot;8928308280bffff&quot;}, {&quot;_pdk_elevation&quot;: 19, &quot;_pdk_fill_color&quot;: [254, 197, 96, 255], &quot;_pdk_h3cell&quot;: &quot;89283082873ffff&quot;, &quot;cats&quot;: 6, &quot;dogs&quot;: 19, &quot;h3cell&quot;: &quot;89283082873ffff&quot;}, {&quot;_pdk_elevation&quot;: 14, &quot;_pdk_fill_color&quot;: [254, 197, 96, 255], &quot;_pdk_h3cell&quot;: &quot;8928308288fffff&quot;, &quot;cats&quot;: 6, &quot;dogs&quot;: 14, &quot;h3cell&quot;: &quot;8928308288fffff&quot;}, {&quot;_pdk_elevation&quot;: 15, &quot;_pdk_fill_color&quot;: [252, 128, 56, 255], &quot;_pdk_h3cell&quot;: &quot;89283082877ffff&quot;, &quot;cats&quot;: 10, &quot;dogs&quot;: 15, &quot;h3cell&quot;: &quot;89283082877ffff&quot;}, {&quot;_pdk_elevation&quot;: 18, &quot;_pdk_fill_color&quot;: [128, 0, 38, 255], &quot;_pdk_h3cell&quot;: &quot;892830828c7ffff&quot;, &quot;cats&quot;: 19, &quot;dogs&quot;: 18, &quot;h3cell&quot;: &quot;892830828c7ffff&quot;}, {&quot;_pdk_elevation&quot;: 8, &quot;_pdk_fill_color&quot;: [252, 128, 56, 255], &quot;_pdk_h3cell&quot;: &quot;89283082857ffff&quot;, &quot;cats&quot;: 10, &quot;dogs&quot;: 8, &quot;h3cell&quot;: &quot;89283082857ffff&quot;}, {&quot;_pdk_elevation&quot;: 13, &quot;_pdk_fill_color&quot;: [254, 223, 132, 255], &quot;_pdk_h3cell&quot;: &quot;89283082847ffff&quot;, &quot;cats&quot;: 4, &quot;dogs&quot;: 13, &quot;h3cell&quot;: &quot;89283082847ffff&quot;}, {&quot;_pdk_elevation&quot;: 11, &quot;_pdk_fill_color&quot;: [254, 223, 132, 255], &quot;_pdk_h3cell&quot;: &quot;892830828abffff&quot;, &quot;cats&quot;: 4, &quot;dogs&quot;: 11, &quot;h3cell&quot;: &quot;892830828abffff&quot;}, {&quot;_pdk_elevation&quot;: 8, &quot;_pdk_fill_color&quot;: [255, 247, 186, 255], &quot;_pdk_h3cell&quot;: &quot;8928308288bffff&quot;, &quot;cats&quot;: 1, &quot;dogs&quot;: 8, &quot;h3cell&quot;: &quot;8928308288bffff&quot;}], &quot;elevationScale&quot;: 20, &quot;extruded&quot;: true, &quot;getElevation&quot;: &quot;@@=_pdk_elevation&quot;, &quot;getFillColor&quot;: &quot;@@=_pdk_fill_color&quot;, &quot;getHexagon&quot;: &quot;@@=_pdk_h3cell&quot;, &quot;id&quot;: &quot;412d8bac-2adc-436e-b2b2-235154513e3c&quot;, &quot;opacity&quot;: 0.7, &quot;pickable&quot;: true, &quot;wireframe&quot;: false}], &quot;mapProvider&quot;: &quot;mapbox&quot;, &quot;mapStyle&quot;: &quot;mapbox://styles/mapbox/light-v10&quot;, &quot;views&quot;: [{&quot;@@type&quot;: &quot;MapView&quot;, &quot;controller&quot;: true}]};\n",
       "    const MAPBOX_API_KEY = &#x27;pk.eyJ1IjoiYWpmcmllbmQiLCJhIjoiY2pmbmRjczJmMTVkMzJxcW92Y2E4cHZjdCJ9.Jf-gFXU7FOIQxALzPajbdg&#x27;;\n",
       "    const GOOGLE_MAPS_API_KEY = &#x27;None&#x27;;\n",
       "    const tooltip = {&#x27;html&#x27;: &#x27;&lt;b&gt;h3cell&lt;/b&gt;: {h3cell}&lt;br/&gt;&lt;b&gt;cats&lt;/b&gt;: {cats}&lt;br/&gt;&lt;b&gt;dogs&lt;/b&gt;: {dogs}&#x27;};\n",
       "    const customLibraries = null;\n",
       "\n",
       "    const deck = createDeck({\n",
       "      mapboxApiKey: MAPBOX_API_KEY,\n",
       "      googleMapsKey: GOOGLE_MAPS_API_KEY,\n",
       "      container: document.getElementById(&#x27;deck-container&#x27;),\n",
       "      jsonInput,\n",
       "      tooltip,\n",
       "      customLibraries\n",
       "    });\n",
       "\n",
       "  &lt;/script&gt;\n",
       "&lt;/html&gt;\" width=\"100%\" height=500></iframe>"
      ],
      "text/plain": [
       "<IPython.core.display.HTML object>"
      ]
     },
     "execution_count": 10,
     "metadata": {},
     "output_type": "execute_result"
    }
   ],
   "source": [
    "pdh.plot(data['rows'], col_hex='h3cell', color='cats', height='dogs').to_html()"
   ]
  },
  {
   "cell_type": "code",
   "execution_count": 10,
   "metadata": {},
   "outputs": [
    {
     "data": {
      "text/html": [
       "<iframe src=\"about:blank\" frameborder=\"0\" srcdoc=\"&lt;html&gt;\n",
       "  &lt;head&gt;\n",
       "    &lt;meta http-equiv=&quot;content-type&quot; content=&quot;text/html; charset=UTF-8&quot; /&gt;\n",
       "    &lt;title&gt;pydeck&lt;/title&gt;\n",
       "    &lt;link rel=&quot;stylesheet&quot; href=&quot;https://maxcdn.bootstrapcdn.com/bootstrap/3.2.0/css/bootstrap-theme.min.css&quot; /&gt;\n",
       "    &lt;link rel=&quot;stylesheet&quot; href=&quot;https://maxcdn.bootstrapcdn.com/font-awesome/4.6.3/css/font-awesome.min.css&quot; /&gt;\n",
       "    &lt;script src=&#x27;https://cdn.jsdelivr.net/npm/@deck.gl/jupyter-widget@~8.3.*/dist/index.js&#x27;&gt;&lt;/script&gt;\n",
       "    &lt;style&gt;\n",
       "    body {\n",
       "      margin: 0;\n",
       "      padding: 0;\n",
       "      overflow: hidden;\n",
       "    }\n",
       "\n",
       "    #deck-map-container {\n",
       "      width: 100%;\n",
       "      height: 100%;\n",
       "      background-color: black;\n",
       "    }\n",
       "\n",
       "    #map {\n",
       "      pointer-events: none;\n",
       "      height: 100%;\n",
       "      width: 100%;\n",
       "      position: absolute;\n",
       "      z-index: 1;\n",
       "    }\n",
       "\n",
       "    #deckgl-overlay {\n",
       "      z-index: 2;\n",
       "      background: none;\n",
       "    }\n",
       "\n",
       "    #deck-map-wrapper {\n",
       "      width: 100%;\n",
       "      height: 100%;\n",
       "    }\n",
       "\n",
       "    #deck-container {\n",
       "      width: 100vw;\n",
       "      height: 100vh;\n",
       "    }\n",
       "    &lt;/style&gt;\n",
       "  &lt;/head&gt;\n",
       "  &lt;body&gt;\n",
       "    &lt;div id=&quot;deck-container&quot;&gt;\n",
       "    &lt;/div&gt;\n",
       "  &lt;/body&gt;\n",
       "  &lt;script&gt;\n",
       "    const jsonInput = {&quot;initialViewState&quot;: {&quot;latitude&quot;: 37.77351496212393, &quot;longitude&quot;: -122.41827096231162, &quot;pitch&quot;: 45, &quot;zoom&quot;: 14}, &quot;layers&quot;: [{&quot;@@type&quot;: &quot;H3HexagonLayer&quot;, &quot;data&quot;: [{&quot;_pdk_elevation&quot;: 6, &quot;_pdk_fill_color&quot;: [254, 197, 96, 255], &quot;_pdk_h3cell&quot;: &quot;89283082807ffff&quot;, &quot;cats&quot;: 6, &quot;dogs&quot;: 15, &quot;h3cell&quot;: &quot;89283082807ffff&quot;}, {&quot;_pdk_elevation&quot;: 0, &quot;_pdk_fill_color&quot;: [255, 255, 204, 255], &quot;_pdk_h3cell&quot;: &quot;89283082833ffff&quot;, &quot;cats&quot;: 0, &quot;dogs&quot;: 5, &quot;h3cell&quot;: &quot;89283082833ffff&quot;}, {&quot;_pdk_elevation&quot;: 18, &quot;_pdk_fill_color&quot;: [152, 0, 38, 255], &quot;_pdk_h3cell&quot;: &quot;8928308283bffff&quot;, &quot;cats&quot;: 18, &quot;dogs&quot;: 1, &quot;h3cell&quot;: &quot;8928308283bffff&quot;}, {&quot;_pdk_elevation&quot;: 19, &quot;_pdk_fill_color&quot;: [128, 0, 38, 255], &quot;_pdk_h3cell&quot;: &quot;892830828bbffff&quot;, &quot;cats&quot;: 19, &quot;dogs&quot;: 26, &quot;h3cell&quot;: &quot;892830828bbffff&quot;}, {&quot;_pdk_elevation&quot;: 12, &quot;_pdk_fill_color&quot;: [250, 75, 41, 255], &quot;_pdk_h3cell&quot;: &quot;8928308280fffff&quot;, &quot;cats&quot;: 12, &quot;dogs&quot;: 2, &quot;h3cell&quot;: &quot;8928308280fffff&quot;}, {&quot;_pdk_elevation&quot;: 1, &quot;_pdk_fill_color&quot;: [255, 247, 186, 255], &quot;_pdk_h3cell&quot;: &quot;8928308281bffff&quot;, &quot;cats&quot;: 1, &quot;dogs&quot;: 24, &quot;h3cell&quot;: &quot;8928308281bffff&quot;}, {&quot;_pdk_elevation&quot;: 4, &quot;_pdk_fill_color&quot;: [254, 223, 132, 255], &quot;_pdk_h3cell&quot;: &quot;89283082813ffff&quot;, &quot;cats&quot;: 4, &quot;dogs&quot;: 14, &quot;h3cell&quot;: &quot;89283082813ffff&quot;}, {&quot;_pdk_elevation&quot;: 2, &quot;_pdk_fill_color&quot;: [255, 240, 168, 255], &quot;_pdk_h3cell&quot;: &quot;89283082803ffff&quot;, &quot;cats&quot;: 2, &quot;dogs&quot;: 3, &quot;h3cell&quot;: &quot;89283082803ffff&quot;}, {&quot;_pdk_elevation&quot;: 7, &quot;_pdk_fill_color&quot;: [254, 179, 78, 255], &quot;_pdk_h3cell&quot;: &quot;89283082817ffff&quot;, &quot;cats&quot;: 7, &quot;dogs&quot;: 6, &quot;h3cell&quot;: &quot;89283082817ffff&quot;}, {&quot;_pdk_elevation&quot;: 17, &quot;_pdk_fill_color&quot;: [177, 0, 38, 255], &quot;_pdk_h3cell&quot;: &quot;892830828cfffff&quot;, &quot;cats&quot;: 17, &quot;dogs&quot;: 6, &quot;h3cell&quot;: &quot;892830828cfffff&quot;}, {&quot;_pdk_elevation&quot;: 15, &quot;_pdk_fill_color&quot;: [214, 17, 31, 255], &quot;_pdk_h3cell&quot;: &quot;8928308280bffff&quot;, &quot;cats&quot;: 15, &quot;dogs&quot;: 18, &quot;h3cell&quot;: &quot;8928308280bffff&quot;}, {&quot;_pdk_elevation&quot;: 6, &quot;_pdk_fill_color&quot;: [254, 197, 96, 255], &quot;_pdk_h3cell&quot;: &quot;89283082873ffff&quot;, &quot;cats&quot;: 6, &quot;dogs&quot;: 19, &quot;h3cell&quot;: &quot;89283082873ffff&quot;}, {&quot;_pdk_elevation&quot;: 6, &quot;_pdk_fill_color&quot;: [254, 197, 96, 255], &quot;_pdk_h3cell&quot;: &quot;8928308288fffff&quot;, &quot;cats&quot;: 6, &quot;dogs&quot;: 14, &quot;h3cell&quot;: &quot;8928308288fffff&quot;}, {&quot;_pdk_elevation&quot;: 10, &quot;_pdk_fill_color&quot;: [252, 128, 56, 255], &quot;_pdk_h3cell&quot;: &quot;89283082877ffff&quot;, &quot;cats&quot;: 10, &quot;dogs&quot;: 15, &quot;h3cell&quot;: &quot;89283082877ffff&quot;}, {&quot;_pdk_elevation&quot;: 19, &quot;_pdk_fill_color&quot;: [128, 0, 38, 255], &quot;_pdk_h3cell&quot;: &quot;892830828c7ffff&quot;, &quot;cats&quot;: 19, &quot;dogs&quot;: 18, &quot;h3cell&quot;: &quot;892830828c7ffff&quot;}, {&quot;_pdk_elevation&quot;: 10, &quot;_pdk_fill_color&quot;: [252, 128, 56, 255], &quot;_pdk_h3cell&quot;: &quot;89283082857ffff&quot;, &quot;cats&quot;: 10, &quot;dogs&quot;: 8, &quot;h3cell&quot;: &quot;89283082857ffff&quot;}, {&quot;_pdk_elevation&quot;: 4, &quot;_pdk_fill_color&quot;: [254, 223, 132, 255], &quot;_pdk_h3cell&quot;: &quot;89283082847ffff&quot;, &quot;cats&quot;: 4, &quot;dogs&quot;: 13, &quot;h3cell&quot;: &quot;89283082847ffff&quot;}, {&quot;_pdk_elevation&quot;: 4, &quot;_pdk_fill_color&quot;: [254, 223, 132, 255], &quot;_pdk_h3cell&quot;: &quot;892830828abffff&quot;, &quot;cats&quot;: 4, &quot;dogs&quot;: 11, &quot;h3cell&quot;: &quot;892830828abffff&quot;}, {&quot;_pdk_elevation&quot;: 1, &quot;_pdk_fill_color&quot;: [255, 247, 186, 255], &quot;_pdk_h3cell&quot;: &quot;8928308288bffff&quot;, &quot;cats&quot;: 1, &quot;dogs&quot;: 8, &quot;h3cell&quot;: &quot;8928308288bffff&quot;}], &quot;elevationScale&quot;: 20, &quot;extruded&quot;: true, &quot;getElevation&quot;: &quot;@@=_pdk_elevation&quot;, &quot;getFillColor&quot;: &quot;@@=_pdk_fill_color&quot;, &quot;getHexagon&quot;: &quot;@@=_pdk_h3cell&quot;, &quot;id&quot;: &quot;05a83943-f7cc-4d2e-b538-1f6cc62b531f&quot;, &quot;opacity&quot;: 0.7, &quot;pickable&quot;: true, &quot;wireframe&quot;: false}], &quot;mapProvider&quot;: &quot;mapbox&quot;, &quot;mapStyle&quot;: &quot;mapbox://styles/mapbox/light-v10&quot;, &quot;views&quot;: [{&quot;@@type&quot;: &quot;MapView&quot;, &quot;controller&quot;: true}]};\n",
       "    const MAPBOX_API_KEY = &#x27;pk.eyJ1IjoiYWpmcmllbmQiLCJhIjoiY2pmbmRjczJmMTVkMzJxcW92Y2E4cHZjdCJ9.Jf-gFXU7FOIQxALzPajbdg&#x27;;\n",
       "    const GOOGLE_MAPS_API_KEY = &#x27;None&#x27;;\n",
       "    const tooltip = {&#x27;html&#x27;: &#x27;&lt;b&gt;h3cell&lt;/b&gt;: {h3cell}&lt;br/&gt;&lt;b&gt;cats&lt;/b&gt;: {cats}&lt;br/&gt;&lt;b&gt;dogs&lt;/b&gt;: {dogs}&#x27;};\n",
       "    const customLibraries = null;\n",
       "\n",
       "    const deck = createDeck({\n",
       "      mapboxApiKey: MAPBOX_API_KEY,\n",
       "      googleMapsKey: GOOGLE_MAPS_API_KEY,\n",
       "      container: document.getElementById(&#x27;deck-container&#x27;),\n",
       "      jsonInput,\n",
       "      tooltip,\n",
       "      customLibraries\n",
       "    });\n",
       "\n",
       "  &lt;/script&gt;\n",
       "&lt;/html&gt;\" width=\"100%\" height=500></iframe>"
      ],
      "text/plain": [
       "<IPython.core.display.HTML object>"
      ]
     },
     "execution_count": 10,
     "metadata": {},
     "output_type": "execute_result"
    }
   ],
   "source": [
    "pdh.plot(data['df'], col_hex='h3cell', color='cats', height='cats').to_html()"
   ]
  },
  {
   "cell_type": "code",
   "execution_count": 11,
   "metadata": {},
   "outputs": [
    {
     "data": {
      "text/html": [
       "<iframe src=\"about:blank\" frameborder=\"0\" srcdoc=\"&lt;html&gt;\n",
       "  &lt;head&gt;\n",
       "    &lt;meta http-equiv=&quot;content-type&quot; content=&quot;text/html; charset=UTF-8&quot; /&gt;\n",
       "    &lt;title&gt;pydeck&lt;/title&gt;\n",
       "    &lt;link rel=&quot;stylesheet&quot; href=&quot;https://maxcdn.bootstrapcdn.com/bootstrap/3.2.0/css/bootstrap-theme.min.css&quot; /&gt;\n",
       "    &lt;link rel=&quot;stylesheet&quot; href=&quot;https://maxcdn.bootstrapcdn.com/font-awesome/4.6.3/css/font-awesome.min.css&quot; /&gt;\n",
       "    &lt;script src=&#x27;https://cdn.jsdelivr.net/npm/@deck.gl/jupyter-widget@~8.3.*/dist/index.js&#x27;&gt;&lt;/script&gt;\n",
       "    &lt;style&gt;\n",
       "    body {\n",
       "      margin: 0;\n",
       "      padding: 0;\n",
       "      overflow: hidden;\n",
       "    }\n",
       "\n",
       "    #deck-map-container {\n",
       "      width: 100%;\n",
       "      height: 100%;\n",
       "      background-color: black;\n",
       "    }\n",
       "\n",
       "    #map {\n",
       "      pointer-events: none;\n",
       "      height: 100%;\n",
       "      width: 100%;\n",
       "      position: absolute;\n",
       "      z-index: 1;\n",
       "    }\n",
       "\n",
       "    #deckgl-overlay {\n",
       "      z-index: 2;\n",
       "      background: none;\n",
       "    }\n",
       "\n",
       "    #deck-map-wrapper {\n",
       "      width: 100%;\n",
       "      height: 100%;\n",
       "    }\n",
       "\n",
       "    #deck-container {\n",
       "      width: 100vw;\n",
       "      height: 100vh;\n",
       "    }\n",
       "    &lt;/style&gt;\n",
       "  &lt;/head&gt;\n",
       "  &lt;body&gt;\n",
       "    &lt;div id=&quot;deck-container&quot;&gt;\n",
       "    &lt;/div&gt;\n",
       "  &lt;/body&gt;\n",
       "  &lt;script&gt;\n",
       "    const jsonInput = {&quot;initialViewState&quot;: {&quot;latitude&quot;: 37.77351496212393, &quot;longitude&quot;: -122.41827096231162, &quot;zoom&quot;: 14}, &quot;layers&quot;: [{&quot;@@type&quot;: &quot;H3HexagonLayer&quot;, &quot;data&quot;: [{&quot;_pdk_fill_color&quot;: [245, 206, 66], &quot;_pdk_h3cell&quot;: &quot;89283082833ffff&quot;, &quot;_pdk_line_width&quot;: 1, &quot;h3cell&quot;: &quot;89283082833ffff&quot;}, {&quot;_pdk_fill_color&quot;: [245, 206, 66], &quot;_pdk_h3cell&quot;: &quot;89283082873ffff&quot;, &quot;_pdk_line_width&quot;: 1, &quot;h3cell&quot;: &quot;89283082873ffff&quot;}, {&quot;_pdk_fill_color&quot;: [245, 206, 66], &quot;_pdk_h3cell&quot;: &quot;8928308280fffff&quot;, &quot;_pdk_line_width&quot;: 1, &quot;h3cell&quot;: &quot;8928308280fffff&quot;}, {&quot;_pdk_fill_color&quot;: [245, 206, 66], &quot;_pdk_h3cell&quot;: &quot;892830828c7ffff&quot;, &quot;_pdk_line_width&quot;: 1, &quot;h3cell&quot;: &quot;892830828c7ffff&quot;}, {&quot;_pdk_fill_color&quot;: [245, 206, 66], &quot;_pdk_h3cell&quot;: &quot;8928308280bffff&quot;, &quot;_pdk_line_width&quot;: 1, &quot;h3cell&quot;: &quot;8928308280bffff&quot;}, {&quot;_pdk_fill_color&quot;: [245, 206, 66], &quot;_pdk_h3cell&quot;: &quot;89283082877ffff&quot;, &quot;_pdk_line_width&quot;: 1, &quot;h3cell&quot;: &quot;89283082877ffff&quot;}, {&quot;_pdk_fill_color&quot;: [245, 206, 66], &quot;_pdk_h3cell&quot;: &quot;89283082817ffff&quot;, &quot;_pdk_line_width&quot;: 1, &quot;h3cell&quot;: &quot;89283082817ffff&quot;}, {&quot;_pdk_fill_color&quot;: [245, 206, 66], &quot;_pdk_h3cell&quot;: &quot;892830828abffff&quot;, &quot;_pdk_line_width&quot;: 1, &quot;h3cell&quot;: &quot;892830828abffff&quot;}, {&quot;_pdk_fill_color&quot;: [245, 206, 66], &quot;_pdk_h3cell&quot;: &quot;89283082847ffff&quot;, &quot;_pdk_line_width&quot;: 1, &quot;h3cell&quot;: &quot;89283082847ffff&quot;}, {&quot;_pdk_fill_color&quot;: [245, 206, 66], &quot;_pdk_h3cell&quot;: &quot;892830828bbffff&quot;, &quot;_pdk_line_width&quot;: 1, &quot;h3cell&quot;: &quot;892830828bbffff&quot;}, {&quot;_pdk_fill_color&quot;: [245, 206, 66], &quot;_pdk_h3cell&quot;: &quot;892830828cfffff&quot;, &quot;_pdk_line_width&quot;: 1, &quot;h3cell&quot;: &quot;892830828cfffff&quot;}, {&quot;_pdk_fill_color&quot;: [245, 206, 66], &quot;_pdk_h3cell&quot;: &quot;8928308283bffff&quot;, &quot;_pdk_line_width&quot;: 1, &quot;h3cell&quot;: &quot;8928308283bffff&quot;}, {&quot;_pdk_fill_color&quot;: [245, 206, 66], &quot;_pdk_h3cell&quot;: &quot;8928308288fffff&quot;, &quot;_pdk_line_width&quot;: 1, &quot;h3cell&quot;: &quot;8928308288fffff&quot;}, {&quot;_pdk_fill_color&quot;: [245, 206, 66], &quot;_pdk_h3cell&quot;: &quot;89283082807ffff&quot;, &quot;_pdk_line_width&quot;: 1, &quot;h3cell&quot;: &quot;89283082807ffff&quot;}, {&quot;_pdk_fill_color&quot;: [245, 206, 66], &quot;_pdk_h3cell&quot;: &quot;89283082803ffff&quot;, &quot;_pdk_line_width&quot;: 1, &quot;h3cell&quot;: &quot;89283082803ffff&quot;}, {&quot;_pdk_fill_color&quot;: [245, 206, 66], &quot;_pdk_h3cell&quot;: &quot;89283082857ffff&quot;, &quot;_pdk_line_width&quot;: 1, &quot;h3cell&quot;: &quot;89283082857ffff&quot;}, {&quot;_pdk_fill_color&quot;: [245, 206, 66], &quot;_pdk_h3cell&quot;: &quot;8928308288bffff&quot;, &quot;_pdk_line_width&quot;: 1, &quot;h3cell&quot;: &quot;8928308288bffff&quot;}, {&quot;_pdk_fill_color&quot;: [245, 206, 66], &quot;_pdk_h3cell&quot;: &quot;89283082813ffff&quot;, &quot;_pdk_line_width&quot;: 1, &quot;h3cell&quot;: &quot;89283082813ffff&quot;}, {&quot;_pdk_fill_color&quot;: [245, 206, 66], &quot;_pdk_h3cell&quot;: &quot;8928308281bffff&quot;, &quot;_pdk_line_width&quot;: 1, &quot;h3cell&quot;: &quot;8928308281bffff&quot;}], &quot;extruded&quot;: false, &quot;getFillColor&quot;: &quot;@@=_pdk_fill_color&quot;, &quot;getHexagon&quot;: &quot;@@=_pdk_h3cell&quot;, &quot;getLineWidth&quot;: &quot;@@=_pdk_line_width&quot;, &quot;id&quot;: &quot;a9b1c2e3-6787-4ded-8a4b-1c3051b8b0b8&quot;, &quot;opacity&quot;: 0.7, &quot;pickable&quot;: true}], &quot;mapProvider&quot;: &quot;mapbox&quot;, &quot;mapStyle&quot;: &quot;mapbox://styles/mapbox/light-v10&quot;, &quot;views&quot;: [{&quot;@@type&quot;: &quot;MapView&quot;, &quot;controller&quot;: true}]};\n",
       "    const MAPBOX_API_KEY = &#x27;pk.eyJ1IjoiYWpmcmllbmQiLCJhIjoiY2pmbmRjczJmMTVkMzJxcW92Y2E4cHZjdCJ9.Jf-gFXU7FOIQxALzPajbdg&#x27;;\n",
       "    const GOOGLE_MAPS_API_KEY = &#x27;None&#x27;;\n",
       "    const tooltip = {&#x27;html&#x27;: &#x27;&lt;b&gt;h3cell&lt;/b&gt;: {h3cell}&#x27;};\n",
       "    const customLibraries = null;\n",
       "\n",
       "    const deck = createDeck({\n",
       "      mapboxApiKey: MAPBOX_API_KEY,\n",
       "      googleMapsKey: GOOGLE_MAPS_API_KEY,\n",
       "      container: document.getElementById(&#x27;deck-container&#x27;),\n",
       "      jsonInput,\n",
       "      tooltip,\n",
       "      customLibraries\n",
       "    });\n",
       "\n",
       "  &lt;/script&gt;\n",
       "&lt;/html&gt;\" width=\"100%\" height=500></iframe>"
      ],
      "text/plain": [
       "<IPython.core.display.HTML object>"
      ]
     },
     "execution_count": 11,
     "metadata": {},
     "output_type": "execute_result"
    }
   ],
   "source": [
    "pdh.plot(data['hexset']).to_html()"
   ]
  },
  {
   "cell_type": "code",
   "execution_count": 12,
   "metadata": {},
   "outputs": [
    {
     "data": {
      "text/html": [
       "<iframe src=\"about:blank\" frameborder=\"0\" srcdoc=\"&lt;html&gt;\n",
       "  &lt;head&gt;\n",
       "    &lt;meta http-equiv=&quot;content-type&quot; content=&quot;text/html; charset=UTF-8&quot; /&gt;\n",
       "    &lt;title&gt;pydeck&lt;/title&gt;\n",
       "    &lt;link rel=&quot;stylesheet&quot; href=&quot;https://maxcdn.bootstrapcdn.com/bootstrap/3.2.0/css/bootstrap-theme.min.css&quot; /&gt;\n",
       "    &lt;link rel=&quot;stylesheet&quot; href=&quot;https://maxcdn.bootstrapcdn.com/font-awesome/4.6.3/css/font-awesome.min.css&quot; /&gt;\n",
       "    &lt;script src=&#x27;https://cdn.jsdelivr.net/npm/@deck.gl/jupyter-widget@~8.3.*/dist/index.js&#x27;&gt;&lt;/script&gt;\n",
       "    &lt;style&gt;\n",
       "    body {\n",
       "      margin: 0;\n",
       "      padding: 0;\n",
       "      overflow: hidden;\n",
       "    }\n",
       "\n",
       "    #deck-map-container {\n",
       "      width: 100%;\n",
       "      height: 100%;\n",
       "      background-color: black;\n",
       "    }\n",
       "\n",
       "    #map {\n",
       "      pointer-events: none;\n",
       "      height: 100%;\n",
       "      width: 100%;\n",
       "      position: absolute;\n",
       "      z-index: 1;\n",
       "    }\n",
       "\n",
       "    #deckgl-overlay {\n",
       "      z-index: 2;\n",
       "      background: none;\n",
       "    }\n",
       "\n",
       "    #deck-map-wrapper {\n",
       "      width: 100%;\n",
       "      height: 100%;\n",
       "    }\n",
       "\n",
       "    #deck-container {\n",
       "      width: 100vw;\n",
       "      height: 100vh;\n",
       "    }\n",
       "    &lt;/style&gt;\n",
       "  &lt;/head&gt;\n",
       "  &lt;body&gt;\n",
       "    &lt;div id=&quot;deck-container&quot;&gt;\n",
       "    &lt;/div&gt;\n",
       "  &lt;/body&gt;\n",
       "  &lt;script&gt;\n",
       "    const jsonInput = {&quot;initialViewState&quot;: {&quot;latitude&quot;: 37.77351496212393, &quot;longitude&quot;: -122.41827096231162, &quot;zoom&quot;: 14}, &quot;layers&quot;: [{&quot;@@type&quot;: &quot;H3HexagonLayer&quot;, &quot;data&quot;: [{&quot;_pdk_fill_color&quot;: [254, 197, 96, 255], &quot;_pdk_h3cell&quot;: &quot;89283082807ffff&quot;, &quot;_pdk_line_width&quot;: 1, &quot;h3cell&quot;: &quot;89283082807ffff&quot;, &quot;value&quot;: 6}, {&quot;_pdk_fill_color&quot;: [255, 255, 204, 255], &quot;_pdk_h3cell&quot;: &quot;89283082833ffff&quot;, &quot;_pdk_line_width&quot;: 1, &quot;h3cell&quot;: &quot;89283082833ffff&quot;, &quot;value&quot;: 0}, {&quot;_pdk_fill_color&quot;: [152, 0, 38, 255], &quot;_pdk_h3cell&quot;: &quot;8928308283bffff&quot;, &quot;_pdk_line_width&quot;: 1, &quot;h3cell&quot;: &quot;8928308283bffff&quot;, &quot;value&quot;: 18}, {&quot;_pdk_fill_color&quot;: [128, 0, 38, 255], &quot;_pdk_h3cell&quot;: &quot;892830828bbffff&quot;, &quot;_pdk_line_width&quot;: 1, &quot;h3cell&quot;: &quot;892830828bbffff&quot;, &quot;value&quot;: 19}, {&quot;_pdk_fill_color&quot;: [250, 75, 41, 255], &quot;_pdk_h3cell&quot;: &quot;8928308280fffff&quot;, &quot;_pdk_line_width&quot;: 1, &quot;h3cell&quot;: &quot;8928308280fffff&quot;, &quot;value&quot;: 12}, {&quot;_pdk_fill_color&quot;: [255, 247, 186, 255], &quot;_pdk_h3cell&quot;: &quot;8928308281bffff&quot;, &quot;_pdk_line_width&quot;: 1, &quot;h3cell&quot;: &quot;8928308281bffff&quot;, &quot;value&quot;: 1}, {&quot;_pdk_fill_color&quot;: [254, 223, 132, 255], &quot;_pdk_h3cell&quot;: &quot;89283082813ffff&quot;, &quot;_pdk_line_width&quot;: 1, &quot;h3cell&quot;: &quot;89283082813ffff&quot;, &quot;value&quot;: 4}, {&quot;_pdk_fill_color&quot;: [255, 240, 168, 255], &quot;_pdk_h3cell&quot;: &quot;89283082803ffff&quot;, &quot;_pdk_line_width&quot;: 1, &quot;h3cell&quot;: &quot;89283082803ffff&quot;, &quot;value&quot;: 2}, {&quot;_pdk_fill_color&quot;: [254, 179, 78, 255], &quot;_pdk_h3cell&quot;: &quot;89283082817ffff&quot;, &quot;_pdk_line_width&quot;: 1, &quot;h3cell&quot;: &quot;89283082817ffff&quot;, &quot;value&quot;: 7}, {&quot;_pdk_fill_color&quot;: [177, 0, 38, 255], &quot;_pdk_h3cell&quot;: &quot;892830828cfffff&quot;, &quot;_pdk_line_width&quot;: 1, &quot;h3cell&quot;: &quot;892830828cfffff&quot;, &quot;value&quot;: 17}, {&quot;_pdk_fill_color&quot;: [214, 17, 31, 255], &quot;_pdk_h3cell&quot;: &quot;8928308280bffff&quot;, &quot;_pdk_line_width&quot;: 1, &quot;h3cell&quot;: &quot;8928308280bffff&quot;, &quot;value&quot;: 15}, {&quot;_pdk_fill_color&quot;: [254, 197, 96, 255], &quot;_pdk_h3cell&quot;: &quot;89283082873ffff&quot;, &quot;_pdk_line_width&quot;: 1, &quot;h3cell&quot;: &quot;89283082873ffff&quot;, &quot;value&quot;: 6}, {&quot;_pdk_fill_color&quot;: [254, 197, 96, 255], &quot;_pdk_h3cell&quot;: &quot;8928308288fffff&quot;, &quot;_pdk_line_width&quot;: 1, &quot;h3cell&quot;: &quot;8928308288fffff&quot;, &quot;value&quot;: 6}, {&quot;_pdk_fill_color&quot;: [252, 128, 56, 255], &quot;_pdk_h3cell&quot;: &quot;89283082877ffff&quot;, &quot;_pdk_line_width&quot;: 1, &quot;h3cell&quot;: &quot;89283082877ffff&quot;, &quot;value&quot;: 10}, {&quot;_pdk_fill_color&quot;: [128, 0, 38, 255], &quot;_pdk_h3cell&quot;: &quot;892830828c7ffff&quot;, &quot;_pdk_line_width&quot;: 1, &quot;h3cell&quot;: &quot;892830828c7ffff&quot;, &quot;value&quot;: 19}, {&quot;_pdk_fill_color&quot;: [252, 128, 56, 255], &quot;_pdk_h3cell&quot;: &quot;89283082857ffff&quot;, &quot;_pdk_line_width&quot;: 1, &quot;h3cell&quot;: &quot;89283082857ffff&quot;, &quot;value&quot;: 10}, {&quot;_pdk_fill_color&quot;: [254, 223, 132, 255], &quot;_pdk_h3cell&quot;: &quot;89283082847ffff&quot;, &quot;_pdk_line_width&quot;: 1, &quot;h3cell&quot;: &quot;89283082847ffff&quot;, &quot;value&quot;: 4}, {&quot;_pdk_fill_color&quot;: [254, 223, 132, 255], &quot;_pdk_h3cell&quot;: &quot;892830828abffff&quot;, &quot;_pdk_line_width&quot;: 1, &quot;h3cell&quot;: &quot;892830828abffff&quot;, &quot;value&quot;: 4}, {&quot;_pdk_fill_color&quot;: [255, 247, 186, 255], &quot;_pdk_h3cell&quot;: &quot;8928308288bffff&quot;, &quot;_pdk_line_width&quot;: 1, &quot;h3cell&quot;: &quot;8928308288bffff&quot;, &quot;value&quot;: 1}], &quot;extruded&quot;: false, &quot;getFillColor&quot;: &quot;@@=_pdk_fill_color&quot;, &quot;getHexagon&quot;: &quot;@@=_pdk_h3cell&quot;, &quot;getLineWidth&quot;: &quot;@@=_pdk_line_width&quot;, &quot;id&quot;: &quot;037a6a08-a23b-4dd3-8e87-91a3760f01cd&quot;, &quot;opacity&quot;: 0.7, &quot;pickable&quot;: true}], &quot;mapProvider&quot;: &quot;mapbox&quot;, &quot;mapStyle&quot;: &quot;mapbox://styles/mapbox/light-v10&quot;, &quot;views&quot;: [{&quot;@@type&quot;: &quot;MapView&quot;, &quot;controller&quot;: true}]};\n",
       "    const MAPBOX_API_KEY = &#x27;pk.eyJ1IjoiYWpmcmllbmQiLCJhIjoiY2pmbmRjczJmMTVkMzJxcW92Y2E4cHZjdCJ9.Jf-gFXU7FOIQxALzPajbdg&#x27;;\n",
       "    const GOOGLE_MAPS_API_KEY = &#x27;None&#x27;;\n",
       "    const tooltip = {&#x27;html&#x27;: &#x27;&lt;b&gt;h3cell&lt;/b&gt;: {h3cell}&lt;br/&gt;&lt;b&gt;value&lt;/b&gt;: {value}&#x27;};\n",
       "    const customLibraries = null;\n",
       "\n",
       "    const deck = createDeck({\n",
       "      mapboxApiKey: MAPBOX_API_KEY,\n",
       "      googleMapsKey: GOOGLE_MAPS_API_KEY,\n",
       "      container: document.getElementById(&#x27;deck-container&#x27;),\n",
       "      jsonInput,\n",
       "      tooltip,\n",
       "      customLibraries\n",
       "    });\n",
       "\n",
       "  &lt;/script&gt;\n",
       "&lt;/html&gt;\" width=\"100%\" height=500></iframe>"
      ],
      "text/plain": [
       "<IPython.core.display.HTML object>"
      ]
     },
     "execution_count": 12,
     "metadata": {},
     "output_type": "execute_result"
    }
   ],
   "source": [
    "pdh.plot(data['series']).to_html()"
   ]
  },
  {
   "cell_type": "code",
   "execution_count": 13,
   "metadata": {},
   "outputs": [
    {
     "data": {
      "text/html": [
       "<iframe src=\"about:blank\" frameborder=\"0\" srcdoc=\"&lt;html&gt;\n",
       "  &lt;head&gt;\n",
       "    &lt;meta http-equiv=&quot;content-type&quot; content=&quot;text/html; charset=UTF-8&quot; /&gt;\n",
       "    &lt;title&gt;pydeck&lt;/title&gt;\n",
       "    &lt;link rel=&quot;stylesheet&quot; href=&quot;https://maxcdn.bootstrapcdn.com/bootstrap/3.2.0/css/bootstrap-theme.min.css&quot; /&gt;\n",
       "    &lt;link rel=&quot;stylesheet&quot; href=&quot;https://maxcdn.bootstrapcdn.com/font-awesome/4.6.3/css/font-awesome.min.css&quot; /&gt;\n",
       "    &lt;script src=&#x27;https://cdn.jsdelivr.net/npm/@deck.gl/jupyter-widget@~8.3.*/dist/index.js&#x27;&gt;&lt;/script&gt;\n",
       "    &lt;style&gt;\n",
       "    body {\n",
       "      margin: 0;\n",
       "      padding: 0;\n",
       "      overflow: hidden;\n",
       "    }\n",
       "\n",
       "    #deck-map-container {\n",
       "      width: 100%;\n",
       "      height: 100%;\n",
       "      background-color: black;\n",
       "    }\n",
       "\n",
       "    #map {\n",
       "      pointer-events: none;\n",
       "      height: 100%;\n",
       "      width: 100%;\n",
       "      position: absolute;\n",
       "      z-index: 1;\n",
       "    }\n",
       "\n",
       "    #deckgl-overlay {\n",
       "      z-index: 2;\n",
       "      background: none;\n",
       "    }\n",
       "\n",
       "    #deck-map-wrapper {\n",
       "      width: 100%;\n",
       "      height: 100%;\n",
       "    }\n",
       "\n",
       "    #deck-container {\n",
       "      width: 100vw;\n",
       "      height: 100vh;\n",
       "    }\n",
       "    &lt;/style&gt;\n",
       "  &lt;/head&gt;\n",
       "  &lt;body&gt;\n",
       "    &lt;div id=&quot;deck-container&quot;&gt;\n",
       "    &lt;/div&gt;\n",
       "  &lt;/body&gt;\n",
       "  &lt;script&gt;\n",
       "    const jsonInput = {&quot;initialViewState&quot;: {&quot;latitude&quot;: 37.77351496212393, &quot;longitude&quot;: -122.41827096231162, &quot;zoom&quot;: 14}, &quot;layers&quot;: [{&quot;@@type&quot;: &quot;H3HexagonLayer&quot;, &quot;data&quot;: [{&quot;_pdk_fill_color&quot;: [254, 197, 96, 255], &quot;_pdk_h3cell&quot;: &quot;89283082807ffff&quot;, &quot;_pdk_line_width&quot;: 1, &quot;h3cell&quot;: &quot;89283082807ffff&quot;, &quot;value&quot;: 6}, {&quot;_pdk_fill_color&quot;: [255, 255, 204, 255], &quot;_pdk_h3cell&quot;: &quot;89283082833ffff&quot;, &quot;_pdk_line_width&quot;: 1, &quot;h3cell&quot;: &quot;89283082833ffff&quot;, &quot;value&quot;: 0}, {&quot;_pdk_fill_color&quot;: [152, 0, 38, 255], &quot;_pdk_h3cell&quot;: &quot;8928308283bffff&quot;, &quot;_pdk_line_width&quot;: 1, &quot;h3cell&quot;: &quot;8928308283bffff&quot;, &quot;value&quot;: 18}, {&quot;_pdk_fill_color&quot;: [128, 0, 38, 255], &quot;_pdk_h3cell&quot;: &quot;892830828bbffff&quot;, &quot;_pdk_line_width&quot;: 1, &quot;h3cell&quot;: &quot;892830828bbffff&quot;, &quot;value&quot;: 19}, {&quot;_pdk_fill_color&quot;: [250, 75, 41, 255], &quot;_pdk_h3cell&quot;: &quot;8928308280fffff&quot;, &quot;_pdk_line_width&quot;: 1, &quot;h3cell&quot;: &quot;8928308280fffff&quot;, &quot;value&quot;: 12}, {&quot;_pdk_fill_color&quot;: [255, 247, 186, 255], &quot;_pdk_h3cell&quot;: &quot;8928308281bffff&quot;, &quot;_pdk_line_width&quot;: 1, &quot;h3cell&quot;: &quot;8928308281bffff&quot;, &quot;value&quot;: 1}, {&quot;_pdk_fill_color&quot;: [254, 223, 132, 255], &quot;_pdk_h3cell&quot;: &quot;89283082813ffff&quot;, &quot;_pdk_line_width&quot;: 1, &quot;h3cell&quot;: &quot;89283082813ffff&quot;, &quot;value&quot;: 4}, {&quot;_pdk_fill_color&quot;: [255, 240, 168, 255], &quot;_pdk_h3cell&quot;: &quot;89283082803ffff&quot;, &quot;_pdk_line_width&quot;: 1, &quot;h3cell&quot;: &quot;89283082803ffff&quot;, &quot;value&quot;: 2}, {&quot;_pdk_fill_color&quot;: [254, 179, 78, 255], &quot;_pdk_h3cell&quot;: &quot;89283082817ffff&quot;, &quot;_pdk_line_width&quot;: 1, &quot;h3cell&quot;: &quot;89283082817ffff&quot;, &quot;value&quot;: 7}, {&quot;_pdk_fill_color&quot;: [177, 0, 38, 255], &quot;_pdk_h3cell&quot;: &quot;892830828cfffff&quot;, &quot;_pdk_line_width&quot;: 1, &quot;h3cell&quot;: &quot;892830828cfffff&quot;, &quot;value&quot;: 17}, {&quot;_pdk_fill_color&quot;: [214, 17, 31, 255], &quot;_pdk_h3cell&quot;: &quot;8928308280bffff&quot;, &quot;_pdk_line_width&quot;: 1, &quot;h3cell&quot;: &quot;8928308280bffff&quot;, &quot;value&quot;: 15}, {&quot;_pdk_fill_color&quot;: [254, 197, 96, 255], &quot;_pdk_h3cell&quot;: &quot;89283082873ffff&quot;, &quot;_pdk_line_width&quot;: 1, &quot;h3cell&quot;: &quot;89283082873ffff&quot;, &quot;value&quot;: 6}, {&quot;_pdk_fill_color&quot;: [254, 197, 96, 255], &quot;_pdk_h3cell&quot;: &quot;8928308288fffff&quot;, &quot;_pdk_line_width&quot;: 1, &quot;h3cell&quot;: &quot;8928308288fffff&quot;, &quot;value&quot;: 6}, {&quot;_pdk_fill_color&quot;: [252, 128, 56, 255], &quot;_pdk_h3cell&quot;: &quot;89283082877ffff&quot;, &quot;_pdk_line_width&quot;: 1, &quot;h3cell&quot;: &quot;89283082877ffff&quot;, &quot;value&quot;: 10}, {&quot;_pdk_fill_color&quot;: [128, 0, 38, 255], &quot;_pdk_h3cell&quot;: &quot;892830828c7ffff&quot;, &quot;_pdk_line_width&quot;: 1, &quot;h3cell&quot;: &quot;892830828c7ffff&quot;, &quot;value&quot;: 19}, {&quot;_pdk_fill_color&quot;: [252, 128, 56, 255], &quot;_pdk_h3cell&quot;: &quot;89283082857ffff&quot;, &quot;_pdk_line_width&quot;: 1, &quot;h3cell&quot;: &quot;89283082857ffff&quot;, &quot;value&quot;: 10}, {&quot;_pdk_fill_color&quot;: [254, 223, 132, 255], &quot;_pdk_h3cell&quot;: &quot;89283082847ffff&quot;, &quot;_pdk_line_width&quot;: 1, &quot;h3cell&quot;: &quot;89283082847ffff&quot;, &quot;value&quot;: 4}, {&quot;_pdk_fill_color&quot;: [254, 223, 132, 255], &quot;_pdk_h3cell&quot;: &quot;892830828abffff&quot;, &quot;_pdk_line_width&quot;: 1, &quot;h3cell&quot;: &quot;892830828abffff&quot;, &quot;value&quot;: 4}, {&quot;_pdk_fill_color&quot;: [255, 247, 186, 255], &quot;_pdk_h3cell&quot;: &quot;8928308288bffff&quot;, &quot;_pdk_line_width&quot;: 1, &quot;h3cell&quot;: &quot;8928308288bffff&quot;, &quot;value&quot;: 1}], &quot;extruded&quot;: false, &quot;getFillColor&quot;: &quot;@@=_pdk_fill_color&quot;, &quot;getHexagon&quot;: &quot;@@=_pdk_h3cell&quot;, &quot;getLineWidth&quot;: &quot;@@=_pdk_line_width&quot;, &quot;id&quot;: &quot;1627ab6f-cbde-452e-90a7-23674cb408c3&quot;, &quot;opacity&quot;: 0.7, &quot;pickable&quot;: true}], &quot;mapProvider&quot;: &quot;mapbox&quot;, &quot;mapStyle&quot;: &quot;mapbox://styles/mapbox/light-v10&quot;, &quot;views&quot;: [{&quot;@@type&quot;: &quot;MapView&quot;, &quot;controller&quot;: true}]};\n",
       "    const MAPBOX_API_KEY = &#x27;pk.eyJ1IjoiYWpmcmllbmQiLCJhIjoiY2pmbmRjczJmMTVkMzJxcW92Y2E4cHZjdCJ9.Jf-gFXU7FOIQxALzPajbdg&#x27;;\n",
       "    const GOOGLE_MAPS_API_KEY = &#x27;None&#x27;;\n",
       "    const tooltip = {&#x27;html&#x27;: &#x27;&lt;b&gt;h3cell&lt;/b&gt;: {h3cell}&lt;br/&gt;&lt;b&gt;value&lt;/b&gt;: {value}&#x27;};\n",
       "    const customLibraries = null;\n",
       "\n",
       "    const deck = createDeck({\n",
       "      mapboxApiKey: MAPBOX_API_KEY,\n",
       "      googleMapsKey: GOOGLE_MAPS_API_KEY,\n",
       "      container: document.getElementById(&#x27;deck-container&#x27;),\n",
       "      jsonInput,\n",
       "      tooltip,\n",
       "      customLibraries\n",
       "    });\n",
       "\n",
       "  &lt;/script&gt;\n",
       "&lt;/html&gt;\" width=\"100%\" height=500></iframe>"
      ],
      "text/plain": [
       "<IPython.core.display.HTML object>"
      ]
     },
     "execution_count": 13,
     "metadata": {},
     "output_type": "execute_result"
    }
   ],
   "source": [
    "pdh.plot(data['hexdict']).to_html()"
   ]
  },
  {
   "cell_type": "code",
   "execution_count": null,
   "metadata": {},
   "outputs": [],
   "source": []
  }
 ],
 "metadata": {
  "kernelspec": {
   "display_name": "Python 3",
   "language": "python",
   "name": "python3"
  },
  "language_info": {
   "codemirror_mode": {
    "name": "ipython",
    "version": 3
   },
   "file_extension": ".py",
   "mimetype": "text/x-python",
   "name": "python",
   "nbconvert_exporter": "python",
   "pygments_lexer": "ipython3",
   "version": "3.8.5"
  }
 },
 "nbformat": 4,
 "nbformat_minor": 4
}
