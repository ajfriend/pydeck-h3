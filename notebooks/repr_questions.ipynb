{
 "cells": [
  {
   "cell_type": "code",
   "execution_count": 1,
   "metadata": {},
   "outputs": [],
   "source": [
    "from textwrap import dedent\n",
    "from dataclasses import dataclass\n",
    "\n",
    "import pydeck\n",
    "\n",
    "def iframe(html, height='600px', width='100%'):\n",
    "    html = html.replace('\"', \"'\")\n",
    "\n",
    "    s = f\"\"\"\n",
    "    <iframe\n",
    "    srcdoc = \"{html}\"\n",
    "    style = \"width: {width}; height: {height};\">\n",
    "    </iframe>\n",
    "    \"\"\"\n",
    "    \n",
    "    s = dedent(s)\n",
    "    s = s.strip()\n",
    "    \n",
    "    return s\n",
    "\n",
    "def deck2iframe(d, height='600px', width='100%'):\n",
    "    html = d.to_html(as_string=True)\n",
    "    \n",
    "    h = iframe(html,  height=height, width=width)\n",
    "    \n",
    "    return h\n",
    "    \n",
    "    \n",
    "@dataclass\n",
    "class DeckViz:\n",
    "    \"\"\" Little wrapper class to play with Deck representation functions.\n",
    "    \n",
    "    When implemented, these would just be methods in the Deck class.\n",
    "    \"\"\"\n",
    "    deck: pydeck.Deck\n",
    "        \n",
    "    def __str__(self):\n",
    "        return f'<pydeck.Deck object at {hex(id(d))}>'\n",
    "    \n",
    "    def __repr__(self):\n",
    "        # ideally, should be able to reproduce object with the repr\n",
    "        return repr(self.deck)\n",
    "        \n",
    "    def _repr_html_(self):\n",
    "        return deck2iframe(self.deck)"
   ]
  },
  {
   "cell_type": "code",
   "execution_count": 2,
   "metadata": {},
   "outputs": [
    {
     "data": {
      "text/plain": [
       "{'89283082807ffff': 6,\n",
       " '89283082833ffff': 0,\n",
       " '8928308283bffff': 18,\n",
       " '892830828bbffff': 19,\n",
       " '8928308280fffff': 12,\n",
       " '8928308281bffff': 1,\n",
       " '89283082813ffff': 4,\n",
       " '89283082803ffff': 2,\n",
       " '89283082817ffff': 7,\n",
       " '892830828cfffff': 17,\n",
       " '8928308280bffff': 15,\n",
       " '89283082873ffff': 6,\n",
       " '8928308288fffff': 6,\n",
       " '89283082877ffff': 10,\n",
       " '892830828c7ffff': 19,\n",
       " '89283082857ffff': 10,\n",
       " '89283082847ffff': 4,\n",
       " '892830828abffff': 4,\n",
       " '8928308288bffff': 1}"
      ]
     },
     "execution_count": 2,
     "metadata": {},
     "output_type": "execute_result"
    }
   ],
   "source": [
    "import util as ph\n",
    "\n",
    "data = [\n",
    "    {'hex': '89283082807ffff', 'val1': 6, 'val2': 7},\n",
    "    {'hex': '89283082833ffff', 'val1': 0, 'val2': 19},\n",
    "    {'hex': '8928308283bffff', 'val1': 18, 'val2': 14},\n",
    "    {'hex': '892830828bbffff', 'val1': 19, 'val2': 7},\n",
    "    {'hex': '8928308280fffff', 'val1': 12, 'val2': 9},\n",
    "    {'hex': '8928308281bffff', 'val1': 1, 'val2': 17},\n",
    "    {'hex': '89283082813ffff', 'val1': 4, 'val2': 15},\n",
    "    {'hex': '89283082803ffff', 'val1': 2, 'val2': 0},\n",
    "    {'hex': '89283082817ffff', 'val1': 7, 'val2': 7},\n",
    "    {'hex': '892830828cfffff', 'val1': 17, 'val2': 10},\n",
    "    {'hex': '8928308280bffff', 'val1': 15, 'val2': 12},\n",
    "    {'hex': '89283082873ffff', 'val1': 6, 'val2': 19},\n",
    "    {'hex': '8928308288fffff', 'val1': 6, 'val2': 2},\n",
    "    {'hex': '89283082877ffff', 'val1': 10, 'val2': 19},\n",
    "    {'hex': '892830828c7ffff', 'val1': 19, 'val2': 8},\n",
    "    {'hex': '89283082857ffff', 'val1': 10, 'val2': 17},\n",
    "    {'hex': '89283082847ffff', 'val1': 4, 'val2': 1},\n",
    "    {'hex': '892830828abffff', 'val1': 4, 'val2': 10},\n",
    "    {'hex': '8928308288bffff', 'val1': 1, 'val2': 11},\n",
    "]\n",
    "\n",
    "hexvals = ph.rows2dict(data, col_val='val1')\n",
    "hexvals"
   ]
  },
  {
   "cell_type": "code",
   "execution_count": 3,
   "metadata": {},
   "outputs": [],
   "source": [
    "d = ph.plot_hexset(hexvals)\n",
    "d = DeckViz(d)"
   ]
  },
  {
   "cell_type": "code",
   "execution_count": 4,
   "metadata": {},
   "outputs": [
    {
     "data": {
      "text/plain": [
       "__main__.DeckViz"
      ]
     },
     "execution_count": 4,
     "metadata": {},
     "output_type": "execute_result"
    }
   ],
   "source": [
    "# the type would be pydeck.Deck (but here we just get the wrapper)\n",
    "type(d)"
   ]
  },
  {
   "cell_type": "code",
   "execution_count": 5,
   "metadata": {},
   "outputs": [
    {
     "data": {
      "text/html": [
       "<iframe\n",
       "    srcdoc = \"<html>\n",
       "  <head>\n",
       "    <meta http-equiv='content-type' content='text/html; charset=UTF-8' />\n",
       "    <title>pydeck</title>\n",
       "    <link rel='stylesheet' href='https://maxcdn.bootstrapcdn.com/bootstrap/3.2.0/css/bootstrap-theme.min.css' />\n",
       "    <link rel='stylesheet' href='https://maxcdn.bootstrapcdn.com/font-awesome/4.6.3/css/font-awesome.min.css' />\n",
       "    <script src='https://cdn.jsdelivr.net/npm/@deck.gl/jupyter-widget@8.2.0-alpha.3/dist/index.js'></script>\n",
       "    <style>\n",
       "    body {\n",
       "      margin: 0;\n",
       "      padding: 0;\n",
       "      overflow: hidden;\n",
       "    }\n",
       "\n",
       "    #deck-map-container {\n",
       "      width: 100%;\n",
       "      height: 100%;\n",
       "      background-color: black;\n",
       "    }\n",
       "\n",
       "    #map {\n",
       "      pointer-events: none;\n",
       "      height: 100%;\n",
       "      width: 100%;\n",
       "      position: absolute;\n",
       "      z-index: 1;\n",
       "    }\n",
       "\n",
       "    #deckgl-overlay {\n",
       "      z-index: 2;\n",
       "      background: none;\n",
       "    }\n",
       "\n",
       "    #deck-map-wrapper {\n",
       "      width: 100%;\n",
       "      height: 100%;\n",
       "    }\n",
       "\n",
       "    #deck-container {\n",
       "      width: 100vw;\n",
       "      height: 100vh;\n",
       "    }\n",
       "    </style>\n",
       "  </head>\n",
       "  <body>\n",
       "    <div id='deck-container'>\n",
       "    </div>\n",
       "  </body>\n",
       "  <script>\n",
       "    const jsonInput = {'initialViewState': {'latitude': 37.77351496212393, 'longitude': -122.41827096231162, 'zoom': 14}, 'layers': [{'@@type': 'H3HexagonLayer', 'data': [{'hex': '89283082807ffff'}, {'hex': '89283082833ffff'}, {'hex': '8928308283bffff'}, {'hex': '892830828bbffff'}, {'hex': '8928308280fffff'}, {'hex': '8928308281bffff'}, {'hex': '89283082813ffff'}, {'hex': '89283082803ffff'}, {'hex': '89283082817ffff'}, {'hex': '892830828cfffff'}, {'hex': '8928308280bffff'}, {'hex': '89283082873ffff'}, {'hex': '8928308288fffff'}, {'hex': '89283082877ffff'}, {'hex': '892830828c7ffff'}, {'hex': '89283082857ffff'}, {'hex': '89283082847ffff'}, {'hex': '892830828abffff'}, {'hex': '8928308288bffff'}], 'extruded': false, 'getFillColor': [245, 206, 66], 'getHexagon': '@@=hex', 'getLineWidth': 1, 'id': 'fe67c91c-6588-42ba-aee3-34e80991a427', 'opacity': 0.7, 'pickable': true}], 'mapProvider': 'mapbox', 'mapStyle': 'mapbox://styles/mapbox/light-v10', 'views': [{'@@type': 'MapView', 'controller': true}]};\n",
       "    const MAPBOX_API_KEY = 'pk.eyJ1IjoiYWpmcmllbmQiLCJhIjoiY2pmbmRjczJmMTVkMzJxcW92Y2E4cHZjdCJ9.Jf-gFXU7FOIQxALzPajbdg';\n",
       "    const GOOGLE_MAPS_API_KEY = 'None';\n",
       "    const tooltip = true;\n",
       "    const customLibraries = null;\n",
       "\n",
       "    const deck = createDeck({\n",
       "      mapboxApiKey: MAPBOX_API_KEY,\n",
       "      googleMapsKey: GOOGLE_MAPS_API_KEY,\n",
       "      container: document.getElementById('deck-container'),\n",
       "      jsonInput,\n",
       "      tooltip,\n",
       "      customLibraries\n",
       "    });\n",
       "\n",
       "  </script>\n",
       "</html>\"\n",
       "    style = \"width: 100%; height: 600px;\">\n",
       "    </iframe>"
      ],
      "text/plain": [
       "{\"initialViewState\": {\"latitude\": 37.77351496212393, \"longitude\": -122.41827096231162, \"zoom\": 14}, \"layers\": [{\"@@type\": \"H3HexagonLayer\", \"data\": [{\"hex\": \"89283082807ffff\"}, {\"hex\": \"89283082833ffff\"}, {\"hex\": \"8928308283bffff\"}, {\"hex\": \"892830828bbffff\"}, {\"hex\": \"8928308280fffff\"}, {\"hex\": \"8928308281bffff\"}, {\"hex\": \"89283082813ffff\"}, {\"hex\": \"89283082803ffff\"}, {\"hex\": \"89283082817ffff\"}, {\"hex\": \"892830828cfffff\"}, {\"hex\": \"8928308280bffff\"}, {\"hex\": \"89283082873ffff\"}, {\"hex\": \"8928308288fffff\"}, {\"hex\": \"89283082877ffff\"}, {\"hex\": \"892830828c7ffff\"}, {\"hex\": \"89283082857ffff\"}, {\"hex\": \"89283082847ffff\"}, {\"hex\": \"892830828abffff\"}, {\"hex\": \"8928308288bffff\"}], \"extruded\": false, \"getFillColor\": [245, 206, 66], \"getHexagon\": \"@@=hex\", \"getLineWidth\": 1, \"id\": \"fe67c91c-6588-42ba-aee3-34e80991a427\", \"opacity\": 0.7, \"pickable\": true}], \"mapProvider\": \"mapbox\", \"mapStyle\": \"mapbox://styles/mapbox/light-v10\", \"views\": [{\"@@type\": \"MapView\", \"controller\": true}]}"
      ]
     },
     "execution_count": 5,
     "metadata": {},
     "output_type": "execute_result"
    }
   ],
   "source": [
    "# ipython will use the rich representation given in _repr_html_\n",
    "d"
   ]
  },
  {
   "cell_type": "code",
   "execution_count": 6,
   "metadata": {},
   "outputs": [
    {
     "data": {
      "text/plain": [
       "'<pydeck.Deck object at 0x108ac09d0>'"
      ]
     },
     "execution_count": 6,
     "metadata": {},
     "output_type": "execute_result"
    }
   ],
   "source": [
    "# the string method should be a little more readable, and at least describes the object type and gives a uniuqe id\n",
    "str(d)"
   ]
  },
  {
   "cell_type": "code",
   "execution_count": 7,
   "metadata": {},
   "outputs": [
    {
     "data": {
      "text/plain": [
       "'{\"initialViewState\": {\"latitude\": 37.77351496212393, \"longitude\": -122.41827096231162, \"zoom\": 14}, \"layers\": [{\"@@type\": \"H3HexagonLayer\", \"data\": [{\"hex\": \"89283082807ffff\"}, {\"hex\": \"89283082833ffff\"}, {\"hex\": \"8928308283bffff\"}, {\"hex\": \"892830828bbffff\"}, {\"hex\": \"8928308280fffff\"}, {\"hex\": \"8928308281bffff\"}, {\"hex\": \"89283082813ffff\"}, {\"hex\": \"89283082803ffff\"}, {\"hex\": \"89283082817ffff\"}, {\"hex\": \"892830828cfffff\"}, {\"hex\": \"8928308280bffff\"}, {\"hex\": \"89283082873ffff\"}, {\"hex\": \"8928308288fffff\"}, {\"hex\": \"89283082877ffff\"}, {\"hex\": \"892830828c7ffff\"}, {\"hex\": \"89283082857ffff\"}, {\"hex\": \"89283082847ffff\"}, {\"hex\": \"892830828abffff\"}, {\"hex\": \"8928308288bffff\"}], \"extruded\": false, \"getFillColor\": [245, 206, 66], \"getHexagon\": \"@@=hex\", \"getLineWidth\": 1, \"id\": \"fe67c91c-6588-42ba-aee3-34e80991a427\", \"opacity\": 0.7, \"pickable\": true}], \"mapProvider\": \"mapbox\", \"mapStyle\": \"mapbox://styles/mapbox/light-v10\", \"views\": [{\"@@type\": \"MapView\", \"controller\": true}]}'"
      ]
     },
     "execution_count": 7,
     "metadata": {},
     "output_type": "execute_result"
    }
   ],
   "source": [
    "# ideally, this would give us a string s, such that eval(s) would give an identical object\n",
    "# however, I think this is usually going to be super unweildy, so I'm not sure the user would ever realy want this by default\n",
    "# This info might be better represented in a .to_json() or something\n",
    "\n",
    "# One downside of this view is that it doesn't tell you that you're working with a Deck object. And it isn't immediately clear how you would reconstruct a pydeck.Deck object from this string.\n",
    "repr(d)"
   ]
  },
  {
   "cell_type": "markdown",
   "metadata": {},
   "source": [
    "# Nested objects\n",
    "\n",
    "Of the two below, I think the first is probably the most useful by default.\n",
    "That would require us to set the `__repr__` function to give the `<pydeck.Deck object at 0x11dbdded0>` representation."
   ]
  },
  {
   "cell_type": "code",
   "execution_count": 8,
   "metadata": {},
   "outputs": [
    {
     "data": {
      "text/plain": [
       "['<pydeck.Deck object at 0x108ac09d0>',\n",
       " '<pydeck.Deck object at 0x108ac09d0>',\n",
       " '<pydeck.Deck object at 0x108ac09d0>']"
      ]
     },
     "execution_count": 8,
     "metadata": {},
     "output_type": "execute_result"
    }
   ],
   "source": [
    "[str(d)]*3"
   ]
  },
  {
   "cell_type": "code",
   "execution_count": 9,
   "metadata": {},
   "outputs": [
    {
     "data": {
      "text/plain": [
       "[{\"initialViewState\": {\"latitude\": 37.77351496212393, \"longitude\": -122.41827096231162, \"zoom\": 14}, \"layers\": [{\"@@type\": \"H3HexagonLayer\", \"data\": [{\"hex\": \"89283082807ffff\"}, {\"hex\": \"89283082833ffff\"}, {\"hex\": \"8928308283bffff\"}, {\"hex\": \"892830828bbffff\"}, {\"hex\": \"8928308280fffff\"}, {\"hex\": \"8928308281bffff\"}, {\"hex\": \"89283082813ffff\"}, {\"hex\": \"89283082803ffff\"}, {\"hex\": \"89283082817ffff\"}, {\"hex\": \"892830828cfffff\"}, {\"hex\": \"8928308280bffff\"}, {\"hex\": \"89283082873ffff\"}, {\"hex\": \"8928308288fffff\"}, {\"hex\": \"89283082877ffff\"}, {\"hex\": \"892830828c7ffff\"}, {\"hex\": \"89283082857ffff\"}, {\"hex\": \"89283082847ffff\"}, {\"hex\": \"892830828abffff\"}, {\"hex\": \"8928308288bffff\"}], \"extruded\": false, \"getFillColor\": [245, 206, 66], \"getHexagon\": \"@@=hex\", \"getLineWidth\": 1, \"id\": \"fe67c91c-6588-42ba-aee3-34e80991a427\", \"opacity\": 0.7, \"pickable\": true}], \"mapProvider\": \"mapbox\", \"mapStyle\": \"mapbox://styles/mapbox/light-v10\", \"views\": [{\"@@type\": \"MapView\", \"controller\": true}]},\n",
       " {\"initialViewState\": {\"latitude\": 37.77351496212393, \"longitude\": -122.41827096231162, \"zoom\": 14}, \"layers\": [{\"@@type\": \"H3HexagonLayer\", \"data\": [{\"hex\": \"89283082807ffff\"}, {\"hex\": \"89283082833ffff\"}, {\"hex\": \"8928308283bffff\"}, {\"hex\": \"892830828bbffff\"}, {\"hex\": \"8928308280fffff\"}, {\"hex\": \"8928308281bffff\"}, {\"hex\": \"89283082813ffff\"}, {\"hex\": \"89283082803ffff\"}, {\"hex\": \"89283082817ffff\"}, {\"hex\": \"892830828cfffff\"}, {\"hex\": \"8928308280bffff\"}, {\"hex\": \"89283082873ffff\"}, {\"hex\": \"8928308288fffff\"}, {\"hex\": \"89283082877ffff\"}, {\"hex\": \"892830828c7ffff\"}, {\"hex\": \"89283082857ffff\"}, {\"hex\": \"89283082847ffff\"}, {\"hex\": \"892830828abffff\"}, {\"hex\": \"8928308288bffff\"}], \"extruded\": false, \"getFillColor\": [245, 206, 66], \"getHexagon\": \"@@=hex\", \"getLineWidth\": 1, \"id\": \"fe67c91c-6588-42ba-aee3-34e80991a427\", \"opacity\": 0.7, \"pickable\": true}], \"mapProvider\": \"mapbox\", \"mapStyle\": \"mapbox://styles/mapbox/light-v10\", \"views\": [{\"@@type\": \"MapView\", \"controller\": true}]},\n",
       " {\"initialViewState\": {\"latitude\": 37.77351496212393, \"longitude\": -122.41827096231162, \"zoom\": 14}, \"layers\": [{\"@@type\": \"H3HexagonLayer\", \"data\": [{\"hex\": \"89283082807ffff\"}, {\"hex\": \"89283082833ffff\"}, {\"hex\": \"8928308283bffff\"}, {\"hex\": \"892830828bbffff\"}, {\"hex\": \"8928308280fffff\"}, {\"hex\": \"8928308281bffff\"}, {\"hex\": \"89283082813ffff\"}, {\"hex\": \"89283082803ffff\"}, {\"hex\": \"89283082817ffff\"}, {\"hex\": \"892830828cfffff\"}, {\"hex\": \"8928308280bffff\"}, {\"hex\": \"89283082873ffff\"}, {\"hex\": \"8928308288fffff\"}, {\"hex\": \"89283082877ffff\"}, {\"hex\": \"892830828c7ffff\"}, {\"hex\": \"89283082857ffff\"}, {\"hex\": \"89283082847ffff\"}, {\"hex\": \"892830828abffff\"}, {\"hex\": \"8928308288bffff\"}], \"extruded\": false, \"getFillColor\": [245, 206, 66], \"getHexagon\": \"@@=hex\", \"getLineWidth\": 1, \"id\": \"fe67c91c-6588-42ba-aee3-34e80991a427\", \"opacity\": 0.7, \"pickable\": true}], \"mapProvider\": \"mapbox\", \"mapStyle\": \"mapbox://styles/mapbox/light-v10\", \"views\": [{\"@@type\": \"MapView\", \"controller\": true}]}]"
      ]
     },
     "execution_count": 9,
     "metadata": {},
     "output_type": "execute_result"
    }
   ],
   "source": [
    "[d]*3"
   ]
  },
  {
   "cell_type": "markdown",
   "metadata": {},
   "source": [
    "# Proposal\n",
    "\n",
    "Give up on `__repr__` providing a full description; delegate that to helper functions like `to_json()`.\n",
    "\n",
    "However, it would still be nice to have a serialization format that works natively within Python.\n",
    "The current code doesn't work as it is in JSON."
   ]
  },
  {
   "cell_type": "code",
   "execution_count": 10,
   "metadata": {},
   "outputs": [],
   "source": [
    "@dataclass\n",
    "class DeckViz:\n",
    "    \"\"\" Little wrapper class to play with Deck representation functions.\n",
    "    \n",
    "    When implemented, these would just be methods in the Deck class.\n",
    "    \"\"\"\n",
    "    deck: pydeck.Deck\n",
    "    \n",
    "    def __repr__(self):\n",
    "        return f'<pydeck.Deck object at {hex(id(d))}>'\n",
    "        \n",
    "    def _repr_html_(self):\n",
    "        return deck2iframe(self.deck)\n",
    "    \n",
    "    def to_json(self):\n",
    "        return repr(self.deck)"
   ]
  },
  {
   "cell_type": "code",
   "execution_count": 11,
   "metadata": {},
   "outputs": [],
   "source": [
    "d = ph.plot_hexset(hexvals)\n",
    "d = DeckViz(d)"
   ]
  },
  {
   "cell_type": "code",
   "execution_count": 12,
   "metadata": {},
   "outputs": [
    {
     "data": {
      "text/plain": [
       "'<pydeck.Deck object at 0x119439a90>'"
      ]
     },
     "execution_count": 12,
     "metadata": {},
     "output_type": "execute_result"
    }
   ],
   "source": [
    "str(d)"
   ]
  },
  {
   "cell_type": "code",
   "execution_count": 13,
   "metadata": {},
   "outputs": [
    {
     "data": {
      "text/plain": [
       "'<pydeck.Deck object at 0x119439a90>'"
      ]
     },
     "execution_count": 13,
     "metadata": {},
     "output_type": "execute_result"
    }
   ],
   "source": [
    "repr(d)"
   ]
  },
  {
   "cell_type": "code",
   "execution_count": 14,
   "metadata": {},
   "outputs": [
    {
     "data": {
      "text/plain": [
       "[<pydeck.Deck object at 0x119439a90>,\n",
       " <pydeck.Deck object at 0x119439a90>,\n",
       " <pydeck.Deck object at 0x119439a90>]"
      ]
     },
     "execution_count": 14,
     "metadata": {},
     "output_type": "execute_result"
    }
   ],
   "source": [
    "[d]*3"
   ]
  },
  {
   "cell_type": "code",
   "execution_count": 15,
   "metadata": {},
   "outputs": [
    {
     "data": {
      "text/plain": [
       "'{\"initialViewState\": {\"latitude\": 37.77351496212393, \"longitude\": -122.41827096231162, \"zoom\": 14}, \"layers\": [{\"@@type\": \"H3HexagonLayer\", \"data\": [{\"hex\": \"89283082807ffff\"}, {\"hex\": \"89283082833ffff\"}, {\"hex\": \"8928308283bffff\"}, {\"hex\": \"892830828bbffff\"}, {\"hex\": \"8928308280fffff\"}, {\"hex\": \"8928308281bffff\"}, {\"hex\": \"89283082813ffff\"}, {\"hex\": \"89283082803ffff\"}, {\"hex\": \"89283082817ffff\"}, {\"hex\": \"892830828cfffff\"}, {\"hex\": \"8928308280bffff\"}, {\"hex\": \"89283082873ffff\"}, {\"hex\": \"8928308288fffff\"}, {\"hex\": \"89283082877ffff\"}, {\"hex\": \"892830828c7ffff\"}, {\"hex\": \"89283082857ffff\"}, {\"hex\": \"89283082847ffff\"}, {\"hex\": \"892830828abffff\"}, {\"hex\": \"8928308288bffff\"}], \"extruded\": false, \"getFillColor\": [245, 206, 66], \"getHexagon\": \"@@=hex\", \"getLineWidth\": 1, \"id\": \"c334f539-a465-45a8-83ad-69b012bd5579\", \"opacity\": 0.7, \"pickable\": true}], \"mapProvider\": \"mapbox\", \"mapStyle\": \"mapbox://styles/mapbox/light-v10\", \"views\": [{\"@@type\": \"MapView\", \"controller\": true}]}'"
      ]
     },
     "execution_count": 15,
     "metadata": {},
     "output_type": "execute_result"
    }
   ],
   "source": [
    "d.to_json()"
   ]
  },
  {
   "cell_type": "code",
   "execution_count": 16,
   "metadata": {},
   "outputs": [
    {
     "data": {
      "text/html": [
       "<iframe\n",
       "    srcdoc = \"<html>\n",
       "  <head>\n",
       "    <meta http-equiv='content-type' content='text/html; charset=UTF-8' />\n",
       "    <title>pydeck</title>\n",
       "    <link rel='stylesheet' href='https://maxcdn.bootstrapcdn.com/bootstrap/3.2.0/css/bootstrap-theme.min.css' />\n",
       "    <link rel='stylesheet' href='https://maxcdn.bootstrapcdn.com/font-awesome/4.6.3/css/font-awesome.min.css' />\n",
       "    <script src='https://cdn.jsdelivr.net/npm/@deck.gl/jupyter-widget@8.2.0-alpha.3/dist/index.js'></script>\n",
       "    <style>\n",
       "    body {\n",
       "      margin: 0;\n",
       "      padding: 0;\n",
       "      overflow: hidden;\n",
       "    }\n",
       "\n",
       "    #deck-map-container {\n",
       "      width: 100%;\n",
       "      height: 100%;\n",
       "      background-color: black;\n",
       "    }\n",
       "\n",
       "    #map {\n",
       "      pointer-events: none;\n",
       "      height: 100%;\n",
       "      width: 100%;\n",
       "      position: absolute;\n",
       "      z-index: 1;\n",
       "    }\n",
       "\n",
       "    #deckgl-overlay {\n",
       "      z-index: 2;\n",
       "      background: none;\n",
       "    }\n",
       "\n",
       "    #deck-map-wrapper {\n",
       "      width: 100%;\n",
       "      height: 100%;\n",
       "    }\n",
       "\n",
       "    #deck-container {\n",
       "      width: 100vw;\n",
       "      height: 100vh;\n",
       "    }\n",
       "    </style>\n",
       "  </head>\n",
       "  <body>\n",
       "    <div id='deck-container'>\n",
       "    </div>\n",
       "  </body>\n",
       "  <script>\n",
       "    const jsonInput = {'initialViewState': {'latitude': 37.77351496212393, 'longitude': -122.41827096231162, 'zoom': 14}, 'layers': [{'@@type': 'H3HexagonLayer', 'data': [{'hex': '89283082807ffff'}, {'hex': '89283082833ffff'}, {'hex': '8928308283bffff'}, {'hex': '892830828bbffff'}, {'hex': '8928308280fffff'}, {'hex': '8928308281bffff'}, {'hex': '89283082813ffff'}, {'hex': '89283082803ffff'}, {'hex': '89283082817ffff'}, {'hex': '892830828cfffff'}, {'hex': '8928308280bffff'}, {'hex': '89283082873ffff'}, {'hex': '8928308288fffff'}, {'hex': '89283082877ffff'}, {'hex': '892830828c7ffff'}, {'hex': '89283082857ffff'}, {'hex': '89283082847ffff'}, {'hex': '892830828abffff'}, {'hex': '8928308288bffff'}], 'extruded': false, 'getFillColor': [245, 206, 66], 'getHexagon': '@@=hex', 'getLineWidth': 1, 'id': 'c334f539-a465-45a8-83ad-69b012bd5579', 'opacity': 0.7, 'pickable': true}], 'mapProvider': 'mapbox', 'mapStyle': 'mapbox://styles/mapbox/light-v10', 'views': [{'@@type': 'MapView', 'controller': true}]};\n",
       "    const MAPBOX_API_KEY = 'pk.eyJ1IjoiYWpmcmllbmQiLCJhIjoiY2pmbmRjczJmMTVkMzJxcW92Y2E4cHZjdCJ9.Jf-gFXU7FOIQxALzPajbdg';\n",
       "    const GOOGLE_MAPS_API_KEY = 'None';\n",
       "    const tooltip = true;\n",
       "    const customLibraries = null;\n",
       "\n",
       "    const deck = createDeck({\n",
       "      mapboxApiKey: MAPBOX_API_KEY,\n",
       "      googleMapsKey: GOOGLE_MAPS_API_KEY,\n",
       "      container: document.getElementById('deck-container'),\n",
       "      jsonInput,\n",
       "      tooltip,\n",
       "      customLibraries\n",
       "    });\n",
       "\n",
       "  </script>\n",
       "</html>\"\n",
       "    style = \"width: 100%; height: 600px;\">\n",
       "    </iframe>"
      ],
      "text/plain": [
       "<pydeck.Deck object at 0x119439a90>"
      ]
     },
     "execution_count": 16,
     "metadata": {},
     "output_type": "execute_result"
    }
   ],
   "source": [
    "d"
   ]
  },
  {
   "cell_type": "markdown",
   "metadata": {},
   "source": [
    "# Random other thoughts\n",
    "\n",
    "- todo: maybe `Deck.to_html()` should have an `iframe=True` option.\n",
    "- if we have a `Deck.to_json()` function, should we have a `Deck.from_json()` to reconstruct a python object from the json representation?"
   ]
  },
  {
   "cell_type": "code",
   "execution_count": null,
   "metadata": {},
   "outputs": [],
   "source": []
  }
 ],
 "metadata": {
  "kernelspec": {
   "display_name": "Python 3",
   "language": "python",
   "name": "python3"
  },
  "language_info": {
   "codemirror_mode": {
    "name": "ipython",
    "version": 3
   },
   "file_extension": ".py",
   "mimetype": "text/x-python",
   "name": "python",
   "nbconvert_exporter": "python",
   "pygments_lexer": "ipython3",
   "version": "3.7.7"
  }
 },
 "nbformat": 4,
 "nbformat_minor": 4
}
