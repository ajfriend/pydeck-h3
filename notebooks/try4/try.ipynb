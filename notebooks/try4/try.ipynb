{
 "cells": [
  {
   "cell_type": "code",
   "execution_count": 5,
   "metadata": {},
   "outputs": [],
   "source": [
    "import toolz"
   ]
  },
  {
   "cell_type": "code",
   "execution_count": 8,
   "metadata": {},
   "outputs": [
    {
     "data": {
      "text/plain": [
       "{'a': 1}"
      ]
     },
     "execution_count": 8,
     "metadata": {},
     "output_type": "execute_result"
    }
   ],
   "source": [
    "toolz.dicttoolz.merge([{}, {'a': 1}])"
   ]
  },
  {
   "cell_type": "code",
   "execution_count": 1,
   "metadata": {},
   "outputs": [],
   "source": [
    "rows = [\n",
    "    {'h3cell': '89283082807ffff', 'cats': 6, 'dogs': 15},\n",
    "    {'h3cell': '89283082833ffff', 'cats': 0, 'dogs': 5},\n",
    "    {'h3cell': '8928308283bffff', 'cats': 18, 'dogs': 1},\n",
    "    {'h3cell': '892830828bbffff', 'cats': 19, 'dogs': 26},\n",
    "    {'h3cell': '8928308280fffff', 'cats': 12, 'dogs': 2},\n",
    "    {'h3cell': '8928308281bffff', 'cats': 1, 'dogs': 24},\n",
    "    {'h3cell': '89283082813ffff', 'cats': 4, 'dogs': 14},\n",
    "    {'h3cell': '89283082803ffff', 'cats': 2, 'dogs': 3},\n",
    "    {'h3cell': '89283082817ffff', 'cats': 7, 'dogs': 6},\n",
    "    {'h3cell': '892830828cfffff', 'cats': 17, 'dogs': 6},\n",
    "    {'h3cell': '8928308280bffff', 'cats': 15, 'dogs': 18},\n",
    "    {'h3cell': '89283082873ffff', 'cats': 6, 'dogs': 19},\n",
    "    {'h3cell': '8928308288fffff', 'cats': 6, 'dogs': 14},\n",
    "    {'h3cell': '89283082877ffff', 'cats': 10, 'dogs': 15},\n",
    "    {'h3cell': '892830828c7ffff', 'cats': 19, 'dogs': 18},\n",
    "    {'h3cell': '89283082857ffff', 'cats': 10, 'dogs': 8},\n",
    "    {'h3cell': '89283082847ffff', 'cats': 4, 'dogs': 13},\n",
    "    {'h3cell': '892830828abffff', 'cats': 4, 'dogs': 11},\n",
    "    {'h3cell': '8928308288bffff', 'cats': 1, 'dogs': 8}\n",
    "]"
   ]
  },
  {
   "cell_type": "code",
   "execution_count": 2,
   "metadata": {},
   "outputs": [],
   "source": [
    "import util2d as u2d\n",
    "\n",
    "pdk_rows = u2d.make_pdk_rows(rows, 'h3cell', color='cats', line_width='dogs')"
   ]
  },
  {
   "cell_type": "code",
   "execution_count": 3,
   "metadata": {},
   "outputs": [
    {
     "data": {
      "text/plain": [
       "[{'h3cell': '89283082807ffff',\n",
       "  'cats': 6,\n",
       "  'dogs': 15,\n",
       "  '_pdk_h3cell': '89283082807ffff',\n",
       "  '_pdk_fill_color': (254, 197, 96, 255),\n",
       "  '_pdk_line_width': 15},\n",
       " {'h3cell': '89283082833ffff',\n",
       "  'cats': 0,\n",
       "  'dogs': 5,\n",
       "  '_pdk_h3cell': '89283082833ffff',\n",
       "  '_pdk_fill_color': (255, 255, 204, 255),\n",
       "  '_pdk_line_width': 5},\n",
       " {'h3cell': '8928308283bffff',\n",
       "  'cats': 18,\n",
       "  'dogs': 1,\n",
       "  '_pdk_h3cell': '8928308283bffff',\n",
       "  '_pdk_fill_color': (152, 0, 38, 255),\n",
       "  '_pdk_line_width': 1}]"
      ]
     },
     "execution_count": 3,
     "metadata": {},
     "output_type": "execute_result"
    }
   ],
   "source": [
    "pdk_rows[:3]"
   ]
  },
  {
   "cell_type": "code",
   "execution_count": 4,
   "metadata": {},
   "outputs": [
    {
     "data": {
      "text/html": [
       "<iframe src=\"about:blank\" frameborder=\"0\" srcdoc=\"&lt;html&gt;\n",
       "  &lt;head&gt;\n",
       "    &lt;meta http-equiv=&quot;content-type&quot; content=&quot;text/html; charset=UTF-8&quot; /&gt;\n",
       "    &lt;title&gt;pydeck&lt;/title&gt;\n",
       "    &lt;link rel=&quot;stylesheet&quot; href=&quot;https://maxcdn.bootstrapcdn.com/bootstrap/3.2.0/css/bootstrap-theme.min.css&quot; /&gt;\n",
       "    &lt;link rel=&quot;stylesheet&quot; href=&quot;https://maxcdn.bootstrapcdn.com/font-awesome/4.6.3/css/font-awesome.min.css&quot; /&gt;\n",
       "    &lt;script src=&#x27;https://cdn.jsdelivr.net/npm/@deck.gl/jupyter-widget@~8.3.*/dist/index.js&#x27;&gt;&lt;/script&gt;\n",
       "    &lt;style&gt;\n",
       "    body {\n",
       "      margin: 0;\n",
       "      padding: 0;\n",
       "      overflow: hidden;\n",
       "    }\n",
       "\n",
       "    #deck-map-container {\n",
       "      width: 100%;\n",
       "      height: 100%;\n",
       "      background-color: black;\n",
       "    }\n",
       "\n",
       "    #map {\n",
       "      pointer-events: none;\n",
       "      height: 100%;\n",
       "      width: 100%;\n",
       "      position: absolute;\n",
       "      z-index: 1;\n",
       "    }\n",
       "\n",
       "    #deckgl-overlay {\n",
       "      z-index: 2;\n",
       "      background: none;\n",
       "    }\n",
       "\n",
       "    #deck-map-wrapper {\n",
       "      width: 100%;\n",
       "      height: 100%;\n",
       "    }\n",
       "\n",
       "    #deck-container {\n",
       "      width: 100vw;\n",
       "      height: 100vh;\n",
       "    }\n",
       "    &lt;/style&gt;\n",
       "  &lt;/head&gt;\n",
       "  &lt;body&gt;\n",
       "    &lt;div id=&quot;deck-container&quot;&gt;\n",
       "    &lt;/div&gt;\n",
       "  &lt;/body&gt;\n",
       "  &lt;script&gt;\n",
       "    const jsonInput = {&quot;initialViewState&quot;: {&quot;latitude&quot;: 37.77351496212393, &quot;longitude&quot;: -122.41827096231162, &quot;zoom&quot;: 14}, &quot;layers&quot;: [{&quot;@@type&quot;: &quot;H3HexagonLayer&quot;, &quot;data&quot;: [{&quot;_pdk_fill_color&quot;: [254, 197, 96, 255], &quot;_pdk_h3cell&quot;: &quot;89283082807ffff&quot;, &quot;_pdk_line_width&quot;: 15, &quot;cats&quot;: 6, &quot;dogs&quot;: 15, &quot;h3cell&quot;: &quot;89283082807ffff&quot;}, {&quot;_pdk_fill_color&quot;: [255, 255, 204, 255], &quot;_pdk_h3cell&quot;: &quot;89283082833ffff&quot;, &quot;_pdk_line_width&quot;: 5, &quot;cats&quot;: 0, &quot;dogs&quot;: 5, &quot;h3cell&quot;: &quot;89283082833ffff&quot;}, {&quot;_pdk_fill_color&quot;: [152, 0, 38, 255], &quot;_pdk_h3cell&quot;: &quot;8928308283bffff&quot;, &quot;_pdk_line_width&quot;: 1, &quot;cats&quot;: 18, &quot;dogs&quot;: 1, &quot;h3cell&quot;: &quot;8928308283bffff&quot;}, {&quot;_pdk_fill_color&quot;: [128, 0, 38, 255], &quot;_pdk_h3cell&quot;: &quot;892830828bbffff&quot;, &quot;_pdk_line_width&quot;: 26, &quot;cats&quot;: 19, &quot;dogs&quot;: 26, &quot;h3cell&quot;: &quot;892830828bbffff&quot;}, {&quot;_pdk_fill_color&quot;: [250, 75, 41, 255], &quot;_pdk_h3cell&quot;: &quot;8928308280fffff&quot;, &quot;_pdk_line_width&quot;: 2, &quot;cats&quot;: 12, &quot;dogs&quot;: 2, &quot;h3cell&quot;: &quot;8928308280fffff&quot;}, {&quot;_pdk_fill_color&quot;: [255, 247, 186, 255], &quot;_pdk_h3cell&quot;: &quot;8928308281bffff&quot;, &quot;_pdk_line_width&quot;: 24, &quot;cats&quot;: 1, &quot;dogs&quot;: 24, &quot;h3cell&quot;: &quot;8928308281bffff&quot;}, {&quot;_pdk_fill_color&quot;: [254, 223, 132, 255], &quot;_pdk_h3cell&quot;: &quot;89283082813ffff&quot;, &quot;_pdk_line_width&quot;: 14, &quot;cats&quot;: 4, &quot;dogs&quot;: 14, &quot;h3cell&quot;: &quot;89283082813ffff&quot;}, {&quot;_pdk_fill_color&quot;: [255, 240, 168, 255], &quot;_pdk_h3cell&quot;: &quot;89283082803ffff&quot;, &quot;_pdk_line_width&quot;: 3, &quot;cats&quot;: 2, &quot;dogs&quot;: 3, &quot;h3cell&quot;: &quot;89283082803ffff&quot;}, {&quot;_pdk_fill_color&quot;: [254, 179, 78, 255], &quot;_pdk_h3cell&quot;: &quot;89283082817ffff&quot;, &quot;_pdk_line_width&quot;: 6, &quot;cats&quot;: 7, &quot;dogs&quot;: 6, &quot;h3cell&quot;: &quot;89283082817ffff&quot;}, {&quot;_pdk_fill_color&quot;: [177, 0, 38, 255], &quot;_pdk_h3cell&quot;: &quot;892830828cfffff&quot;, &quot;_pdk_line_width&quot;: 6, &quot;cats&quot;: 17, &quot;dogs&quot;: 6, &quot;h3cell&quot;: &quot;892830828cfffff&quot;}, {&quot;_pdk_fill_color&quot;: [214, 17, 31, 255], &quot;_pdk_h3cell&quot;: &quot;8928308280bffff&quot;, &quot;_pdk_line_width&quot;: 18, &quot;cats&quot;: 15, &quot;dogs&quot;: 18, &quot;h3cell&quot;: &quot;8928308280bffff&quot;}, {&quot;_pdk_fill_color&quot;: [254, 197, 96, 255], &quot;_pdk_h3cell&quot;: &quot;89283082873ffff&quot;, &quot;_pdk_line_width&quot;: 19, &quot;cats&quot;: 6, &quot;dogs&quot;: 19, &quot;h3cell&quot;: &quot;89283082873ffff&quot;}, {&quot;_pdk_fill_color&quot;: [254, 197, 96, 255], &quot;_pdk_h3cell&quot;: &quot;8928308288fffff&quot;, &quot;_pdk_line_width&quot;: 14, &quot;cats&quot;: 6, &quot;dogs&quot;: 14, &quot;h3cell&quot;: &quot;8928308288fffff&quot;}, {&quot;_pdk_fill_color&quot;: [252, 128, 56, 255], &quot;_pdk_h3cell&quot;: &quot;89283082877ffff&quot;, &quot;_pdk_line_width&quot;: 15, &quot;cats&quot;: 10, &quot;dogs&quot;: 15, &quot;h3cell&quot;: &quot;89283082877ffff&quot;}, {&quot;_pdk_fill_color&quot;: [128, 0, 38, 255], &quot;_pdk_h3cell&quot;: &quot;892830828c7ffff&quot;, &quot;_pdk_line_width&quot;: 18, &quot;cats&quot;: 19, &quot;dogs&quot;: 18, &quot;h3cell&quot;: &quot;892830828c7ffff&quot;}, {&quot;_pdk_fill_color&quot;: [252, 128, 56, 255], &quot;_pdk_h3cell&quot;: &quot;89283082857ffff&quot;, &quot;_pdk_line_width&quot;: 8, &quot;cats&quot;: 10, &quot;dogs&quot;: 8, &quot;h3cell&quot;: &quot;89283082857ffff&quot;}, {&quot;_pdk_fill_color&quot;: [254, 223, 132, 255], &quot;_pdk_h3cell&quot;: &quot;89283082847ffff&quot;, &quot;_pdk_line_width&quot;: 13, &quot;cats&quot;: 4, &quot;dogs&quot;: 13, &quot;h3cell&quot;: &quot;89283082847ffff&quot;}, {&quot;_pdk_fill_color&quot;: [254, 223, 132, 255], &quot;_pdk_h3cell&quot;: &quot;892830828abffff&quot;, &quot;_pdk_line_width&quot;: 11, &quot;cats&quot;: 4, &quot;dogs&quot;: 11, &quot;h3cell&quot;: &quot;892830828abffff&quot;}, {&quot;_pdk_fill_color&quot;: [255, 247, 186, 255], &quot;_pdk_h3cell&quot;: &quot;8928308288bffff&quot;, &quot;_pdk_line_width&quot;: 8, &quot;cats&quot;: 1, &quot;dogs&quot;: 8, &quot;h3cell&quot;: &quot;8928308288bffff&quot;}], &quot;extruded&quot;: false, &quot;getFillColor&quot;: &quot;@@=_pdk_fill_color&quot;, &quot;getHexagon&quot;: &quot;@@=_pdk_h3cell&quot;, &quot;getLineWidth&quot;: &quot;@@=_pdk_line_width&quot;, &quot;id&quot;: &quot;a3785d40-8155-4e8c-baea-930276ca66dc&quot;, &quot;opacity&quot;: 0.3, &quot;pickable&quot;: true}], &quot;mapProvider&quot;: &quot;mapbox&quot;, &quot;mapStyle&quot;: &quot;mapbox://styles/mapbox/light-v10&quot;, &quot;views&quot;: [{&quot;@@type&quot;: &quot;MapView&quot;, &quot;controller&quot;: true}]};\n",
       "    const MAPBOX_API_KEY = &#x27;pk.eyJ1IjoiYWpmcmllbmQiLCJhIjoiY2pmbmRjczJmMTVkMzJxcW92Y2E4cHZjdCJ9.Jf-gFXU7FOIQxALzPajbdg&#x27;;\n",
       "    const GOOGLE_MAPS_API_KEY = &#x27;None&#x27;;\n",
       "    const tooltip = {&#x27;html&#x27;: &#x27;&lt;b&gt;h3cell&lt;/b&gt;: {h3cell}&lt;br/&gt;&lt;b&gt;cats&lt;/b&gt;: {cats}&lt;br/&gt;&lt;b&gt;dogs&lt;/b&gt;: {dogs}&#x27;};\n",
       "    const customLibraries = null;\n",
       "\n",
       "    const deck = createDeck({\n",
       "      mapboxApiKey: MAPBOX_API_KEY,\n",
       "      googleMapsKey: GOOGLE_MAPS_API_KEY,\n",
       "      container: document.getElementById(&#x27;deck-container&#x27;),\n",
       "      jsonInput,\n",
       "      tooltip,\n",
       "      customLibraries\n",
       "    });\n",
       "\n",
       "  &lt;/script&gt;\n",
       "&lt;/html&gt;\" width=\"100%\" height=500></iframe>"
      ],
      "text/plain": [
       "<IPython.core.display.HTML object>"
      ]
     },
     "execution_count": 4,
     "metadata": {},
     "output_type": "execute_result"
    }
   ],
   "source": [
    "import base as b\n",
    "b.plot2d(pdk_rows, opacity=.3).to_html()"
   ]
  },
  {
   "cell_type": "code",
   "execution_count": null,
   "metadata": {},
   "outputs": [],
   "source": []
  }
 ],
 "metadata": {
  "kernelspec": {
   "display_name": "Python 3",
   "language": "python",
   "name": "python3"
  },
  "language_info": {
   "codemirror_mode": {
    "name": "ipython",
    "version": 3
   },
   "file_extension": ".py",
   "mimetype": "text/x-python",
   "name": "python",
   "nbconvert_exporter": "python",
   "pygments_lexer": "ipython3",
   "version": "3.8.5"
  }
 },
 "nbformat": 4,
 "nbformat_minor": 4
}
