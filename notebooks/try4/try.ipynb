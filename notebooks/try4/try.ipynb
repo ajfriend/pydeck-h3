{
 "cells": [
  {
   "cell_type": "code",
   "execution_count": 1,
   "metadata": {},
   "outputs": [
    {
     "data": {
      "text/plain": [
       "(1.0, 1.0, 0.0)"
      ]
     },
     "execution_count": 1,
     "metadata": {},
     "output_type": "execute_result"
    }
   ],
   "source": [
    "import matplotlib\n",
    "\n",
    "matplotlib.colors.to_rgb('yellow')"
   ]
  },
  {
   "cell_type": "code",
   "execution_count": 2,
   "metadata": {},
   "outputs": [
    {
     "data": {
      "text/plain": [
       "'#FF0000'"
      ]
     },
     "execution_count": 2,
     "metadata": {},
     "output_type": "execute_result"
    }
   ],
   "source": [
    "matplotlib.colors.get_named_colors_mapping()['red']"
   ]
  },
  {
   "cell_type": "code",
   "execution_count": 3,
   "metadata": {},
   "outputs": [],
   "source": [
    "import pydeck as pdk\n",
    "import tools as t\n",
    "\n",
    "hexvals = {\n",
    "    '89283082807ffff': 6,\n",
    "    '89283082833ffff': 0,\n",
    "    '8928308283bffff': 18,\n",
    "    '892830828bbffff': 19,\n",
    "    '8928308280fffff': 12,\n",
    "    '8928308281bffff': 1,\n",
    "    '89283082813ffff': 4,\n",
    "    '89283082803ffff': 2,\n",
    "    '89283082817ffff': 7,\n",
    "    '892830828cfffff': 17,\n",
    "    '8928308280bffff': 15,\n",
    "    '89283082873ffff': 6,\n",
    "    '8928308288fffff': 6,\n",
    "    '89283082877ffff': 10,\n",
    "    '892830828c7ffff': 19,\n",
    "    '89283082857ffff': 10,\n",
    "    '89283082847ffff': 4,\n",
    "    '892830828abffff': 4,\n",
    "    '8928308288bffff': 1,\n",
    "}"
   ]
  },
  {
   "cell_type": "code",
   "execution_count": 6,
   "metadata": {},
   "outputs": [
    {
     "data": {
      "text/plain": [
       "[{'h3cell': '89283082807ffff', 'cats': 6, 'dogs': 15},\n",
       " {'h3cell': '89283082833ffff', 'cats': 0, 'dogs': 15},\n",
       " {'h3cell': '8928308283bffff', 'cats': 18, 'dogs': 15},\n",
       " {'h3cell': '892830828bbffff', 'cats': 19, 'dogs': 15},\n",
       " {'h3cell': '8928308280fffff', 'cats': 12, 'dogs': 15},\n",
       " {'h3cell': '8928308281bffff', 'cats': 1, 'dogs': 15},\n",
       " {'h3cell': '89283082813ffff', 'cats': 4, 'dogs': 15},\n",
       " {'h3cell': '89283082803ffff', 'cats': 2, 'dogs': 15},\n",
       " {'h3cell': '89283082817ffff', 'cats': 7, 'dogs': 15},\n",
       " {'h3cell': '892830828cfffff', 'cats': 17, 'dogs': 15},\n",
       " {'h3cell': '8928308280bffff', 'cats': 15, 'dogs': 15},\n",
       " {'h3cell': '89283082873ffff', 'cats': 6, 'dogs': 15},\n",
       " {'h3cell': '8928308288fffff', 'cats': 6, 'dogs': 15},\n",
       " {'h3cell': '89283082877ffff', 'cats': 10, 'dogs': 15},\n",
       " {'h3cell': '892830828c7ffff', 'cats': 19, 'dogs': 15},\n",
       " {'h3cell': '89283082857ffff', 'cats': 10, 'dogs': 15},\n",
       " {'h3cell': '89283082847ffff', 'cats': 4, 'dogs': 15},\n",
       " {'h3cell': '892830828abffff', 'cats': 4, 'dogs': 15},\n",
       " {'h3cell': '8928308288bffff', 'cats': 1, 'dogs': 15}]"
      ]
     },
     "execution_count": 6,
     "metadata": {},
     "output_type": "execute_result"
    }
   ],
   "source": [
    "rows = [{'h3cell': k, 'cats': v, 'dogs': 15} for k,v in hexvals.items()]\n",
    "rows"
   ]
  },
  {
   "cell_type": "code",
   "execution_count": 5,
   "metadata": {},
   "outputs": [
    {
     "data": {
      "text/html": [
       "<iframe src=\"about:blank\" frameborder=\"0\" srcdoc=\"&lt;html&gt;\n",
       "  &lt;head&gt;\n",
       "    &lt;meta http-equiv=&quot;content-type&quot; content=&quot;text/html; charset=UTF-8&quot; /&gt;\n",
       "    &lt;title&gt;pydeck&lt;/title&gt;\n",
       "    &lt;link rel=&quot;stylesheet&quot; href=&quot;https://maxcdn.bootstrapcdn.com/bootstrap/3.2.0/css/bootstrap-theme.min.css&quot; /&gt;\n",
       "    &lt;link rel=&quot;stylesheet&quot; href=&quot;https://maxcdn.bootstrapcdn.com/font-awesome/4.6.3/css/font-awesome.min.css&quot; /&gt;\n",
       "    &lt;script src=&#x27;https://cdn.jsdelivr.net/npm/@deck.gl/jupyter-widget@~8.3.*/dist/index.js&#x27;&gt;&lt;/script&gt;\n",
       "    &lt;style&gt;\n",
       "    body {\n",
       "      margin: 0;\n",
       "      padding: 0;\n",
       "      overflow: hidden;\n",
       "    }\n",
       "\n",
       "    #deck-map-container {\n",
       "      width: 100%;\n",
       "      height: 100%;\n",
       "      background-color: black;\n",
       "    }\n",
       "\n",
       "    #map {\n",
       "      pointer-events: none;\n",
       "      height: 100%;\n",
       "      width: 100%;\n",
       "      position: absolute;\n",
       "      z-index: 1;\n",
       "    }\n",
       "\n",
       "    #deckgl-overlay {\n",
       "      z-index: 2;\n",
       "      background: none;\n",
       "    }\n",
       "\n",
       "    #deck-map-wrapper {\n",
       "      width: 100%;\n",
       "      height: 100%;\n",
       "    }\n",
       "\n",
       "    #deck-container {\n",
       "      width: 100vw;\n",
       "      height: 100vh;\n",
       "    }\n",
       "    &lt;/style&gt;\n",
       "  &lt;/head&gt;\n",
       "  &lt;body&gt;\n",
       "    &lt;div id=&quot;deck-container&quot;&gt;\n",
       "    &lt;/div&gt;\n",
       "  &lt;/body&gt;\n",
       "  &lt;script&gt;\n",
       "    const jsonInput = {&quot;initialViewState&quot;: {&quot;latitude&quot;: 37.773514962123926, &quot;longitude&quot;: -122.41827096231164, &quot;zoom&quot;: 14}, &quot;layers&quot;: [{&quot;@@type&quot;: &quot;H3HexagonLayer&quot;, &quot;data&quot;: [{&quot;_pdk&quot;: {&quot;fill_color&quot;: [66, 106, 66, 100], &quot;h3cell&quot;: &quot;89283082807ffff&quot;, &quot;line_width&quot;: 10.0}, &quot;cats&quot;: 6, &quot;dogs&quot;: 15, &quot;h3cell&quot;: &quot;89283082807ffff&quot;}, {&quot;_pdk&quot;: {&quot;fill_color&quot;: [66, 106, 66, 100], &quot;h3cell&quot;: &quot;89283082833ffff&quot;, &quot;line_width&quot;: 10.0}, &quot;cats&quot;: 0, &quot;dogs&quot;: 15, &quot;h3cell&quot;: &quot;89283082833ffff&quot;}, {&quot;_pdk&quot;: {&quot;fill_color&quot;: [66, 106, 66, 100], &quot;h3cell&quot;: &quot;8928308283bffff&quot;, &quot;line_width&quot;: 10.0}, &quot;cats&quot;: 18, &quot;dogs&quot;: 15, &quot;h3cell&quot;: &quot;8928308283bffff&quot;}, {&quot;_pdk&quot;: {&quot;fill_color&quot;: [66, 106, 66, 100], &quot;h3cell&quot;: &quot;892830828bbffff&quot;, &quot;line_width&quot;: 10.0}, &quot;cats&quot;: 19, &quot;dogs&quot;: 15, &quot;h3cell&quot;: &quot;892830828bbffff&quot;}, {&quot;_pdk&quot;: {&quot;fill_color&quot;: [66, 106, 66, 100], &quot;h3cell&quot;: &quot;8928308280fffff&quot;, &quot;line_width&quot;: 10.0}, &quot;cats&quot;: 12, &quot;dogs&quot;: 15, &quot;h3cell&quot;: &quot;8928308280fffff&quot;}, {&quot;_pdk&quot;: {&quot;fill_color&quot;: [66, 106, 66, 100], &quot;h3cell&quot;: &quot;8928308281bffff&quot;, &quot;line_width&quot;: 10.0}, &quot;cats&quot;: 1, &quot;dogs&quot;: 15, &quot;h3cell&quot;: &quot;8928308281bffff&quot;}, {&quot;_pdk&quot;: {&quot;fill_color&quot;: [66, 106, 66, 100], &quot;h3cell&quot;: &quot;89283082813ffff&quot;, &quot;line_width&quot;: 10.0}, &quot;cats&quot;: 4, &quot;dogs&quot;: 15, &quot;h3cell&quot;: &quot;89283082813ffff&quot;}, {&quot;_pdk&quot;: {&quot;fill_color&quot;: [66, 106, 66, 100], &quot;h3cell&quot;: &quot;89283082803ffff&quot;, &quot;line_width&quot;: 10.0}, &quot;cats&quot;: 2, &quot;dogs&quot;: 15, &quot;h3cell&quot;: &quot;89283082803ffff&quot;}, {&quot;_pdk&quot;: {&quot;fill_color&quot;: [66, 106, 66, 100], &quot;h3cell&quot;: &quot;89283082817ffff&quot;, &quot;line_width&quot;: 10.0}, &quot;cats&quot;: 7, &quot;dogs&quot;: 15, &quot;h3cell&quot;: &quot;89283082817ffff&quot;}, {&quot;_pdk&quot;: {&quot;fill_color&quot;: [66, 106, 66, 100], &quot;h3cell&quot;: &quot;892830828cfffff&quot;, &quot;line_width&quot;: 10.0}, &quot;cats&quot;: 17, &quot;dogs&quot;: 15, &quot;h3cell&quot;: &quot;892830828cfffff&quot;}, {&quot;_pdk&quot;: {&quot;fill_color&quot;: [66, 106, 66, 100], &quot;h3cell&quot;: &quot;8928308280bffff&quot;, &quot;line_width&quot;: 10.0}, &quot;cats&quot;: 15, &quot;dogs&quot;: 15, &quot;h3cell&quot;: &quot;8928308280bffff&quot;}, {&quot;_pdk&quot;: {&quot;fill_color&quot;: [66, 106, 66, 100], &quot;h3cell&quot;: &quot;89283082873ffff&quot;, &quot;line_width&quot;: 10.0}, &quot;cats&quot;: 6, &quot;dogs&quot;: 15, &quot;h3cell&quot;: &quot;89283082873ffff&quot;}, {&quot;_pdk&quot;: {&quot;fill_color&quot;: [66, 106, 66, 100], &quot;h3cell&quot;: &quot;8928308288fffff&quot;, &quot;line_width&quot;: 10.0}, &quot;cats&quot;: 6, &quot;dogs&quot;: 15, &quot;h3cell&quot;: &quot;8928308288fffff&quot;}, {&quot;_pdk&quot;: {&quot;fill_color&quot;: [66, 106, 66, 100], &quot;h3cell&quot;: &quot;89283082877ffff&quot;, &quot;line_width&quot;: 10.0}, &quot;cats&quot;: 10, &quot;dogs&quot;: 15, &quot;h3cell&quot;: &quot;89283082877ffff&quot;}, {&quot;_pdk&quot;: {&quot;fill_color&quot;: [66, 106, 66, 100], &quot;h3cell&quot;: &quot;892830828c7ffff&quot;, &quot;line_width&quot;: 10.0}, &quot;cats&quot;: 19, &quot;dogs&quot;: 15, &quot;h3cell&quot;: &quot;892830828c7ffff&quot;}, {&quot;_pdk&quot;: {&quot;fill_color&quot;: [66, 106, 66, 100], &quot;h3cell&quot;: &quot;89283082857ffff&quot;, &quot;line_width&quot;: 10.0}, &quot;cats&quot;: 10, &quot;dogs&quot;: 15, &quot;h3cell&quot;: &quot;89283082857ffff&quot;}, {&quot;_pdk&quot;: {&quot;fill_color&quot;: [66, 106, 66, 100], &quot;h3cell&quot;: &quot;89283082847ffff&quot;, &quot;line_width&quot;: 10.0}, &quot;cats&quot;: 4, &quot;dogs&quot;: 15, &quot;h3cell&quot;: &quot;89283082847ffff&quot;}, {&quot;_pdk&quot;: {&quot;fill_color&quot;: [66, 106, 66, 100], &quot;h3cell&quot;: &quot;892830828abffff&quot;, &quot;line_width&quot;: 10.0}, &quot;cats&quot;: 4, &quot;dogs&quot;: 15, &quot;h3cell&quot;: &quot;892830828abffff&quot;}, {&quot;_pdk&quot;: {&quot;fill_color&quot;: [66, 106, 66, 100], &quot;h3cell&quot;: &quot;8928308288bffff&quot;, &quot;line_width&quot;: 10.0}, &quot;cats&quot;: 1, &quot;dogs&quot;: 15, &quot;h3cell&quot;: &quot;8928308288bffff&quot;}], &quot;extruded&quot;: false, &quot;getFillColor&quot;: &quot;@@=_pdk.fill_color&quot;, &quot;getHexagon&quot;: &quot;@@=_pdk.h3cell&quot;, &quot;getLineWidth&quot;: &quot;@@=_pdk.line_width&quot;, &quot;id&quot;: &quot;187696ee-4d3d-4634-930c-42250618313e&quot;, &quot;opacity&quot;: 1, &quot;pickable&quot;: true}], &quot;mapProvider&quot;: &quot;mapbox&quot;, &quot;mapStyle&quot;: &quot;mapbox://styles/mapbox/light-v10&quot;, &quot;views&quot;: [{&quot;@@type&quot;: &quot;MapView&quot;, &quot;controller&quot;: true}]};\n",
       "    const MAPBOX_API_KEY = &#x27;pk.eyJ1IjoiYWpmcmllbmQiLCJhIjoiY2pmbmRjczJmMTVkMzJxcW92Y2E4cHZjdCJ9.Jf-gFXU7FOIQxALzPajbdg&#x27;;\n",
       "    const GOOGLE_MAPS_API_KEY = &#x27;None&#x27;;\n",
       "    const tooltip = {&#x27;html&#x27;: &#x27;&lt;b&gt;h3cell&lt;/b&gt;: {h3cell}&lt;br/&gt;&lt;b&gt;cats&lt;/b&gt;: {cats}&lt;br/&gt;&lt;b&gt;dogs&lt;/b&gt;: {dogs}&#x27;};\n",
       "    const customLibraries = null;\n",
       "\n",
       "    const deck = createDeck({\n",
       "      mapboxApiKey: MAPBOX_API_KEY,\n",
       "      googleMapsKey: GOOGLE_MAPS_API_KEY,\n",
       "      container: document.getElementById(&#x27;deck-container&#x27;),\n",
       "      jsonInput,\n",
       "      tooltip,\n",
       "      customLibraries\n",
       "    });\n",
       "\n",
       "  &lt;/script&gt;\n",
       "&lt;/html&gt;\" width=\"100%\" height=500></iframe>"
      ],
      "text/plain": [
       "<IPython.core.display.HTML object>"
      ]
     },
     "execution_count": 5,
     "metadata": {},
     "output_type": "execute_result"
    }
   ],
   "source": [
    "t.plot2d(rows, col_hex='h3cell', opacity=1, line_width=10.0, default_color=(66, 106, 66, 100)).to_html()"
   ]
  },
  {
   "cell_type": "code",
   "execution_count": 6,
   "metadata": {},
   "outputs": [
    {
     "data": {
      "text/html": [
       "<iframe src=\"about:blank\" frameborder=\"0\" srcdoc=\"&lt;html&gt;\n",
       "  &lt;head&gt;\n",
       "    &lt;meta http-equiv=&quot;content-type&quot; content=&quot;text/html; charset=UTF-8&quot; /&gt;\n",
       "    &lt;title&gt;pydeck&lt;/title&gt;\n",
       "    &lt;link rel=&quot;stylesheet&quot; href=&quot;https://maxcdn.bootstrapcdn.com/bootstrap/3.2.0/css/bootstrap-theme.min.css&quot; /&gt;\n",
       "    &lt;link rel=&quot;stylesheet&quot; href=&quot;https://maxcdn.bootstrapcdn.com/font-awesome/4.6.3/css/font-awesome.min.css&quot; /&gt;\n",
       "    &lt;script src=&#x27;https://cdn.jsdelivr.net/npm/@deck.gl/jupyter-widget@~8.3.*/dist/index.js&#x27;&gt;&lt;/script&gt;\n",
       "    &lt;style&gt;\n",
       "    body {\n",
       "      margin: 0;\n",
       "      padding: 0;\n",
       "      overflow: hidden;\n",
       "    }\n",
       "\n",
       "    #deck-map-container {\n",
       "      width: 100%;\n",
       "      height: 100%;\n",
       "      background-color: black;\n",
       "    }\n",
       "\n",
       "    #map {\n",
       "      pointer-events: none;\n",
       "      height: 100%;\n",
       "      width: 100%;\n",
       "      position: absolute;\n",
       "      z-index: 1;\n",
       "    }\n",
       "\n",
       "    #deckgl-overlay {\n",
       "      z-index: 2;\n",
       "      background: none;\n",
       "    }\n",
       "\n",
       "    #deck-map-wrapper {\n",
       "      width: 100%;\n",
       "      height: 100%;\n",
       "    }\n",
       "\n",
       "    #deck-container {\n",
       "      width: 100vw;\n",
       "      height: 100vh;\n",
       "    }\n",
       "    &lt;/style&gt;\n",
       "  &lt;/head&gt;\n",
       "  &lt;body&gt;\n",
       "    &lt;div id=&quot;deck-container&quot;&gt;\n",
       "    &lt;/div&gt;\n",
       "  &lt;/body&gt;\n",
       "  &lt;script&gt;\n",
       "    const jsonInput = {&quot;initialViewState&quot;: {&quot;latitude&quot;: 37.773514962123926, &quot;longitude&quot;: -122.4182709623116, &quot;pitch&quot;: 45, &quot;zoom&quot;: 14}, &quot;layers&quot;: [{&quot;@@type&quot;: &quot;H3HexagonLayer&quot;, &quot;data&quot;: [{&quot;_pdk&quot;: {&quot;elevation&quot;: 20, &quot;fill_color&quot;: [245, 206, 66]}, &quot;cats&quot;: 6, &quot;dogs&quot;: 15, &quot;h3cell&quot;: &quot;89283082807ffff&quot;}, {&quot;_pdk&quot;: {&quot;elevation&quot;: 20, &quot;fill_color&quot;: [245, 206, 66]}, &quot;cats&quot;: 0, &quot;dogs&quot;: 15, &quot;h3cell&quot;: &quot;89283082833ffff&quot;}, {&quot;_pdk&quot;: {&quot;elevation&quot;: 20, &quot;fill_color&quot;: [245, 206, 66]}, &quot;cats&quot;: 18, &quot;dogs&quot;: 15, &quot;h3cell&quot;: &quot;8928308283bffff&quot;}, {&quot;_pdk&quot;: {&quot;elevation&quot;: 20, &quot;fill_color&quot;: [245, 206, 66]}, &quot;cats&quot;: 19, &quot;dogs&quot;: 15, &quot;h3cell&quot;: &quot;892830828bbffff&quot;}, {&quot;_pdk&quot;: {&quot;elevation&quot;: 20, &quot;fill_color&quot;: [245, 206, 66]}, &quot;cats&quot;: 12, &quot;dogs&quot;: 15, &quot;h3cell&quot;: &quot;8928308280fffff&quot;}, {&quot;_pdk&quot;: {&quot;elevation&quot;: 20, &quot;fill_color&quot;: [245, 206, 66]}, &quot;cats&quot;: 1, &quot;dogs&quot;: 15, &quot;h3cell&quot;: &quot;8928308281bffff&quot;}, {&quot;_pdk&quot;: {&quot;elevation&quot;: 20, &quot;fill_color&quot;: [245, 206, 66]}, &quot;cats&quot;: 4, &quot;dogs&quot;: 15, &quot;h3cell&quot;: &quot;89283082813ffff&quot;}, {&quot;_pdk&quot;: {&quot;elevation&quot;: 20, &quot;fill_color&quot;: [245, 206, 66]}, &quot;cats&quot;: 2, &quot;dogs&quot;: 15, &quot;h3cell&quot;: &quot;89283082803ffff&quot;}, {&quot;_pdk&quot;: {&quot;elevation&quot;: 20, &quot;fill_color&quot;: [245, 206, 66]}, &quot;cats&quot;: 7, &quot;dogs&quot;: 15, &quot;h3cell&quot;: &quot;89283082817ffff&quot;}, {&quot;_pdk&quot;: {&quot;elevation&quot;: 20, &quot;fill_color&quot;: [245, 206, 66]}, &quot;cats&quot;: 17, &quot;dogs&quot;: 15, &quot;h3cell&quot;: &quot;892830828cfffff&quot;}, {&quot;_pdk&quot;: {&quot;elevation&quot;: 20, &quot;fill_color&quot;: [245, 206, 66]}, &quot;cats&quot;: 15, &quot;dogs&quot;: 15, &quot;h3cell&quot;: &quot;8928308280bffff&quot;}, {&quot;_pdk&quot;: {&quot;elevation&quot;: 20, &quot;fill_color&quot;: [245, 206, 66]}, &quot;cats&quot;: 6, &quot;dogs&quot;: 15, &quot;h3cell&quot;: &quot;89283082873ffff&quot;}, {&quot;_pdk&quot;: {&quot;elevation&quot;: 20, &quot;fill_color&quot;: [245, 206, 66]}, &quot;cats&quot;: 6, &quot;dogs&quot;: 15, &quot;h3cell&quot;: &quot;8928308288fffff&quot;}, {&quot;_pdk&quot;: {&quot;elevation&quot;: 20, &quot;fill_color&quot;: [245, 206, 66]}, &quot;cats&quot;: 10, &quot;dogs&quot;: 15, &quot;h3cell&quot;: &quot;89283082877ffff&quot;}, {&quot;_pdk&quot;: {&quot;elevation&quot;: 20, &quot;fill_color&quot;: [245, 206, 66]}, &quot;cats&quot;: 19, &quot;dogs&quot;: 15, &quot;h3cell&quot;: &quot;892830828c7ffff&quot;}, {&quot;_pdk&quot;: {&quot;elevation&quot;: 20, &quot;fill_color&quot;: [245, 206, 66]}, &quot;cats&quot;: 10, &quot;dogs&quot;: 15, &quot;h3cell&quot;: &quot;89283082857ffff&quot;}, {&quot;_pdk&quot;: {&quot;elevation&quot;: 20, &quot;fill_color&quot;: [245, 206, 66]}, &quot;cats&quot;: 4, &quot;dogs&quot;: 15, &quot;h3cell&quot;: &quot;89283082847ffff&quot;}, {&quot;_pdk&quot;: {&quot;elevation&quot;: 20, &quot;fill_color&quot;: [245, 206, 66]}, &quot;cats&quot;: 4, &quot;dogs&quot;: 15, &quot;h3cell&quot;: &quot;892830828abffff&quot;}, {&quot;_pdk&quot;: {&quot;elevation&quot;: 20, &quot;fill_color&quot;: [245, 206, 66]}, &quot;cats&quot;: 1, &quot;dogs&quot;: 15, &quot;h3cell&quot;: &quot;8928308288bffff&quot;}], &quot;elevationScale&quot;: 20, &quot;extruded&quot;: true, &quot;getElevation&quot;: &quot;@@=_pdk.elevation&quot;, &quot;getFillColor&quot;: &quot;@@=_pdk.fill_color&quot;, &quot;getHexagon&quot;: &quot;@@=h3cell&quot;, &quot;id&quot;: &quot;6d3284c9-32d7-412a-ad9c-e21914f7488b&quot;, &quot;opacity&quot;: 0.7, &quot;pickable&quot;: true, &quot;wireframe&quot;: false}], &quot;mapProvider&quot;: &quot;mapbox&quot;, &quot;mapStyle&quot;: &quot;mapbox://styles/mapbox/light-v10&quot;, &quot;views&quot;: [{&quot;@@type&quot;: &quot;MapView&quot;, &quot;controller&quot;: true}]};\n",
       "    const MAPBOX_API_KEY = &#x27;pk.eyJ1IjoiYWpmcmllbmQiLCJhIjoiY2pmbmRjczJmMTVkMzJxcW92Y2E4cHZjdCJ9.Jf-gFXU7FOIQxALzPajbdg&#x27;;\n",
       "    const GOOGLE_MAPS_API_KEY = &#x27;None&#x27;;\n",
       "    const tooltip = {&#x27;html&#x27;: &#x27;&lt;b&gt;h3cell&lt;/b&gt;: {h3cell}&lt;br/&gt;&lt;b&gt;cats&lt;/b&gt;: {cats}&lt;br/&gt;&lt;b&gt;dogs&lt;/b&gt;: {dogs}&#x27;};\n",
       "    const customLibraries = null;\n",
       "\n",
       "    const deck = createDeck({\n",
       "      mapboxApiKey: MAPBOX_API_KEY,\n",
       "      googleMapsKey: GOOGLE_MAPS_API_KEY,\n",
       "      container: document.getElementById(&#x27;deck-container&#x27;),\n",
       "      jsonInput,\n",
       "      tooltip,\n",
       "      customLibraries\n",
       "    });\n",
       "\n",
       "  &lt;/script&gt;\n",
       "&lt;/html&gt;\" width=\"100%\" height=500></iframe>"
      ],
      "text/plain": [
       "<IPython.core.display.HTML object>"
      ]
     },
     "execution_count": 6,
     "metadata": {},
     "output_type": "execute_result"
    }
   ],
   "source": [
    "t.plot3d(rows, col_hex='h3cell').to_html()"
   ]
  },
  {
   "cell_type": "code",
   "execution_count": 3,
   "metadata": {},
   "outputs": [
    {
     "data": {
      "text/html": [
       "<iframe src=\"about:blank\" frameborder=\"0\" srcdoc=\"&lt;html&gt;\n",
       "  &lt;head&gt;\n",
       "    &lt;meta http-equiv=&quot;content-type&quot; content=&quot;text/html; charset=UTF-8&quot; /&gt;\n",
       "    &lt;title&gt;pydeck&lt;/title&gt;\n",
       "    &lt;link rel=&quot;stylesheet&quot; href=&quot;https://maxcdn.bootstrapcdn.com/bootstrap/3.2.0/css/bootstrap-theme.min.css&quot; /&gt;\n",
       "    &lt;link rel=&quot;stylesheet&quot; href=&quot;https://maxcdn.bootstrapcdn.com/font-awesome/4.6.3/css/font-awesome.min.css&quot; /&gt;\n",
       "    &lt;script src=&#x27;https://cdn.jsdelivr.net/npm/@deck.gl/jupyter-widget@~8.3.*/dist/index.js&#x27;&gt;&lt;/script&gt;\n",
       "    &lt;style&gt;\n",
       "    body {\n",
       "      margin: 0;\n",
       "      padding: 0;\n",
       "      overflow: hidden;\n",
       "    }\n",
       "\n",
       "    #deck-map-container {\n",
       "      width: 100%;\n",
       "      height: 100%;\n",
       "      background-color: black;\n",
       "    }\n",
       "\n",
       "    #map {\n",
       "      pointer-events: none;\n",
       "      height: 100%;\n",
       "      width: 100%;\n",
       "      position: absolute;\n",
       "      z-index: 1;\n",
       "    }\n",
       "\n",
       "    #deckgl-overlay {\n",
       "      z-index: 2;\n",
       "      background: none;\n",
       "    }\n",
       "\n",
       "    #deck-map-wrapper {\n",
       "      width: 100%;\n",
       "      height: 100%;\n",
       "    }\n",
       "\n",
       "    #deck-container {\n",
       "      width: 100vw;\n",
       "      height: 100vh;\n",
       "    }\n",
       "    &lt;/style&gt;\n",
       "  &lt;/head&gt;\n",
       "  &lt;body&gt;\n",
       "    &lt;div id=&quot;deck-container&quot;&gt;\n",
       "    &lt;/div&gt;\n",
       "  &lt;/body&gt;\n",
       "  &lt;script&gt;\n",
       "    const jsonInput = {&quot;initialViewState&quot;: {&quot;latitude&quot;: 37.77351496212393, &quot;longitude&quot;: -122.41827096231162, &quot;zoom&quot;: 14}, &quot;layers&quot;: [{&quot;@@type&quot;: &quot;H3HexagonLayer&quot;, &quot;data&quot;: [{&quot;_pdk&quot;: {&quot;fill_color&quot;: [254, 197, 96], &quot;line_width&quot;: 10}, &quot;h3cell&quot;: &quot;89283082807ffff&quot;, &quot;value&quot;: 6}, {&quot;_pdk&quot;: {&quot;fill_color&quot;: [255, 255, 204], &quot;line_width&quot;: 10}, &quot;h3cell&quot;: &quot;89283082833ffff&quot;, &quot;value&quot;: 0}, {&quot;_pdk&quot;: {&quot;fill_color&quot;: [152, 0, 38], &quot;line_width&quot;: 10}, &quot;h3cell&quot;: &quot;8928308283bffff&quot;, &quot;value&quot;: 18}, {&quot;_pdk&quot;: {&quot;fill_color&quot;: [128, 0, 38], &quot;line_width&quot;: 10}, &quot;h3cell&quot;: &quot;892830828bbffff&quot;, &quot;value&quot;: 19}, {&quot;_pdk&quot;: {&quot;fill_color&quot;: [250, 75, 41], &quot;line_width&quot;: 10}, &quot;h3cell&quot;: &quot;8928308280fffff&quot;, &quot;value&quot;: 12}, {&quot;_pdk&quot;: {&quot;fill_color&quot;: [255, 247, 186], &quot;line_width&quot;: 10}, &quot;h3cell&quot;: &quot;8928308281bffff&quot;, &quot;value&quot;: 1}, {&quot;_pdk&quot;: {&quot;fill_color&quot;: [254, 223, 132], &quot;line_width&quot;: 10}, &quot;h3cell&quot;: &quot;89283082813ffff&quot;, &quot;value&quot;: 4}, {&quot;_pdk&quot;: {&quot;fill_color&quot;: [255, 240, 168], &quot;line_width&quot;: 10}, &quot;h3cell&quot;: &quot;89283082803ffff&quot;, &quot;value&quot;: 2}, {&quot;_pdk&quot;: {&quot;fill_color&quot;: [254, 179, 78], &quot;line_width&quot;: 10}, &quot;h3cell&quot;: &quot;89283082817ffff&quot;, &quot;value&quot;: 7}, {&quot;_pdk&quot;: {&quot;fill_color&quot;: [177, 0, 38], &quot;line_width&quot;: 10}, &quot;h3cell&quot;: &quot;892830828cfffff&quot;, &quot;value&quot;: 17}, {&quot;_pdk&quot;: {&quot;fill_color&quot;: [214, 17, 31], &quot;line_width&quot;: 10}, &quot;h3cell&quot;: &quot;8928308280bffff&quot;, &quot;value&quot;: 15}, {&quot;_pdk&quot;: {&quot;fill_color&quot;: [254, 197, 96], &quot;line_width&quot;: 10}, &quot;h3cell&quot;: &quot;89283082873ffff&quot;, &quot;value&quot;: 6}, {&quot;_pdk&quot;: {&quot;fill_color&quot;: [254, 197, 96], &quot;line_width&quot;: 10}, &quot;h3cell&quot;: &quot;8928308288fffff&quot;, &quot;value&quot;: 6}, {&quot;_pdk&quot;: {&quot;fill_color&quot;: [252, 128, 56], &quot;line_width&quot;: 10}, &quot;h3cell&quot;: &quot;89283082877ffff&quot;, &quot;value&quot;: 10}, {&quot;_pdk&quot;: {&quot;fill_color&quot;: [128, 0, 38], &quot;line_width&quot;: 10}, &quot;h3cell&quot;: &quot;892830828c7ffff&quot;, &quot;value&quot;: 19}, {&quot;_pdk&quot;: {&quot;fill_color&quot;: [252, 128, 56], &quot;line_width&quot;: 10}, &quot;h3cell&quot;: &quot;89283082857ffff&quot;, &quot;value&quot;: 10}, {&quot;_pdk&quot;: {&quot;fill_color&quot;: [254, 223, 132], &quot;line_width&quot;: 10}, &quot;h3cell&quot;: &quot;89283082847ffff&quot;, &quot;value&quot;: 4}, {&quot;_pdk&quot;: {&quot;fill_color&quot;: [254, 223, 132], &quot;line_width&quot;: 10}, &quot;h3cell&quot;: &quot;892830828abffff&quot;, &quot;value&quot;: 4}, {&quot;_pdk&quot;: {&quot;fill_color&quot;: [255, 247, 186], &quot;line_width&quot;: 10}, &quot;h3cell&quot;: &quot;8928308288bffff&quot;, &quot;value&quot;: 1}], &quot;extruded&quot;: false, &quot;getFillColor&quot;: &quot;@@=_pdk.fill_color&quot;, &quot;getHexagon&quot;: &quot;@@=h3cell&quot;, &quot;getLineWidth&quot;: &quot;@@=_pdk.line_width&quot;, &quot;id&quot;: &quot;b9bbf4a4-ef32-47fa-a2fd-911b1c716276&quot;, &quot;opacity&quot;: 0.4, &quot;pickable&quot;: true}], &quot;mapProvider&quot;: &quot;mapbox&quot;, &quot;mapStyle&quot;: &quot;mapbox://styles/mapbox/light-v10&quot;, &quot;views&quot;: [{&quot;@@type&quot;: &quot;MapView&quot;, &quot;controller&quot;: true}]};\n",
       "    const MAPBOX_API_KEY = &#x27;pk.eyJ1IjoiYWpmcmllbmQiLCJhIjoiY2pmbmRjczJmMTVkMzJxcW92Y2E4cHZjdCJ9.Jf-gFXU7FOIQxALzPajbdg&#x27;;\n",
       "    const GOOGLE_MAPS_API_KEY = &#x27;None&#x27;;\n",
       "    const tooltip = {&#x27;html&#x27;: &#x27;&lt;b&gt;h3cell&lt;/b&gt;: {h3cell}&lt;br/&gt;&lt;b&gt;value&lt;/b&gt;: {value}&#x27;};\n",
       "    const customLibraries = null;\n",
       "\n",
       "    const deck = createDeck({\n",
       "      mapboxApiKey: MAPBOX_API_KEY,\n",
       "      googleMapsKey: GOOGLE_MAPS_API_KEY,\n",
       "      container: document.getElementById(&#x27;deck-container&#x27;),\n",
       "      jsonInput,\n",
       "      tooltip,\n",
       "      customLibraries\n",
       "    });\n",
       "\n",
       "  &lt;/script&gt;\n",
       "&lt;/html&gt;\" width=\"100%\" height=500></iframe>"
      ],
      "text/plain": [
       "<IPython.core.display.HTML object>"
      ]
     },
     "execution_count": 3,
     "metadata": {},
     "output_type": "execute_result"
    }
   ],
   "source": [
    "u.plot_hexvals(hexvals, line_width=10, opacity=.4).to_html()"
   ]
  },
  {
   "cell_type": "code",
   "execution_count": 4,
   "metadata": {},
   "outputs": [
    {
     "data": {
      "text/html": [
       "<iframe src=\"about:blank\" frameborder=\"0\" srcdoc=\"&lt;html&gt;\n",
       "  &lt;head&gt;\n",
       "    &lt;meta http-equiv=&quot;content-type&quot; content=&quot;text/html; charset=UTF-8&quot; /&gt;\n",
       "    &lt;title&gt;pydeck&lt;/title&gt;\n",
       "    &lt;link rel=&quot;stylesheet&quot; href=&quot;https://maxcdn.bootstrapcdn.com/bootstrap/3.2.0/css/bootstrap-theme.min.css&quot; /&gt;\n",
       "    &lt;link rel=&quot;stylesheet&quot; href=&quot;https://maxcdn.bootstrapcdn.com/font-awesome/4.6.3/css/font-awesome.min.css&quot; /&gt;\n",
       "    &lt;script src=&#x27;https://cdn.jsdelivr.net/npm/@deck.gl/jupyter-widget@~8.3.*/dist/index.js&#x27;&gt;&lt;/script&gt;\n",
       "    &lt;style&gt;\n",
       "    body {\n",
       "      margin: 0;\n",
       "      padding: 0;\n",
       "      overflow: hidden;\n",
       "    }\n",
       "\n",
       "    #deck-map-container {\n",
       "      width: 100%;\n",
       "      height: 100%;\n",
       "      background-color: black;\n",
       "    }\n",
       "\n",
       "    #map {\n",
       "      pointer-events: none;\n",
       "      height: 100%;\n",
       "      width: 100%;\n",
       "      position: absolute;\n",
       "      z-index: 1;\n",
       "    }\n",
       "\n",
       "    #deckgl-overlay {\n",
       "      z-index: 2;\n",
       "      background: none;\n",
       "    }\n",
       "\n",
       "    #deck-map-wrapper {\n",
       "      width: 100%;\n",
       "      height: 100%;\n",
       "    }\n",
       "\n",
       "    #deck-container {\n",
       "      width: 100vw;\n",
       "      height: 100vh;\n",
       "    }\n",
       "    &lt;/style&gt;\n",
       "  &lt;/head&gt;\n",
       "  &lt;body&gt;\n",
       "    &lt;div id=&quot;deck-container&quot;&gt;\n",
       "    &lt;/div&gt;\n",
       "  &lt;/body&gt;\n",
       "  &lt;script&gt;\n",
       "    const jsonInput = {&quot;initialViewState&quot;: {&quot;latitude&quot;: 37.77351496212393, &quot;longitude&quot;: -122.41827096231162, &quot;pitch&quot;: 45, &quot;zoom&quot;: 14}, &quot;layers&quot;: [{&quot;@@type&quot;: &quot;H3HexagonLayer&quot;, &quot;data&quot;: [{&quot;_pdk&quot;: {&quot;elevation&quot;: 6, &quot;fill_color&quot;: [254, 197, 96]}, &quot;h3cell&quot;: &quot;89283082807ffff&quot;, &quot;value&quot;: 6}, {&quot;_pdk&quot;: {&quot;elevation&quot;: 0, &quot;fill_color&quot;: [255, 255, 204]}, &quot;h3cell&quot;: &quot;89283082833ffff&quot;, &quot;value&quot;: 0}, {&quot;_pdk&quot;: {&quot;elevation&quot;: 18, &quot;fill_color&quot;: [152, 0, 38]}, &quot;h3cell&quot;: &quot;8928308283bffff&quot;, &quot;value&quot;: 18}, {&quot;_pdk&quot;: {&quot;elevation&quot;: 19, &quot;fill_color&quot;: [128, 0, 38]}, &quot;h3cell&quot;: &quot;892830828bbffff&quot;, &quot;value&quot;: 19}, {&quot;_pdk&quot;: {&quot;elevation&quot;: 12, &quot;fill_color&quot;: [250, 75, 41]}, &quot;h3cell&quot;: &quot;8928308280fffff&quot;, &quot;value&quot;: 12}, {&quot;_pdk&quot;: {&quot;elevation&quot;: 1, &quot;fill_color&quot;: [255, 247, 186]}, &quot;h3cell&quot;: &quot;8928308281bffff&quot;, &quot;value&quot;: 1}, {&quot;_pdk&quot;: {&quot;elevation&quot;: 4, &quot;fill_color&quot;: [254, 223, 132]}, &quot;h3cell&quot;: &quot;89283082813ffff&quot;, &quot;value&quot;: 4}, {&quot;_pdk&quot;: {&quot;elevation&quot;: 2, &quot;fill_color&quot;: [255, 240, 168]}, &quot;h3cell&quot;: &quot;89283082803ffff&quot;, &quot;value&quot;: 2}, {&quot;_pdk&quot;: {&quot;elevation&quot;: 7, &quot;fill_color&quot;: [254, 179, 78]}, &quot;h3cell&quot;: &quot;89283082817ffff&quot;, &quot;value&quot;: 7}, {&quot;_pdk&quot;: {&quot;elevation&quot;: 17, &quot;fill_color&quot;: [177, 0, 38]}, &quot;h3cell&quot;: &quot;892830828cfffff&quot;, &quot;value&quot;: 17}, {&quot;_pdk&quot;: {&quot;elevation&quot;: 15, &quot;fill_color&quot;: [214, 17, 31]}, &quot;h3cell&quot;: &quot;8928308280bffff&quot;, &quot;value&quot;: 15}, {&quot;_pdk&quot;: {&quot;elevation&quot;: 6, &quot;fill_color&quot;: [254, 197, 96]}, &quot;h3cell&quot;: &quot;89283082873ffff&quot;, &quot;value&quot;: 6}, {&quot;_pdk&quot;: {&quot;elevation&quot;: 6, &quot;fill_color&quot;: [254, 197, 96]}, &quot;h3cell&quot;: &quot;8928308288fffff&quot;, &quot;value&quot;: 6}, {&quot;_pdk&quot;: {&quot;elevation&quot;: 10, &quot;fill_color&quot;: [252, 128, 56]}, &quot;h3cell&quot;: &quot;89283082877ffff&quot;, &quot;value&quot;: 10}, {&quot;_pdk&quot;: {&quot;elevation&quot;: 19, &quot;fill_color&quot;: [128, 0, 38]}, &quot;h3cell&quot;: &quot;892830828c7ffff&quot;, &quot;value&quot;: 19}, {&quot;_pdk&quot;: {&quot;elevation&quot;: 10, &quot;fill_color&quot;: [252, 128, 56]}, &quot;h3cell&quot;: &quot;89283082857ffff&quot;, &quot;value&quot;: 10}, {&quot;_pdk&quot;: {&quot;elevation&quot;: 4, &quot;fill_color&quot;: [254, 223, 132]}, &quot;h3cell&quot;: &quot;89283082847ffff&quot;, &quot;value&quot;: 4}, {&quot;_pdk&quot;: {&quot;elevation&quot;: 4, &quot;fill_color&quot;: [254, 223, 132]}, &quot;h3cell&quot;: &quot;892830828abffff&quot;, &quot;value&quot;: 4}, {&quot;_pdk&quot;: {&quot;elevation&quot;: 1, &quot;fill_color&quot;: [255, 247, 186]}, &quot;h3cell&quot;: &quot;8928308288bffff&quot;, &quot;value&quot;: 1}], &quot;elevationScale&quot;: 20, &quot;extruded&quot;: true, &quot;getElevation&quot;: &quot;@@=_pdk.elevation&quot;, &quot;getFillColor&quot;: &quot;@@=_pdk.fill_color&quot;, &quot;getHexagon&quot;: &quot;@@=h3cell&quot;, &quot;id&quot;: &quot;91580258-9f75-4c3e-83f1-ac1f73856fa3&quot;, &quot;opacity&quot;: 0.4, &quot;pickable&quot;: true, &quot;wireframe&quot;: true}], &quot;mapProvider&quot;: &quot;mapbox&quot;, &quot;mapStyle&quot;: &quot;mapbox://styles/mapbox/light-v10&quot;, &quot;views&quot;: [{&quot;@@type&quot;: &quot;MapView&quot;, &quot;controller&quot;: true}]};\n",
       "    const MAPBOX_API_KEY = &#x27;pk.eyJ1IjoiYWpmcmllbmQiLCJhIjoiY2pmbmRjczJmMTVkMzJxcW92Y2E4cHZjdCJ9.Jf-gFXU7FOIQxALzPajbdg&#x27;;\n",
       "    const GOOGLE_MAPS_API_KEY = &#x27;None&#x27;;\n",
       "    const tooltip = {&#x27;html&#x27;: &#x27;&lt;b&gt;h3cell&lt;/b&gt;: {h3cell}&lt;br/&gt;&lt;b&gt;value&lt;/b&gt;: {value}&#x27;};\n",
       "    const customLibraries = null;\n",
       "\n",
       "    const deck = createDeck({\n",
       "      mapboxApiKey: MAPBOX_API_KEY,\n",
       "      googleMapsKey: GOOGLE_MAPS_API_KEY,\n",
       "      container: document.getElementById(&#x27;deck-container&#x27;),\n",
       "      jsonInput,\n",
       "      tooltip,\n",
       "      customLibraries\n",
       "    });\n",
       "\n",
       "  &lt;/script&gt;\n",
       "&lt;/html&gt;\" width=\"100%\" height=500></iframe>"
      ],
      "text/plain": [
       "<IPython.core.display.HTML object>"
      ]
     },
     "execution_count": 4,
     "metadata": {},
     "output_type": "execute_result"
    }
   ],
   "source": [
    "u.plot_hexvals3D(hexvals, opacity=.4).to_html()"
   ]
  },
  {
   "cell_type": "code",
   "execution_count": 5,
   "metadata": {},
   "outputs": [
    {
     "data": {
      "text/html": [
       "<iframe src=\"about:blank\" frameborder=\"0\" srcdoc=\"&lt;html&gt;\n",
       "  &lt;head&gt;\n",
       "    &lt;meta http-equiv=&quot;content-type&quot; content=&quot;text/html; charset=UTF-8&quot; /&gt;\n",
       "    &lt;title&gt;pydeck&lt;/title&gt;\n",
       "    &lt;link rel=&quot;stylesheet&quot; href=&quot;https://maxcdn.bootstrapcdn.com/bootstrap/3.2.0/css/bootstrap-theme.min.css&quot; /&gt;\n",
       "    &lt;link rel=&quot;stylesheet&quot; href=&quot;https://maxcdn.bootstrapcdn.com/font-awesome/4.6.3/css/font-awesome.min.css&quot; /&gt;\n",
       "    &lt;script src=&#x27;https://cdn.jsdelivr.net/npm/@deck.gl/jupyter-widget@~8.3.*/dist/index.js&#x27;&gt;&lt;/script&gt;\n",
       "    &lt;style&gt;\n",
       "    body {\n",
       "      margin: 0;\n",
       "      padding: 0;\n",
       "      overflow: hidden;\n",
       "    }\n",
       "\n",
       "    #deck-map-container {\n",
       "      width: 100%;\n",
       "      height: 100%;\n",
       "      background-color: black;\n",
       "    }\n",
       "\n",
       "    #map {\n",
       "      pointer-events: none;\n",
       "      height: 100%;\n",
       "      width: 100%;\n",
       "      position: absolute;\n",
       "      z-index: 1;\n",
       "    }\n",
       "\n",
       "    #deckgl-overlay {\n",
       "      z-index: 2;\n",
       "      background: none;\n",
       "    }\n",
       "\n",
       "    #deck-map-wrapper {\n",
       "      width: 100%;\n",
       "      height: 100%;\n",
       "    }\n",
       "\n",
       "    #deck-container {\n",
       "      width: 100vw;\n",
       "      height: 100vh;\n",
       "    }\n",
       "    &lt;/style&gt;\n",
       "  &lt;/head&gt;\n",
       "  &lt;body&gt;\n",
       "    &lt;div id=&quot;deck-container&quot;&gt;\n",
       "    &lt;/div&gt;\n",
       "  &lt;/body&gt;\n",
       "  &lt;script&gt;\n",
       "    const jsonInput = {&quot;initialViewState&quot;: {&quot;latitude&quot;: 37.77351496212393, &quot;longitude&quot;: -122.41827096231162, &quot;pitch&quot;: 45, &quot;zoom&quot;: 14}, &quot;layers&quot;: [{&quot;@@type&quot;: &quot;H3HexagonLayer&quot;, &quot;data&quot;: [{&quot;_pdk&quot;: {&quot;elevation&quot;: 6, &quot;fill_color&quot;: [254, 179, 78]}, &quot;h3cell&quot;: &quot;89283082807ffff&quot;, &quot;val1&quot;: 6, &quot;val2&quot;: 7}, {&quot;_pdk&quot;: {&quot;elevation&quot;: 0, &quot;fill_color&quot;: [128, 0, 38]}, &quot;h3cell&quot;: &quot;89283082833ffff&quot;, &quot;val1&quot;: 0, &quot;val2&quot;: 19}, {&quot;_pdk&quot;: {&quot;elevation&quot;: 18, &quot;fill_color&quot;: [229, 31, 29]}, &quot;h3cell&quot;: &quot;8928308283bffff&quot;, &quot;val1&quot;: 18, &quot;val2&quot;: 14}, {&quot;_pdk&quot;: {&quot;elevation&quot;: 19, &quot;fill_color&quot;: [254, 179, 78]}, &quot;h3cell&quot;: &quot;892830828bbffff&quot;, &quot;val1&quot;: 19, &quot;val2&quot;: 7}, {&quot;_pdk&quot;: {&quot;elevation&quot;: 12, &quot;fill_color&quot;: [253, 148, 63]}, &quot;h3cell&quot;: &quot;8928308280fffff&quot;, &quot;val1&quot;: 12, &quot;val2&quot;: 9}, {&quot;_pdk&quot;: {&quot;elevation&quot;: 1, &quot;fill_color&quot;: [177, 0, 38]}, &quot;h3cell&quot;: &quot;8928308281bffff&quot;, &quot;val1&quot;: 1, &quot;val2&quot;: 17}, {&quot;_pdk&quot;: {&quot;elevation&quot;: 4, &quot;fill_color&quot;: [214, 17, 31]}, &quot;h3cell&quot;: &quot;89283082813ffff&quot;, &quot;val1&quot;: 4, &quot;val2&quot;: 15}, {&quot;_pdk&quot;: {&quot;elevation&quot;: 2, &quot;fill_color&quot;: [255, 255, 204]}, &quot;h3cell&quot;: &quot;89283082803ffff&quot;, &quot;val1&quot;: 2, &quot;val2&quot;: 0}, {&quot;_pdk&quot;: {&quot;elevation&quot;: 7, &quot;fill_color&quot;: [254, 179, 78]}, &quot;h3cell&quot;: &quot;89283082817ffff&quot;, &quot;val1&quot;: 7, &quot;val2&quot;: 7}, {&quot;_pdk&quot;: {&quot;elevation&quot;: 17, &quot;fill_color&quot;: [252, 128, 56]}, &quot;h3cell&quot;: &quot;892830828cfffff&quot;, &quot;val1&quot;: 17, &quot;val2&quot;: 10}, {&quot;_pdk&quot;: {&quot;elevation&quot;: 15, &quot;fill_color&quot;: [250, 75, 41]}, &quot;h3cell&quot;: &quot;8928308280bffff&quot;, &quot;val1&quot;: 15, &quot;val2&quot;: 12}, {&quot;_pdk&quot;: {&quot;elevation&quot;: 6, &quot;fill_color&quot;: [128, 0, 38]}, &quot;h3cell&quot;: &quot;89283082873ffff&quot;, &quot;val1&quot;: 6, &quot;val2&quot;: 19}, {&quot;_pdk&quot;: {&quot;elevation&quot;: 6, &quot;fill_color&quot;: [255, 240, 168]}, &quot;h3cell&quot;: &quot;8928308288fffff&quot;, &quot;val1&quot;: 6, &quot;val2&quot;: 2}, {&quot;_pdk&quot;: {&quot;elevation&quot;: 10, &quot;fill_color&quot;: [128, 0, 38]}, &quot;h3cell&quot;: &quot;89283082877ffff&quot;, &quot;val1&quot;: 10, &quot;val2&quot;: 19}, {&quot;_pdk&quot;: {&quot;elevation&quot;: 19, &quot;fill_color&quot;: [253, 164, 70]}, &quot;h3cell&quot;: &quot;892830828c7ffff&quot;, &quot;val1&quot;: 19, &quot;val2&quot;: 8}, {&quot;_pdk&quot;: {&quot;elevation&quot;: 10, &quot;fill_color&quot;: [177, 0, 38]}, &quot;h3cell&quot;: &quot;89283082857ffff&quot;, &quot;val1&quot;: 10, &quot;val2&quot;: 17}, {&quot;_pdk&quot;: {&quot;elevation&quot;: 4, &quot;fill_color&quot;: [255, 247, 186]}, &quot;h3cell&quot;: &quot;89283082847ffff&quot;, &quot;val1&quot;: 4, &quot;val2&quot;: 1}, {&quot;_pdk&quot;: {&quot;elevation&quot;: 4, &quot;fill_color&quot;: [252, 128, 56]}, &quot;h3cell&quot;: &quot;892830828abffff&quot;, &quot;val1&quot;: 4, &quot;val2&quot;: 10}, {&quot;_pdk&quot;: {&quot;elevation&quot;: 1, &quot;fill_color&quot;: [252, 100, 48]}, &quot;h3cell&quot;: &quot;8928308288bffff&quot;, &quot;val1&quot;: 1, &quot;val2&quot;: 11}], &quot;elevationScale&quot;: 20, &quot;extruded&quot;: true, &quot;getElevation&quot;: &quot;@@=_pdk.elevation&quot;, &quot;getFillColor&quot;: &quot;@@=_pdk.fill_color&quot;, &quot;getHexagon&quot;: &quot;@@=h3cell&quot;, &quot;id&quot;: &quot;21b5ab93-0b60-4b4c-b252-1f2972a02816&quot;, &quot;opacity&quot;: 0.4, &quot;pickable&quot;: true, &quot;wireframe&quot;: true}], &quot;mapProvider&quot;: &quot;mapbox&quot;, &quot;mapStyle&quot;: &quot;mapbox://styles/mapbox/light-v10&quot;, &quot;views&quot;: [{&quot;@@type&quot;: &quot;MapView&quot;, &quot;controller&quot;: true}]};\n",
       "    const MAPBOX_API_KEY = &#x27;pk.eyJ1IjoiYWpmcmllbmQiLCJhIjoiY2pmbmRjczJmMTVkMzJxcW92Y2E4cHZjdCJ9.Jf-gFXU7FOIQxALzPajbdg&#x27;;\n",
       "    const GOOGLE_MAPS_API_KEY = &#x27;None&#x27;;\n",
       "    const tooltip = {&#x27;html&#x27;: &#x27;&lt;b&gt;h3cell&lt;/b&gt;: {h3cell}&lt;br/&gt;&lt;b&gt;val1&lt;/b&gt;: {val1}&lt;br/&gt;&lt;b&gt;val2&lt;/b&gt;: {val2}&#x27;};\n",
       "    const customLibraries = null;\n",
       "\n",
       "    const deck = createDeck({\n",
       "      mapboxApiKey: MAPBOX_API_KEY,\n",
       "      googleMapsKey: GOOGLE_MAPS_API_KEY,\n",
       "      container: document.getElementById(&#x27;deck-container&#x27;),\n",
       "      jsonInput,\n",
       "      tooltip,\n",
       "      customLibraries\n",
       "    });\n",
       "\n",
       "  &lt;/script&gt;\n",
       "&lt;/html&gt;\" width=\"100%\" height=500></iframe>"
      ],
      "text/plain": [
       "<IPython.core.display.HTML object>"
      ]
     },
     "execution_count": 5,
     "metadata": {},
     "output_type": "execute_result"
    }
   ],
   "source": [
    "cellmap = {\n",
    "    '89283082807ffff': {'val1': 6, 'val2': 7},\n",
    "    '89283082833ffff': {'val1': 0, 'val2': 19},\n",
    "    '8928308283bffff': {'val1': 18, 'val2': 14},\n",
    "    '892830828bbffff': {'val1': 19, 'val2': 7},\n",
    "    '8928308280fffff': {'val1': 12, 'val2': 9},\n",
    "    '8928308281bffff': {'val1': 1, 'val2': 17},\n",
    "    '89283082813ffff': {'val1': 4, 'val2': 15},\n",
    "    '89283082803ffff': {'val1': 2, 'val2': 0},\n",
    "    '89283082817ffff': {'val1': 7, 'val2': 7},\n",
    "    '892830828cfffff': {'val1': 17, 'val2': 10},\n",
    "    '8928308280bffff': {'val1': 15, 'val2': 12},\n",
    "    '89283082873ffff': {'val1': 6, 'val2': 19},\n",
    "    '8928308288fffff': {'val1': 6, 'val2': 2},\n",
    "    '89283082877ffff': {'val1': 10, 'val2': 19},\n",
    "    '892830828c7ffff': {'val1': 19, 'val2': 8},\n",
    "    '89283082857ffff': {'val1': 10, 'val2': 17},\n",
    "    '89283082847ffff': {'val1': 4, 'val2': 1},\n",
    "    '892830828abffff': {'val1': 4, 'val2': 10},\n",
    "    '8928308288bffff': {'val1': 1, 'val2': 11}\n",
    "}\n",
    "u.plot_hexvals4D(cellmap, opacity=.4, col_color = 'val2', col_height = 'val1').to_html()"
   ]
  },
  {
   "cell_type": "code",
   "execution_count": null,
   "metadata": {},
   "outputs": [],
   "source": []
  }
 ],
 "metadata": {
  "kernelspec": {
   "display_name": "Python 3",
   "language": "python",
   "name": "python3"
  },
  "language_info": {
   "codemirror_mode": {
    "name": "ipython",
    "version": 3
   },
   "file_extension": ".py",
   "mimetype": "text/x-python",
   "name": "python",
   "nbconvert_exporter": "python",
   "pygments_lexer": "ipython3",
   "version": "3.8.5"
  }
 },
 "nbformat": 4,
 "nbformat_minor": 4
}
