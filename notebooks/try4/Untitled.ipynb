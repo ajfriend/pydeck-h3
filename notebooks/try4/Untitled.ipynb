{
 "cells": [
  {
   "cell_type": "code",
   "execution_count": 1,
   "metadata": {},
   "outputs": [
    {
     "data": {
      "text/plain": [
       "OrderedDict([('0', [53, 223, 63]),\n",
       "             ('1', [145, 109, 235]),\n",
       "             ('2', [181, 131, 66]),\n",
       "             ('3', [191, 25, 3]),\n",
       "             ('4', [184, 92, 60]),\n",
       "             ('5', [63, 195, 34]),\n",
       "             ('6', [92, 38, 248]),\n",
       "             ('7', [128, 180, 250]),\n",
       "             ('8', [181, 130, 27]),\n",
       "             ('9', [113, 64, 129])])"
      ]
     },
     "execution_count": 1,
     "metadata": {},
     "output_type": "execute_result"
    }
   ],
   "source": [
    "import pydeck as pdk\n",
    "\n",
    "pdk.data_utils.assign_random_colors(range(10))"
   ]
  },
  {
   "cell_type": "code",
   "execution_count": null,
   "metadata": {},
   "outputs": [],
   "source": []
  }
 ],
 "metadata": {
  "kernelspec": {
   "display_name": "Python 3",
   "language": "python",
   "name": "python3"
  },
  "language_info": {
   "codemirror_mode": {
    "name": "ipython",
    "version": 3
   },
   "file_extension": ".py",
   "mimetype": "text/x-python",
   "name": "python",
   "nbconvert_exporter": "python",
   "pygments_lexer": "ipython3",
   "version": "3.8.5"
  }
 },
 "nbformat": 4,
 "nbformat_minor": 4
}
