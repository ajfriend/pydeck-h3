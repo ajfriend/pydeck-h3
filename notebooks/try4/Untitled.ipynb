{
 "cells": [
  {
   "cell_type": "code",
   "execution_count": 1,
   "metadata": {},
   "outputs": [
    {
     "data": {
      "text/plain": [
       "OrderedDict([('0', [53, 223, 63]),\n",
       "             ('1', [145, 109, 235]),\n",
       "             ('2', [181, 131, 66]),\n",
       "             ('3', [191, 25, 3]),\n",
       "             ('4', [184, 92, 60]),\n",
       "             ('5', [63, 195, 34]),\n",
       "             ('6', [92, 38, 248]),\n",
       "             ('7', [128, 180, 250]),\n",
       "             ('8', [181, 130, 27]),\n",
       "             ('9', [113, 64, 129])])"
      ]
     },
     "execution_count": 1,
     "metadata": {},
     "output_type": "execute_result"
    }
   ],
   "source": [
    "import pydeck as pdk\n",
    "\n",
    "pdk.data_utils.assign_random_colors(range(10))"
   ]
  },
  {
   "cell_type": "code",
   "execution_count": 2,
   "metadata": {},
   "outputs": [],
   "source": [
    "import matplotlib.pyplot as plt"
   ]
  },
  {
   "cell_type": "code",
   "execution_count": 32,
   "metadata": {},
   "outputs": [],
   "source": [
    "def get_scaled_cmap(cmap='YlOrRd', lower=0.0, upper=1.0):\n",
    "\n",
    "    if isinstance(cmap, str):\n",
    "        cmap = plt.get_cmap(cmap)\n",
    "        \n",
    "    if lower == upper:\n",
    "        pass # what to do!\n",
    "\n",
    "    def foo(value):\n",
    "        assert lower <= value <= upper\n",
    "        \n",
    "        if lower == upper:\n",
    "            value = 1.0\n",
    "        else:\n",
    "            value = (value - lower)/float(upper - lower)\n",
    "        \n",
    "        out = cmap(value, bytes=True)\n",
    "        out = map(int, out)\n",
    "        \n",
    "        r, g, b, a = out\n",
    "        \n",
    "        return r,g,b,a\n",
    "    \n",
    "    return foo\n",
    "        "
   ]
  },
  {
   "cell_type": "code",
   "execution_count": 33,
   "metadata": {},
   "outputs": [],
   "source": [
    "cmap = get_scaled_cmap('YlOrRd', 0, 1)"
   ]
  },
  {
   "cell_type": "code",
   "execution_count": 36,
   "metadata": {},
   "outputs": [
    {
     "data": {
      "text/plain": [
       "(255, 255, 204, 255)"
      ]
     },
     "execution_count": 36,
     "metadata": {},
     "output_type": "execute_result"
    }
   ],
   "source": [
    "cmap(0)"
   ]
  },
  {
   "cell_type": "code",
   "execution_count": 12,
   "metadata": {},
   "outputs": [
    {
     "data": {
      "text/plain": [
       "\u001b[0;31mSignature:\u001b[0m      \u001b[0mcmap\u001b[0m\u001b[0;34m(\u001b[0m\u001b[0mX\u001b[0m\u001b[0;34m,\u001b[0m \u001b[0malpha\u001b[0m\u001b[0;34m=\u001b[0m\u001b[0;32mNone\u001b[0m\u001b[0;34m,\u001b[0m \u001b[0mbytes\u001b[0m\u001b[0;34m=\u001b[0m\u001b[0;32mFalse\u001b[0m\u001b[0;34m)\u001b[0m\u001b[0;34m\u001b[0m\u001b[0;34m\u001b[0m\u001b[0m\n",
       "\u001b[0;31mType:\u001b[0m           LinearSegmentedColormap\n",
       "\u001b[0;31mString form:\u001b[0m    <matplotlib.colors.LinearSegmentedColormap object at 0x11e212640>\n",
       "\u001b[0;31mFile:\u001b[0m           ~/work/pydeck-h3/env/lib/python3.8/site-packages/matplotlib/colors.py\n",
       "\u001b[0;31mDocstring:\u001b[0m     \n",
       "Colormap objects based on lookup tables using linear segments.\n",
       "\n",
       "The lookup table is generated using linear interpolation for each\n",
       "primary color, with the 0-1 domain divided into any number of\n",
       "segments.\n",
       "\u001b[0;31mInit docstring:\u001b[0m\n",
       "Create color map from linear mapping segments\n",
       "\n",
       "segmentdata argument is a dictionary with a red, green and blue\n",
       "entries. Each entry should be a list of *x*, *y0*, *y1* tuples,\n",
       "forming rows in a table. Entries for alpha are optional.\n",
       "\n",
       "Example: suppose you want red to increase from 0 to 1 over\n",
       "the bottom half, green to do the same over the middle half,\n",
       "and blue over the top half.  Then you would use::\n",
       "\n",
       "    cdict = {'red':   [(0.0,  0.0, 0.0),\n",
       "                       (0.5,  1.0, 1.0),\n",
       "                       (1.0,  1.0, 1.0)],\n",
       "\n",
       "             'green': [(0.0,  0.0, 0.0),\n",
       "                       (0.25, 0.0, 0.0),\n",
       "                       (0.75, 1.0, 1.0),\n",
       "                       (1.0,  1.0, 1.0)],\n",
       "\n",
       "             'blue':  [(0.0,  0.0, 0.0),\n",
       "                       (0.5,  0.0, 0.0),\n",
       "                       (1.0,  1.0, 1.0)]}\n",
       "\n",
       "Each row in the table for a given color is a sequence of\n",
       "*x*, *y0*, *y1* tuples.  In each sequence, *x* must increase\n",
       "monotonically from 0 to 1.  For any input value *z* falling\n",
       "between *x[i]* and *x[i+1]*, the output value of a given color\n",
       "will be linearly interpolated between *y1[i]* and *y0[i+1]*::\n",
       "\n",
       "    row i:   x  y0  y1\n",
       "                   /\n",
       "                  /\n",
       "    row i+1: x  y0  y1\n",
       "\n",
       "Hence y0 in the first row and y1 in the last row are never used.\n",
       "\n",
       "See Also\n",
       "--------\n",
       "LinearSegmentedColormap.from_list\n",
       "    Static method; factory function for generating a smoothly-varying\n",
       "    LinearSegmentedColormap.\n",
       "\n",
       "makeMappingArray\n",
       "    For information about making a mapping array.\n",
       "\u001b[0;31mCall docstring:\u001b[0m\n",
       "Parameters\n",
       "----------\n",
       "X : float or int, ndarray or scalar\n",
       "    The data value(s) to convert to RGBA.\n",
       "    For floats, X should be in the interval ``[0.0, 1.0]`` to\n",
       "    return the RGBA values ``X*100`` percent along the Colormap line.\n",
       "    For integers, X should be in the interval ``[0, Colormap.N)`` to\n",
       "    return RGBA values *indexed* from the Colormap with index ``X``.\n",
       "alpha : float, None\n",
       "    Alpha must be a scalar between 0 and 1, or None.\n",
       "bytes : bool\n",
       "    If False (default), the returned RGBA values will be floats in the\n",
       "    interval ``[0, 1]`` otherwise they will be uint8s in the interval\n",
       "    ``[0, 255]``.\n",
       "\n",
       "Returns\n",
       "-------\n",
       "Tuple of RGBA values if X is scalar, otherwise an array of\n",
       "RGBA values with a shape of ``X.shape + (4, )``.\n"
      ]
     },
     "metadata": {},
     "output_type": "display_data"
    }
   ],
   "source": [
    "cmap?"
   ]
  },
  {
   "cell_type": "code",
   "execution_count": null,
   "metadata": {},
   "outputs": [],
   "source": []
  }
 ],
 "metadata": {
  "kernelspec": {
   "display_name": "Python 3",
   "language": "python",
   "name": "python3"
  },
  "language_info": {
   "codemirror_mode": {
    "name": "ipython",
    "version": 3
   },
   "file_extension": ".py",
   "mimetype": "text/x-python",
   "name": "python",
   "nbconvert_exporter": "python",
   "pygments_lexer": "ipython3",
   "version": "3.8.5"
  }
 },
 "nbformat": 4,
 "nbformat_minor": 4
}
