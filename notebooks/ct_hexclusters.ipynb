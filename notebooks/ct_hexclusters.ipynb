{
 "cells": [
  {
   "cell_type": "markdown",
   "id": "documented-teach",
   "metadata": {},
   "source": [
    "# todo\n",
    "\n",
    "- want a mapping from key: hexset\n",
    "    - lets me map zipcode values to regions\n",
    "    \n",
    "- also, multipolygon would be **very** easy to implement. do it!"
   ]
  },
  {
   "cell_type": "code",
   "execution_count": null,
   "id": "substantial-australian",
   "metadata": {},
   "outputs": [],
   "source": [
    "import requests\n",
    "import h3\n",
    "import pydeck_h3 as pdh\n",
    "\n",
    "def my_polyfill(geojson, res=10):\n",
    "    coords = geojson['coordinates']\n",
    "    if geojson['type'] == 'Polygon':\n",
    "        out = h3.polyfill_polygon(coords[0], res, holes=coords[1:], lnglat_order=True)\n",
    "    else:\n",
    "        out = [h3.polyfill_polygon(c[0], res, holes=c[1:], lnglat_order=True) for c in coords]\n",
    "        out = set.union(*out) # figure out this dude later\n",
    "        \n",
    "    return out"
   ]
  },
  {
   "cell_type": "code",
   "execution_count": null,
   "id": "affecting-fellow",
   "metadata": {},
   "outputs": [],
   "source": [
    "url = \"https://raw.githubusercontent.com/OpenDataDE/State-zip-code-GeoJSON/master/ct_connecticut_zip_codes_geo.min.json\"\n",
    "features = requests.get(url).json()['features']"
   ]
  },
  {
   "cell_type": "code",
   "execution_count": null,
   "id": "assumed-gambling",
   "metadata": {},
   "outputs": [],
   "source": [
    "zips = {\n",
    "    f['properties']['ZCTA5CE10']: f['geometry']\n",
    "    for f in features\n",
    "}"
   ]
  },
  {
   "cell_type": "code",
   "execution_count": null,
   "id": "accomplished-charleston",
   "metadata": {},
   "outputs": [],
   "source": [
    "zips = {\n",
    "    z: my_polyfill(geo)\n",
    "    for z,geo in zips.items()\n",
    "}"
   ]
  },
  {
   "cell_type": "code",
   "execution_count": null,
   "id": "knowing-ancient",
   "metadata": {},
   "outputs": [],
   "source": [
    "#zips"
   ]
  },
  {
   "cell_type": "code",
   "execution_count": null,
   "id": "greek-cardiff",
   "metadata": {},
   "outputs": [],
   "source": [
    "import pandas as pd"
   ]
  },
  {
   "cell_type": "code",
   "execution_count": null,
   "id": "tamil-economics",
   "metadata": {},
   "outputs": [],
   "source": [
    "df = pd.DataFrame(pd.Series(list(zips.values())))\n",
    "df.columns = ['hexset']\n",
    "df"
   ]
  },
  {
   "cell_type": "code",
   "execution_count": null,
   "id": "spatial-pierre",
   "metadata": {},
   "outputs": [],
   "source": [
    "a = pdh.hexcluster.plot(df)"
   ]
  },
  {
   "cell_type": "code",
   "execution_count": null,
   "id": "swiss-budapest",
   "metadata": {},
   "outputs": [],
   "source": [
    "a"
   ]
  },
  {
   "cell_type": "code",
   "execution_count": null,
   "id": "aggressive-tribe",
   "metadata": {},
   "outputs": [],
   "source": []
  }
 ],
 "metadata": {
  "kernelspec": {
   "display_name": "Python 3",
   "language": "python",
   "name": "python3"
  },
  "language_info": {
   "codemirror_mode": {
    "name": "ipython",
    "version": 3
   },
   "file_extension": ".py",
   "mimetype": "text/x-python",
   "name": "python",
   "nbconvert_exporter": "python",
   "pygments_lexer": "ipython3",
   "version": "3.9.1"
  }
 },
 "nbformat": 4,
 "nbformat_minor": 5
}
