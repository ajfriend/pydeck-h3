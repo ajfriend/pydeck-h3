{
 "cells": [
  {
   "cell_type": "code",
   "execution_count": 1,
   "metadata": {},
   "outputs": [],
   "source": [
    "import pydeck as pdk\n",
    "import util2 as u\n",
    "\n",
    "hexvals = {\n",
    "    '89283082807ffff': 6,\n",
    "    '89283082833ffff': 0,\n",
    "    '8928308283bffff': 18,\n",
    "    '892830828bbffff': 19,\n",
    "    '8928308280fffff': 12,\n",
    "    '8928308281bffff': 1,\n",
    "    '89283082813ffff': 4,\n",
    "    '89283082803ffff': 2,\n",
    "    '89283082817ffff': 7,\n",
    "    '892830828cfffff': 17,\n",
    "    '8928308280bffff': 15,\n",
    "    '89283082873ffff': 6,\n",
    "    '8928308288fffff': 6,\n",
    "    '89283082877ffff': 10,\n",
    "    '892830828c7ffff': 19,\n",
    "    '89283082857ffff': 10,\n",
    "    '89283082847ffff': 4,\n",
    "    '892830828abffff': 4,\n",
    "    '8928308288bffff': 1,\n",
    "}"
   ]
  },
  {
   "cell_type": "code",
   "execution_count": 3,
   "metadata": {},
   "outputs": [
    {
     "data": {
      "text/plain": [
       "{'89283082807ffff': {'value': 6, '_pdk': {}},\n",
       " '89283082833ffff': {'value': 0, '_pdk': {}},\n",
       " '8928308283bffff': {'value': 18, '_pdk': {}},\n",
       " '892830828bbffff': {'value': 19, '_pdk': {}},\n",
       " '8928308280fffff': {'value': 12, '_pdk': {}},\n",
       " '8928308281bffff': {'value': 1, '_pdk': {}},\n",
       " '89283082813ffff': {'value': 4, '_pdk': {}},\n",
       " '89283082803ffff': {'value': 2, '_pdk': {}},\n",
       " '89283082817ffff': {'value': 7, '_pdk': {}},\n",
       " '892830828cfffff': {'value': 17, '_pdk': {}},\n",
       " '8928308280bffff': {'value': 15, '_pdk': {}},\n",
       " '89283082873ffff': {'value': 6, '_pdk': {}},\n",
       " '8928308288fffff': {'value': 6, '_pdk': {}},\n",
       " '89283082877ffff': {'value': 10, '_pdk': {}},\n",
       " '892830828c7ffff': {'value': 19, '_pdk': {}},\n",
       " '89283082857ffff': {'value': 10, '_pdk': {}},\n",
       " '89283082847ffff': {'value': 4, '_pdk': {}},\n",
       " '892830828abffff': {'value': 4, '_pdk': {}},\n",
       " '8928308288bffff': {'value': 1, '_pdk': {}}}"
      ]
     },
     "execution_count": 3,
     "metadata": {},
     "output_type": "execute_result"
    }
   ],
   "source": [
    "cellmap = u.dict2cellmap(hexvals)\n",
    "cellmap"
   ]
  },
  {
   "cell_type": "code",
   "execution_count": 9,
   "metadata": {},
   "outputs": [
    {
     "data": {
      "text/plain": [
       "{'89283082807ffff': {'value': 6, '_pdk': {'fill_color': (254, 197, 96)}},\n",
       " '89283082833ffff': {'value': 0, '_pdk': {'fill_color': (255, 255, 204)}},\n",
       " '8928308283bffff': {'value': 18, '_pdk': {'fill_color': (152, 0, 38)}},\n",
       " '892830828bbffff': {'value': 19, '_pdk': {'fill_color': (128, 0, 38)}},\n",
       " '8928308280fffff': {'value': 12, '_pdk': {'fill_color': (250, 75, 41)}},\n",
       " '8928308281bffff': {'value': 1, '_pdk': {'fill_color': (255, 247, 186)}},\n",
       " '89283082813ffff': {'value': 4, '_pdk': {'fill_color': (254, 223, 132)}},\n",
       " '89283082803ffff': {'value': 2, '_pdk': {'fill_color': (255, 240, 168)}},\n",
       " '89283082817ffff': {'value': 7, '_pdk': {'fill_color': (254, 179, 78)}},\n",
       " '892830828cfffff': {'value': 17, '_pdk': {'fill_color': (177, 0, 38)}},\n",
       " '8928308280bffff': {'value': 15, '_pdk': {'fill_color': (214, 17, 31)}},\n",
       " '89283082873ffff': {'value': 6, '_pdk': {'fill_color': (254, 197, 96)}},\n",
       " '8928308288fffff': {'value': 6, '_pdk': {'fill_color': (254, 197, 96)}},\n",
       " '89283082877ffff': {'value': 10, '_pdk': {'fill_color': (252, 128, 56)}},\n",
       " '892830828c7ffff': {'value': 19, '_pdk': {'fill_color': (128, 0, 38)}},\n",
       " '89283082857ffff': {'value': 10, '_pdk': {'fill_color': (252, 128, 56)}},\n",
       " '89283082847ffff': {'value': 4, '_pdk': {'fill_color': (254, 223, 132)}},\n",
       " '892830828abffff': {'value': 4, '_pdk': {'fill_color': (254, 223, 132)}},\n",
       " '8928308288bffff': {'value': 1, '_pdk': {'fill_color': (255, 247, 186)}}}"
      ]
     },
     "execution_count": 9,
     "metadata": {},
     "output_type": "execute_result"
    }
   ],
   "source": [
    "cmap = 'YlOrRd'\n",
    "cellmap = u.addcolor(cellmap, cmap)\n",
    "cellmap"
   ]
  },
  {
   "cell_type": "code",
   "execution_count": 10,
   "metadata": {},
   "outputs": [
    {
     "data": {
      "text/plain": [
       "{'89283082807ffff': {'value': 6,\n",
       "  '_pdk': {'fill_color': (254, 197, 96), 'elevation': 6}},\n",
       " '89283082833ffff': {'value': 0,\n",
       "  '_pdk': {'fill_color': (255, 255, 204), 'elevation': 0}},\n",
       " '8928308283bffff': {'value': 18,\n",
       "  '_pdk': {'fill_color': (152, 0, 38), 'elevation': 18}},\n",
       " '892830828bbffff': {'value': 19,\n",
       "  '_pdk': {'fill_color': (128, 0, 38), 'elevation': 19}},\n",
       " '8928308280fffff': {'value': 12,\n",
       "  '_pdk': {'fill_color': (250, 75, 41), 'elevation': 12}},\n",
       " '8928308281bffff': {'value': 1,\n",
       "  '_pdk': {'fill_color': (255, 247, 186), 'elevation': 1}},\n",
       " '89283082813ffff': {'value': 4,\n",
       "  '_pdk': {'fill_color': (254, 223, 132), 'elevation': 4}},\n",
       " '89283082803ffff': {'value': 2,\n",
       "  '_pdk': {'fill_color': (255, 240, 168), 'elevation': 2}},\n",
       " '89283082817ffff': {'value': 7,\n",
       "  '_pdk': {'fill_color': (254, 179, 78), 'elevation': 7}},\n",
       " '892830828cfffff': {'value': 17,\n",
       "  '_pdk': {'fill_color': (177, 0, 38), 'elevation': 17}},\n",
       " '8928308280bffff': {'value': 15,\n",
       "  '_pdk': {'fill_color': (214, 17, 31), 'elevation': 15}},\n",
       " '89283082873ffff': {'value': 6,\n",
       "  '_pdk': {'fill_color': (254, 197, 96), 'elevation': 6}},\n",
       " '8928308288fffff': {'value': 6,\n",
       "  '_pdk': {'fill_color': (254, 197, 96), 'elevation': 6}},\n",
       " '89283082877ffff': {'value': 10,\n",
       "  '_pdk': {'fill_color': (252, 128, 56), 'elevation': 10}},\n",
       " '892830828c7ffff': {'value': 19,\n",
       "  '_pdk': {'fill_color': (128, 0, 38), 'elevation': 19}},\n",
       " '89283082857ffff': {'value': 10,\n",
       "  '_pdk': {'fill_color': (252, 128, 56), 'elevation': 10}},\n",
       " '89283082847ffff': {'value': 4,\n",
       "  '_pdk': {'fill_color': (254, 223, 132), 'elevation': 4}},\n",
       " '892830828abffff': {'value': 4,\n",
       "  '_pdk': {'fill_color': (254, 223, 132), 'elevation': 4}},\n",
       " '8928308288bffff': {'value': 1,\n",
       "  '_pdk': {'fill_color': (255, 247, 186), 'elevation': 1}}}"
      ]
     },
     "execution_count": 10,
     "metadata": {},
     "output_type": "execute_result"
    }
   ],
   "source": [
    "for d in cellmap.values():\n",
    "    d['_pdk']['elevation'] = d['value']\n",
    "cellmap"
   ]
  },
  {
   "cell_type": "code",
   "execution_count": 11,
   "metadata": {},
   "outputs": [],
   "source": [
    "data = u.cellmap2records(cellmap, col_hex='h3cell')"
   ]
  },
  {
   "cell_type": "code",
   "execution_count": 12,
   "metadata": {},
   "outputs": [
    {
     "data": {
      "text/plain": [
       "[{'h3cell': '89283082807ffff',\n",
       "  'value': 6,\n",
       "  '_pdk': {'fill_color': (254, 197, 96), 'elevation': 6}},\n",
       " {'h3cell': '89283082833ffff',\n",
       "  'value': 0,\n",
       "  '_pdk': {'fill_color': (255, 255, 204), 'elevation': 0}},\n",
       " {'h3cell': '8928308283bffff',\n",
       "  'value': 18,\n",
       "  '_pdk': {'fill_color': (152, 0, 38), 'elevation': 18}},\n",
       " {'h3cell': '892830828bbffff',\n",
       "  'value': 19,\n",
       "  '_pdk': {'fill_color': (128, 0, 38), 'elevation': 19}},\n",
       " {'h3cell': '8928308280fffff',\n",
       "  'value': 12,\n",
       "  '_pdk': {'fill_color': (250, 75, 41), 'elevation': 12}},\n",
       " {'h3cell': '8928308281bffff',\n",
       "  'value': 1,\n",
       "  '_pdk': {'fill_color': (255, 247, 186), 'elevation': 1}},\n",
       " {'h3cell': '89283082813ffff',\n",
       "  'value': 4,\n",
       "  '_pdk': {'fill_color': (254, 223, 132), 'elevation': 4}},\n",
       " {'h3cell': '89283082803ffff',\n",
       "  'value': 2,\n",
       "  '_pdk': {'fill_color': (255, 240, 168), 'elevation': 2}},\n",
       " {'h3cell': '89283082817ffff',\n",
       "  'value': 7,\n",
       "  '_pdk': {'fill_color': (254, 179, 78), 'elevation': 7}},\n",
       " {'h3cell': '892830828cfffff',\n",
       "  'value': 17,\n",
       "  '_pdk': {'fill_color': (177, 0, 38), 'elevation': 17}},\n",
       " {'h3cell': '8928308280bffff',\n",
       "  'value': 15,\n",
       "  '_pdk': {'fill_color': (214, 17, 31), 'elevation': 15}},\n",
       " {'h3cell': '89283082873ffff',\n",
       "  'value': 6,\n",
       "  '_pdk': {'fill_color': (254, 197, 96), 'elevation': 6}},\n",
       " {'h3cell': '8928308288fffff',\n",
       "  'value': 6,\n",
       "  '_pdk': {'fill_color': (254, 197, 96), 'elevation': 6}},\n",
       " {'h3cell': '89283082877ffff',\n",
       "  'value': 10,\n",
       "  '_pdk': {'fill_color': (252, 128, 56), 'elevation': 10}},\n",
       " {'h3cell': '892830828c7ffff',\n",
       "  'value': 19,\n",
       "  '_pdk': {'fill_color': (128, 0, 38), 'elevation': 19}},\n",
       " {'h3cell': '89283082857ffff',\n",
       "  'value': 10,\n",
       "  '_pdk': {'fill_color': (252, 128, 56), 'elevation': 10}},\n",
       " {'h3cell': '89283082847ffff',\n",
       "  'value': 4,\n",
       "  '_pdk': {'fill_color': (254, 223, 132), 'elevation': 4}},\n",
       " {'h3cell': '892830828abffff',\n",
       "  'value': 4,\n",
       "  '_pdk': {'fill_color': (254, 223, 132), 'elevation': 4}},\n",
       " {'h3cell': '8928308288bffff',\n",
       "  'value': 1,\n",
       "  '_pdk': {'fill_color': (255, 247, 186), 'elevation': 1}}]"
      ]
     },
     "execution_count": 12,
     "metadata": {},
     "output_type": "execute_result"
    }
   ],
   "source": [
    "data"
   ]
  },
  {
   "cell_type": "code",
   "execution_count": null,
   "metadata": {},
   "outputs": [],
   "source": []
  }
 ],
 "metadata": {
  "kernelspec": {
   "display_name": "Python 3",
   "language": "python",
   "name": "python3"
  },
  "language_info": {
   "codemirror_mode": {
    "name": "ipython",
    "version": 3
   },
   "file_extension": ".py",
   "mimetype": "text/x-python",
   "name": "python",
   "nbconvert_exporter": "python",
   "pygments_lexer": "ipython3",
   "version": "3.8.5"
  }
 },
 "nbformat": 4,
 "nbformat_minor": 4
}
