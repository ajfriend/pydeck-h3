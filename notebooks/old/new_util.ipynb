{
 "cells": [
  {
   "cell_type": "markdown",
   "metadata": {},
   "source": [
    "- make it easy for user to see intermediate output!\n",
    "    - like, they shoudl be able to see the color map that was produced!\n",
    "    \n",
    "- maybe an `add_to_pdk` helper function for adding things to the cellmap"
   ]
  },
  {
   "cell_type": "code",
   "execution_count": 1,
   "metadata": {},
   "outputs": [],
   "source": [
    "import pydeck as pdk\n",
    "import util2 as u"
   ]
  },
  {
   "cell_type": "code",
   "execution_count": 2,
   "metadata": {},
   "outputs": [],
   "source": [
    "hexvals = {\n",
    "    '89283082807ffff': 6,\n",
    "    '89283082833ffff': 0,\n",
    "    '8928308283bffff': 18,\n",
    "    '892830828bbffff': 19,\n",
    "    '8928308280fffff': 12,\n",
    "    '8928308281bffff': 1,\n",
    "    '89283082813ffff': 4,\n",
    "    '89283082803ffff': 2,\n",
    "    '89283082817ffff': 7,\n",
    "    '892830828cfffff': 17,\n",
    "    '8928308280bffff': 15,\n",
    "    '89283082873ffff': 6,\n",
    "    '8928308288fffff': 6,\n",
    "    '89283082877ffff': 10,\n",
    "    '892830828c7ffff': 19,\n",
    "    '89283082857ffff': 10,\n",
    "    '89283082847ffff': 4,\n",
    "    '892830828abffff': 4,\n",
    "    '8928308288bffff': 1,\n",
    "}"
   ]
  },
  {
   "cell_type": "code",
   "execution_count": 3,
   "metadata": {},
   "outputs": [
    {
     "data": {
      "text/plain": [
       "{'89283082807ffff': {'_pdk': {}},\n",
       " '89283082833ffff': {'_pdk': {}},\n",
       " '8928308283bffff': {'_pdk': {}},\n",
       " '892830828bbffff': {'_pdk': {}},\n",
       " '8928308280fffff': {'_pdk': {}},\n",
       " '8928308281bffff': {'_pdk': {}},\n",
       " '89283082813ffff': {'_pdk': {}},\n",
       " '89283082803ffff': {'_pdk': {}},\n",
       " '89283082817ffff': {'_pdk': {}},\n",
       " '892830828cfffff': {'_pdk': {}},\n",
       " '8928308280bffff': {'_pdk': {}},\n",
       " '89283082873ffff': {'_pdk': {}},\n",
       " '8928308288fffff': {'_pdk': {}},\n",
       " '89283082877ffff': {'_pdk': {}},\n",
       " '892830828c7ffff': {'_pdk': {}},\n",
       " '89283082857ffff': {'_pdk': {}},\n",
       " '89283082847ffff': {'_pdk': {}},\n",
       " '892830828abffff': {'_pdk': {}},\n",
       " '8928308288bffff': {'_pdk': {}}}"
      ]
     },
     "execution_count": 3,
     "metadata": {},
     "output_type": "execute_result"
    }
   ],
   "source": [
    "u.set2cellmap(hexvals)"
   ]
  },
  {
   "cell_type": "code",
   "execution_count": 4,
   "metadata": {},
   "outputs": [
    {
     "data": {
      "text/html": [
       "<iframe src=\"about:blank\" frameborder=\"0\" srcdoc=\"&lt;html&gt;\n",
       "  &lt;head&gt;\n",
       "    &lt;meta http-equiv=&quot;content-type&quot; content=&quot;text/html; charset=UTF-8&quot; /&gt;\n",
       "    &lt;title&gt;pydeck&lt;/title&gt;\n",
       "    &lt;link rel=&quot;stylesheet&quot; href=&quot;https://maxcdn.bootstrapcdn.com/bootstrap/3.2.0/css/bootstrap-theme.min.css&quot; /&gt;\n",
       "    &lt;link rel=&quot;stylesheet&quot; href=&quot;https://maxcdn.bootstrapcdn.com/font-awesome/4.6.3/css/font-awesome.min.css&quot; /&gt;\n",
       "    &lt;script src=&#x27;https://cdn.jsdelivr.net/npm/@deck.gl/jupyter-widget@~8.2.*/dist/index.js&#x27;&gt;&lt;/script&gt;\n",
       "    &lt;style&gt;\n",
       "    body {\n",
       "      margin: 0;\n",
       "      padding: 0;\n",
       "      overflow: hidden;\n",
       "    }\n",
       "\n",
       "    #deck-map-container {\n",
       "      width: 100%;\n",
       "      height: 100%;\n",
       "      background-color: black;\n",
       "    }\n",
       "\n",
       "    #map {\n",
       "      pointer-events: none;\n",
       "      height: 100%;\n",
       "      width: 100%;\n",
       "      position: absolute;\n",
       "      z-index: 1;\n",
       "    }\n",
       "\n",
       "    #deckgl-overlay {\n",
       "      z-index: 2;\n",
       "      background: none;\n",
       "    }\n",
       "\n",
       "    #deck-map-wrapper {\n",
       "      width: 100%;\n",
       "      height: 100%;\n",
       "    }\n",
       "\n",
       "    #deck-container {\n",
       "      width: 100vw;\n",
       "      height: 100vh;\n",
       "    }\n",
       "    &lt;/style&gt;\n",
       "  &lt;/head&gt;\n",
       "  &lt;body&gt;\n",
       "    &lt;div id=&quot;deck-container&quot;&gt;\n",
       "    &lt;/div&gt;\n",
       "  &lt;/body&gt;\n",
       "  &lt;script&gt;\n",
       "    const jsonInput = {&quot;initialViewState&quot;: {&quot;latitude&quot;: 37.77351496212393, &quot;longitude&quot;: -122.41827096231162, &quot;zoom&quot;: 14}, &quot;layers&quot;: [{&quot;@@type&quot;: &quot;H3HexagonLayer&quot;, &quot;data&quot;: [{&quot;_pdk&quot;: {&quot;fill_color&quot;: [245, 206, 66], &quot;line_width&quot;: 1}, &quot;h3cell&quot;: &quot;89283082807ffff&quot;}, {&quot;_pdk&quot;: {&quot;fill_color&quot;: [245, 206, 66], &quot;line_width&quot;: 1}, &quot;h3cell&quot;: &quot;89283082833ffff&quot;}, {&quot;_pdk&quot;: {&quot;fill_color&quot;: [245, 206, 66], &quot;line_width&quot;: 1}, &quot;h3cell&quot;: &quot;8928308283bffff&quot;}, {&quot;_pdk&quot;: {&quot;fill_color&quot;: [245, 206, 66], &quot;line_width&quot;: 1}, &quot;h3cell&quot;: &quot;892830828bbffff&quot;}, {&quot;_pdk&quot;: {&quot;fill_color&quot;: [245, 206, 66], &quot;line_width&quot;: 1}, &quot;h3cell&quot;: &quot;8928308280fffff&quot;}, {&quot;_pdk&quot;: {&quot;fill_color&quot;: [245, 206, 66], &quot;line_width&quot;: 1}, &quot;h3cell&quot;: &quot;8928308281bffff&quot;}, {&quot;_pdk&quot;: {&quot;fill_color&quot;: [245, 206, 66], &quot;line_width&quot;: 1}, &quot;h3cell&quot;: &quot;89283082813ffff&quot;}, {&quot;_pdk&quot;: {&quot;fill_color&quot;: [245, 206, 66], &quot;line_width&quot;: 1}, &quot;h3cell&quot;: &quot;89283082803ffff&quot;}, {&quot;_pdk&quot;: {&quot;fill_color&quot;: [245, 206, 66], &quot;line_width&quot;: 1}, &quot;h3cell&quot;: &quot;89283082817ffff&quot;}, {&quot;_pdk&quot;: {&quot;fill_color&quot;: [245, 206, 66], &quot;line_width&quot;: 1}, &quot;h3cell&quot;: &quot;892830828cfffff&quot;}, {&quot;_pdk&quot;: {&quot;fill_color&quot;: [245, 206, 66], &quot;line_width&quot;: 1}, &quot;h3cell&quot;: &quot;8928308280bffff&quot;}, {&quot;_pdk&quot;: {&quot;fill_color&quot;: [245, 206, 66], &quot;line_width&quot;: 1}, &quot;h3cell&quot;: &quot;89283082873ffff&quot;}, {&quot;_pdk&quot;: {&quot;fill_color&quot;: [245, 206, 66], &quot;line_width&quot;: 1}, &quot;h3cell&quot;: &quot;8928308288fffff&quot;}, {&quot;_pdk&quot;: {&quot;fill_color&quot;: [245, 206, 66], &quot;line_width&quot;: 1}, &quot;h3cell&quot;: &quot;89283082877ffff&quot;}, {&quot;_pdk&quot;: {&quot;fill_color&quot;: [245, 206, 66], &quot;line_width&quot;: 1}, &quot;h3cell&quot;: &quot;892830828c7ffff&quot;}, {&quot;_pdk&quot;: {&quot;fill_color&quot;: [245, 206, 66], &quot;line_width&quot;: 1}, &quot;h3cell&quot;: &quot;89283082857ffff&quot;}, {&quot;_pdk&quot;: {&quot;fill_color&quot;: [245, 206, 66], &quot;line_width&quot;: 1}, &quot;h3cell&quot;: &quot;89283082847ffff&quot;}, {&quot;_pdk&quot;: {&quot;fill_color&quot;: [245, 206, 66], &quot;line_width&quot;: 1}, &quot;h3cell&quot;: &quot;892830828abffff&quot;}, {&quot;_pdk&quot;: {&quot;fill_color&quot;: [245, 206, 66], &quot;line_width&quot;: 1}, &quot;h3cell&quot;: &quot;8928308288bffff&quot;}], &quot;extruded&quot;: false, &quot;getFillColor&quot;: &quot;@@=_pdk.fill_color&quot;, &quot;getHexagon&quot;: &quot;@@=h3cell&quot;, &quot;getLineWidth&quot;: &quot;@@=_pdk.line_width&quot;, &quot;id&quot;: &quot;65f86203-5237-436d-b599-0d4a79a4f623&quot;, &quot;opacity&quot;: 0.9, &quot;pickable&quot;: true}], &quot;mapProvider&quot;: &quot;mapbox&quot;, &quot;mapStyle&quot;: &quot;mapbox://styles/mapbox/light-v10&quot;, &quot;views&quot;: [{&quot;@@type&quot;: &quot;MapView&quot;, &quot;controller&quot;: true}]};\n",
       "    const MAPBOX_API_KEY = &#x27;pk.eyJ1IjoiYWpmcmllbmQiLCJhIjoiY2pmbmRjczJmMTVkMzJxcW92Y2E4cHZjdCJ9.Jf-gFXU7FOIQxALzPajbdg&#x27;;\n",
       "    const GOOGLE_MAPS_API_KEY = &#x27;None&#x27;;\n",
       "    const tooltip = {&#x27;html&#x27;: &#x27;&lt;b&gt;h3cell&lt;/b&gt;: {h3cell}&#x27;};\n",
       "    const customLibraries = null;\n",
       "\n",
       "    const deck = createDeck({\n",
       "      mapboxApiKey: MAPBOX_API_KEY,\n",
       "      googleMapsKey: GOOGLE_MAPS_API_KEY,\n",
       "      container: document.getElementById(&#x27;deck-container&#x27;),\n",
       "      jsonInput,\n",
       "      tooltip,\n",
       "      customLibraries\n",
       "    });\n",
       "\n",
       "  &lt;/script&gt;\n",
       "&lt;/html&gt;\" width=\"100%\" height=500></iframe>"
      ],
      "text/plain": [
       "<IPython.core.display.HTML object>"
      ]
     },
     "execution_count": 4,
     "metadata": {},
     "output_type": "execute_result"
    }
   ],
   "source": [
    "u.plot_hexset(hexvals, line_width=1, opacity=.9).to_html()"
   ]
  },
  {
   "cell_type": "code",
   "execution_count": 5,
   "metadata": {},
   "outputs": [],
   "source": [
    "import matplotlib.pyplot as plt\n",
    "import toolz"
   ]
  },
  {
   "cell_type": "code",
   "execution_count": 6,
   "metadata": {},
   "outputs": [],
   "source": [
    "# maybe the base color transformer should just take in a list of floats and output rgb tuples...\n",
    "# normalize vect function, prolly..."
   ]
  },
  {
   "cell_type": "code",
   "execution_count": 7,
   "metadata": {},
   "outputs": [
    {
     "data": {
      "text/plain": [
       "{'89283082807ffff': {'value': 6, '_pdk': {}},\n",
       " '89283082833ffff': {'value': 0, '_pdk': {}},\n",
       " '8928308283bffff': {'value': 18, '_pdk': {}},\n",
       " '892830828bbffff': {'value': 19, '_pdk': {}},\n",
       " '8928308280fffff': {'value': 12, '_pdk': {}},\n",
       " '8928308281bffff': {'value': 1, '_pdk': {}},\n",
       " '89283082813ffff': {'value': 4, '_pdk': {}},\n",
       " '89283082803ffff': {'value': 2, '_pdk': {}},\n",
       " '89283082817ffff': {'value': 7, '_pdk': {}},\n",
       " '892830828cfffff': {'value': 17, '_pdk': {}},\n",
       " '8928308280bffff': {'value': 15, '_pdk': {}},\n",
       " '89283082873ffff': {'value': 6, '_pdk': {}},\n",
       " '8928308288fffff': {'value': 6, '_pdk': {}},\n",
       " '89283082877ffff': {'value': 10, '_pdk': {}},\n",
       " '892830828c7ffff': {'value': 19, '_pdk': {}},\n",
       " '89283082857ffff': {'value': 10, '_pdk': {}},\n",
       " '89283082847ffff': {'value': 4, '_pdk': {}},\n",
       " '892830828abffff': {'value': 4, '_pdk': {}},\n",
       " '8928308288bffff': {'value': 1, '_pdk': {}}}"
      ]
     },
     "execution_count": 7,
     "metadata": {},
     "output_type": "execute_result"
    }
   ],
   "source": [
    "cellmap = u.dict2cellmap(hexvals)\n",
    "cellmap"
   ]
  },
  {
   "cell_type": "code",
   "execution_count": 8,
   "metadata": {},
   "outputs": [
    {
     "data": {
      "text/html": [
       "<iframe src=\"about:blank\" frameborder=\"0\" srcdoc=\"&lt;html&gt;\n",
       "  &lt;head&gt;\n",
       "    &lt;meta http-equiv=&quot;content-type&quot; content=&quot;text/html; charset=UTF-8&quot; /&gt;\n",
       "    &lt;title&gt;pydeck&lt;/title&gt;\n",
       "    &lt;link rel=&quot;stylesheet&quot; href=&quot;https://maxcdn.bootstrapcdn.com/bootstrap/3.2.0/css/bootstrap-theme.min.css&quot; /&gt;\n",
       "    &lt;link rel=&quot;stylesheet&quot; href=&quot;https://maxcdn.bootstrapcdn.com/font-awesome/4.6.3/css/font-awesome.min.css&quot; /&gt;\n",
       "    &lt;script src=&#x27;https://cdn.jsdelivr.net/npm/@deck.gl/jupyter-widget@~8.2.*/dist/index.js&#x27;&gt;&lt;/script&gt;\n",
       "    &lt;style&gt;\n",
       "    body {\n",
       "      margin: 0;\n",
       "      padding: 0;\n",
       "      overflow: hidden;\n",
       "    }\n",
       "\n",
       "    #deck-map-container {\n",
       "      width: 100%;\n",
       "      height: 100%;\n",
       "      background-color: black;\n",
       "    }\n",
       "\n",
       "    #map {\n",
       "      pointer-events: none;\n",
       "      height: 100%;\n",
       "      width: 100%;\n",
       "      position: absolute;\n",
       "      z-index: 1;\n",
       "    }\n",
       "\n",
       "    #deckgl-overlay {\n",
       "      z-index: 2;\n",
       "      background: none;\n",
       "    }\n",
       "\n",
       "    #deck-map-wrapper {\n",
       "      width: 100%;\n",
       "      height: 100%;\n",
       "    }\n",
       "\n",
       "    #deck-container {\n",
       "      width: 100vw;\n",
       "      height: 100vh;\n",
       "    }\n",
       "    &lt;/style&gt;\n",
       "  &lt;/head&gt;\n",
       "  &lt;body&gt;\n",
       "    &lt;div id=&quot;deck-container&quot;&gt;\n",
       "    &lt;/div&gt;\n",
       "  &lt;/body&gt;\n",
       "  &lt;script&gt;\n",
       "    const jsonInput = {&quot;initialViewState&quot;: {&quot;latitude&quot;: 37.77351496212393, &quot;longitude&quot;: -122.41827096231162, &quot;zoom&quot;: 14}, &quot;layers&quot;: [{&quot;@@type&quot;: &quot;H3HexagonLayer&quot;, &quot;data&quot;: [{&quot;_pdk&quot;: {&quot;fill_color&quot;: [254, 197, 96], &quot;line_width&quot;: 10}, &quot;h3cell&quot;: &quot;89283082807ffff&quot;, &quot;value&quot;: 6}, {&quot;_pdk&quot;: {&quot;fill_color&quot;: [255, 255, 204], &quot;line_width&quot;: 10}, &quot;h3cell&quot;: &quot;89283082833ffff&quot;, &quot;value&quot;: 0}, {&quot;_pdk&quot;: {&quot;fill_color&quot;: [152, 0, 38], &quot;line_width&quot;: 10}, &quot;h3cell&quot;: &quot;8928308283bffff&quot;, &quot;value&quot;: 18}, {&quot;_pdk&quot;: {&quot;fill_color&quot;: [128, 0, 38], &quot;line_width&quot;: 10}, &quot;h3cell&quot;: &quot;892830828bbffff&quot;, &quot;value&quot;: 19}, {&quot;_pdk&quot;: {&quot;fill_color&quot;: [250, 75, 41], &quot;line_width&quot;: 10}, &quot;h3cell&quot;: &quot;8928308280fffff&quot;, &quot;value&quot;: 12}, {&quot;_pdk&quot;: {&quot;fill_color&quot;: [255, 247, 186], &quot;line_width&quot;: 10}, &quot;h3cell&quot;: &quot;8928308281bffff&quot;, &quot;value&quot;: 1}, {&quot;_pdk&quot;: {&quot;fill_color&quot;: [254, 223, 132], &quot;line_width&quot;: 10}, &quot;h3cell&quot;: &quot;89283082813ffff&quot;, &quot;value&quot;: 4}, {&quot;_pdk&quot;: {&quot;fill_color&quot;: [255, 240, 168], &quot;line_width&quot;: 10}, &quot;h3cell&quot;: &quot;89283082803ffff&quot;, &quot;value&quot;: 2}, {&quot;_pdk&quot;: {&quot;fill_color&quot;: [254, 179, 78], &quot;line_width&quot;: 10}, &quot;h3cell&quot;: &quot;89283082817ffff&quot;, &quot;value&quot;: 7}, {&quot;_pdk&quot;: {&quot;fill_color&quot;: [177, 0, 38], &quot;line_width&quot;: 10}, &quot;h3cell&quot;: &quot;892830828cfffff&quot;, &quot;value&quot;: 17}, {&quot;_pdk&quot;: {&quot;fill_color&quot;: [214, 17, 31], &quot;line_width&quot;: 10}, &quot;h3cell&quot;: &quot;8928308280bffff&quot;, &quot;value&quot;: 15}, {&quot;_pdk&quot;: {&quot;fill_color&quot;: [254, 197, 96], &quot;line_width&quot;: 10}, &quot;h3cell&quot;: &quot;89283082873ffff&quot;, &quot;value&quot;: 6}, {&quot;_pdk&quot;: {&quot;fill_color&quot;: [254, 197, 96], &quot;line_width&quot;: 10}, &quot;h3cell&quot;: &quot;8928308288fffff&quot;, &quot;value&quot;: 6}, {&quot;_pdk&quot;: {&quot;fill_color&quot;: [252, 128, 56], &quot;line_width&quot;: 10}, &quot;h3cell&quot;: &quot;89283082877ffff&quot;, &quot;value&quot;: 10}, {&quot;_pdk&quot;: {&quot;fill_color&quot;: [128, 0, 38], &quot;line_width&quot;: 10}, &quot;h3cell&quot;: &quot;892830828c7ffff&quot;, &quot;value&quot;: 19}, {&quot;_pdk&quot;: {&quot;fill_color&quot;: [252, 128, 56], &quot;line_width&quot;: 10}, &quot;h3cell&quot;: &quot;89283082857ffff&quot;, &quot;value&quot;: 10}, {&quot;_pdk&quot;: {&quot;fill_color&quot;: [254, 223, 132], &quot;line_width&quot;: 10}, &quot;h3cell&quot;: &quot;89283082847ffff&quot;, &quot;value&quot;: 4}, {&quot;_pdk&quot;: {&quot;fill_color&quot;: [254, 223, 132], &quot;line_width&quot;: 10}, &quot;h3cell&quot;: &quot;892830828abffff&quot;, &quot;value&quot;: 4}, {&quot;_pdk&quot;: {&quot;fill_color&quot;: [255, 247, 186], &quot;line_width&quot;: 10}, &quot;h3cell&quot;: &quot;8928308288bffff&quot;, &quot;value&quot;: 1}], &quot;extruded&quot;: false, &quot;getFillColor&quot;: &quot;@@=_pdk.fill_color&quot;, &quot;getHexagon&quot;: &quot;@@=h3cell&quot;, &quot;getLineWidth&quot;: &quot;@@=_pdk.line_width&quot;, &quot;id&quot;: &quot;b82ca34b-e1cc-4912-b323-ea88114a63ee&quot;, &quot;opacity&quot;: 0.4, &quot;pickable&quot;: true}], &quot;mapProvider&quot;: &quot;mapbox&quot;, &quot;mapStyle&quot;: &quot;mapbox://styles/mapbox/light-v10&quot;, &quot;views&quot;: [{&quot;@@type&quot;: &quot;MapView&quot;, &quot;controller&quot;: true}]};\n",
       "    const MAPBOX_API_KEY = &#x27;pk.eyJ1IjoiYWpmcmllbmQiLCJhIjoiY2pmbmRjczJmMTVkMzJxcW92Y2E4cHZjdCJ9.Jf-gFXU7FOIQxALzPajbdg&#x27;;\n",
       "    const GOOGLE_MAPS_API_KEY = &#x27;None&#x27;;\n",
       "    const tooltip = {&#x27;html&#x27;: &#x27;&lt;b&gt;h3cell&lt;/b&gt;: {h3cell}&lt;br/&gt;&lt;b&gt;value&lt;/b&gt;: {value}&#x27;};\n",
       "    const customLibraries = null;\n",
       "\n",
       "    const deck = createDeck({\n",
       "      mapboxApiKey: MAPBOX_API_KEY,\n",
       "      googleMapsKey: GOOGLE_MAPS_API_KEY,\n",
       "      container: document.getElementById(&#x27;deck-container&#x27;),\n",
       "      jsonInput,\n",
       "      tooltip,\n",
       "      customLibraries\n",
       "    });\n",
       "\n",
       "  &lt;/script&gt;\n",
       "&lt;/html&gt;\" width=\"100%\" height=500></iframe>"
      ],
      "text/plain": [
       "<IPython.core.display.HTML object>"
      ]
     },
     "execution_count": 8,
     "metadata": {},
     "output_type": "execute_result"
    }
   ],
   "source": [
    "#u.plot_hexset(hexvals, line_width=1, opacity=.9).to_html()\n",
    "u.plot_hexvals(hexvals, line_width=10, opacity=.4).to_html()"
   ]
  },
  {
   "cell_type": "code",
   "execution_count": 9,
   "metadata": {},
   "outputs": [
    {
     "data": {
      "text/html": [
       "<iframe src=\"about:blank\" frameborder=\"0\" srcdoc=\"&lt;html&gt;\n",
       "  &lt;head&gt;\n",
       "    &lt;meta http-equiv=&quot;content-type&quot; content=&quot;text/html; charset=UTF-8&quot; /&gt;\n",
       "    &lt;title&gt;pydeck&lt;/title&gt;\n",
       "    &lt;link rel=&quot;stylesheet&quot; href=&quot;https://maxcdn.bootstrapcdn.com/bootstrap/3.2.0/css/bootstrap-theme.min.css&quot; /&gt;\n",
       "    &lt;link rel=&quot;stylesheet&quot; href=&quot;https://maxcdn.bootstrapcdn.com/font-awesome/4.6.3/css/font-awesome.min.css&quot; /&gt;\n",
       "    &lt;script src=&#x27;https://cdn.jsdelivr.net/npm/@deck.gl/jupyter-widget@~8.2.*/dist/index.js&#x27;&gt;&lt;/script&gt;\n",
       "    &lt;style&gt;\n",
       "    body {\n",
       "      margin: 0;\n",
       "      padding: 0;\n",
       "      overflow: hidden;\n",
       "    }\n",
       "\n",
       "    #deck-map-container {\n",
       "      width: 100%;\n",
       "      height: 100%;\n",
       "      background-color: black;\n",
       "    }\n",
       "\n",
       "    #map {\n",
       "      pointer-events: none;\n",
       "      height: 100%;\n",
       "      width: 100%;\n",
       "      position: absolute;\n",
       "      z-index: 1;\n",
       "    }\n",
       "\n",
       "    #deckgl-overlay {\n",
       "      z-index: 2;\n",
       "      background: none;\n",
       "    }\n",
       "\n",
       "    #deck-map-wrapper {\n",
       "      width: 100%;\n",
       "      height: 100%;\n",
       "    }\n",
       "\n",
       "    #deck-container {\n",
       "      width: 100vw;\n",
       "      height: 100vh;\n",
       "    }\n",
       "    &lt;/style&gt;\n",
       "  &lt;/head&gt;\n",
       "  &lt;body&gt;\n",
       "    &lt;div id=&quot;deck-container&quot;&gt;\n",
       "    &lt;/div&gt;\n",
       "  &lt;/body&gt;\n",
       "  &lt;script&gt;\n",
       "    const jsonInput = {&quot;initialViewState&quot;: {&quot;latitude&quot;: 37.77351496212393, &quot;longitude&quot;: -122.41827096231162, &quot;pitch&quot;: 45, &quot;zoom&quot;: 14}, &quot;layers&quot;: [{&quot;@@type&quot;: &quot;H3HexagonLayer&quot;, &quot;data&quot;: [{&quot;_pdk&quot;: {&quot;elevation&quot;: 6, &quot;fill_color&quot;: [254, 197, 96]}, &quot;h3cell&quot;: &quot;89283082807ffff&quot;, &quot;value&quot;: 6}, {&quot;_pdk&quot;: {&quot;elevation&quot;: 0, &quot;fill_color&quot;: [255, 255, 204]}, &quot;h3cell&quot;: &quot;89283082833ffff&quot;, &quot;value&quot;: 0}, {&quot;_pdk&quot;: {&quot;elevation&quot;: 18, &quot;fill_color&quot;: [152, 0, 38]}, &quot;h3cell&quot;: &quot;8928308283bffff&quot;, &quot;value&quot;: 18}, {&quot;_pdk&quot;: {&quot;elevation&quot;: 19, &quot;fill_color&quot;: [128, 0, 38]}, &quot;h3cell&quot;: &quot;892830828bbffff&quot;, &quot;value&quot;: 19}, {&quot;_pdk&quot;: {&quot;elevation&quot;: 12, &quot;fill_color&quot;: [250, 75, 41]}, &quot;h3cell&quot;: &quot;8928308280fffff&quot;, &quot;value&quot;: 12}, {&quot;_pdk&quot;: {&quot;elevation&quot;: 1, &quot;fill_color&quot;: [255, 247, 186]}, &quot;h3cell&quot;: &quot;8928308281bffff&quot;, &quot;value&quot;: 1}, {&quot;_pdk&quot;: {&quot;elevation&quot;: 4, &quot;fill_color&quot;: [254, 223, 132]}, &quot;h3cell&quot;: &quot;89283082813ffff&quot;, &quot;value&quot;: 4}, {&quot;_pdk&quot;: {&quot;elevation&quot;: 2, &quot;fill_color&quot;: [255, 240, 168]}, &quot;h3cell&quot;: &quot;89283082803ffff&quot;, &quot;value&quot;: 2}, {&quot;_pdk&quot;: {&quot;elevation&quot;: 7, &quot;fill_color&quot;: [254, 179, 78]}, &quot;h3cell&quot;: &quot;89283082817ffff&quot;, &quot;value&quot;: 7}, {&quot;_pdk&quot;: {&quot;elevation&quot;: 17, &quot;fill_color&quot;: [177, 0, 38]}, &quot;h3cell&quot;: &quot;892830828cfffff&quot;, &quot;value&quot;: 17}, {&quot;_pdk&quot;: {&quot;elevation&quot;: 15, &quot;fill_color&quot;: [214, 17, 31]}, &quot;h3cell&quot;: &quot;8928308280bffff&quot;, &quot;value&quot;: 15}, {&quot;_pdk&quot;: {&quot;elevation&quot;: 6, &quot;fill_color&quot;: [254, 197, 96]}, &quot;h3cell&quot;: &quot;89283082873ffff&quot;, &quot;value&quot;: 6}, {&quot;_pdk&quot;: {&quot;elevation&quot;: 6, &quot;fill_color&quot;: [254, 197, 96]}, &quot;h3cell&quot;: &quot;8928308288fffff&quot;, &quot;value&quot;: 6}, {&quot;_pdk&quot;: {&quot;elevation&quot;: 10, &quot;fill_color&quot;: [252, 128, 56]}, &quot;h3cell&quot;: &quot;89283082877ffff&quot;, &quot;value&quot;: 10}, {&quot;_pdk&quot;: {&quot;elevation&quot;: 19, &quot;fill_color&quot;: [128, 0, 38]}, &quot;h3cell&quot;: &quot;892830828c7ffff&quot;, &quot;value&quot;: 19}, {&quot;_pdk&quot;: {&quot;elevation&quot;: 10, &quot;fill_color&quot;: [252, 128, 56]}, &quot;h3cell&quot;: &quot;89283082857ffff&quot;, &quot;value&quot;: 10}, {&quot;_pdk&quot;: {&quot;elevation&quot;: 4, &quot;fill_color&quot;: [254, 223, 132]}, &quot;h3cell&quot;: &quot;89283082847ffff&quot;, &quot;value&quot;: 4}, {&quot;_pdk&quot;: {&quot;elevation&quot;: 4, &quot;fill_color&quot;: [254, 223, 132]}, &quot;h3cell&quot;: &quot;892830828abffff&quot;, &quot;value&quot;: 4}, {&quot;_pdk&quot;: {&quot;elevation&quot;: 1, &quot;fill_color&quot;: [255, 247, 186]}, &quot;h3cell&quot;: &quot;8928308288bffff&quot;, &quot;value&quot;: 1}], &quot;elevationScale&quot;: 20, &quot;extruded&quot;: true, &quot;getElevation&quot;: &quot;@@=_pdk.elevation&quot;, &quot;getFillColor&quot;: &quot;@@=_pdk.fill_color&quot;, &quot;getHexagon&quot;: &quot;@@=h3cell&quot;, &quot;id&quot;: &quot;67012c4c-12d7-4c12-a1ef-53fd116de2db&quot;, &quot;opacity&quot;: 0.4, &quot;pickable&quot;: true, &quot;wireframe&quot;: true}], &quot;mapProvider&quot;: &quot;mapbox&quot;, &quot;mapStyle&quot;: &quot;mapbox://styles/mapbox/light-v10&quot;, &quot;views&quot;: [{&quot;@@type&quot;: &quot;MapView&quot;, &quot;controller&quot;: true}]};\n",
       "    const MAPBOX_API_KEY = &#x27;pk.eyJ1IjoiYWpmcmllbmQiLCJhIjoiY2pmbmRjczJmMTVkMzJxcW92Y2E4cHZjdCJ9.Jf-gFXU7FOIQxALzPajbdg&#x27;;\n",
       "    const GOOGLE_MAPS_API_KEY = &#x27;None&#x27;;\n",
       "    const tooltip = {&#x27;html&#x27;: &#x27;&lt;b&gt;h3cell&lt;/b&gt;: {h3cell}&lt;br/&gt;&lt;b&gt;value&lt;/b&gt;: {value}&#x27;};\n",
       "    const customLibraries = null;\n",
       "\n",
       "    const deck = createDeck({\n",
       "      mapboxApiKey: MAPBOX_API_KEY,\n",
       "      googleMapsKey: GOOGLE_MAPS_API_KEY,\n",
       "      container: document.getElementById(&#x27;deck-container&#x27;),\n",
       "      jsonInput,\n",
       "      tooltip,\n",
       "      customLibraries\n",
       "    });\n",
       "\n",
       "  &lt;/script&gt;\n",
       "&lt;/html&gt;\" width=\"100%\" height=500></iframe>"
      ],
      "text/plain": [
       "<IPython.core.display.HTML object>"
      ]
     },
     "execution_count": 9,
     "metadata": {},
     "output_type": "execute_result"
    }
   ],
   "source": [
    "u.plot_hexvals3D(hexvals, opacity=.4).to_html()"
   ]
  },
  {
   "cell_type": "markdown",
   "metadata": {},
   "source": [
    "# a thing"
   ]
  },
  {
   "cell_type": "code",
   "execution_count": 9,
   "metadata": {},
   "outputs": [],
   "source": [
    "import pydeck as pdk\n",
    "import util2 as u\n",
    "\n",
    "cellmap = {\n",
    "    '89283082807ffff': {'val1': 6, 'val2': 7},\n",
    "    '89283082833ffff': {'val1': 0, 'val2': 19},\n",
    "    '8928308283bffff': {'val1': 18, 'val2': 14},\n",
    "    '892830828bbffff': {'val1': 19, 'val2': 7},\n",
    "    '8928308280fffff': {'val1': 12, 'val2': 9},\n",
    "    '8928308281bffff': {'val1': 1, 'val2': 17},\n",
    "    '89283082813ffff': {'val1': 4, 'val2': 15},\n",
    "    '89283082803ffff': {'val1': 2, 'val2': 0},\n",
    "    '89283082817ffff': {'val1': 7, 'val2': 7},\n",
    "    '892830828cfffff': {'val1': 17, 'val2': 10},\n",
    "    '8928308280bffff': {'val1': 15, 'val2': 12},\n",
    "    '89283082873ffff': {'val1': 6, 'val2': 19},\n",
    "    '8928308288fffff': {'val1': 6, 'val2': 2},\n",
    "    '89283082877ffff': {'val1': 10, 'val2': 19},\n",
    "    '892830828c7ffff': {'val1': 19, 'val2': 8},\n",
    "    '89283082857ffff': {'val1': 10, 'val2': 17},\n",
    "    '89283082847ffff': {'val1': 4, 'val2': 1},\n",
    "    '892830828abffff': {'val1': 4, 'val2': 10},\n",
    "    '8928308288bffff': {'val1': 1, 'val2': 11}\n",
    "}"
   ]
  },
  {
   "cell_type": "code",
   "execution_count": 10,
   "metadata": {},
   "outputs": [],
   "source": [
    "#u.addcolor(cellmap, 'YlOrRd', col_val='val1')"
   ]
  },
  {
   "cell_type": "code",
   "execution_count": 11,
   "metadata": {},
   "outputs": [
    {
     "data": {
      "text/html": [
       "<iframe src=\"about:blank\" frameborder=\"0\" srcdoc=\"&lt;html&gt;\n",
       "  &lt;head&gt;\n",
       "    &lt;meta http-equiv=&quot;content-type&quot; content=&quot;text/html; charset=UTF-8&quot; /&gt;\n",
       "    &lt;title&gt;pydeck&lt;/title&gt;\n",
       "    &lt;link rel=&quot;stylesheet&quot; href=&quot;https://maxcdn.bootstrapcdn.com/bootstrap/3.2.0/css/bootstrap-theme.min.css&quot; /&gt;\n",
       "    &lt;link rel=&quot;stylesheet&quot; href=&quot;https://maxcdn.bootstrapcdn.com/font-awesome/4.6.3/css/font-awesome.min.css&quot; /&gt;\n",
       "    &lt;script src=&#x27;https://cdn.jsdelivr.net/npm/@deck.gl/jupyter-widget@~8.2.*/dist/index.js&#x27;&gt;&lt;/script&gt;\n",
       "    &lt;style&gt;\n",
       "    body {\n",
       "      margin: 0;\n",
       "      padding: 0;\n",
       "      overflow: hidden;\n",
       "    }\n",
       "\n",
       "    #deck-map-container {\n",
       "      width: 100%;\n",
       "      height: 100%;\n",
       "      background-color: black;\n",
       "    }\n",
       "\n",
       "    #map {\n",
       "      pointer-events: none;\n",
       "      height: 100%;\n",
       "      width: 100%;\n",
       "      position: absolute;\n",
       "      z-index: 1;\n",
       "    }\n",
       "\n",
       "    #deckgl-overlay {\n",
       "      z-index: 2;\n",
       "      background: none;\n",
       "    }\n",
       "\n",
       "    #deck-map-wrapper {\n",
       "      width: 100%;\n",
       "      height: 100%;\n",
       "    }\n",
       "\n",
       "    #deck-container {\n",
       "      width: 100vw;\n",
       "      height: 100vh;\n",
       "    }\n",
       "    &lt;/style&gt;\n",
       "  &lt;/head&gt;\n",
       "  &lt;body&gt;\n",
       "    &lt;div id=&quot;deck-container&quot;&gt;\n",
       "    &lt;/div&gt;\n",
       "  &lt;/body&gt;\n",
       "  &lt;script&gt;\n",
       "    const jsonInput = {&quot;initialViewState&quot;: {&quot;latitude&quot;: 37.77351496212393, &quot;longitude&quot;: -122.41827096231162, &quot;pitch&quot;: 45, &quot;zoom&quot;: 14}, &quot;layers&quot;: [{&quot;@@type&quot;: &quot;H3HexagonLayer&quot;, &quot;data&quot;: [{&quot;_pdk&quot;: {&quot;elevation&quot;: 6, &quot;fill_color&quot;: [254, 179, 78]}, &quot;h3cell&quot;: &quot;89283082807ffff&quot;, &quot;val1&quot;: 6, &quot;val2&quot;: 7}, {&quot;_pdk&quot;: {&quot;elevation&quot;: 0, &quot;fill_color&quot;: [128, 0, 38]}, &quot;h3cell&quot;: &quot;89283082833ffff&quot;, &quot;val1&quot;: 0, &quot;val2&quot;: 19}, {&quot;_pdk&quot;: {&quot;elevation&quot;: 18, &quot;fill_color&quot;: [229, 31, 29]}, &quot;h3cell&quot;: &quot;8928308283bffff&quot;, &quot;val1&quot;: 18, &quot;val2&quot;: 14}, {&quot;_pdk&quot;: {&quot;elevation&quot;: 19, &quot;fill_color&quot;: [254, 179, 78]}, &quot;h3cell&quot;: &quot;892830828bbffff&quot;, &quot;val1&quot;: 19, &quot;val2&quot;: 7}, {&quot;_pdk&quot;: {&quot;elevation&quot;: 12, &quot;fill_color&quot;: [253, 148, 63]}, &quot;h3cell&quot;: &quot;8928308280fffff&quot;, &quot;val1&quot;: 12, &quot;val2&quot;: 9}, {&quot;_pdk&quot;: {&quot;elevation&quot;: 1, &quot;fill_color&quot;: [177, 0, 38]}, &quot;h3cell&quot;: &quot;8928308281bffff&quot;, &quot;val1&quot;: 1, &quot;val2&quot;: 17}, {&quot;_pdk&quot;: {&quot;elevation&quot;: 4, &quot;fill_color&quot;: [214, 17, 31]}, &quot;h3cell&quot;: &quot;89283082813ffff&quot;, &quot;val1&quot;: 4, &quot;val2&quot;: 15}, {&quot;_pdk&quot;: {&quot;elevation&quot;: 2, &quot;fill_color&quot;: [255, 255, 204]}, &quot;h3cell&quot;: &quot;89283082803ffff&quot;, &quot;val1&quot;: 2, &quot;val2&quot;: 0}, {&quot;_pdk&quot;: {&quot;elevation&quot;: 7, &quot;fill_color&quot;: [254, 179, 78]}, &quot;h3cell&quot;: &quot;89283082817ffff&quot;, &quot;val1&quot;: 7, &quot;val2&quot;: 7}, {&quot;_pdk&quot;: {&quot;elevation&quot;: 17, &quot;fill_color&quot;: [252, 128, 56]}, &quot;h3cell&quot;: &quot;892830828cfffff&quot;, &quot;val1&quot;: 17, &quot;val2&quot;: 10}, {&quot;_pdk&quot;: {&quot;elevation&quot;: 15, &quot;fill_color&quot;: [250, 75, 41]}, &quot;h3cell&quot;: &quot;8928308280bffff&quot;, &quot;val1&quot;: 15, &quot;val2&quot;: 12}, {&quot;_pdk&quot;: {&quot;elevation&quot;: 6, &quot;fill_color&quot;: [128, 0, 38]}, &quot;h3cell&quot;: &quot;89283082873ffff&quot;, &quot;val1&quot;: 6, &quot;val2&quot;: 19}, {&quot;_pdk&quot;: {&quot;elevation&quot;: 6, &quot;fill_color&quot;: [255, 240, 168]}, &quot;h3cell&quot;: &quot;8928308288fffff&quot;, &quot;val1&quot;: 6, &quot;val2&quot;: 2}, {&quot;_pdk&quot;: {&quot;elevation&quot;: 10, &quot;fill_color&quot;: [128, 0, 38]}, &quot;h3cell&quot;: &quot;89283082877ffff&quot;, &quot;val1&quot;: 10, &quot;val2&quot;: 19}, {&quot;_pdk&quot;: {&quot;elevation&quot;: 19, &quot;fill_color&quot;: [253, 164, 70]}, &quot;h3cell&quot;: &quot;892830828c7ffff&quot;, &quot;val1&quot;: 19, &quot;val2&quot;: 8}, {&quot;_pdk&quot;: {&quot;elevation&quot;: 10, &quot;fill_color&quot;: [177, 0, 38]}, &quot;h3cell&quot;: &quot;89283082857ffff&quot;, &quot;val1&quot;: 10, &quot;val2&quot;: 17}, {&quot;_pdk&quot;: {&quot;elevation&quot;: 4, &quot;fill_color&quot;: [255, 247, 186]}, &quot;h3cell&quot;: &quot;89283082847ffff&quot;, &quot;val1&quot;: 4, &quot;val2&quot;: 1}, {&quot;_pdk&quot;: {&quot;elevation&quot;: 4, &quot;fill_color&quot;: [252, 128, 56]}, &quot;h3cell&quot;: &quot;892830828abffff&quot;, &quot;val1&quot;: 4, &quot;val2&quot;: 10}, {&quot;_pdk&quot;: {&quot;elevation&quot;: 1, &quot;fill_color&quot;: [252, 100, 48]}, &quot;h3cell&quot;: &quot;8928308288bffff&quot;, &quot;val1&quot;: 1, &quot;val2&quot;: 11}], &quot;elevationScale&quot;: 20, &quot;extruded&quot;: true, &quot;getElevation&quot;: &quot;@@=_pdk.elevation&quot;, &quot;getFillColor&quot;: &quot;@@=_pdk.fill_color&quot;, &quot;getHexagon&quot;: &quot;@@=h3cell&quot;, &quot;id&quot;: &quot;9a87652b-3e35-4823-a771-defb0c875c7f&quot;, &quot;opacity&quot;: 0.4, &quot;pickable&quot;: true, &quot;wireframe&quot;: true}], &quot;mapProvider&quot;: &quot;mapbox&quot;, &quot;mapStyle&quot;: &quot;mapbox://styles/mapbox/light-v10&quot;, &quot;views&quot;: [{&quot;@@type&quot;: &quot;MapView&quot;, &quot;controller&quot;: true}]};\n",
       "    const MAPBOX_API_KEY = &#x27;pk.eyJ1IjoiYWpmcmllbmQiLCJhIjoiY2pmbmRjczJmMTVkMzJxcW92Y2E4cHZjdCJ9.Jf-gFXU7FOIQxALzPajbdg&#x27;;\n",
       "    const GOOGLE_MAPS_API_KEY = &#x27;None&#x27;;\n",
       "    const tooltip = {&#x27;html&#x27;: &#x27;&lt;b&gt;h3cell&lt;/b&gt;: {h3cell}&lt;br/&gt;&lt;b&gt;val1&lt;/b&gt;: {val1}&lt;br/&gt;&lt;b&gt;val2&lt;/b&gt;: {val2}&#x27;};\n",
       "    const customLibraries = null;\n",
       "\n",
       "    const deck = createDeck({\n",
       "      mapboxApiKey: MAPBOX_API_KEY,\n",
       "      googleMapsKey: GOOGLE_MAPS_API_KEY,\n",
       "      container: document.getElementById(&#x27;deck-container&#x27;),\n",
       "      jsonInput,\n",
       "      tooltip,\n",
       "      customLibraries\n",
       "    });\n",
       "\n",
       "  &lt;/script&gt;\n",
       "&lt;/html&gt;\" width=\"100%\" height=500></iframe>"
      ],
      "text/plain": [
       "<IPython.core.display.HTML object>"
      ]
     },
     "execution_count": 11,
     "metadata": {},
     "output_type": "execute_result"
    }
   ],
   "source": [
    "u.plot_hexvals4D(cellmap, opacity=.4, col_color = 'val2', col_height = 'val1').to_html()"
   ]
  },
  {
   "cell_type": "code",
   "execution_count": null,
   "metadata": {},
   "outputs": [],
   "source": []
  }
 ],
 "metadata": {
  "kernelspec": {
   "display_name": "Python 3",
   "language": "python",
   "name": "python3"
  },
  "language_info": {
   "codemirror_mode": {
    "name": "ipython",
    "version": 3
   },
   "file_extension": ".py",
   "mimetype": "text/x-python",
   "name": "python",
   "nbconvert_exporter": "python",
   "pygments_lexer": "ipython3",
   "version": "3.8.5"
  }
 },
 "nbformat": 4,
 "nbformat_minor": 4
}
