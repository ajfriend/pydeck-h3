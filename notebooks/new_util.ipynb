{
 "cells": [
  {
   "cell_type": "markdown",
   "metadata": {},
   "source": [
    "- make it easy for user to see intermediate output!\n",
    "    - like, they shoudl be able to see the color map that was produced!\n",
    "    \n",
    "- maybe an `add_to_pdk` helper function for adding things to the cellmap"
   ]
  },
  {
   "cell_type": "code",
   "execution_count": 1,
   "metadata": {},
   "outputs": [],
   "source": [
    "import pydeck as pdk\n",
    "import util2 as u"
   ]
  },
  {
   "cell_type": "code",
   "execution_count": 2,
   "metadata": {},
   "outputs": [],
   "source": [
    "hexvals = {\n",
    "    '89283082807ffff': 6,\n",
    "    '89283082833ffff': 0,\n",
    "    '8928308283bffff': 18,\n",
    "    '892830828bbffff': 19,\n",
    "    '8928308280fffff': 12,\n",
    "    '8928308281bffff': 1,\n",
    "    '89283082813ffff': 4,\n",
    "    '89283082803ffff': 2,\n",
    "    '89283082817ffff': 7,\n",
    "    '892830828cfffff': 17,\n",
    "    '8928308280bffff': 15,\n",
    "    '89283082873ffff': 6,\n",
    "    '8928308288fffff': 6,\n",
    "    '89283082877ffff': 10,\n",
    "    '892830828c7ffff': 19,\n",
    "    '89283082857ffff': 10,\n",
    "    '89283082847ffff': 4,\n",
    "    '892830828abffff': 4,\n",
    "    '8928308288bffff': 1,\n",
    "}"
   ]
  },
  {
   "cell_type": "code",
   "execution_count": 3,
   "metadata": {},
   "outputs": [
    {
     "data": {
      "text/plain": [
       "{'89283082807ffff': {'_pdk': {}},\n",
       " '89283082833ffff': {'_pdk': {}},\n",
       " '8928308283bffff': {'_pdk': {}},\n",
       " '892830828bbffff': {'_pdk': {}},\n",
       " '8928308280fffff': {'_pdk': {}},\n",
       " '8928308281bffff': {'_pdk': {}},\n",
       " '89283082813ffff': {'_pdk': {}},\n",
       " '89283082803ffff': {'_pdk': {}},\n",
       " '89283082817ffff': {'_pdk': {}},\n",
       " '892830828cfffff': {'_pdk': {}},\n",
       " '8928308280bffff': {'_pdk': {}},\n",
       " '89283082873ffff': {'_pdk': {}},\n",
       " '8928308288fffff': {'_pdk': {}},\n",
       " '89283082877ffff': {'_pdk': {}},\n",
       " '892830828c7ffff': {'_pdk': {}},\n",
       " '89283082857ffff': {'_pdk': {}},\n",
       " '89283082847ffff': {'_pdk': {}},\n",
       " '892830828abffff': {'_pdk': {}},\n",
       " '8928308288bffff': {'_pdk': {}}}"
      ]
     },
     "execution_count": 3,
     "metadata": {},
     "output_type": "execute_result"
    }
   ],
   "source": [
    "u.set2cellmap(hexvals)"
   ]
  },
  {
   "cell_type": "code",
   "execution_count": 4,
   "metadata": {},
   "outputs": [
    {
     "data": {
      "text/html": [
       "<iframe src=\"about:blank\" frameborder=\"0\" srcdoc=\"&lt;html&gt;\n",
       "  &lt;head&gt;\n",
       "    &lt;meta http-equiv=&quot;content-type&quot; content=&quot;text/html; charset=UTF-8&quot; /&gt;\n",
       "    &lt;title&gt;pydeck&lt;/title&gt;\n",
       "    &lt;link rel=&quot;stylesheet&quot; href=&quot;https://maxcdn.bootstrapcdn.com/bootstrap/3.2.0/css/bootstrap-theme.min.css&quot; /&gt;\n",
       "    &lt;link rel=&quot;stylesheet&quot; href=&quot;https://maxcdn.bootstrapcdn.com/font-awesome/4.6.3/css/font-awesome.min.css&quot; /&gt;\n",
       "    &lt;script src=&#x27;https://cdn.jsdelivr.net/npm/@deck.gl/jupyter-widget@~8.2.*/dist/index.js&#x27;&gt;&lt;/script&gt;\n",
       "    &lt;style&gt;\n",
       "    body {\n",
       "      margin: 0;\n",
       "      padding: 0;\n",
       "      overflow: hidden;\n",
       "    }\n",
       "\n",
       "    #deck-map-container {\n",
       "      width: 100%;\n",
       "      height: 100%;\n",
       "      background-color: black;\n",
       "    }\n",
       "\n",
       "    #map {\n",
       "      pointer-events: none;\n",
       "      height: 100%;\n",
       "      width: 100%;\n",
       "      position: absolute;\n",
       "      z-index: 1;\n",
       "    }\n",
       "\n",
       "    #deckgl-overlay {\n",
       "      z-index: 2;\n",
       "      background: none;\n",
       "    }\n",
       "\n",
       "    #deck-map-wrapper {\n",
       "      width: 100%;\n",
       "      height: 100%;\n",
       "    }\n",
       "\n",
       "    #deck-container {\n",
       "      width: 100vw;\n",
       "      height: 100vh;\n",
       "    }\n",
       "    &lt;/style&gt;\n",
       "  &lt;/head&gt;\n",
       "  &lt;body&gt;\n",
       "    &lt;div id=&quot;deck-container&quot;&gt;\n",
       "    &lt;/div&gt;\n",
       "  &lt;/body&gt;\n",
       "  &lt;script&gt;\n",
       "    const jsonInput = {&quot;initialViewState&quot;: {&quot;latitude&quot;: 37.77351496212393, &quot;longitude&quot;: -122.41827096231162, &quot;zoom&quot;: 14}, &quot;layers&quot;: [{&quot;@@type&quot;: &quot;H3HexagonLayer&quot;, &quot;data&quot;: [{&quot;_pdk&quot;: {&quot;fill_color&quot;: [245, 206, 66], &quot;line_width&quot;: 1}, &quot;h3cell&quot;: &quot;89283082807ffff&quot;}, {&quot;_pdk&quot;: {&quot;fill_color&quot;: [245, 206, 66], &quot;line_width&quot;: 1}, &quot;h3cell&quot;: &quot;89283082833ffff&quot;}, {&quot;_pdk&quot;: {&quot;fill_color&quot;: [245, 206, 66], &quot;line_width&quot;: 1}, &quot;h3cell&quot;: &quot;8928308283bffff&quot;}, {&quot;_pdk&quot;: {&quot;fill_color&quot;: [245, 206, 66], &quot;line_width&quot;: 1}, &quot;h3cell&quot;: &quot;892830828bbffff&quot;}, {&quot;_pdk&quot;: {&quot;fill_color&quot;: [245, 206, 66], &quot;line_width&quot;: 1}, &quot;h3cell&quot;: &quot;8928308280fffff&quot;}, {&quot;_pdk&quot;: {&quot;fill_color&quot;: [245, 206, 66], &quot;line_width&quot;: 1}, &quot;h3cell&quot;: &quot;8928308281bffff&quot;}, {&quot;_pdk&quot;: {&quot;fill_color&quot;: [245, 206, 66], &quot;line_width&quot;: 1}, &quot;h3cell&quot;: &quot;89283082813ffff&quot;}, {&quot;_pdk&quot;: {&quot;fill_color&quot;: [245, 206, 66], &quot;line_width&quot;: 1}, &quot;h3cell&quot;: &quot;89283082803ffff&quot;}, {&quot;_pdk&quot;: {&quot;fill_color&quot;: [245, 206, 66], &quot;line_width&quot;: 1}, &quot;h3cell&quot;: &quot;89283082817ffff&quot;}, {&quot;_pdk&quot;: {&quot;fill_color&quot;: [245, 206, 66], &quot;line_width&quot;: 1}, &quot;h3cell&quot;: &quot;892830828cfffff&quot;}, {&quot;_pdk&quot;: {&quot;fill_color&quot;: [245, 206, 66], &quot;line_width&quot;: 1}, &quot;h3cell&quot;: &quot;8928308280bffff&quot;}, {&quot;_pdk&quot;: {&quot;fill_color&quot;: [245, 206, 66], &quot;line_width&quot;: 1}, &quot;h3cell&quot;: &quot;89283082873ffff&quot;}, {&quot;_pdk&quot;: {&quot;fill_color&quot;: [245, 206, 66], &quot;line_width&quot;: 1}, &quot;h3cell&quot;: &quot;8928308288fffff&quot;}, {&quot;_pdk&quot;: {&quot;fill_color&quot;: [245, 206, 66], &quot;line_width&quot;: 1}, &quot;h3cell&quot;: &quot;89283082877ffff&quot;}, {&quot;_pdk&quot;: {&quot;fill_color&quot;: [245, 206, 66], &quot;line_width&quot;: 1}, &quot;h3cell&quot;: &quot;892830828c7ffff&quot;}, {&quot;_pdk&quot;: {&quot;fill_color&quot;: [245, 206, 66], &quot;line_width&quot;: 1}, &quot;h3cell&quot;: &quot;89283082857ffff&quot;}, {&quot;_pdk&quot;: {&quot;fill_color&quot;: [245, 206, 66], &quot;line_width&quot;: 1}, &quot;h3cell&quot;: &quot;89283082847ffff&quot;}, {&quot;_pdk&quot;: {&quot;fill_color&quot;: [245, 206, 66], &quot;line_width&quot;: 1}, &quot;h3cell&quot;: &quot;892830828abffff&quot;}, {&quot;_pdk&quot;: {&quot;fill_color&quot;: [245, 206, 66], &quot;line_width&quot;: 1}, &quot;h3cell&quot;: &quot;8928308288bffff&quot;}], &quot;extruded&quot;: false, &quot;getFillColor&quot;: &quot;@@=_pdk.fill_color&quot;, &quot;getHexagon&quot;: &quot;@@=h3cell&quot;, &quot;getLineWidth&quot;: &quot;@@=_pdk.line_width&quot;, &quot;id&quot;: &quot;3ff5fde9-7cc3-448e-b2f3-8c7cd2d44371&quot;, &quot;opacity&quot;: 0.9, &quot;pickable&quot;: true}], &quot;mapProvider&quot;: &quot;mapbox&quot;, &quot;mapStyle&quot;: &quot;mapbox://styles/mapbox/light-v10&quot;, &quot;views&quot;: [{&quot;@@type&quot;: &quot;MapView&quot;, &quot;controller&quot;: true}]};\n",
       "    const MAPBOX_API_KEY = &#x27;pk.eyJ1IjoiYWpmcmllbmQiLCJhIjoiY2pmbmRjczJmMTVkMzJxcW92Y2E4cHZjdCJ9.Jf-gFXU7FOIQxALzPajbdg&#x27;;\n",
       "    const GOOGLE_MAPS_API_KEY = &#x27;None&#x27;;\n",
       "    const tooltip = {&#x27;html&#x27;: &#x27;&lt;b&gt;h3cell&lt;/b&gt;: {h3cell}&#x27;};\n",
       "    const customLibraries = null;\n",
       "\n",
       "    const deck = createDeck({\n",
       "      mapboxApiKey: MAPBOX_API_KEY,\n",
       "      googleMapsKey: GOOGLE_MAPS_API_KEY,\n",
       "      container: document.getElementById(&#x27;deck-container&#x27;),\n",
       "      jsonInput,\n",
       "      tooltip,\n",
       "      customLibraries\n",
       "    });\n",
       "\n",
       "  &lt;/script&gt;\n",
       "&lt;/html&gt;\" width=\"100%\" height=500></iframe>"
      ],
      "text/plain": [
       "<IPython.core.display.HTML object>"
      ]
     },
     "execution_count": 4,
     "metadata": {},
     "output_type": "execute_result"
    }
   ],
   "source": [
    "u.plot_hexset(hexvals, line_width=1, opacity=.9).to_html()"
   ]
  },
  {
   "cell_type": "code",
   "execution_count": 5,
   "metadata": {},
   "outputs": [],
   "source": [
    "import matplotlib.pyplot as plt\n",
    "import toolz"
   ]
  },
  {
   "cell_type": "code",
   "execution_count": 6,
   "metadata": {},
   "outputs": [],
   "source": [
    "# maybe the base color transformer should just take in a list of floats and output rgb tuples...\n",
    "# normalize vect function, prolly...\n",
    "\n",
    "from copy import deepcopy\n",
    "\n",
    "def addcolor(cellmap, cmap='YlOrRd', col_val='value'):\n",
    "    if isinstance(cmap, str):\n",
    "        cmap = plt.get_cmap(cmap)\n",
    "\n",
    "    def foo(value):\n",
    "        r,g,b,a = cmap(value, bytes=True)\n",
    "\n",
    "        return int(r), int(g), int(b)\n",
    "\n",
    "    colors = {h: v[col_val] for h,v in cellmap.items()}\n",
    "    colors = u.normalize_dict(colors)\n",
    "    colors = toolz.valmap(foo, colors)\n",
    "    \n",
    "    cellmap = deepcopy(cellmap)\n",
    "    \n",
    "    for h, c in colors.items():\n",
    "        cellmap[h]['_pdk']['color'] = c\n",
    "\n",
    "    return cellmap"
   ]
  },
  {
   "cell_type": "code",
   "execution_count": 7,
   "metadata": {},
   "outputs": [
    {
     "data": {
      "text/plain": [
       "{'89283082807ffff': {'value': 6, '_pdk': {}},\n",
       " '89283082833ffff': {'value': 0, '_pdk': {}},\n",
       " '8928308283bffff': {'value': 18, '_pdk': {}},\n",
       " '892830828bbffff': {'value': 19, '_pdk': {}},\n",
       " '8928308280fffff': {'value': 12, '_pdk': {}},\n",
       " '8928308281bffff': {'value': 1, '_pdk': {}},\n",
       " '89283082813ffff': {'value': 4, '_pdk': {}},\n",
       " '89283082803ffff': {'value': 2, '_pdk': {}},\n",
       " '89283082817ffff': {'value': 7, '_pdk': {}},\n",
       " '892830828cfffff': {'value': 17, '_pdk': {}},\n",
       " '8928308280bffff': {'value': 15, '_pdk': {}},\n",
       " '89283082873ffff': {'value': 6, '_pdk': {}},\n",
       " '8928308288fffff': {'value': 6, '_pdk': {}},\n",
       " '89283082877ffff': {'value': 10, '_pdk': {}},\n",
       " '892830828c7ffff': {'value': 19, '_pdk': {}},\n",
       " '89283082857ffff': {'value': 10, '_pdk': {}},\n",
       " '89283082847ffff': {'value': 4, '_pdk': {}},\n",
       " '892830828abffff': {'value': 4, '_pdk': {}},\n",
       " '8928308288bffff': {'value': 1, '_pdk': {}}}"
      ]
     },
     "execution_count": 7,
     "metadata": {},
     "output_type": "execute_result"
    }
   ],
   "source": [
    "cellmap = u.dict2cellmap(hexvals)\n",
    "cellmap"
   ]
  },
  {
   "cell_type": "code",
   "execution_count": 8,
   "metadata": {},
   "outputs": [
    {
     "data": {
      "text/plain": [
       "{'89283082807ffff': {'value': 6, '_pdk': {'color': (254, 197, 96)}},\n",
       " '89283082833ffff': {'value': 0, '_pdk': {'color': (255, 255, 204)}},\n",
       " '8928308283bffff': {'value': 18, '_pdk': {'color': (152, 0, 38)}},\n",
       " '892830828bbffff': {'value': 19, '_pdk': {'color': (128, 0, 38)}},\n",
       " '8928308280fffff': {'value': 12, '_pdk': {'color': (250, 75, 41)}},\n",
       " '8928308281bffff': {'value': 1, '_pdk': {'color': (255, 247, 186)}},\n",
       " '89283082813ffff': {'value': 4, '_pdk': {'color': (254, 223, 132)}},\n",
       " '89283082803ffff': {'value': 2, '_pdk': {'color': (255, 240, 168)}},\n",
       " '89283082817ffff': {'value': 7, '_pdk': {'color': (254, 179, 78)}},\n",
       " '892830828cfffff': {'value': 17, '_pdk': {'color': (177, 0, 38)}},\n",
       " '8928308280bffff': {'value': 15, '_pdk': {'color': (214, 17, 31)}},\n",
       " '89283082873ffff': {'value': 6, '_pdk': {'color': (254, 197, 96)}},\n",
       " '8928308288fffff': {'value': 6, '_pdk': {'color': (254, 197, 96)}},\n",
       " '89283082877ffff': {'value': 10, '_pdk': {'color': (252, 128, 56)}},\n",
       " '892830828c7ffff': {'value': 19, '_pdk': {'color': (128, 0, 38)}},\n",
       " '89283082857ffff': {'value': 10, '_pdk': {'color': (252, 128, 56)}},\n",
       " '89283082847ffff': {'value': 4, '_pdk': {'color': (254, 223, 132)}},\n",
       " '892830828abffff': {'value': 4, '_pdk': {'color': (254, 223, 132)}},\n",
       " '8928308288bffff': {'value': 1, '_pdk': {'color': (255, 247, 186)}}}"
      ]
     },
     "execution_count": 8,
     "metadata": {},
     "output_type": "execute_result"
    }
   ],
   "source": [
    "addcolor(cellmap)"
   ]
  },
  {
   "cell_type": "code",
   "execution_count": 9,
   "metadata": {},
   "outputs": [
    {
     "data": {
      "text/plain": [
       "[{'h3cell': '89283082807ffff', 'value': 6, '_pdk': {'color': (254, 197, 96)}},\n",
       " {'h3cell': '89283082833ffff', 'value': 0, '_pdk': {'color': (255, 255, 204)}},\n",
       " {'h3cell': '8928308283bffff', 'value': 18, '_pdk': {'color': (152, 0, 38)}},\n",
       " {'h3cell': '892830828bbffff', 'value': 19, '_pdk': {'color': (128, 0, 38)}},\n",
       " {'h3cell': '8928308280fffff', 'value': 12, '_pdk': {'color': (250, 75, 41)}},\n",
       " {'h3cell': '8928308281bffff', 'value': 1, '_pdk': {'color': (255, 247, 186)}},\n",
       " {'h3cell': '89283082813ffff', 'value': 4, '_pdk': {'color': (254, 223, 132)}},\n",
       " {'h3cell': '89283082803ffff', 'value': 2, '_pdk': {'color': (255, 240, 168)}},\n",
       " {'h3cell': '89283082817ffff', 'value': 7, '_pdk': {'color': (254, 179, 78)}},\n",
       " {'h3cell': '892830828cfffff', 'value': 17, '_pdk': {'color': (177, 0, 38)}},\n",
       " {'h3cell': '8928308280bffff', 'value': 15, '_pdk': {'color': (214, 17, 31)}},\n",
       " {'h3cell': '89283082873ffff', 'value': 6, '_pdk': {'color': (254, 197, 96)}},\n",
       " {'h3cell': '8928308288fffff', 'value': 6, '_pdk': {'color': (254, 197, 96)}},\n",
       " {'h3cell': '89283082877ffff', 'value': 10, '_pdk': {'color': (252, 128, 56)}},\n",
       " {'h3cell': '892830828c7ffff', 'value': 19, '_pdk': {'color': (128, 0, 38)}},\n",
       " {'h3cell': '89283082857ffff', 'value': 10, '_pdk': {'color': (252, 128, 56)}},\n",
       " {'h3cell': '89283082847ffff', 'value': 4, '_pdk': {'color': (254, 223, 132)}},\n",
       " {'h3cell': '892830828abffff', 'value': 4, '_pdk': {'color': (254, 223, 132)}},\n",
       " {'h3cell': '8928308288bffff', 'value': 1, '_pdk': {'color': (255, 247, 186)}}]"
      ]
     },
     "execution_count": 9,
     "metadata": {},
     "output_type": "execute_result"
    }
   ],
   "source": [
    "u.cellmap2records(addcolor(cellmap))"
   ]
  },
  {
   "cell_type": "code",
   "execution_count": 10,
   "metadata": {},
   "outputs": [
    {
     "ename": "AttributeError",
     "evalue": "'list' object has no attribute 'items'",
     "output_type": "error",
     "traceback": [
      "\u001b[0;31m---------------------------------------------------------------------------\u001b[0m",
      "\u001b[0;31mAttributeError\u001b[0m                            Traceback (most recent call last)",
      "\u001b[0;32m<ipython-input-10-4a75069452bb>\u001b[0m in \u001b[0;36m<module>\u001b[0;34m\u001b[0m\n\u001b[1;32m      2\u001b[0m \u001b[0;34m\u001b[0m\u001b[0m\n\u001b[1;32m      3\u001b[0m \u001b[0mdata\u001b[0m \u001b[0;34m=\u001b[0m \u001b[0mu\u001b[0m\u001b[0;34m.\u001b[0m\u001b[0mdict2rows\u001b[0m\u001b[0;34m(\u001b[0m\u001b[0mhexvals\u001b[0m\u001b[0;34m)\u001b[0m\u001b[0;34m\u001b[0m\u001b[0;34m\u001b[0m\u001b[0m\n\u001b[0;32m----> 4\u001b[0;31m \u001b[0mdata\u001b[0m \u001b[0;34m=\u001b[0m \u001b[0mu\u001b[0m\u001b[0;34m.\u001b[0m\u001b[0maddcolor\u001b[0m\u001b[0;34m(\u001b[0m\u001b[0mdata\u001b[0m\u001b[0;34m,\u001b[0m \u001b[0mcmap\u001b[0m\u001b[0;34m)\u001b[0m\u001b[0;34m\u001b[0m\u001b[0;34m\u001b[0m\u001b[0m\n\u001b[0m\u001b[1;32m      5\u001b[0m \u001b[0mdata\u001b[0m\u001b[0;34m\u001b[0m\u001b[0;34m\u001b[0m\u001b[0m\n",
      "\u001b[0;32m~/work/pydeck-h3/notebooks/util2.py\u001b[0m in \u001b[0;36maddcolor\u001b[0;34m(cellmap, cmap, col_val)\u001b[0m\n\u001b[1;32m    128\u001b[0m         \u001b[0;32mreturn\u001b[0m \u001b[0mint\u001b[0m\u001b[0;34m(\u001b[0m\u001b[0mr\u001b[0m\u001b[0;34m)\u001b[0m\u001b[0;34m,\u001b[0m \u001b[0mint\u001b[0m\u001b[0;34m(\u001b[0m\u001b[0mg\u001b[0m\u001b[0;34m)\u001b[0m\u001b[0;34m,\u001b[0m \u001b[0mint\u001b[0m\u001b[0;34m(\u001b[0m\u001b[0mb\u001b[0m\u001b[0;34m)\u001b[0m\u001b[0;34m\u001b[0m\u001b[0;34m\u001b[0m\u001b[0m\n\u001b[1;32m    129\u001b[0m \u001b[0;34m\u001b[0m\u001b[0m\n\u001b[0;32m--> 130\u001b[0;31m     \u001b[0mcolors\u001b[0m \u001b[0;34m=\u001b[0m \u001b[0;34m{\u001b[0m\u001b[0mh\u001b[0m\u001b[0;34m:\u001b[0m \u001b[0mv\u001b[0m\u001b[0;34m[\u001b[0m\u001b[0mcol_val\u001b[0m\u001b[0;34m]\u001b[0m \u001b[0;32mfor\u001b[0m \u001b[0mh\u001b[0m\u001b[0;34m,\u001b[0m\u001b[0mv\u001b[0m \u001b[0;32min\u001b[0m \u001b[0mcellmap\u001b[0m\u001b[0;34m.\u001b[0m\u001b[0mitems\u001b[0m\u001b[0;34m(\u001b[0m\u001b[0;34m)\u001b[0m\u001b[0;34m}\u001b[0m\u001b[0;34m\u001b[0m\u001b[0;34m\u001b[0m\u001b[0m\n\u001b[0m\u001b[1;32m    131\u001b[0m     \u001b[0mcolors\u001b[0m \u001b[0;34m=\u001b[0m \u001b[0mnormalize_dict\u001b[0m\u001b[0;34m(\u001b[0m\u001b[0mcolors\u001b[0m\u001b[0;34m)\u001b[0m\u001b[0;34m\u001b[0m\u001b[0;34m\u001b[0m\u001b[0m\n\u001b[1;32m    132\u001b[0m     \u001b[0mcolors\u001b[0m \u001b[0;34m=\u001b[0m \u001b[0mtoolz\u001b[0m\u001b[0;34m.\u001b[0m\u001b[0mvalmap\u001b[0m\u001b[0;34m(\u001b[0m\u001b[0mfoo\u001b[0m\u001b[0;34m,\u001b[0m \u001b[0mcolors\u001b[0m\u001b[0;34m)\u001b[0m\u001b[0;34m\u001b[0m\u001b[0;34m\u001b[0m\u001b[0m\n",
      "\u001b[0;31mAttributeError\u001b[0m: 'list' object has no attribute 'items'"
     ]
    }
   ],
   "source": [
    "cmap='YlOrRd'\n",
    "\n",
    "data = u.dict2rows(hexvals)\n",
    "data = u.addcolor(data, cmap)\n",
    "data"
   ]
  },
  {
   "cell_type": "code",
   "execution_count": 14,
   "metadata": {},
   "outputs": [
    {
     "data": {
      "text/html": [
       "<iframe src=\"about:blank\" frameborder=\"0\" srcdoc=\"&lt;html&gt;\n",
       "  &lt;head&gt;\n",
       "    &lt;meta http-equiv=&quot;content-type&quot; content=&quot;text/html; charset=UTF-8&quot; /&gt;\n",
       "    &lt;title&gt;pydeck&lt;/title&gt;\n",
       "    &lt;link rel=&quot;stylesheet&quot; href=&quot;https://maxcdn.bootstrapcdn.com/bootstrap/3.2.0/css/bootstrap-theme.min.css&quot; /&gt;\n",
       "    &lt;link rel=&quot;stylesheet&quot; href=&quot;https://maxcdn.bootstrapcdn.com/font-awesome/4.6.3/css/font-awesome.min.css&quot; /&gt;\n",
       "    &lt;script src=&#x27;https://cdn.jsdelivr.net/npm/@deck.gl/jupyter-widget@~8.2.*/dist/index.js&#x27;&gt;&lt;/script&gt;\n",
       "    &lt;style&gt;\n",
       "    body {\n",
       "      margin: 0;\n",
       "      padding: 0;\n",
       "      overflow: hidden;\n",
       "    }\n",
       "\n",
       "    #deck-map-container {\n",
       "      width: 100%;\n",
       "      height: 100%;\n",
       "      background-color: black;\n",
       "    }\n",
       "\n",
       "    #map {\n",
       "      pointer-events: none;\n",
       "      height: 100%;\n",
       "      width: 100%;\n",
       "      position: absolute;\n",
       "      z-index: 1;\n",
       "    }\n",
       "\n",
       "    #deckgl-overlay {\n",
       "      z-index: 2;\n",
       "      background: none;\n",
       "    }\n",
       "\n",
       "    #deck-map-wrapper {\n",
       "      width: 100%;\n",
       "      height: 100%;\n",
       "    }\n",
       "\n",
       "    #deck-container {\n",
       "      width: 100vw;\n",
       "      height: 100vh;\n",
       "    }\n",
       "    &lt;/style&gt;\n",
       "  &lt;/head&gt;\n",
       "  &lt;body&gt;\n",
       "    &lt;div id=&quot;deck-container&quot;&gt;\n",
       "    &lt;/div&gt;\n",
       "  &lt;/body&gt;\n",
       "  &lt;script&gt;\n",
       "    const jsonInput = {&quot;initialViewState&quot;: {&quot;latitude&quot;: 37.77351496212393, &quot;longitude&quot;: -122.41827096231162, &quot;zoom&quot;: 14}, &quot;layers&quot;: [{&quot;@@type&quot;: &quot;H3HexagonLayer&quot;, &quot;data&quot;: [{&quot;_pdk&quot;: {&quot;fill_color&quot;: [254, 197, 96], &quot;line_width&quot;: 10}, &quot;h3cell&quot;: &quot;89283082807ffff&quot;, &quot;value&quot;: 6}, {&quot;_pdk&quot;: {&quot;fill_color&quot;: [255, 255, 204], &quot;line_width&quot;: 10}, &quot;h3cell&quot;: &quot;89283082833ffff&quot;, &quot;value&quot;: 0}, {&quot;_pdk&quot;: {&quot;fill_color&quot;: [152, 0, 38], &quot;line_width&quot;: 10}, &quot;h3cell&quot;: &quot;8928308283bffff&quot;, &quot;value&quot;: 18}, {&quot;_pdk&quot;: {&quot;fill_color&quot;: [128, 0, 38], &quot;line_width&quot;: 10}, &quot;h3cell&quot;: &quot;892830828bbffff&quot;, &quot;value&quot;: 19}, {&quot;_pdk&quot;: {&quot;fill_color&quot;: [250, 75, 41], &quot;line_width&quot;: 10}, &quot;h3cell&quot;: &quot;8928308280fffff&quot;, &quot;value&quot;: 12}, {&quot;_pdk&quot;: {&quot;fill_color&quot;: [255, 247, 186], &quot;line_width&quot;: 10}, &quot;h3cell&quot;: &quot;8928308281bffff&quot;, &quot;value&quot;: 1}, {&quot;_pdk&quot;: {&quot;fill_color&quot;: [254, 223, 132], &quot;line_width&quot;: 10}, &quot;h3cell&quot;: &quot;89283082813ffff&quot;, &quot;value&quot;: 4}, {&quot;_pdk&quot;: {&quot;fill_color&quot;: [255, 240, 168], &quot;line_width&quot;: 10}, &quot;h3cell&quot;: &quot;89283082803ffff&quot;, &quot;value&quot;: 2}, {&quot;_pdk&quot;: {&quot;fill_color&quot;: [254, 179, 78], &quot;line_width&quot;: 10}, &quot;h3cell&quot;: &quot;89283082817ffff&quot;, &quot;value&quot;: 7}, {&quot;_pdk&quot;: {&quot;fill_color&quot;: [177, 0, 38], &quot;line_width&quot;: 10}, &quot;h3cell&quot;: &quot;892830828cfffff&quot;, &quot;value&quot;: 17}, {&quot;_pdk&quot;: {&quot;fill_color&quot;: [214, 17, 31], &quot;line_width&quot;: 10}, &quot;h3cell&quot;: &quot;8928308280bffff&quot;, &quot;value&quot;: 15}, {&quot;_pdk&quot;: {&quot;fill_color&quot;: [254, 197, 96], &quot;line_width&quot;: 10}, &quot;h3cell&quot;: &quot;89283082873ffff&quot;, &quot;value&quot;: 6}, {&quot;_pdk&quot;: {&quot;fill_color&quot;: [254, 197, 96], &quot;line_width&quot;: 10}, &quot;h3cell&quot;: &quot;8928308288fffff&quot;, &quot;value&quot;: 6}, {&quot;_pdk&quot;: {&quot;fill_color&quot;: [252, 128, 56], &quot;line_width&quot;: 10}, &quot;h3cell&quot;: &quot;89283082877ffff&quot;, &quot;value&quot;: 10}, {&quot;_pdk&quot;: {&quot;fill_color&quot;: [128, 0, 38], &quot;line_width&quot;: 10}, &quot;h3cell&quot;: &quot;892830828c7ffff&quot;, &quot;value&quot;: 19}, {&quot;_pdk&quot;: {&quot;fill_color&quot;: [252, 128, 56], &quot;line_width&quot;: 10}, &quot;h3cell&quot;: &quot;89283082857ffff&quot;, &quot;value&quot;: 10}, {&quot;_pdk&quot;: {&quot;fill_color&quot;: [254, 223, 132], &quot;line_width&quot;: 10}, &quot;h3cell&quot;: &quot;89283082847ffff&quot;, &quot;value&quot;: 4}, {&quot;_pdk&quot;: {&quot;fill_color&quot;: [254, 223, 132], &quot;line_width&quot;: 10}, &quot;h3cell&quot;: &quot;892830828abffff&quot;, &quot;value&quot;: 4}, {&quot;_pdk&quot;: {&quot;fill_color&quot;: [255, 247, 186], &quot;line_width&quot;: 10}, &quot;h3cell&quot;: &quot;8928308288bffff&quot;, &quot;value&quot;: 1}], &quot;extruded&quot;: false, &quot;getFillColor&quot;: &quot;@@=_pdk.fill_color&quot;, &quot;getHexagon&quot;: &quot;@@=h3cell&quot;, &quot;getLineWidth&quot;: &quot;@@=_pdk.line_width&quot;, &quot;id&quot;: &quot;8d6f849e-5da0-4378-b0b0-235f12d9b442&quot;, &quot;opacity&quot;: 0.4, &quot;pickable&quot;: true}], &quot;mapProvider&quot;: &quot;mapbox&quot;, &quot;mapStyle&quot;: &quot;mapbox://styles/mapbox/light-v10&quot;, &quot;views&quot;: [{&quot;@@type&quot;: &quot;MapView&quot;, &quot;controller&quot;: true}]};\n",
       "    const MAPBOX_API_KEY = &#x27;pk.eyJ1IjoiYWpmcmllbmQiLCJhIjoiY2pmbmRjczJmMTVkMzJxcW92Y2E4cHZjdCJ9.Jf-gFXU7FOIQxALzPajbdg&#x27;;\n",
       "    const GOOGLE_MAPS_API_KEY = &#x27;None&#x27;;\n",
       "    const tooltip = {&#x27;html&#x27;: &#x27;&lt;b&gt;h3cell&lt;/b&gt;: {h3cell}&lt;br/&gt;&lt;b&gt;value&lt;/b&gt;: {value}&#x27;};\n",
       "    const customLibraries = null;\n",
       "\n",
       "    const deck = createDeck({\n",
       "      mapboxApiKey: MAPBOX_API_KEY,\n",
       "      googleMapsKey: GOOGLE_MAPS_API_KEY,\n",
       "      container: document.getElementById(&#x27;deck-container&#x27;),\n",
       "      jsonInput,\n",
       "      tooltip,\n",
       "      customLibraries\n",
       "    });\n",
       "\n",
       "  &lt;/script&gt;\n",
       "&lt;/html&gt;\" width=\"100%\" height=500></iframe>"
      ],
      "text/plain": [
       "<IPython.core.display.HTML object>"
      ]
     },
     "execution_count": 14,
     "metadata": {},
     "output_type": "execute_result"
    }
   ],
   "source": [
    "#u.plot_hexset(hexvals, line_width=1, opacity=.9).to_html()\n",
    "u.plot_hexvals(hexvals, line_width=10, opacity=.4).to_html()"
   ]
  },
  {
   "cell_type": "code",
   "execution_count": null,
   "metadata": {},
   "outputs": [],
   "source": []
  },
  {
   "cell_type": "code",
   "execution_count": null,
   "metadata": {},
   "outputs": [],
   "source": []
  }
 ],
 "metadata": {
  "kernelspec": {
   "display_name": "Python 3",
   "language": "python",
   "name": "python3"
  },
  "language_info": {
   "codemirror_mode": {
    "name": "ipython",
    "version": 3
   },
   "file_extension": ".py",
   "mimetype": "text/x-python",
   "name": "python",
   "nbconvert_exporter": "python",
   "pygments_lexer": "ipython3",
   "version": "3.8.5"
  }
 },
 "nbformat": 4,
 "nbformat_minor": 4
}
