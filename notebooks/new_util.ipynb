{
 "cells": [
  {
   "cell_type": "code",
   "execution_count": 1,
   "metadata": {},
   "outputs": [],
   "source": [
    "import pydeck as pdk\n",
    "import util2 as u\n",
    "\n",
    "# def set2cellmap(data, **kwargs):\n",
    "#     cellmap = {\n",
    "#         h: dict(**kwargs)\n",
    "#         for h in data\n",
    "#     }\n",
    "        \n",
    "#     return cellmap"
   ]
  },
  {
   "cell_type": "code",
   "execution_count": 2,
   "metadata": {},
   "outputs": [],
   "source": [
    "hexes = {\n",
    "    '89283082803ffff',\n",
    "    '89283082807ffff',\n",
    "    '8928308280bffff',\n",
    "    '8928308280fffff',\n",
    "    '89283082813ffff',\n",
    "    '89283082817ffff',\n",
    "    '8928308281bffff',\n",
    "    '89283082833ffff',\n",
    "    '8928308283bffff',\n",
    "    '89283082847ffff',\n",
    "    '89283082857ffff',\n",
    "    '89283082873ffff',\n",
    "    '89283082877ffff',\n",
    "    '8928308288bffff',\n",
    "    '8928308288fffff',\n",
    "    '892830828abffff',\n",
    "    '892830828bbffff',\n",
    "    '892830828c7ffff',\n",
    "    '892830828cfffff',\n",
    "}"
   ]
  },
  {
   "cell_type": "code",
   "execution_count": 3,
   "metadata": {},
   "outputs": [
    {
     "data": {
      "text/html": [
       "<iframe src=\"about:blank\" frameborder=\"0\" srcdoc=\"&lt;html&gt;\n",
       "  &lt;head&gt;\n",
       "    &lt;meta http-equiv=&quot;content-type&quot; content=&quot;text/html; charset=UTF-8&quot; /&gt;\n",
       "    &lt;title&gt;pydeck&lt;/title&gt;\n",
       "    &lt;link rel=&quot;stylesheet&quot; href=&quot;https://maxcdn.bootstrapcdn.com/bootstrap/3.2.0/css/bootstrap-theme.min.css&quot; /&gt;\n",
       "    &lt;link rel=&quot;stylesheet&quot; href=&quot;https://maxcdn.bootstrapcdn.com/font-awesome/4.6.3/css/font-awesome.min.css&quot; /&gt;\n",
       "    &lt;script src=&#x27;https://cdn.jsdelivr.net/npm/@deck.gl/jupyter-widget@~8.2.*/dist/index.js&#x27;&gt;&lt;/script&gt;\n",
       "    &lt;style&gt;\n",
       "    body {\n",
       "      margin: 0;\n",
       "      padding: 0;\n",
       "      overflow: hidden;\n",
       "    }\n",
       "\n",
       "    #deck-map-container {\n",
       "      width: 100%;\n",
       "      height: 100%;\n",
       "      background-color: black;\n",
       "    }\n",
       "\n",
       "    #map {\n",
       "      pointer-events: none;\n",
       "      height: 100%;\n",
       "      width: 100%;\n",
       "      position: absolute;\n",
       "      z-index: 1;\n",
       "    }\n",
       "\n",
       "    #deckgl-overlay {\n",
       "      z-index: 2;\n",
       "      background: none;\n",
       "    }\n",
       "\n",
       "    #deck-map-wrapper {\n",
       "      width: 100%;\n",
       "      height: 100%;\n",
       "    }\n",
       "\n",
       "    #deck-container {\n",
       "      width: 100vw;\n",
       "      height: 100vh;\n",
       "    }\n",
       "    &lt;/style&gt;\n",
       "  &lt;/head&gt;\n",
       "  &lt;body&gt;\n",
       "    &lt;div id=&quot;deck-container&quot;&gt;\n",
       "    &lt;/div&gt;\n",
       "  &lt;/body&gt;\n",
       "  &lt;script&gt;\n",
       "    const jsonInput = {&quot;initialViewState&quot;: {&quot;latitude&quot;: 37.773514962123926, &quot;longitude&quot;: -122.41827096231164, &quot;zoom&quot;: 14}, &quot;layers&quot;: [{&quot;@@type&quot;: &quot;H3HexagonLayer&quot;, &quot;data&quot;: [{&quot;_pdk_opt&quot;: {&quot;fill_color&quot;: [245, 206, 66], &quot;line_width&quot;: 1}, &quot;h3cell&quot;: &quot;892830828abffff&quot;}, {&quot;_pdk_opt&quot;: {&quot;fill_color&quot;: [245, 206, 66], &quot;line_width&quot;: 1}, &quot;h3cell&quot;: &quot;8928308281bffff&quot;}, {&quot;_pdk_opt&quot;: {&quot;fill_color&quot;: [245, 206, 66], &quot;line_width&quot;: 1}, &quot;h3cell&quot;: &quot;89283082803ffff&quot;}, {&quot;_pdk_opt&quot;: {&quot;fill_color&quot;: [245, 206, 66], &quot;line_width&quot;: 1}, &quot;h3cell&quot;: &quot;8928308280fffff&quot;}, {&quot;_pdk_opt&quot;: {&quot;fill_color&quot;: [245, 206, 66], &quot;line_width&quot;: 1}, &quot;h3cell&quot;: &quot;8928308283bffff&quot;}, {&quot;_pdk_opt&quot;: {&quot;fill_color&quot;: [245, 206, 66], &quot;line_width&quot;: 1}, &quot;h3cell&quot;: &quot;892830828bbffff&quot;}, {&quot;_pdk_opt&quot;: {&quot;fill_color&quot;: [245, 206, 66], &quot;line_width&quot;: 1}, &quot;h3cell&quot;: &quot;89283082807ffff&quot;}, {&quot;_pdk_opt&quot;: {&quot;fill_color&quot;: [245, 206, 66], &quot;line_width&quot;: 1}, &quot;h3cell&quot;: &quot;892830828c7ffff&quot;}, {&quot;_pdk_opt&quot;: {&quot;fill_color&quot;: [245, 206, 66], &quot;line_width&quot;: 1}, &quot;h3cell&quot;: &quot;8928308288bffff&quot;}, {&quot;_pdk_opt&quot;: {&quot;fill_color&quot;: [245, 206, 66], &quot;line_width&quot;: 1}, &quot;h3cell&quot;: &quot;8928308288fffff&quot;}, {&quot;_pdk_opt&quot;: {&quot;fill_color&quot;: [245, 206, 66], &quot;line_width&quot;: 1}, &quot;h3cell&quot;: &quot;89283082873ffff&quot;}, {&quot;_pdk_opt&quot;: {&quot;fill_color&quot;: [245, 206, 66], &quot;line_width&quot;: 1}, &quot;h3cell&quot;: &quot;89283082847ffff&quot;}, {&quot;_pdk_opt&quot;: {&quot;fill_color&quot;: [245, 206, 66], &quot;line_width&quot;: 1}, &quot;h3cell&quot;: &quot;892830828cfffff&quot;}, {&quot;_pdk_opt&quot;: {&quot;fill_color&quot;: [245, 206, 66], &quot;line_width&quot;: 1}, &quot;h3cell&quot;: &quot;8928308280bffff&quot;}, {&quot;_pdk_opt&quot;: {&quot;fill_color&quot;: [245, 206, 66], &quot;line_width&quot;: 1}, &quot;h3cell&quot;: &quot;89283082833ffff&quot;}, {&quot;_pdk_opt&quot;: {&quot;fill_color&quot;: [245, 206, 66], &quot;line_width&quot;: 1}, &quot;h3cell&quot;: &quot;89283082857ffff&quot;}, {&quot;_pdk_opt&quot;: {&quot;fill_color&quot;: [245, 206, 66], &quot;line_width&quot;: 1}, &quot;h3cell&quot;: &quot;89283082813ffff&quot;}, {&quot;_pdk_opt&quot;: {&quot;fill_color&quot;: [245, 206, 66], &quot;line_width&quot;: 1}, &quot;h3cell&quot;: &quot;89283082877ffff&quot;}, {&quot;_pdk_opt&quot;: {&quot;fill_color&quot;: [245, 206, 66], &quot;line_width&quot;: 1}, &quot;h3cell&quot;: &quot;89283082817ffff&quot;}], &quot;extruded&quot;: false, &quot;getFillColor&quot;: &quot;@@=_pdk_opt.fill_color&quot;, &quot;getHexagon&quot;: &quot;@@=h3cell&quot;, &quot;getLineWidth&quot;: &quot;@@=_pdk_opt.line_width&quot;, &quot;id&quot;: &quot;c3874607-7f00-4ca6-85c5-8f3915b8cc8b&quot;, &quot;opacity&quot;: 0.9, &quot;pickable&quot;: true}], &quot;mapProvider&quot;: &quot;mapbox&quot;, &quot;mapStyle&quot;: &quot;mapbox://styles/mapbox/light-v10&quot;, &quot;views&quot;: [{&quot;@@type&quot;: &quot;MapView&quot;, &quot;controller&quot;: true}]};\n",
       "    const MAPBOX_API_KEY = &#x27;pk.eyJ1IjoiYWpmcmllbmQiLCJhIjoiY2pmbmRjczJmMTVkMzJxcW92Y2E4cHZjdCJ9.Jf-gFXU7FOIQxALzPajbdg&#x27;;\n",
       "    const GOOGLE_MAPS_API_KEY = &#x27;None&#x27;;\n",
       "    const tooltip = true;\n",
       "    const customLibraries = null;\n",
       "\n",
       "    const deck = createDeck({\n",
       "      mapboxApiKey: MAPBOX_API_KEY,\n",
       "      googleMapsKey: GOOGLE_MAPS_API_KEY,\n",
       "      container: document.getElementById(&#x27;deck-container&#x27;),\n",
       "      jsonInput,\n",
       "      tooltip,\n",
       "      customLibraries\n",
       "    });\n",
       "\n",
       "  &lt;/script&gt;\n",
       "&lt;/html&gt;\" width=\"100%\" height=500></iframe>"
      ],
      "text/plain": [
       "<IPython.core.display.HTML object>"
      ]
     },
     "execution_count": 3,
     "metadata": {},
     "output_type": "execute_result"
    }
   ],
   "source": [
    "u.plot_hexset(hexes, line_width=1, opacity=.9).to_html()"
   ]
  },
  {
   "cell_type": "code",
   "execution_count": null,
   "metadata": {},
   "outputs": [],
   "source": []
  },
  {
   "cell_type": "code",
   "execution_count": null,
   "metadata": {},
   "outputs": [],
   "source": []
  }
 ],
 "metadata": {
  "kernelspec": {
   "display_name": "Python 3",
   "language": "python",
   "name": "python3"
  },
  "language_info": {
   "codemirror_mode": {
    "name": "ipython",
    "version": 3
   },
   "file_extension": ".py",
   "mimetype": "text/x-python",
   "name": "python",
   "nbconvert_exporter": "python",
   "pygments_lexer": "ipython3",
   "version": "3.8.5"
  }
 },
 "nbformat": 4,
 "nbformat_minor": 4
}
