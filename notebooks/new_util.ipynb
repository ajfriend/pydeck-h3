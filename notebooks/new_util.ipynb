{
 "cells": [
  {
   "cell_type": "markdown",
   "metadata": {},
   "source": [
    "- make it easy for user to see intermediate output!\n",
    "    - like, they shoudl be able to see the color map that was produced!"
   ]
  },
  {
   "cell_type": "code",
   "execution_count": 20,
   "metadata": {},
   "outputs": [],
   "source": [
    "import pydeck as pdk\n",
    "import util2 as u\n",
    "\n",
    "def set2cellmap(data, **kwargs):\n",
    "    cellmap = {\n",
    "        h: dict(**kwargs)\n",
    "        for h in data\n",
    "    }\n",
    "        \n",
    "    return cellmap\n",
    "\n",
    "def dict2cellmap(data, col_val='value'):\n",
    "    cellmap = {\n",
    "        h: {col_val: v}\n",
    "        for h,v in data.items()\n",
    "    }\n",
    "        \n",
    "    return cellmap"
   ]
  },
  {
   "cell_type": "code",
   "execution_count": 21,
   "metadata": {},
   "outputs": [],
   "source": [
    "hexvals = {\n",
    "    '89283082807ffff': 6,\n",
    "    '89283082833ffff': 0,\n",
    "    '8928308283bffff': 18,\n",
    "    '892830828bbffff': 19,\n",
    "    '8928308280fffff': 12,\n",
    "    '8928308281bffff': 1,\n",
    "    '89283082813ffff': 4,\n",
    "    '89283082803ffff': 2,\n",
    "    '89283082817ffff': 7,\n",
    "    '892830828cfffff': 17,\n",
    "    '8928308280bffff': 15,\n",
    "    '89283082873ffff': 6,\n",
    "    '8928308288fffff': 6,\n",
    "    '89283082877ffff': 10,\n",
    "    '892830828c7ffff': 19,\n",
    "    '89283082857ffff': 10,\n",
    "    '89283082847ffff': 4,\n",
    "    '892830828abffff': 4,\n",
    "    '8928308288bffff': 1,\n",
    "}"
   ]
  },
  {
   "cell_type": "code",
   "execution_count": 22,
   "metadata": {},
   "outputs": [
    {
     "data": {
      "text/plain": [
       "{'89283082807ffff': {'value': 6},\n",
       " '89283082833ffff': {'value': 0},\n",
       " '8928308283bffff': {'value': 18},\n",
       " '892830828bbffff': {'value': 19},\n",
       " '8928308280fffff': {'value': 12},\n",
       " '8928308281bffff': {'value': 1},\n",
       " '89283082813ffff': {'value': 4},\n",
       " '89283082803ffff': {'value': 2},\n",
       " '89283082817ffff': {'value': 7},\n",
       " '892830828cfffff': {'value': 17},\n",
       " '8928308280bffff': {'value': 15},\n",
       " '89283082873ffff': {'value': 6},\n",
       " '8928308288fffff': {'value': 6},\n",
       " '89283082877ffff': {'value': 10},\n",
       " '892830828c7ffff': {'value': 19},\n",
       " '89283082857ffff': {'value': 10},\n",
       " '89283082847ffff': {'value': 4},\n",
       " '892830828abffff': {'value': 4},\n",
       " '8928308288bffff': {'value': 1}}"
      ]
     },
     "execution_count": 22,
     "metadata": {},
     "output_type": "execute_result"
    }
   ],
   "source": [
    "import matplotlib.pyplot as plt\n",
    "\n"
   ]
  },
  {
   "cell_type": "code",
   "execution_count": 27,
   "metadata": {},
   "outputs": [
    {
     "name": "stdout",
     "output_type": "stream",
     "text": [
      "zsh:1: no such file or directory: env/bin/pip\n"
     ]
    }
   ],
   "source": [
    "!env/bin/pip install toolz"
   ]
  },
  {
   "cell_type": "code",
   "execution_count": 25,
   "metadata": {},
   "outputs": [],
   "source": [
    "def addcolor(cellmap, cmap='YlOrRd', col_val='value'):\n",
    "    if isinstance(cmap, str):\n",
    "        cmap = plt.get_cmap(cmap)\n",
    "\n",
    "    def foo(value):\n",
    "        r,g,b,a = cmap(value, bytes=True)\n",
    "\n",
    "        return int(r), int(g), int(b)\n",
    "\n",
    "    colors = {h: v[col_val] for h,v in cellmap.items()}\n",
    "    colors = u.normalize_dict(colors)\n",
    "    colors = toolz.valmap(foo, colors)\n",
    "\n",
    "#     out = [\n",
    "#         toolz.assoc(row, col_color, colors[row[col_hex]])\n",
    "#         for row in data\n",
    "#     ]\n",
    "\n",
    "    return colors"
   ]
  },
  {
   "cell_type": "code",
   "execution_count": 26,
   "metadata": {},
   "outputs": [
    {
     "ename": "NameError",
     "evalue": "name 'toolz' is not defined",
     "output_type": "error",
     "traceback": [
      "\u001b[0;31m---------------------------------------------------------------------------\u001b[0m",
      "\u001b[0;31mNameError\u001b[0m                                 Traceback (most recent call last)",
      "\u001b[0;32m<ipython-input-26-d4cbf9c1cf1b>\u001b[0m in \u001b[0;36m<module>\u001b[0;34m\u001b[0m\n\u001b[0;32m----> 1\u001b[0;31m \u001b[0maddcolor\u001b[0m\u001b[0;34m(\u001b[0m\u001b[0mdict2cellmap\u001b[0m\u001b[0;34m(\u001b[0m\u001b[0mhexvals\u001b[0m\u001b[0;34m)\u001b[0m\u001b[0;34m)\u001b[0m\u001b[0;34m\u001b[0m\u001b[0;34m\u001b[0m\u001b[0m\n\u001b[0m",
      "\u001b[0;32m<ipython-input-25-7cf744242ead>\u001b[0m in \u001b[0;36maddcolor\u001b[0;34m(cellmap, cmap, col_val)\u001b[0m\n\u001b[1;32m     10\u001b[0m     \u001b[0mcolors\u001b[0m \u001b[0;34m=\u001b[0m \u001b[0;34m{\u001b[0m\u001b[0mh\u001b[0m\u001b[0;34m:\u001b[0m \u001b[0mv\u001b[0m\u001b[0;34m[\u001b[0m\u001b[0mcol_val\u001b[0m\u001b[0;34m]\u001b[0m \u001b[0;32mfor\u001b[0m \u001b[0mh\u001b[0m\u001b[0;34m,\u001b[0m\u001b[0mv\u001b[0m \u001b[0;32min\u001b[0m \u001b[0mcellmap\u001b[0m\u001b[0;34m.\u001b[0m\u001b[0mitems\u001b[0m\u001b[0;34m(\u001b[0m\u001b[0;34m)\u001b[0m\u001b[0;34m}\u001b[0m\u001b[0;34m\u001b[0m\u001b[0;34m\u001b[0m\u001b[0m\n\u001b[1;32m     11\u001b[0m     \u001b[0mcolors\u001b[0m \u001b[0;34m=\u001b[0m \u001b[0mu\u001b[0m\u001b[0;34m.\u001b[0m\u001b[0mnormalize_dict\u001b[0m\u001b[0;34m(\u001b[0m\u001b[0mcolors\u001b[0m\u001b[0;34m)\u001b[0m\u001b[0;34m\u001b[0m\u001b[0;34m\u001b[0m\u001b[0m\n\u001b[0;32m---> 12\u001b[0;31m     \u001b[0mcolors\u001b[0m \u001b[0;34m=\u001b[0m \u001b[0mtoolz\u001b[0m\u001b[0;34m.\u001b[0m\u001b[0mvalmap\u001b[0m\u001b[0;34m(\u001b[0m\u001b[0mfoo\u001b[0m\u001b[0;34m,\u001b[0m \u001b[0mcolors\u001b[0m\u001b[0;34m)\u001b[0m\u001b[0;34m\u001b[0m\u001b[0;34m\u001b[0m\u001b[0m\n\u001b[0m\u001b[1;32m     13\u001b[0m \u001b[0;34m\u001b[0m\u001b[0m\n\u001b[1;32m     14\u001b[0m \u001b[0;31m#     out = [\u001b[0m\u001b[0;34m\u001b[0m\u001b[0;34m\u001b[0m\u001b[0;34m\u001b[0m\u001b[0m\n",
      "\u001b[0;31mNameError\u001b[0m: name 'toolz' is not defined"
     ]
    }
   ],
   "source": [
    "addcolor(dict2cellmap(hexvals))"
   ]
  },
  {
   "cell_type": "code",
   "execution_count": 11,
   "metadata": {},
   "outputs": [
    {
     "data": {
      "text/plain": [
       "[{'hex': '89283082807ffff', 'value': 6, '_color': (254, 197, 96)},\n",
       " {'hex': '89283082833ffff', 'value': 0, '_color': (255, 255, 204)},\n",
       " {'hex': '8928308283bffff', 'value': 18, '_color': (152, 0, 38)},\n",
       " {'hex': '892830828bbffff', 'value': 19, '_color': (128, 0, 38)},\n",
       " {'hex': '8928308280fffff', 'value': 12, '_color': (250, 75, 41)},\n",
       " {'hex': '8928308281bffff', 'value': 1, '_color': (255, 247, 186)},\n",
       " {'hex': '89283082813ffff', 'value': 4, '_color': (254, 223, 132)},\n",
       " {'hex': '89283082803ffff', 'value': 2, '_color': (255, 240, 168)},\n",
       " {'hex': '89283082817ffff', 'value': 7, '_color': (254, 179, 78)},\n",
       " {'hex': '892830828cfffff', 'value': 17, '_color': (177, 0, 38)},\n",
       " {'hex': '8928308280bffff', 'value': 15, '_color': (214, 17, 31)},\n",
       " {'hex': '89283082873ffff', 'value': 6, '_color': (254, 197, 96)},\n",
       " {'hex': '8928308288fffff', 'value': 6, '_color': (254, 197, 96)},\n",
       " {'hex': '89283082877ffff', 'value': 10, '_color': (252, 128, 56)},\n",
       " {'hex': '892830828c7ffff', 'value': 19, '_color': (128, 0, 38)},\n",
       " {'hex': '89283082857ffff', 'value': 10, '_color': (252, 128, 56)},\n",
       " {'hex': '89283082847ffff', 'value': 4, '_color': (254, 223, 132)},\n",
       " {'hex': '892830828abffff', 'value': 4, '_color': (254, 223, 132)},\n",
       " {'hex': '8928308288bffff', 'value': 1, '_color': (255, 247, 186)}]"
      ]
     },
     "execution_count": 11,
     "metadata": {},
     "output_type": "execute_result"
    }
   ],
   "source": [
    "cmap='YlOrRd'\n",
    "\n",
    "data = u.dict2rows(hexvals)\n",
    "data = u.addcolor(data, cmap)\n",
    "data"
   ]
  },
  {
   "cell_type": "code",
   "execution_count": 8,
   "metadata": {},
   "outputs": [
    {
     "data": {
      "text/html": [
       "<iframe src=\"about:blank\" frameborder=\"0\" srcdoc=\"&lt;html&gt;\n",
       "  &lt;head&gt;\n",
       "    &lt;meta http-equiv=&quot;content-type&quot; content=&quot;text/html; charset=UTF-8&quot; /&gt;\n",
       "    &lt;title&gt;pydeck&lt;/title&gt;\n",
       "    &lt;link rel=&quot;stylesheet&quot; href=&quot;https://maxcdn.bootstrapcdn.com/bootstrap/3.2.0/css/bootstrap-theme.min.css&quot; /&gt;\n",
       "    &lt;link rel=&quot;stylesheet&quot; href=&quot;https://maxcdn.bootstrapcdn.com/font-awesome/4.6.3/css/font-awesome.min.css&quot; /&gt;\n",
       "    &lt;script src=&#x27;https://cdn.jsdelivr.net/npm/@deck.gl/jupyter-widget@~8.2.*/dist/index.js&#x27;&gt;&lt;/script&gt;\n",
       "    &lt;style&gt;\n",
       "    body {\n",
       "      margin: 0;\n",
       "      padding: 0;\n",
       "      overflow: hidden;\n",
       "    }\n",
       "\n",
       "    #deck-map-container {\n",
       "      width: 100%;\n",
       "      height: 100%;\n",
       "      background-color: black;\n",
       "    }\n",
       "\n",
       "    #map {\n",
       "      pointer-events: none;\n",
       "      height: 100%;\n",
       "      width: 100%;\n",
       "      position: absolute;\n",
       "      z-index: 1;\n",
       "    }\n",
       "\n",
       "    #deckgl-overlay {\n",
       "      z-index: 2;\n",
       "      background: none;\n",
       "    }\n",
       "\n",
       "    #deck-map-wrapper {\n",
       "      width: 100%;\n",
       "      height: 100%;\n",
       "    }\n",
       "\n",
       "    #deck-container {\n",
       "      width: 100vw;\n",
       "      height: 100vh;\n",
       "    }\n",
       "    &lt;/style&gt;\n",
       "  &lt;/head&gt;\n",
       "  &lt;body&gt;\n",
       "    &lt;div id=&quot;deck-container&quot;&gt;\n",
       "    &lt;/div&gt;\n",
       "  &lt;/body&gt;\n",
       "  &lt;script&gt;\n",
       "    const jsonInput = {&quot;initialViewState&quot;: {&quot;latitude&quot;: 37.77351496212393, &quot;longitude&quot;: -122.41827096231162, &quot;zoom&quot;: 14}, &quot;layers&quot;: [{&quot;@@type&quot;: &quot;H3HexagonLayer&quot;, &quot;data&quot;: [{&quot;_color&quot;: [254, 197, 96], &quot;hex&quot;: &quot;89283082807ffff&quot;, &quot;value&quot;: 6}, {&quot;_color&quot;: [255, 255, 204], &quot;hex&quot;: &quot;89283082833ffff&quot;, &quot;value&quot;: 0}, {&quot;_color&quot;: [152, 0, 38], &quot;hex&quot;: &quot;8928308283bffff&quot;, &quot;value&quot;: 18}, {&quot;_color&quot;: [128, 0, 38], &quot;hex&quot;: &quot;892830828bbffff&quot;, &quot;value&quot;: 19}, {&quot;_color&quot;: [250, 75, 41], &quot;hex&quot;: &quot;8928308280fffff&quot;, &quot;value&quot;: 12}, {&quot;_color&quot;: [255, 247, 186], &quot;hex&quot;: &quot;8928308281bffff&quot;, &quot;value&quot;: 1}, {&quot;_color&quot;: [254, 223, 132], &quot;hex&quot;: &quot;89283082813ffff&quot;, &quot;value&quot;: 4}, {&quot;_color&quot;: [255, 240, 168], &quot;hex&quot;: &quot;89283082803ffff&quot;, &quot;value&quot;: 2}, {&quot;_color&quot;: [254, 179, 78], &quot;hex&quot;: &quot;89283082817ffff&quot;, &quot;value&quot;: 7}, {&quot;_color&quot;: [177, 0, 38], &quot;hex&quot;: &quot;892830828cfffff&quot;, &quot;value&quot;: 17}, {&quot;_color&quot;: [214, 17, 31], &quot;hex&quot;: &quot;8928308280bffff&quot;, &quot;value&quot;: 15}, {&quot;_color&quot;: [254, 197, 96], &quot;hex&quot;: &quot;89283082873ffff&quot;, &quot;value&quot;: 6}, {&quot;_color&quot;: [254, 197, 96], &quot;hex&quot;: &quot;8928308288fffff&quot;, &quot;value&quot;: 6}, {&quot;_color&quot;: [252, 128, 56], &quot;hex&quot;: &quot;89283082877ffff&quot;, &quot;value&quot;: 10}, {&quot;_color&quot;: [128, 0, 38], &quot;hex&quot;: &quot;892830828c7ffff&quot;, &quot;value&quot;: 19}, {&quot;_color&quot;: [252, 128, 56], &quot;hex&quot;: &quot;89283082857ffff&quot;, &quot;value&quot;: 10}, {&quot;_color&quot;: [254, 223, 132], &quot;hex&quot;: &quot;89283082847ffff&quot;, &quot;value&quot;: 4}, {&quot;_color&quot;: [254, 223, 132], &quot;hex&quot;: &quot;892830828abffff&quot;, &quot;value&quot;: 4}, {&quot;_color&quot;: [255, 247, 186], &quot;hex&quot;: &quot;8928308288bffff&quot;, &quot;value&quot;: 1}], &quot;extruded&quot;: false, &quot;getFillColor&quot;: &quot;@@=_color&quot;, &quot;getHexagon&quot;: &quot;@@=hex&quot;, &quot;getLineWidth&quot;: 10, &quot;id&quot;: &quot;ee62189f-294a-4944-a589-bdd2cf1444b5&quot;, &quot;opacity&quot;: 0.1, &quot;pickable&quot;: true}], &quot;mapProvider&quot;: &quot;mapbox&quot;, &quot;mapStyle&quot;: &quot;mapbox://styles/mapbox/light-v10&quot;, &quot;views&quot;: [{&quot;@@type&quot;: &quot;MapView&quot;, &quot;controller&quot;: true}]};\n",
       "    const MAPBOX_API_KEY = &#x27;pk.eyJ1IjoiYWpmcmllbmQiLCJhIjoiY2pmbmRjczJmMTVkMzJxcW92Y2E4cHZjdCJ9.Jf-gFXU7FOIQxALzPajbdg&#x27;;\n",
       "    const GOOGLE_MAPS_API_KEY = &#x27;None&#x27;;\n",
       "    const tooltip = {&#x27;html&#x27;: &#x27;&lt;b&gt;hex&lt;/b&gt;: {hex}&lt;br/&gt;&lt;b&gt;value&lt;/b&gt;: {value}&#x27;};\n",
       "    const customLibraries = null;\n",
       "\n",
       "    const deck = createDeck({\n",
       "      mapboxApiKey: MAPBOX_API_KEY,\n",
       "      googleMapsKey: GOOGLE_MAPS_API_KEY,\n",
       "      container: document.getElementById(&#x27;deck-container&#x27;),\n",
       "      jsonInput,\n",
       "      tooltip,\n",
       "      customLibraries\n",
       "    });\n",
       "\n",
       "  &lt;/script&gt;\n",
       "&lt;/html&gt;\" width=\"100%\" height=500></iframe>"
      ],
      "text/plain": [
       "<IPython.core.display.HTML object>"
      ]
     },
     "execution_count": 8,
     "metadata": {},
     "output_type": "execute_result"
    }
   ],
   "source": [
    "#u.plot_hexset(hexvals, line_width=1, opacity=.9).to_html()\n",
    "u.plot_hexvals(hexvals, line_width=10, opacity=.1).to_html()"
   ]
  },
  {
   "cell_type": "code",
   "execution_count": null,
   "metadata": {},
   "outputs": [],
   "source": []
  },
  {
   "cell_type": "code",
   "execution_count": null,
   "metadata": {},
   "outputs": [],
   "source": []
  }
 ],
 "metadata": {
  "kernelspec": {
   "display_name": "Python 3",
   "language": "python",
   "name": "python3"
  },
  "language_info": {
   "codemirror_mode": {
    "name": "ipython",
    "version": 3
   },
   "file_extension": ".py",
   "mimetype": "text/x-python",
   "name": "python",
   "nbconvert_exporter": "python",
   "pygments_lexer": "ipython3",
   "version": "3.8.5"
  }
 },
 "nbformat": 4,
 "nbformat_minor": 4
}
